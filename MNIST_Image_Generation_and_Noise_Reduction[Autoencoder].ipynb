{
  "nbformat": 4,
  "nbformat_minor": 0,
  "metadata": {
    "colab": {
      "provenance": [],
      "authorship_tag": "ABX9TyPkogGETARxpB1Zmwzv/ew3",
      "include_colab_link": true
    },
    "kernelspec": {
      "name": "python3",
      "display_name": "Python 3"
    },
    "language_info": {
      "name": "python"
    }
  },
  "cells": [
    {
      "cell_type": "markdown",
      "metadata": {
        "id": "view-in-github",
        "colab_type": "text"
      },
      "source": [
        "<a href=\"https://colab.research.google.com/github/wannasleepforlong/Speech-MNIST-Classification/blob/main/MNIST_Image_Generation_and_Noise_Reduction%5BAutoencoder%5D.ipynb\" target=\"_parent\"><img src=\"https://colab.research.google.com/assets/colab-badge.svg\" alt=\"Open In Colab\"/></a>"
      ]
    },
    {
      "cell_type": "code",
      "execution_count": null,
      "metadata": {
        "id": "2GkRzYrK1fLn"
      },
      "outputs": [],
      "source": [
        "import numpy as np\n",
        "import pandas as pd\n",
        "import matplotlib.pyplot as plt"
      ]
    },
    {
      "cell_type": "code",
      "source": [
        "from tensorflow.keras.layers import Conv2D,LeakyReLU,Dropout,BatchNormalization,Dense,Flatten,Reshape,Conv2DTranspose,LeakyReLU,Input\n",
        "from tensorflow.keras.models import Sequential\n",
        "import tensorflow as tf\n",
        "from tensorflow import keras"
      ],
      "metadata": {
        "id": "dS-GtY9j1xSd"
      },
      "execution_count": null,
      "outputs": []
    },
    {
      "cell_type": "code",
      "source": [
        "from tensorflow.keras.datasets import fashion_mnist\n",
        "(x_train, _), (x_test, _) = fashion_mnist.load_data()\n",
        "x_train = x_train.astype('float32') / 255.0\n",
        "x_test = x_test.astype('float32') / 255.0"
      ],
      "metadata": {
        "id": "6w-WtpLbAYKb",
        "colab": {
          "base_uri": "https://localhost:8080/"
        },
        "outputId": "3ec73c9d-1af0-461e-b5e6-6791b4119628"
      },
      "execution_count": null,
      "outputs": [
        {
          "output_type": "stream",
          "name": "stdout",
          "text": [
            "Downloading data from https://storage.googleapis.com/tensorflow/tf-keras-datasets/train-labels-idx1-ubyte.gz\n",
            "29515/29515 [==============================] - 0s 0us/step\n",
            "Downloading data from https://storage.googleapis.com/tensorflow/tf-keras-datasets/train-images-idx3-ubyte.gz\n",
            "26421880/26421880 [==============================] - 0s 0us/step\n",
            "Downloading data from https://storage.googleapis.com/tensorflow/tf-keras-datasets/t10k-labels-idx1-ubyte.gz\n",
            "5148/5148 [==============================] - 0s 0us/step\n",
            "Downloading data from https://storage.googleapis.com/tensorflow/tf-keras-datasets/t10k-images-idx3-ubyte.gz\n",
            "4422102/4422102 [==============================] - 0s 0us/step\n"
          ]
        }
      ]
    },
    {
      "cell_type": "code",
      "source": [
        "from tensorflow.keras import layers"
      ],
      "metadata": {
        "id": "wilRr5_9ASML"
      },
      "execution_count": null,
      "outputs": []
    },
    {
      "cell_type": "code",
      "source": [
        "import tensorflow as tf"
      ],
      "metadata": {
        "id": "yd_9aQiOGCvv"
      },
      "execution_count": null,
      "outputs": []
    },
    {
      "cell_type": "code",
      "source": [
        "from tensorflow.keras import layers,Model,losses\n",
        "latent_dim=64\n",
        "\n",
        "class Autoencoder(Model): #Make a class autoencoder derived from model i.e. it inherits its properties\n",
        "  def __init__(self, latent_dim):\n",
        "    super(Autoencoder, self).__init__()\n",
        "    self.latent_dim = latent_dim   \n",
        "    self.encoder = tf.keras.Sequential([\n",
        "      layers.Flatten(),\n",
        "      layers.Dense(128, activation='relu'),\n",
        "      layers.Dense(64, activation='relu'),\n",
        "      layers.Dense(latent_dim, activation='relu'),\n",
        "    ])\n",
        "    self.decoder = tf.keras.Sequential([\n",
        "      layers.Dense(latent_dim, activation='relu'),\n",
        "      layers.Dense(128, activation='relu'),\n",
        "      layers.Dense(784, activation='sigmoid'),\n",
        "      layers.Reshape((28, 28))\n",
        "    ])\n",
        "\n",
        "  def call(self, x):\n",
        "    encoded = self.encoder(x)\n",
        "    decoded = self.decoder(encoded)\n",
        "    return decoded"
      ],
      "metadata": {
        "id": "QGIBexyFGt0d"
      },
      "execution_count": null,
      "outputs": []
    },
    {
      "cell_type": "code",
      "source": [
        "autoencoder = Autoencoder(latent_dim)\n"
      ],
      "metadata": {
        "id": "AwsJQMLb_kWc"
      },
      "execution_count": null,
      "outputs": []
    },
    {
      "cell_type": "code",
      "source": [
        "autoencoder.compile(optimizer='adam', loss=losses.MeanSquaredError())\n"
      ],
      "metadata": {
        "id": "awGiQwcE_3wO"
      },
      "execution_count": null,
      "outputs": []
    },
    {
      "cell_type": "code",
      "source": [
        "autoencoder.fit(x_train, x_train,\n",
        "                epochs=30,\n",
        "                shuffle=True,\n",
        "                validation_data=(x_test, x_test))"
      ],
      "metadata": {
        "colab": {
          "base_uri": "https://localhost:8080/"
        },
        "id": "a4inAW7w_6db",
        "outputId": "f0f7c291-7b3a-4617-8484-46d430c02621"
      },
      "execution_count": null,
      "outputs": [
        {
          "output_type": "stream",
          "name": "stdout",
          "text": [
            "Epoch 1/20\n",
            "1875/1875 [==============================] - 24s 11ms/step - loss: 0.0253 - val_loss: 0.0172\n",
            "Epoch 2/20\n",
            "1875/1875 [==============================] - 20s 11ms/step - loss: 0.0157 - val_loss: 0.0147\n",
            "Epoch 3/20\n",
            "1875/1875 [==============================] - 15s 8ms/step - loss: 0.0139 - val_loss: 0.0133\n",
            "Epoch 4/20\n",
            "1875/1875 [==============================] - 15s 8ms/step - loss: 0.0128 - val_loss: 0.0126\n",
            "Epoch 5/20\n",
            "1875/1875 [==============================] - 15s 8ms/step - loss: 0.0121 - val_loss: 0.0120\n",
            "Epoch 6/20\n",
            "1875/1875 [==============================] - 15s 8ms/step - loss: 0.0116 - val_loss: 0.0116\n",
            "Epoch 7/20\n",
            "1875/1875 [==============================] - 15s 8ms/step - loss: 0.0112 - val_loss: 0.0111\n",
            "Epoch 8/20\n",
            "1875/1875 [==============================] - 15s 8ms/step - loss: 0.0109 - val_loss: 0.0108\n",
            "Epoch 9/20\n",
            "1875/1875 [==============================] - 15s 8ms/step - loss: 0.0106 - val_loss: 0.0107\n",
            "Epoch 10/20\n",
            "1875/1875 [==============================] - 16s 8ms/step - loss: 0.0104 - val_loss: 0.0103\n",
            "Epoch 11/20\n",
            "1875/1875 [==============================] - 15s 8ms/step - loss: 0.0102 - val_loss: 0.0104\n",
            "Epoch 12/20\n",
            "1875/1875 [==============================] - 15s 8ms/step - loss: 0.0101 - val_loss: 0.0101\n",
            "Epoch 13/20\n",
            "1875/1875 [==============================] - 15s 8ms/step - loss: 0.0099 - val_loss: 0.0100\n",
            "Epoch 14/20\n",
            "1875/1875 [==============================] - 15s 8ms/step - loss: 0.0098 - val_loss: 0.0099\n",
            "Epoch 15/20\n",
            "1875/1875 [==============================] - 14s 8ms/step - loss: 0.0097 - val_loss: 0.0099\n",
            "Epoch 16/20\n",
            "1875/1875 [==============================] - 15s 8ms/step - loss: 0.0096 - val_loss: 0.0099\n",
            "Epoch 17/20\n",
            "1875/1875 [==============================] - 15s 8ms/step - loss: 0.0095 - val_loss: 0.0096\n",
            "Epoch 18/20\n",
            "1875/1875 [==============================] - 14s 8ms/step - loss: 0.0094 - val_loss: 0.0096\n",
            "Epoch 19/20\n",
            "1875/1875 [==============================] - 15s 8ms/step - loss: 0.0093 - val_loss: 0.0094\n",
            "Epoch 20/20\n",
            "1875/1875 [==============================] - 15s 8ms/step - loss: 0.0093 - val_loss: 0.0094\n"
          ]
        },
        {
          "output_type": "execute_result",
          "data": {
            "text/plain": [
              "<keras.callbacks.History at 0x7f41877eada0>"
            ]
          },
          "metadata": {},
          "execution_count": 10
        }
      ]
    },
    {
      "cell_type": "code",
      "source": [
        "encoded_imgs = autoencoder.encoder(x_test).numpy()\n",
        "decoded_imgs = autoencoder.decoder(encoded_imgs).numpy()\n",
        "\n",
        "n = 10\n",
        "plt.figure(figsize=(20, 4))\n",
        "for i in range(n):\n",
        "  # display original\n",
        "  ax = plt.subplot(2, n, i + 1)\n",
        "  plt.imshow(x_test[i])\n",
        "  plt.title(\"original\")\n",
        "  plt.gray()\n",
        "  ax.get_xaxis().set_visible(False)\n",
        "  ax.get_yaxis().set_visible(False)\n",
        "\n",
        "  # display reconstruction\n",
        "  ax = plt.subplot(2, n, i + 1 + n)\n",
        "  plt.imshow(decoded_imgs[i])\n",
        "  plt.title(\"reconstructed\")\n",
        "  plt.gray()\n",
        "  ax.get_xaxis().set_visible(False)\n",
        "  ax.get_yaxis().set_visible(False)\n",
        "plt.show()"
      ],
      "metadata": {
        "colab": {
          "base_uri": "https://localhost:8080/",
          "height": 287
        },
        "id": "KCG5zQBWAPnP",
        "outputId": "e2c70916-b5b9-438f-eb21-838fdf2d5a18"
      },
      "execution_count": null,
      "outputs": [
        {
          "output_type": "display_data",
          "data": {
            "text/plain": [
              "<Figure size 2000x400 with 20 Axes>"
            ],
            "image/png": "[encoded data removed]"
          },
          "metadata": {}
        }
      ]
    },
    {
      "cell_type": "code",
      "source": [
        "autoencoder.encoder.summary()\n",
        "#First layer 28*28 shape of an image we flatten it\n",
        "#We use ann to converge it to a latent_dim, the higher the latent dim is the more are features preserved"
      ],
      "metadata": {
        "colab": {
          "base_uri": "https://localhost:8080/"
        },
        "id": "EdK-wVHABW6E",
        "outputId": "81b0193a-d80d-411e-dbdc-05a89f27aa31"
      },
      "execution_count": null,
      "outputs": [
        {
          "output_type": "stream",
          "name": "stdout",
          "text": [
            "Model: \"sequential\"\n",
            "_________________________________________________________________\n",
            " Layer (type)                Output Shape              Param #   \n",
            "=================================================================\n",
            " flatten (Flatten)           (None, 784)               0         \n",
            "                                                                 \n",
            " dense (Dense)               (None, 128)               100480    \n",
            "                                                                 \n",
            " dense_1 (Dense)             (None, 64)                8256      \n",
            "                                                                 \n",
            " dense_2 (Dense)             (None, 64)                4160      \n",
            "                                                                 \n",
            "=================================================================\n",
            "Total params: 112,896\n",
            "Trainable params: 112,896\n",
            "Non-trainable params: 0\n",
            "_________________________________________________________________\n"
          ]
        }
      ]
    },
    {
      "cell_type": "code",
      "source": [
        "autoencoder.decoder.summary()"
      ],
      "metadata": {
        "colab": {
          "base_uri": "https://localhost:8080/"
        },
        "id": "nrGQsQo8CP9O",
        "outputId": "765bef3c-9cb8-4cc9-84ac-f552498a89e6"
      },
      "execution_count": null,
      "outputs": [
        {
          "output_type": "stream",
          "name": "stdout",
          "text": [
            "Model: \"sequential_1\"\n",
            "_________________________________________________________________\n",
            " Layer (type)                Output Shape              Param #   \n",
            "=================================================================\n",
            " dense_3 (Dense)             (None, 64)                4160      \n",
            "                                                                 \n",
            " dense_4 (Dense)             (None, 128)               8320      \n",
            "                                                                 \n",
            " dense_5 (Dense)             (None, 784)               101136    \n",
            "                                                                 \n",
            " reshape (Reshape)           (None, 28, 28)            0         \n",
            "                                                                 \n",
            "=================================================================\n",
            "Total params: 113,616\n",
            "Trainable params: 113,616\n",
            "Non-trainable params: 0\n",
            "_________________________________________________________________\n"
          ]
        }
      ]
    },
    {
      "cell_type": "markdown",
      "source": [
        "Now let us try to implement this in a noisy image using a Conv2D Autoencoder\n",
        "\n"
      ],
      "metadata": {
        "id": "z4LJ6nRZFjmj"
      }
    },
    {
      "cell_type": "markdown",
      "source": [
        "When the UpSampling2D layer is applied, it performs a simple repetition of values to increase the size of the input. The repeated values help to fill in the gaps and generate a higher-resolution output and diubles height and width."
      ],
      "metadata": {
        "id": "-Dic7ijm-jax"
      }
    },
    {
      "cell_type": "code",
      "source": [
        "class ConvAutoencoder(Model): #Make a class autoencoder derived from model i.e. it inherits its properties\n",
        "  def __init__(self, latent_dim):\n",
        "    super(ConvAutoencoder, self).__init__()\n",
        "    self.latent_dim = latent_dim   \n",
        "    self.encoder = tf.keras.Sequential([\n",
        "      layers.Reshape((28,28,1)),\n",
        "      layers.Conv2D(64, (3,3),activation='relu',padding='same'),\n",
        "      layers.MaxPooling2D((2,2)),\n",
        "      layers.Conv2D(32,(3,3), activation='relu',padding='same'),\n",
        "      layers.MaxPooling2D((2,2)),\n",
        "      layers.Conv2D(latent_dim,(3,3), activation='relu',padding='same')\n",
        "    ])\n",
        "    self.decoder = tf.keras.Sequential([\n",
        "      layers.Conv2D(32, (3, 3), activation='relu', padding='same'),\n",
        "      layers.UpSampling2D((2, 2)),\n",
        "      layers.Conv2D(64, (3, 3), activation='relu', padding='same'),\n",
        "      layers.UpSampling2D((2, 2)),\n",
        "      layers.Conv2D(1, (3, 3), activation='sigmoid', padding='same'),\n",
        "      layers.Reshape((28, 28))\n",
        "])\n",
        "\n",
        "  def call(self, x):\n",
        "    encoded = self.encoder(x)\n",
        "    decoded = self.decoder(encoded)\n",
        "    return decoded"
      ],
      "metadata": {
        "id": "A7980R0pCXRt"
      },
      "execution_count": null,
      "outputs": []
    },
    {
      "cell_type": "code",
      "source": [
        "convautoencoder = ConvAutoencoder(latent_dim)\n",
        "convautoencoder.compile(optimizer='adam', loss=losses.BinaryCrossentropy())"
      ],
      "metadata": {
        "id": "soDfOj2lnNvR"
      },
      "execution_count": null,
      "outputs": []
    },
    {
      "cell_type": "code",
      "source": [
        "noise_factor = 0.3\n",
        "x_train_noisy = x_train + noise_factor * np.random.normal(loc=0.0, scale=1.0, size=x_train.shape) \n",
        "x_test_noisy = x_test + noise_factor * np.random.normal(loc=0.0, scale=1.0, size=x_test.shape) \n",
        "\n",
        "x_train_noisy = np.clip(x_train_noisy, 0., 1.)\n",
        "x_test_noisy = np.clip(x_test_noisy, 0., 1.)"
      ],
      "metadata": {
        "id": "oXwrQj3wxDJa"
      },
      "execution_count": null,
      "outputs": []
    },
    {
      "cell_type": "code",
      "source": [
        "image1 = x_train_noisy[0]\n",
        "image2 = x_train[0]\n",
        "\n",
        "fig, axes = plt.subplots(1, 2)\n",
        "\n",
        "axes[0].imshow(image1)\n",
        "axes[1].imshow(image2)\n",
        "plt.tight_layout()\n",
        "plt.show()"
      ],
      "metadata": {
        "colab": {
          "base_uri": "https://localhost:8080/",
          "height": 331
        },
        "id": "fQT4V8ZmxGj9",
        "outputId": "c2912bf5-7fc3-4951-b683-8f026727a546"
      },
      "execution_count": null,
      "outputs": [
        {
          "output_type": "display_data",
          "data": {
            "text/plain": [
              "<Figure size 640x480 with 2 Axes>"
            ],
            "image/png": "[encoded data removed]"
          },
          "metadata": {}
        }
      ]
    },
    {
      "cell_type": "code",
      "source": [
        "convautoencoder.fit(x_train_noisy, x_train,\n",
        "                epochs=20,\n",
        "                shuffle=True,\n",
        "                validation_data=(x_test_noisy, x_test))"
      ],
      "metadata": {
        "colab": {
          "base_uri": "https://localhost:8080/"
        },
        "id": "AfupQImWnidK",
        "outputId": "c8affcb9-4a90-4373-a5b1-b7475a9ccb97"
      },
      "execution_count": null,
      "outputs": [
        {
          "output_type": "stream",
          "name": "stdout",
          "text": [
            "Epoch 1/20\n",
            "1875/1875 [==============================] - 361s 192ms/step - loss: 0.2816 - val_loss: 0.2780\n",
            "Epoch 2/20\n",
            "1875/1875 [==============================] - 343s 183ms/step - loss: 0.2739 - val_loss: 0.2750\n",
            "Epoch 3/20\n",
            "1875/1875 [==============================] - 337s 180ms/step - loss: 0.2716 - val_loss: 0.2745\n",
            "Epoch 4/20\n",
            "1875/1875 [==============================] - 343s 183ms/step - loss: 0.2703 - val_loss: 0.2724\n",
            "Epoch 5/20\n",
            "1875/1875 [==============================] - 343s 183ms/step - loss: 0.2695 - val_loss: 0.2715\n",
            "Epoch 6/20\n",
            "1875/1875 [==============================] - 343s 183ms/step - loss: 0.2690 - val_loss: 0.2711\n",
            "Epoch 7/20\n",
            "1875/1875 [==============================] - 344s 184ms/step - loss: 0.2686 - val_loss: 0.2709\n",
            "Epoch 8/20\n",
            "1875/1875 [==============================] - 346s 184ms/step - loss: 0.2683 - val_loss: 0.2705\n",
            "Epoch 9/20\n",
            "1875/1875 [==============================] - 344s 184ms/step - loss: 0.2681 - val_loss: 0.2705\n",
            "Epoch 10/20\n",
            "1875/1875 [==============================] - 342s 182ms/step - loss: 0.2678 - val_loss: 0.2701\n",
            "Epoch 11/20\n",
            "1875/1875 [==============================] - 343s 183ms/step - loss: 0.2677 - val_loss: 0.2699\n",
            "Epoch 12/20\n",
            "1875/1875 [==============================] - 341s 182ms/step - loss: 0.2675 - val_loss: 0.2701\n",
            "Epoch 13/20\n",
            "1875/1875 [==============================] - 345s 184ms/step - loss: 0.2674 - val_loss: 0.2698\n",
            "Epoch 14/20\n",
            "1875/1875 [==============================] - 339s 181ms/step - loss: 0.2673 - val_loss: 0.2697\n",
            "Epoch 15/20\n",
            "1875/1875 [==============================] - 339s 181ms/step - loss: 0.2672 - val_loss: 0.2695\n",
            "Epoch 16/20\n",
            "1875/1875 [==============================] - 340s 181ms/step - loss: 0.2671 - val_loss: 0.2696\n",
            "Epoch 17/20\n",
            "1875/1875 [==============================] - 339s 181ms/step - loss: 0.2670 - val_loss: 0.2698\n",
            "Epoch 18/20\n",
            "1875/1875 [==============================] - 338s 180ms/step - loss: 0.2669 - val_loss: 0.2693\n",
            "Epoch 19/20\n",
            "1875/1875 [==============================] - 338s 180ms/step - loss: 0.2669 - val_loss: 0.2693\n",
            "Epoch 20/20\n",
            "1875/1875 [==============================] - 338s 180ms/step - loss: 0.2668 - val_loss: 0.2693\n"
          ]
        },
        {
          "output_type": "execute_result",
          "data": {
            "text/plain": [
              "<keras.callbacks.History at 0x7f418790b8b0>"
            ]
          },
          "metadata": {},
          "execution_count": 61
        }
      ]
    },
    {
      "cell_type": "code",
      "source": [
        "convautoencoder.encoder.summary()"
      ],
      "metadata": {
        "colab": {
          "base_uri": "https://localhost:8080/"
        },
        "id": "J8J35q7soxFc",
        "outputId": "2367293f-33b3-4868-9cd9-59f0e64fc252"
      },
      "execution_count": null,
      "outputs": [
        {
          "output_type": "stream",
          "name": "stdout",
          "text": [
            "Model: \"sequential_20\"\n",
            "_________________________________________________________________\n",
            " Layer (type)                Output Shape              Param #   \n",
            "=================================================================\n",
            " reshape_19 (Reshape)        (32, 28, 28, 1)           0         \n",
            "                                                                 \n",
            " conv2d_52 (Conv2D)          (32, 28, 28, 64)          640       \n",
            "                                                                 \n",
            " max_pooling2d_39 (MaxPoolin  (32, 14, 14, 64)         0         \n",
            " g2D)                                                            \n",
            "                                                                 \n",
            " conv2d_53 (Conv2D)          (32, 14, 14, 32)          18464     \n",
            "                                                                 \n",
            " max_pooling2d_40 (MaxPoolin  (32, 7, 7, 32)           0         \n",
            " g2D)                                                            \n",
            "                                                                 \n",
            " conv2d_54 (Conv2D)          (32, 7, 7, 64)            18496     \n",
            "                                                                 \n",
            "=================================================================\n",
            "Total params: 37,600\n",
            "Trainable params: 37,600\n",
            "Non-trainable params: 0\n",
            "_________________________________________________________________\n"
          ]
        }
      ]
    },
    {
      "cell_type": "code",
      "source": [
        "convautoencoder.decoder.summary()"
      ],
      "metadata": {
        "colab": {
          "base_uri": "https://localhost:8080/"
        },
        "id": "RBfMZyqco5x2",
        "outputId": "a03cc844-c010-4fcc-8e5f-f5ae82bf76d8"
      },
      "execution_count": null,
      "outputs": [
        {
          "output_type": "stream",
          "name": "stdout",
          "text": [
            "Model: \"sequential_21\"\n",
            "_________________________________________________________________\n",
            " Layer (type)                Output Shape              Param #   \n",
            "=================================================================\n",
            " conv2d_55 (Conv2D)          (32, 7, 7, 32)            18464     \n",
            "                                                                 \n",
            " up_sampling2d (UpSampling2D  (32, 14, 14, 32)         0         \n",
            " )                                                               \n",
            "                                                                 \n",
            " conv2d_56 (Conv2D)          (32, 14, 14, 64)          18496     \n",
            "                                                                 \n",
            " up_sampling2d_1 (UpSampling  (32, 28, 28, 64)         0         \n",
            " 2D)                                                             \n",
            "                                                                 \n",
            " conv2d_57 (Conv2D)          (32, 28, 28, 1)           577       \n",
            "                                                                 \n",
            " reshape_20 (Reshape)        (32, 28, 28)              0         \n",
            "                                                                 \n",
            "=================================================================\n",
            "Total params: 37,537\n",
            "Trainable params: 37,537\n",
            "Non-trainable params: 0\n",
            "_________________________________________________________________\n"
          ]
        }
      ]
    },
    {
      "cell_type": "code",
      "source": [
        "encoded_imgs = convautoencoder.encoder(x_test_noisy).numpy()\n",
        "decoded_imgs = convautoencoder.decoder(encoded_imgs).numpy()\n",
        "\n",
        "n = 5\n",
        "plt.figure(figsize=(20, 4))\n",
        "for i in range(n):\n",
        "  # display original\n",
        "  ax = plt.subplot(2, n, i + 1)\n",
        "  plt.imshow(x_test_noisy[i])\n",
        "  plt.title(\"with noise\")\n",
        "  plt.gray()\n",
        "  ax.get_xaxis().set_visible(False)\n",
        "  ax.get_yaxis().set_visible(False)\n",
        "\n",
        "  # display reconstruction\n",
        "  ax = plt.subplot(2, n, i + 1 + n)\n",
        "  plt.imshow(decoded_imgs[i])\n",
        "  plt.title(\"reconstructed\")\n",
        "  plt.gray()\n",
        "  ax.get_xaxis().set_visible(False)\n",
        "  ax.get_yaxis().set_visible(False)\n",
        "plt.show()"
      ],
      "metadata": {
        "colab": {
          "base_uri": "https://localhost:8080/",
          "height": 387
        },
        "id": "hrc_CJjTo79K",
        "outputId": "e7f14251-5a1f-4fa5-eaaa-0424aee4a37c"
      },
      "execution_count": null,
      "outputs": [
        {
          "output_type": "display_data",
          "data": {
            "text/plain": [
              "<Figure size 2000x400 with 10 Axes>"
            ],
            "image/png": "[encoded data removed]"
          },
          "metadata": {}
        }
      ]
    }
  ]
}