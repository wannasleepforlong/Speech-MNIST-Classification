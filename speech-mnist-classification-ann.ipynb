{
 "cells": [
  {
   "cell_type": "code",
   "execution_count": 1,
   "id": "4e6b7432",
   "metadata": {
    "_cell_guid": "b1076dfc-b9ad-4769-8c92-a6c4dae69d19",
    "_uuid": "8f2839f25d086af736a60e9eeb907d3b93b6e0e5",
    "execution": {
     "iopub.execute_input": "2023-06-03T08:33:14.245066Z",
     "iopub.status.busy": "2023-06-03T08:33:14.244671Z",
     "iopub.status.idle": "2023-06-03T08:33:26.857094Z",
     "shell.execute_reply": "2023-06-03T08:33:26.855934Z"
    },
    "papermill": {
     "duration": 12.632014,
     "end_time": "2023-06-03T08:33:26.860361",
     "exception": false,
     "start_time": "2023-06-03T08:33:14.228347",
     "status": "completed"
    },
    "tags": []
   },
   "outputs": [],
   "source": [
    "# This Python 3 environment comes with many helpful analytics libraries installed\n",
    "# It is defined by the kaggle/python Docker image: https://github.com/kaggle/docker-python\n",
    "# For example, here's several helpful packages to load\n",
    "\n",
    "import numpy as np # linear algebra\n",
    "import pandas as pd # data processing, CSV file I/O (e.g. pd.read_csv)\n",
    "\n",
    "# Input data files are available in the read-only \"../input/\" directory\n",
    "# For example, running this (by clicking run or pressing Shift+Enter) will list all files under the input directory\n",
    "\n",
    "import os\n",
    "wavename=[]\n",
    "for dirname, _, filenames in os.walk('/kaggle/input'):\n",
    "    for filename in filenames:\n",
    "        a=str(os.path.join(dirname, filename))\n",
    "        wavename.append(a)\n",
    "        \n",
    "\n",
    "# You can write up to 20GB to the current directory (/kaggle/working/) that gets preserved as output when you create a version using \"Save & Run All\" \n",
    "# You can also write temporary files to /kaggle/temp/, but they won't be saved outside of the current session"
   ]
  },
  {
   "cell_type": "code",
   "execution_count": 2,
   "id": "29fd345e",
   "metadata": {
    "execution": {
     "iopub.execute_input": "2023-06-03T08:33:26.885015Z",
     "iopub.status.busy": "2023-06-03T08:33:26.884609Z",
     "iopub.status.idle": "2023-06-03T08:33:26.892528Z",
     "shell.execute_reply": "2023-06-03T08:33:26.891195Z"
    },
    "papermill": {
     "duration": 0.023093,
     "end_time": "2023-06-03T08:33:26.895207",
     "exception": false,
     "start_time": "2023-06-03T08:33:26.872114",
     "status": "completed"
    },
    "tags": []
   },
   "outputs": [
    {
     "data": {
      "text/plain": [
       "'/kaggle/input/audio-mnist/data/audioMNIST_meta.txt'"
      ]
     },
     "execution_count": 2,
     "metadata": {},
     "output_type": "execute_result"
    }
   ],
   "source": [
    "wavename.pop(0)"
   ]
  },
  {
   "cell_type": "code",
   "execution_count": 3,
   "id": "fd27fe6c",
   "metadata": {
    "execution": {
     "iopub.execute_input": "2023-06-03T08:33:26.919721Z",
     "iopub.status.busy": "2023-06-03T08:33:26.918567Z",
     "iopub.status.idle": "2023-06-03T08:33:26.978839Z",
     "shell.execute_reply": "2023-06-03T08:33:26.977413Z"
    },
    "papermill": {
     "duration": 0.075801,
     "end_time": "2023-06-03T08:33:26.981980",
     "exception": false,
     "start_time": "2023-06-03T08:33:26.906179",
     "status": "completed"
    },
    "tags": []
   },
   "outputs": [],
   "source": [
    "import numpy as np\n",
    "import pandas as pd\n",
    "import matplotlib.pyplot as plt\n",
    "import librosa\n",
    "import IPython.display as ipd\n",
    "import librosa.display"
   ]
  },
  {
   "cell_type": "code",
   "execution_count": 4,
   "id": "c94f48eb",
   "metadata": {
    "execution": {
     "iopub.execute_input": "2023-06-03T08:33:27.006678Z",
     "iopub.status.busy": "2023-06-03T08:33:27.005548Z",
     "iopub.status.idle": "2023-06-03T08:33:27.018530Z",
     "shell.execute_reply": "2023-06-03T08:33:27.017557Z"
    },
    "papermill": {
     "duration": 0.028366,
     "end_time": "2023-06-03T08:33:27.021326",
     "exception": false,
     "start_time": "2023-06-03T08:33:26.992960",
     "status": "completed"
    },
    "tags": []
   },
   "outputs": [],
   "source": [
    "file = open(\"/kaggle/input/audio-mnist/data/audioMNIST_meta.txt\",\"r\")\n",
    "data=file.read()"
   ]
  },
  {
   "cell_type": "code",
   "execution_count": 5,
   "id": "f36fbe14",
   "metadata": {
    "execution": {
     "iopub.execute_input": "2023-06-03T08:33:27.046345Z",
     "iopub.status.busy": "2023-06-03T08:33:27.044751Z",
     "iopub.status.idle": "2023-06-03T08:33:27.052890Z",
     "shell.execute_reply": "2023-06-03T08:33:27.051509Z"
    },
    "papermill": {
     "duration": 0.024266,
     "end_time": "2023-06-03T08:33:27.056450",
     "exception": false,
     "start_time": "2023-06-03T08:33:27.032184",
     "status": "completed"
    },
    "tags": []
   },
   "outputs": [
    {
     "name": "stdout",
     "output_type": "stream",
     "text": [
      "{\n",
      "    \"01\": {\n",
      "        \"accent\": \"german\", \n",
      "        \"age\": 30, \n",
      "        \"gender\": \"male\", \n",
      "        \"native speaker\": \"no\", \n",
      "        \"origin\": \"Europe, Germany, Wuerzburg\", \n",
      "        \"recordingdate\": \"17-06-22-11-04-28\", \n",
      "        \"recordingroom\": \"Kino\"\n",
      "    }, \n",
      "    \"02\": {\n",
      "        \"accent\": \"German\", \n",
      "        \"age\": \"25\", \n",
      "        \"gender\": \"male\", \n",
      "        \"native speaker\": \"no\", \n",
      "        \"origin\": \"Europe, Germany, Hamburg\", \n",
      "        \"recordingdate\": \"17-06-26-17-57-29\", \n",
      "        \"recordingroom\": \"Kino\"\n",
      "    }, \n",
      "    \"03\": {\n",
      "        \"accent\": \"German\", \n",
      "        \"age\": \"31\", \n",
      "        \"gender\": \"male\", \n",
      "        \"native speaker\": \"no\", \n",
      "        \"origin\": \"Europe, Germany, Bremen\", \n",
      "        \"recordingdate\": \"17-06-30-17-34-51\", \n",
      "        \"recordingroom\": \"Kino\"\n",
      "    }, \n",
      "    \"04\": {\n",
      "        \"accent\": \"German\", \n",
      "        \"age\": \"23\", \n",
      "        \"gender\": \"male\", \n",
      "        \"native speaker\": \"no\", \n",
      "        \"origin\": \"Europe, Germany, Helmstedt\", \n",
      "        \"recordingdate\": \"17-06-30-18-09-14\", \n",
      "        \"recordingroom\": \"Kino\"\n",
      "    }, \n",
      "    \"05\": {\n",
      "        \"accent\": \"German\", \n",
      "        \"age\": \"25\", \n",
      "        \"gender\": \"male\", \n",
      "        \"native speaker\": \"no\", \n",
      "        \"origin\": \"Europe, Germany, Hameln\", \n",
      "        \"recordingdate\": \"17-07-06-10-53-10\", \n",
      "        \"recordingroom\": \"Kino\"\n",
      "    }, \n",
      "    \"06\": {\n",
      "        \"accent\": \"German\", \n",
      "        \"age\": \"25\", \n",
      "        \"gender\": \"male\", \n",
      "        \"native speaker\": \"no\", \n",
      "        \"origin\": \"Europe, Germany, Dortmund\", \n",
      "        \"recordingdate\": \"17-07-06-11-23-34\", \n",
      "        \"recordingroom\": \"Kino\"\n",
      "    }, \n",
      "    \"07\": {\n",
      "        \"accent\": \"German/Spanish\", \n",
      "        \"age\": \"27\", \n",
      "        \"gender\": \"male\", \n",
      "        \"native speaker\": \"no\", \n",
      "        \"origin\": \"Europe, Spanien, Mallorca\", \n",
      "        \"recordingdate\": \"17-07-10-17-06-17\", \n",
      "        \"recordingroom\": \"Kino\"\n",
      "    }, \n",
      "    \"08\": {\n",
      "        \"accent\": \"German\", \n",
      "        \"age\": \"41\", \n",
      "        \"gender\": \"male\", \n",
      "        \"native speaker\": \"no\", \n",
      "        \"origin\": \"Europe, Germany, Ludwigsfelde\", \n",
      "        \"recordingdate\": \"17-07-10-17-39-41\", \n",
      "        \"recordingroom\": \"Kino\"\n",
      "    }, \n",
      "    \"09\": {\n",
      "        \"accent\": \"South Korean\", \n",
      "        \"age\": \"35\", \n",
      "        \"gender\": \"male\", \n",
      "        \"native speaker\": \"no\", \n",
      "        \"origin\": \"Asia, South Korea, Seoul\", \n",
      "        \"recordingdate\": \"17-07-12-17-03-59\", \n",
      "        \"recordingroom\": \"Kino\"\n",
      "    }, \n",
      "    \"10\": {\n",
      "        \"accent\": \"German\", \n",
      "        \"age\": \"36\", \n",
      "        \"gender\": \"male\", \n",
      "        \"native speaker\": \"no\", \n",
      "        \"origin\": \"Europe, Germany, Lemgo\", \n",
      "        \"recordingdate\": \"17-07-12-17-31-43\", \n",
      "        \"recordingroom\": \"Kino\"\n",
      "    }, \n",
      "    \"11\": {\n",
      "        \"accent\": \"German\", \n",
      "        \"age\": \"33\", \n",
      "        \"gender\": \"male\", \n",
      "        \"native speaker\": \"no\", \n",
      "        \"origin\": \"Europe, Germany, Berlin\", \n",
      "        \"recordingdate\": \"17-07-12-17-59-59\", \n",
      "        \"recordingroom\": \"Kino\"\n",
      "    }, \n",
      "    \"12\": {\n",
      "        \"accent\": \"German\", \n",
      "        \"age\": \"26\", \n",
      "        \"gender\": \"female\", \n",
      "        \"native speaker\": \"no\", \n",
      "        \"origin\": \"Europe, Germany, Berlin\", \n",
      "        \"recordingdate\": \"17-07-19-17-05-31\", \n",
      "        \"recordingroom\": \"Kino\"\n",
      "    },\n",
      "    \"13\": {\n",
      "        \"accent\": \"German\", \n",
      "        \"age\": \"27\", \n",
      "        \"gender\": \"male\", \n",
      "        \"native speaker\": \"no\", \n",
      "        \"origin\": \"Europe, Germany, Freiberg\", \n",
      "        \"recordingdate\": \"17-07-19-17-47-06\", \n",
      "        \"recordingroom\": \"Kino\"\n",
      "    }, \n",
      "    \"14\": {\n",
      "        \"accent\": \"Spanish\", \n",
      "        \"age\": \"31\", \n",
      "        \"gender\": \"male\", \n",
      "        \"native speaker\": \"no\", \n",
      "        \"origin\": \"Europe, Spain, Oviedo\", \n",
      "        \"recordingdate\": \"17-07-24-18-08-13\", \n",
      "        \"recordingroom\": \"Kino\"\n",
      "    }, \n",
      "    \"15\": {\n",
      "        \"accent\": \"Madras\", \n",
      "        \"age\": \"28\", \n",
      "        \"gender\": \"male\", \n",
      "        \"native speaker\": \"no\", \n",
      "        \"origin\": \"Europe, India, Chennai\", \n",
      "        \"recordingdate\": \"17-07-24-19-06-38\", \n",
      "        \"recordingroom\": \"Kino\"\n",
      "    }, \n",
      "    \"16\": {\n",
      "        \"accent\": \"German\", \n",
      "        \"age\": \"30\", \n",
      "        \"gender\": \"male\", \n",
      "        \"native speaker\": \"no\", \n",
      "        \"origin\": \"Europe, Germany, Muenchen\", \n",
      "        \"recordingdate\": \"17-07-31-17-17-08\", \n",
      "        \"recordingroom\": \"Kino\"\n",
      "    },\n",
      "    \"17\": {\n",
      "        \"accent\": \"German\", \n",
      "        \"age\": \"26\", \n",
      "        \"gender\": \"male\", \n",
      "        \"native speaker\": \"no\", \n",
      "        \"origin\": \"Europe, Germany, Berlin\", \n",
      "        \"recordingdate\": \"17-07-31-18-09-29\", \n",
      "        \"recordingroom\": \"Kino\"\n",
      "    }, \n",
      "    \"18\": {\n",
      "        \"accent\": \"Levant\", \n",
      "        \"age\": \"25\", \n",
      "        \"gender\": \"male\", \n",
      "        \"native speaker\": \"no\", \n",
      "        \"origin\": \"Europe, Syria, Damascus\", \n",
      "        \"recordingdate\": \"17-08-11-18-38-42\", \n",
      "        \"recordingroom\": \"Kino\"\n",
      "    }, \n",
      "    \"19\": {\n",
      "        \"accent\": \"English\", \n",
      "        \"age\": \"23\", \n",
      "        \"gender\": \"male\", \n",
      "        \"native speaker\": \"yes\", \n",
      "        \"origin\": \"Europe, India, Delhi\", \n",
      "        \"recordingdate\": \"17-08-11-19-12-12\", \n",
      "        \"recordingroom\": \"Kino\"\n",
      "    }, \n",
      "    \"20\": {\n",
      "        \"accent\": \"German\", \n",
      "        \"age\": \"25\", \n",
      "        \"gender\": \"male\", \n",
      "        \"native speaker\": \"no\", \n",
      "        \"origin\": \"Europe, Germany, Berlin\", \n",
      "        \"recordingdate\": \"17-08-14-17-27-02\", \n",
      "        \"recordingroom\": \"Ruheraum\"\n",
      "    }, \n",
      "    \"21\": {\n",
      "        \"accent\": \"German\", \n",
      "        \"age\": \"26\", \n",
      "        \"gender\": \"male\", \n",
      "        \"native speaker\": \"no\", \n",
      "        \"origin\": \"Europe, Germany, Muenster\", \n",
      "        \"recordingdate\": \"17-08-14-18-02-37\", \n",
      "        \"recordingroom\": \"Ruheraum\"\n",
      "    }, \n",
      "    \"22\": {\n",
      "        \"accent\": \"German\", \n",
      "        \"age\": \"33\", \n",
      "        \"gender\": \"male\", \n",
      "        \"native speaker\": \"no\", \n",
      "        \"origin\": \"Europe, Germany, Braunschweig\", \n",
      "        \"recordingdate\": \"17-08-15-13-38-24\", \n",
      "        \"recordingroom\": \"Ruheraum\"\n",
      "    }, \n",
      "    \"23\": {\n",
      "        \"accent\": \"German\", \n",
      "        \"age\": \"28\", \n",
      "        \"gender\": \"male\", \n",
      "        \"native speaker\": \"no\", \n",
      "        \"origin\": \"Europe, Germany, Alsbach-Haehnlein\", \n",
      "        \"recordingdate\": \"17-08-16-14-17-44\", \n",
      "        \"recordingroom\": \"VR-Room\"\n",
      "    }, \n",
      "    \"24\": {\n",
      "        \"accent\": \"Chinese\", \n",
      "        \"age\": \"26\", \n",
      "        \"gender\": \"male\", \n",
      "        \"native speaker\": \"no\", \n",
      "        \"origin\": \"Asia, China, Nanning\", \n",
      "        \"recordingdate\": \"17-08-16-15-37-02\", \n",
      "        \"recordingroom\": \"VR-Room\"\n",
      "    }, \n",
      "    \"25\": {\n",
      "        \"accent\": \"Brasilian\", \n",
      "        \"age\": \"22\", \n",
      "        \"gender\": \"male\", \n",
      "        \"native speaker\": \"no\", \n",
      "        \"origin\": \"South-America, Brazil, Porto Alegre\", \n",
      "        \"recordingdate\": \"17-08-16-16-01-05\", \n",
      "        \"recordingroom\": \"VR-Room\"\n",
      "    }, \n",
      "    \"26\": {\n",
      "        \"accent\": \"Chinese\", \n",
      "        \"age\": \"22\", \n",
      "        \"gender\": \"female\", \n",
      "        \"native speaker\": \"no\", \n",
      "        \"origin\": \"Asia, China, Beijing\", \n",
      "        \"recordingdate\": \"17-08-17-12-20-59\", \n",
      "        \"recordingroom\": \"library\"\n",
      "    }, \n",
      "    \"27\": {\n",
      "        \"accent\": \"Italian\", \n",
      "        \"age\": \"31\", \n",
      "        \"gender\": \"male\", \n",
      "        \"native speaker\": \"no\", \n",
      "        \"origin\": \"Europe, Italy, Morbegno\", \n",
      "        \"recordingdate\": \"17-08-17-12-50-32\", \n",
      "        \"recordingroom\": \"library\"\n",
      "    }, \n",
      "    \"28\": {\n",
      "        \"accent\": \"German\", \n",
      "        \"age\": \"28\", \n",
      "        \"gender\": \"female\", \n",
      "        \"native speaker\": \"no\", \n",
      "        \"origin\": \"Europe, Germany, Hof\", \n",
      "        \"recordingdate\": \"17-08-17-13-41-24\", \n",
      "        \"recordingroom\": \"library\"\n",
      "    }, \n",
      "    \"29\": {\n",
      "        \"accent\": \"German\", \n",
      "        \"age\": \"23\", \n",
      "        \"gender\": \"male\", \n",
      "        \"native speaker\": \"no\", \n",
      "        \"origin\": \"Europe, Germany, Freiburg\", \n",
      "        \"recordingdate\": \"17-09-14-20-54-30\", \n",
      "        \"recordingroom\": \"vr-room\"\n",
      "    }, \n",
      "    \"30\": {\n",
      "        \"accent\": \"German\", \n",
      "        \"age\": \"28\", \n",
      "        \"gender\": \"male\", \n",
      "        \"native speaker\": \"no\", \n",
      "        \"origin\": \"Europe, Poland, Slubice\", \n",
      "        \"recordingdate\": \"17-08-17-16-42-41\", \n",
      "        \"recordingroom\": \"VR-Room\"\n",
      "    }, \n",
      "    \"31\": {\n",
      "        \"accent\": \"German\", \n",
      "        \"age\": \"26\", \n",
      "        \"gender\": \"male\", \n",
      "        \"native speaker\": \"no\", \n",
      "        \"origin\": \"Europe, Germany, Berlin\", \n",
      "        \"recordingdate\": \"17-08-21-11-03-29\", \n",
      "        \"recordingroom\": \"VR-room\"\n",
      "    }, \n",
      "    \"32\": {\n",
      "        \"accent\": \"Egyptian_American?\", \n",
      "        \"age\": \"23\", \n",
      "        \"gender\": \"male\", \n",
      "        \"native speaker\": \"no\", \n",
      "        \"origin\": \"Africa, Egypt, Alexandria\", \n",
      "        \"recordingdate\": \"17-08-21-12-44-56\", \n",
      "        \"recordingroom\": \"VR-room\"\n",
      "    }, \n",
      "    \"33\": {\n",
      "        \"accent\": \"German\", \n",
      "        \"age\": \"26\", \n",
      "        \"gender\": \"male\", \n",
      "        \"native speaker\": \"no\", \n",
      "        \"origin\": \"Europe, Germany, Hamburg\", \n",
      "        \"recordingdate\": \"17-08-21-13-12-22\", \n",
      "        \"recordingroom\": \"vr-room\"\n",
      "    }, \n",
      "    \"34\": {\n",
      "        \"accent\": \"German\", \n",
      "        \"age\": \"25\", \n",
      "        \"gender\": \"male\", \n",
      "        \"native speaker\": \"no\", \n",
      "        \"origin\": \"Europe, Germany, Munich\", \n",
      "        \"recordingdate\": \"17-09-01-13-26-49\", \n",
      "        \"recordingroom\": \"vr-room\"\n",
      "    }, \n",
      "    \"35\": {\n",
      "        \"accent\": \"Chinese\", \n",
      "        \"age\": \"24\", \n",
      "        \"gender\": \"male\", \n",
      "        \"native speaker\": \"no\", \n",
      "        \"origin\": \"Asia, China, Shanghai\", \n",
      "        \"recordingdate\": \"17-08-21-15-03-12\", \n",
      "        \"recordingroom\": \"vr-room\"\n",
      "    }, \n",
      "    \"36\": {\n",
      "        \"accent\": \"German\", \n",
      "        \"age\": \"22\", \n",
      "        \"gender\": \"female\", \n",
      "        \"native speaker\": \"no\", \n",
      "        \"origin\": \"Europe, Germany, Berlin\", \n",
      "        \"recordingdate\": \"17-08-31-18-06-03\", \n",
      "        \"recordingroom\": \"vr-room\"\n",
      "    }, \n",
      "    \"37\": {\n",
      "        \"accent\": \"Italian\", \n",
      "        \"age\": \"27\", \n",
      "        \"gender\": \"male\", \n",
      "        \"native speaker\": \"no\", \n",
      "        \"origin\": \"Europe, Italy, Casarsa\", \n",
      "        \"recordingdate\": \"17-09-01-09-46-46\", \n",
      "        \"recordingroom\": \"vr-room\"\n",
      "    }, \n",
      "    \"38\": {\n",
      "        \"accent\": \"Spanish\", \n",
      "        \"age\": \"32\", \n",
      "        \"gender\": \"male\", \n",
      "        \"native speaker\": \"no\", \n",
      "        \"origin\": \"Europe, Spain, Toledo\", \n",
      "        \"recordingdate\": \"17-09-01-13-45-16\", \n",
      "        \"recordingroom\": \"vr-room\"\n",
      "    }, \n",
      "    \"39\": {\n",
      "        \"accent\": \"German\", \n",
      "        \"age\": \"29\", \n",
      "        \"gender\": \"male\", \n",
      "        \"native speaker\": \"no\", \n",
      "        \"origin\": \"Europe, Germany, Berlin\", \n",
      "        \"recordingdate\": \"17-09-01-14-13-15\", \n",
      "        \"recordingroom\": \"vr-room\"\n",
      "    }, \n",
      "    \"40\": {\n",
      "        \"accent\": \"German\", \n",
      "        \"age\": \"26\", \n",
      "        \"gender\": \"male\", \n",
      "        \"native speaker\": \"no\", \n",
      "        \"origin\": \"Europe, Germany, Berlin\", \n",
      "        \"recordingdate\": \"17-09-01-14-33-44\", \n",
      "        \"recordingroom\": \"vr-room\"\n",
      "    }, \n",
      "    \"41\": {\n",
      "        \"accent\": \"South African\", \n",
      "        \"age\": \"30\", \n",
      "        \"gender\": \"male\", \n",
      "        \"native speaker\": \"yes\", \n",
      "        \"origin\": \"Africa, South Africa, Vryburg\", \n",
      "        \"recordingdate\": \"17-09-01-14-56-32\", \n",
      "        \"recordingroom\": \"vr-room\"\n",
      "    }, \n",
      "    \"42\": {\n",
      "        \"accent\": \"Arabic\", \n",
      "        \"age\": \"29\", \n",
      "        \"gender\": \"male\", \n",
      "        \"native speaker\": \"no\", \n",
      "        \"origin\": \"Europe, Syria, Damascus\", \n",
      "        \"recordingdate\": \"17-09-01-15-23-24\", \n",
      "        \"recordingroom\": \"vr-room\"\n",
      "    }, \n",
      "    \"43\": {\n",
      "        \"accent\": \"German\", \n",
      "        \"age\": \"31\", \n",
      "        \"gender\": \"female\", \n",
      "        \"native speaker\": \"no\", \n",
      "        \"origin\": \"Europe, Germany, Regensburg\", \n",
      "        \"recordingdate\": \"17-09-01-16-59-50\", \n",
      "        \"recordingroom\": \"vr-room\"\n",
      "    }, \n",
      "    \"44\": {\n",
      "        \"accent\": \"German\", \n",
      "        \"age\": \"61\", \n",
      "        \"gender\": \"male\", \n",
      "        \"native speaker\": \"no\", \n",
      "        \"origin\": \"Europe, Germany, Berlin\", \n",
      "        \"recordingdate\": \"17-09-01-17-23-22\", \n",
      "        \"recordingroom\": \"vr-room\"\n",
      "    }, \n",
      "    \"45\": {\n",
      "        \"accent\": \"German\", \n",
      "        \"age\": \"1234\", \n",
      "        \"gender\": \"male\", \n",
      "        \"native speaker\": \"no\", \n",
      "        \"origin\": \"Europe, Germany, Stuttgart\", \n",
      "        \"recordingdate\": \"17-09-11-12-07-04\", \n",
      "        \"recordingroom\": \"vr-room\"\n",
      "    }, \n",
      "    \"46\": {\n",
      "        \"accent\": \"German\", \n",
      "        \"age\": \"30\", \n",
      "        \"gender\": \"male\", \n",
      "        \"native speaker\": \"no\", \n",
      "        \"origin\": \"Europe, Germany, Vechta\", \n",
      "        \"recordingdate\": \"17-09-11-13-59-04\", \n",
      "        \"recordingroom\": \"vr-room\"\n",
      "    }, \n",
      "    \"47\": {\n",
      "        \"accent\": \"Danish\", \n",
      "        \"age\": \"23\", \n",
      "        \"gender\": \"female\", \n",
      "        \"native speaker\": \"no\", \n",
      "        \"origin\": \"Europe, Denmark, Copenhagen\", \n",
      "        \"recordingdate\": \"17-09-11-14-33-03\", \n",
      "        \"recordingroom\": \"vr-room\"\n",
      "    }, \n",
      "    \"48\": {\n",
      "        \"accent\": \"German\", \n",
      "        \"age\": \"26\", \n",
      "        \"gender\": \"male\", \n",
      "        \"native speaker\": \"no\", \n",
      "        \"origin\": \"Europe, Germany, Berlin\", \n",
      "        \"recordingdate\": \"17-09-11-15-05-58\", \n",
      "        \"recordingroom\": \"vr-room\"\n",
      "    }, \n",
      "    \"49\": {\n",
      "        \"accent\": \"German\", \n",
      "        \"age\": \"26\", \n",
      "        \"gender\": \"male\", \n",
      "        \"native speaker\": \"no\", \n",
      "        \"origin\": \"Europe, Germany, Berlin\", \n",
      "        \"recordingdate\": \"17-09-12-14-50-32\", \n",
      "        \"recordingroom\": \"vr-room\"\n",
      "    }, \n",
      "    \"50\": {\n",
      "        \"accent\": \"German\", \n",
      "        \"age\": \"24\", \n",
      "        \"gender\": \"male\", \n",
      "        \"native speaker\": \"no\", \n",
      "        \"origin\": \"Europe, Germany, Flensburg\", \n",
      "        \"recordingdate\": \"17-09-12-18-25-00\", \n",
      "        \"recordingroom\": \"vr-room\"\n",
      "    }, \n",
      "    \"51\": {\n",
      "        \"accent\": \"German\", \n",
      "        \"age\": \"26\", \n",
      "        \"gender\": \"male\", \n",
      "        \"native speaker\": \"no\", \n",
      "        \"origin\": \"Europe, Germany, Bremen\", \n",
      "        \"recordingdate\": \"17-09-13-09-33-15\", \n",
      "        \"recordingroom\": \"vr-room\"\n",
      "    }, \n",
      "    \"52\": {\n",
      "        \"accent\": \"French\", \n",
      "        \"age\": \"34\", \n",
      "        \"gender\": \"female\", \n",
      "        \"native speaker\": \"no\", \n",
      "        \"origin\": \"Europe, France, Montpellier\", \n",
      "        \"recordingdate\": \"17-09-13-10-32-26\", \n",
      "        \"recordingroom\": \"vr-romm\"\n",
      "    }, \n",
      "    \"53\": {\n",
      "        \"accent\": \"German\", \n",
      "        \"age\": \"24\", \n",
      "        \"gender\": \"male\", \n",
      "        \"native speaker\": \"no\", \n",
      "        \"origin\": \"Europe, Germany, Reutlingen\", \n",
      "        \"recordingdate\": \"17-09-13-10-58-47\", \n",
      "        \"recordingroom\": \"vr-room\"\n",
      "    }, \n",
      "    \"54\": {\n",
      "        \"accent\": \"German\", \n",
      "        \"age\": \"27\", \n",
      "        \"gender\": \"male\", \n",
      "        \"native speaker\": \"no\", \n",
      "        \"origin\": \"Europe, Germany, Berlin\", \n",
      "        \"recordingdate\": \"17-09-13-12-13-44\", \n",
      "        \"recordingroom\": \"vr-room\"\n",
      "    }, \n",
      "    \"55\": {\n",
      "        \"accent\": \"German\", \n",
      "        \"age\": \"23\", \n",
      "        \"gender\": \"male\", \n",
      "        \"native speaker\": \"no\", \n",
      "        \"origin\": \"Europe, Germany, Dresden\", \n",
      "        \"recordingdate\": \"17-09-13-12-35-54\", \n",
      "        \"recordingroom\": \"vr-room\"\n",
      "    }, \n",
      "    \"56\": {\n",
      "        \"accent\": \"German\", \n",
      "        \"age\": \"24\", \n",
      "        \"gender\": \"female\", \n",
      "        \"native speaker\": \"no\", \n",
      "        \"origin\": \"Europe, Germany, Muenster\", \n",
      "        \"recordingdate\": \"17-09-14-13-09-37\", \n",
      "        \"recordingroom\": \"vr-room\"\n",
      "    }, \n",
      "    \"57\": {\n",
      "        \"accent\": \"German\", \n",
      "        \"age\": \"27\", \n",
      "        \"gender\": \"female\", \n",
      "        \"native speaker\": \"no\", \n",
      "        \"origin\": \"Europe, Germany, Berlin\", \n",
      "        \"recordingdate\": \"17-09-15-13-21-33\", \n",
      "        \"recordingroom\": \"vr-room\"\n",
      "    },\n",
      "    \"58\": {\n",
      "        \"accent\": \"German\", \n",
      "        \"age\": \"29\", \n",
      "        \"gender\": \"female\", \n",
      "        \"native speaker\": \"no\", \n",
      "        \"origin\": \"Europe, Germany, Berlin\", \n",
      "        \"recordingdate\": \"17-10-19-20-35-42\", \n",
      "        \"recordingroom\": \"vr-room\"\n",
      "    }, \n",
      "    \"59\": {\n",
      "        \"accent\": \"German\", \n",
      "        \"age\": \"31\", \n",
      "        \"gender\": \"female\", \n",
      "        \"native speaker\": \"no\", \n",
      "        \"origin\": \"Europe, Germany, Berlin\", \n",
      "        \"recordingdate\": \"17-10-19-21-03-53\", \n",
      "        \"recordingroom\": \"vr-room\"\n",
      "    }, \n",
      "    \"60\": {\n",
      "        \"accent\": \"Tamil\", \n",
      "        \"age\": \"27\", \n",
      "        \"gender\": \"female\", \n",
      "        \"native speaker\": \"yes\", \n",
      "        \"origin\": \"Asia, India, Chennai\", \n",
      "        \"recordingdate\": \"17-10-20-17-24-39\", \n",
      "        \"recordingroom\": \"vr-room\"\n",
      "    }\n",
      "}\n",
      "\n"
     ]
    }
   ],
   "source": [
    "print(data)"
   ]
  },
  {
   "cell_type": "code",
   "execution_count": 6,
   "id": "e4836836",
   "metadata": {
    "execution": {
     "iopub.execute_input": "2023-06-03T08:33:27.082371Z",
     "iopub.status.busy": "2023-06-03T08:33:27.081869Z",
     "iopub.status.idle": "2023-06-03T08:33:27.088840Z",
     "shell.execute_reply": "2023-06-03T08:33:27.087690Z"
    },
    "papermill": {
     "duration": 0.023101,
     "end_time": "2023-06-03T08:33:27.092058",
     "exception": false,
     "start_time": "2023-06-03T08:33:27.068957",
     "status": "completed"
    },
    "tags": []
   },
   "outputs": [
    {
     "name": "stdout",
     "output_type": "stream",
     "text": [
      "{'01': {'accent': 'german', 'age': 30, 'gender': 'male', 'native speaker': 'no', 'origin': 'Europe, Germany, Wuerzburg', 'recordingdate': '17-06-22-11-04-28', 'recordingroom': 'Kino'}, '02': {'accent': 'German', 'age': '25', 'gender': 'male', 'native speaker': 'no', 'origin': 'Europe, Germany, Hamburg', 'recordingdate': '17-06-26-17-57-29', 'recordingroom': 'Kino'}, '03': {'accent': 'German', 'age': '31', 'gender': 'male', 'native speaker': 'no', 'origin': 'Europe, Germany, Bremen', 'recordingdate': '17-06-30-17-34-51', 'recordingroom': 'Kino'}, '04': {'accent': 'German', 'age': '23', 'gender': 'male', 'native speaker': 'no', 'origin': 'Europe, Germany, Helmstedt', 'recordingdate': '17-06-30-18-09-14', 'recordingroom': 'Kino'}, '05': {'accent': 'German', 'age': '25', 'gender': 'male', 'native speaker': 'no', 'origin': 'Europe, Germany, Hameln', 'recordingdate': '17-07-06-10-53-10', 'recordingroom': 'Kino'}, '06': {'accent': 'German', 'age': '25', 'gender': 'male', 'native speaker': 'no', 'origin': 'Europe, Germany, Dortmund', 'recordingdate': '17-07-06-11-23-34', 'recordingroom': 'Kino'}, '07': {'accent': 'German/Spanish', 'age': '27', 'gender': 'male', 'native speaker': 'no', 'origin': 'Europe, Spanien, Mallorca', 'recordingdate': '17-07-10-17-06-17', 'recordingroom': 'Kino'}, '08': {'accent': 'German', 'age': '41', 'gender': 'male', 'native speaker': 'no', 'origin': 'Europe, Germany, Ludwigsfelde', 'recordingdate': '17-07-10-17-39-41', 'recordingroom': 'Kino'}, '09': {'accent': 'South Korean', 'age': '35', 'gender': 'male', 'native speaker': 'no', 'origin': 'Asia, South Korea, Seoul', 'recordingdate': '17-07-12-17-03-59', 'recordingroom': 'Kino'}, '10': {'accent': 'German', 'age': '36', 'gender': 'male', 'native speaker': 'no', 'origin': 'Europe, Germany, Lemgo', 'recordingdate': '17-07-12-17-31-43', 'recordingroom': 'Kino'}, '11': {'accent': 'German', 'age': '33', 'gender': 'male', 'native speaker': 'no', 'origin': 'Europe, Germany, Berlin', 'recordingdate': '17-07-12-17-59-59', 'recordingroom': 'Kino'}, '12': {'accent': 'German', 'age': '26', 'gender': 'female', 'native speaker': 'no', 'origin': 'Europe, Germany, Berlin', 'recordingdate': '17-07-19-17-05-31', 'recordingroom': 'Kino'}, '13': {'accent': 'German', 'age': '27', 'gender': 'male', 'native speaker': 'no', 'origin': 'Europe, Germany, Freiberg', 'recordingdate': '17-07-19-17-47-06', 'recordingroom': 'Kino'}, '14': {'accent': 'Spanish', 'age': '31', 'gender': 'male', 'native speaker': 'no', 'origin': 'Europe, Spain, Oviedo', 'recordingdate': '17-07-24-18-08-13', 'recordingroom': 'Kino'}, '15': {'accent': 'Madras', 'age': '28', 'gender': 'male', 'native speaker': 'no', 'origin': 'Europe, India, Chennai', 'recordingdate': '17-07-24-19-06-38', 'recordingroom': 'Kino'}, '16': {'accent': 'German', 'age': '30', 'gender': 'male', 'native speaker': 'no', 'origin': 'Europe, Germany, Muenchen', 'recordingdate': '17-07-31-17-17-08', 'recordingroom': 'Kino'}, '17': {'accent': 'German', 'age': '26', 'gender': 'male', 'native speaker': 'no', 'origin': 'Europe, Germany, Berlin', 'recordingdate': '17-07-31-18-09-29', 'recordingroom': 'Kino'}, '18': {'accent': 'Levant', 'age': '25', 'gender': 'male', 'native speaker': 'no', 'origin': 'Europe, Syria, Damascus', 'recordingdate': '17-08-11-18-38-42', 'recordingroom': 'Kino'}, '19': {'accent': 'English', 'age': '23', 'gender': 'male', 'native speaker': 'yes', 'origin': 'Europe, India, Delhi', 'recordingdate': '17-08-11-19-12-12', 'recordingroom': 'Kino'}, '20': {'accent': 'German', 'age': '25', 'gender': 'male', 'native speaker': 'no', 'origin': 'Europe, Germany, Berlin', 'recordingdate': '17-08-14-17-27-02', 'recordingroom': 'Ruheraum'}, '21': {'accent': 'German', 'age': '26', 'gender': 'male', 'native speaker': 'no', 'origin': 'Europe, Germany, Muenster', 'recordingdate': '17-08-14-18-02-37', 'recordingroom': 'Ruheraum'}, '22': {'accent': 'German', 'age': '33', 'gender': 'male', 'native speaker': 'no', 'origin': 'Europe, Germany, Braunschweig', 'recordingdate': '17-08-15-13-38-24', 'recordingroom': 'Ruheraum'}, '23': {'accent': 'German', 'age': '28', 'gender': 'male', 'native speaker': 'no', 'origin': 'Europe, Germany, Alsbach-Haehnlein', 'recordingdate': '17-08-16-14-17-44', 'recordingroom': 'VR-Room'}, '24': {'accent': 'Chinese', 'age': '26', 'gender': 'male', 'native speaker': 'no', 'origin': 'Asia, China, Nanning', 'recordingdate': '17-08-16-15-37-02', 'recordingroom': 'VR-Room'}, '25': {'accent': 'Brasilian', 'age': '22', 'gender': 'male', 'native speaker': 'no', 'origin': 'South-America, Brazil, Porto Alegre', 'recordingdate': '17-08-16-16-01-05', 'recordingroom': 'VR-Room'}, '26': {'accent': 'Chinese', 'age': '22', 'gender': 'female', 'native speaker': 'no', 'origin': 'Asia, China, Beijing', 'recordingdate': '17-08-17-12-20-59', 'recordingroom': 'library'}, '27': {'accent': 'Italian', 'age': '31', 'gender': 'male', 'native speaker': 'no', 'origin': 'Europe, Italy, Morbegno', 'recordingdate': '17-08-17-12-50-32', 'recordingroom': 'library'}, '28': {'accent': 'German', 'age': '28', 'gender': 'female', 'native speaker': 'no', 'origin': 'Europe, Germany, Hof', 'recordingdate': '17-08-17-13-41-24', 'recordingroom': 'library'}, '29': {'accent': 'German', 'age': '23', 'gender': 'male', 'native speaker': 'no', 'origin': 'Europe, Germany, Freiburg', 'recordingdate': '17-09-14-20-54-30', 'recordingroom': 'vr-room'}, '30': {'accent': 'German', 'age': '28', 'gender': 'male', 'native speaker': 'no', 'origin': 'Europe, Poland, Slubice', 'recordingdate': '17-08-17-16-42-41', 'recordingroom': 'VR-Room'}, '31': {'accent': 'German', 'age': '26', 'gender': 'male', 'native speaker': 'no', 'origin': 'Europe, Germany, Berlin', 'recordingdate': '17-08-21-11-03-29', 'recordingroom': 'VR-room'}, '32': {'accent': 'Egyptian_American?', 'age': '23', 'gender': 'male', 'native speaker': 'no', 'origin': 'Africa, Egypt, Alexandria', 'recordingdate': '17-08-21-12-44-56', 'recordingroom': 'VR-room'}, '33': {'accent': 'German', 'age': '26', 'gender': 'male', 'native speaker': 'no', 'origin': 'Europe, Germany, Hamburg', 'recordingdate': '17-08-21-13-12-22', 'recordingroom': 'vr-room'}, '34': {'accent': 'German', 'age': '25', 'gender': 'male', 'native speaker': 'no', 'origin': 'Europe, Germany, Munich', 'recordingdate': '17-09-01-13-26-49', 'recordingroom': 'vr-room'}, '35': {'accent': 'Chinese', 'age': '24', 'gender': 'male', 'native speaker': 'no', 'origin': 'Asia, China, Shanghai', 'recordingdate': '17-08-21-15-03-12', 'recordingroom': 'vr-room'}, '36': {'accent': 'German', 'age': '22', 'gender': 'female', 'native speaker': 'no', 'origin': 'Europe, Germany, Berlin', 'recordingdate': '17-08-31-18-06-03', 'recordingroom': 'vr-room'}, '37': {'accent': 'Italian', 'age': '27', 'gender': 'male', 'native speaker': 'no', 'origin': 'Europe, Italy, Casarsa', 'recordingdate': '17-09-01-09-46-46', 'recordingroom': 'vr-room'}, '38': {'accent': 'Spanish', 'age': '32', 'gender': 'male', 'native speaker': 'no', 'origin': 'Europe, Spain, Toledo', 'recordingdate': '17-09-01-13-45-16', 'recordingroom': 'vr-room'}, '39': {'accent': 'German', 'age': '29', 'gender': 'male', 'native speaker': 'no', 'origin': 'Europe, Germany, Berlin', 'recordingdate': '17-09-01-14-13-15', 'recordingroom': 'vr-room'}, '40': {'accent': 'German', 'age': '26', 'gender': 'male', 'native speaker': 'no', 'origin': 'Europe, Germany, Berlin', 'recordingdate': '17-09-01-14-33-44', 'recordingroom': 'vr-room'}, '41': {'accent': 'South African', 'age': '30', 'gender': 'male', 'native speaker': 'yes', 'origin': 'Africa, South Africa, Vryburg', 'recordingdate': '17-09-01-14-56-32', 'recordingroom': 'vr-room'}, '42': {'accent': 'Arabic', 'age': '29', 'gender': 'male', 'native speaker': 'no', 'origin': 'Europe, Syria, Damascus', 'recordingdate': '17-09-01-15-23-24', 'recordingroom': 'vr-room'}, '43': {'accent': 'German', 'age': '31', 'gender': 'female', 'native speaker': 'no', 'origin': 'Europe, Germany, Regensburg', 'recordingdate': '17-09-01-16-59-50', 'recordingroom': 'vr-room'}, '44': {'accent': 'German', 'age': '61', 'gender': 'male', 'native speaker': 'no', 'origin': 'Europe, Germany, Berlin', 'recordingdate': '17-09-01-17-23-22', 'recordingroom': 'vr-room'}, '45': {'accent': 'German', 'age': '1234', 'gender': 'male', 'native speaker': 'no', 'origin': 'Europe, Germany, Stuttgart', 'recordingdate': '17-09-11-12-07-04', 'recordingroom': 'vr-room'}, '46': {'accent': 'German', 'age': '30', 'gender': 'male', 'native speaker': 'no', 'origin': 'Europe, Germany, Vechta', 'recordingdate': '17-09-11-13-59-04', 'recordingroom': 'vr-room'}, '47': {'accent': 'Danish', 'age': '23', 'gender': 'female', 'native speaker': 'no', 'origin': 'Europe, Denmark, Copenhagen', 'recordingdate': '17-09-11-14-33-03', 'recordingroom': 'vr-room'}, '48': {'accent': 'German', 'age': '26', 'gender': 'male', 'native speaker': 'no', 'origin': 'Europe, Germany, Berlin', 'recordingdate': '17-09-11-15-05-58', 'recordingroom': 'vr-room'}, '49': {'accent': 'German', 'age': '26', 'gender': 'male', 'native speaker': 'no', 'origin': 'Europe, Germany, Berlin', 'recordingdate': '17-09-12-14-50-32', 'recordingroom': 'vr-room'}, '50': {'accent': 'German', 'age': '24', 'gender': 'male', 'native speaker': 'no', 'origin': 'Europe, Germany, Flensburg', 'recordingdate': '17-09-12-18-25-00', 'recordingroom': 'vr-room'}, '51': {'accent': 'German', 'age': '26', 'gender': 'male', 'native speaker': 'no', 'origin': 'Europe, Germany, Bremen', 'recordingdate': '17-09-13-09-33-15', 'recordingroom': 'vr-room'}, '52': {'accent': 'French', 'age': '34', 'gender': 'female', 'native speaker': 'no', 'origin': 'Europe, France, Montpellier', 'recordingdate': '17-09-13-10-32-26', 'recordingroom': 'vr-romm'}, '53': {'accent': 'German', 'age': '24', 'gender': 'male', 'native speaker': 'no', 'origin': 'Europe, Germany, Reutlingen', 'recordingdate': '17-09-13-10-58-47', 'recordingroom': 'vr-room'}, '54': {'accent': 'German', 'age': '27', 'gender': 'male', 'native speaker': 'no', 'origin': 'Europe, Germany, Berlin', 'recordingdate': '17-09-13-12-13-44', 'recordingroom': 'vr-room'}, '55': {'accent': 'German', 'age': '23', 'gender': 'male', 'native speaker': 'no', 'origin': 'Europe, Germany, Dresden', 'recordingdate': '17-09-13-12-35-54', 'recordingroom': 'vr-room'}, '56': {'accent': 'German', 'age': '24', 'gender': 'female', 'native speaker': 'no', 'origin': 'Europe, Germany, Muenster', 'recordingdate': '17-09-14-13-09-37', 'recordingroom': 'vr-room'}, '57': {'accent': 'German', 'age': '27', 'gender': 'female', 'native speaker': 'no', 'origin': 'Europe, Germany, Berlin', 'recordingdate': '17-09-15-13-21-33', 'recordingroom': 'vr-room'}, '58': {'accent': 'German', 'age': '29', 'gender': 'female', 'native speaker': 'no', 'origin': 'Europe, Germany, Berlin', 'recordingdate': '17-10-19-20-35-42', 'recordingroom': 'vr-room'}, '59': {'accent': 'German', 'age': '31', 'gender': 'female', 'native speaker': 'no', 'origin': 'Europe, Germany, Berlin', 'recordingdate': '17-10-19-21-03-53', 'recordingroom': 'vr-room'}, '60': {'accent': 'Tamil', 'age': '27', 'gender': 'female', 'native speaker': 'yes', 'origin': 'Asia, India, Chennai', 'recordingdate': '17-10-20-17-24-39', 'recordingroom': 'vr-room'}}\n"
     ]
    }
   ],
   "source": [
    "import json\n",
    "datdic=json.loads(data)\n",
    "print(datdic)"
   ]
  },
  {
   "cell_type": "code",
   "execution_count": 7,
   "id": "649ecb17",
   "metadata": {
    "execution": {
     "iopub.execute_input": "2023-06-03T08:33:27.118621Z",
     "iopub.status.busy": "2023-06-03T08:33:27.117669Z",
     "iopub.status.idle": "2023-06-03T08:33:27.124492Z",
     "shell.execute_reply": "2023-06-03T08:33:27.123566Z"
    },
    "papermill": {
     "duration": 0.023436,
     "end_time": "2023-06-03T08:33:27.127279",
     "exception": false,
     "start_time": "2023-06-03T08:33:27.103843",
     "status": "completed"
    },
    "tags": []
   },
   "outputs": [],
   "source": [
    "numbers = []\n",
    "ages = []\n",
    "genders = []\n",
    "\n",
    "# Iterate over the dictionary and extract the values\n",
    "for number, details in datdic.items():\n",
    "    numbers.append(number)\n",
    "    ages.append(details[\"age\"])\n",
    "    genders.append(details[\"gender\"])\n"
   ]
  },
  {
   "cell_type": "code",
   "execution_count": 8,
   "id": "a74d6468",
   "metadata": {
    "execution": {
     "iopub.execute_input": "2023-06-03T08:33:27.153183Z",
     "iopub.status.busy": "2023-06-03T08:33:27.152758Z",
     "iopub.status.idle": "2023-06-03T08:33:27.159597Z",
     "shell.execute_reply": "2023-06-03T08:33:27.158161Z"
    },
    "papermill": {
     "duration": 0.02303,
     "end_time": "2023-06-03T08:33:27.162241",
     "exception": false,
     "start_time": "2023-06-03T08:33:27.139211",
     "status": "completed"
    },
    "tags": []
   },
   "outputs": [
    {
     "name": "stdout",
     "output_type": "stream",
     "text": [
      "['01', '02', '03', '04', '05', '06', '07', '08', '09', '10', '11', '12', '13', '14', '15', '16', '17', '18', '19', '20', '21', '22', '23', '24', '25', '26', '27', '28', '29', '30', '31', '32', '33', '34', '35', '36', '37', '38', '39', '40', '41', '42', '43', '44', '45', '46', '47', '48', '49', '50', '51', '52', '53', '54', '55', '56', '57', '58', '59', '60']\n"
     ]
    }
   ],
   "source": [
    "print(numbers)"
   ]
  },
  {
   "cell_type": "code",
   "execution_count": 9,
   "id": "fd1fe3f4",
   "metadata": {
    "execution": {
     "iopub.execute_input": "2023-06-03T08:33:27.188369Z",
     "iopub.status.busy": "2023-06-03T08:33:27.187956Z",
     "iopub.status.idle": "2023-06-03T08:33:27.203083Z",
     "shell.execute_reply": "2023-06-03T08:33:27.201876Z"
    },
    "papermill": {
     "duration": 0.031853,
     "end_time": "2023-06-03T08:33:27.205969",
     "exception": false,
     "start_time": "2023-06-03T08:33:27.174116",
     "status": "completed"
    },
    "tags": []
   },
   "outputs": [],
   "source": [
    "referdf = pd.DataFrame({\"Number\": numbers, \"Age\": ages, \"Gender\": genders})"
   ]
  },
  {
   "cell_type": "code",
   "execution_count": 10,
   "id": "be579b60",
   "metadata": {
    "execution": {
     "iopub.execute_input": "2023-06-03T08:33:27.233327Z",
     "iopub.status.busy": "2023-06-03T08:33:27.231777Z",
     "iopub.status.idle": "2023-06-03T08:33:44.775927Z",
     "shell.execute_reply": "2023-06-03T08:33:44.774199Z"
    },
    "papermill": {
     "duration": 17.56108,
     "end_time": "2023-06-03T08:33:44.778978",
     "exception": false,
     "start_time": "2023-06-03T08:33:27.217898",
     "status": "completed"
    },
    "tags": []
   },
   "outputs": [
    {
     "name": "stdout",
     "output_type": "stream",
     "text": [
      "Collecting ffmpeg\r\n",
      "  Downloading ffmpeg-1.4.tar.gz (5.1 kB)\r\n",
      "  Preparing metadata (setup.py) ... \u001b[?25l-\b \b\\\b \bdone\r\n",
      "\u001b[?25hBuilding wheels for collected packages: ffmpeg\r\n",
      "  Building wheel for ffmpeg (setup.py) ... \u001b[?25l-\b \b\\\b \b|\b \bdone\r\n",
      "\u001b[?25h  Created wheel for ffmpeg: filename=ffmpeg-1.4-py3-none-any.whl size=6084 sha256=fe4f35e2e8f0990f6386397be0a3fe052b2b21b7730771ab4772e8ad0dc774d0\r\n",
      "  Stored in directory: /root/.cache/pip/wheels/8e/7a/69/cd6aeb83b126a7f04cbe7c9d929028dc52a6e7d525ff56003a\r\n",
      "Successfully built ffmpeg\r\n",
      "Installing collected packages: ffmpeg\r\n",
      "Successfully installed ffmpeg-1.4\r\n",
      "\u001b[33mWARNING: Running pip as the 'root' user can result in broken permissions and conflicting behaviour with the system package manager. It is recommended to use a virtual environment instead: https://pip.pypa.io/warnings/venv\u001b[0m\u001b[33m\r\n",
      "\u001b[0m"
     ]
    }
   ],
   "source": [
    "!pip install ffmpeg"
   ]
  },
  {
   "cell_type": "code",
   "execution_count": 11,
   "id": "b7fea145",
   "metadata": {
    "execution": {
     "iopub.execute_input": "2023-06-03T08:33:44.806878Z",
     "iopub.status.busy": "2023-06-03T08:33:44.806349Z",
     "iopub.status.idle": "2023-06-03T08:34:11.843540Z",
     "shell.execute_reply": "2023-06-03T08:34:11.841908Z"
    },
    "papermill": {
     "duration": 27.054928,
     "end_time": "2023-06-03T08:34:11.846581",
     "exception": false,
     "start_time": "2023-06-03T08:33:44.791653",
     "status": "completed"
    },
    "tags": []
   },
   "outputs": [
    {
     "name": "stdout",
     "output_type": "stream",
     "text": [
      "Requirement already satisfied: soundfile in /opt/conda/lib/python3.10/site-packages (0.12.1)\r\n",
      "Requirement already satisfied: cffi>=1.0 in /opt/conda/lib/python3.10/site-packages (from soundfile) (1.15.1)\r\n",
      "Requirement already satisfied: pycparser in /opt/conda/lib/python3.10/site-packages (from cffi>=1.0->soundfile) (2.21)\r\n",
      "\u001b[33mWARNING: Running pip as the 'root' user can result in broken permissions and conflicting behaviour with the system package manager. It is recommended to use a virtual environment instead: https://pip.pypa.io/warnings/venv\u001b[0m\u001b[33m\r\n",
      "\u001b[0mRequirement already satisfied: audioread in /opt/conda/lib/python3.10/site-packages (3.0.0)\r\n",
      "\u001b[33mWARNING: Running pip as the 'root' user can result in broken permissions and conflicting behaviour with the system package manager. It is recommended to use a virtual environment instead: https://pip.pypa.io/warnings/venv\u001b[0m\u001b[33m\r\n",
      "\u001b[0m"
     ]
    }
   ],
   "source": [
    "!pip install soundfile \n",
    "!pip install audioread"
   ]
  },
  {
   "cell_type": "code",
   "execution_count": 12,
   "id": "241f79d9",
   "metadata": {
    "execution": {
     "iopub.execute_input": "2023-06-03T08:34:11.876690Z",
     "iopub.status.busy": "2023-06-03T08:34:11.876079Z",
     "iopub.status.idle": "2023-06-03T08:34:27.016530Z",
     "shell.execute_reply": "2023-06-03T08:34:27.015173Z"
    },
    "papermill": {
     "duration": 15.159527,
     "end_time": "2023-06-03T08:34:27.019505",
     "exception": false,
     "start_time": "2023-06-03T08:34:11.859978",
     "status": "completed"
    },
    "tags": []
   },
   "outputs": [
    {
     "data": {
      "text/html": [
       "\n",
       "                <audio  controls=\"controls\" >\n",
       "                    <source src=\"data:audio/x-wav;base64,UklGRm4YAQBXQVZFZm10IBAAAAABAAEAgLsAAAB3AQACABAAZGF0YUoYAQAPAA4ADwAPAA4ADwAPAA4ADgAOAA4ADgANAA4ADgAPAA8ADwAPAA8ADwAPAA8AEAAPAA8ADwAPABAAEAAPABAAEQAQABAAEAAQAA8AEAAPAA8ADwAQABAAEAAQAA8ADwAPAA8ADwAPAA4ADgAOAA4ADgANAA4ADgANAA0ADQAPAA0ADQANAA4ADgANAA4ADgANAA4ADgANAA0ADQANAA4ADQANAA0ADQANAA4ADQAOAA4ADgAOAA0ADgANAA0ADQAMAA0ADQANAA0ADQAMAA4ADQAMAA0ADQAOAA4ADgANAA0ADgANAA0ADQANAAwADQAMAAwADgAMAAwADAAMAAsADAALAAwADQALAAwADAALAAwACwALAAsADQALAAsACwAKAAsACwALAAsACgAKAAoACgALAAwACwALAAwADAALAA0ADQAKAAsADAALAAsACgAKAAoACwALAAsACwAKAAoACgAKAAoACwAKAAsADAALAAoACwALAAsACQAKAAsACgAKAAkACgAKAAsACgAKAAsACwAMAAoACwALAAsACwAMAAsACwAMAAsACgALAAsACwALAAsACgAKAAsACwALAAsACwAMAAsADAALAAsADAAMAAsACgAMAAoACwALAAoACgAKAAoACgALAAsACwALAAsADAAMAAwACwALAAsACwALAAsADAALAAoACgALAAsACQALAAkACwALAAsACwALAAwACwAMAA0ADAAMAAsACgALAAsACwAKAAsACwAMAAsACwAMAAsACwALAAoACwAMAAsACwAKAAsACwAKAAsACwAKAAsACgALAAsACwALAAoADAAMAAsADAALAAsACgAMAAwADAALAAwADAANAAwADAAMAAsACwALAAsACQAKAAoACgALAAwACwAJAAoACgAKAAsACQAJAAoACgAKAAkACQAJAAkACAAJAAkACQAJAAoACQAJAAgACAAIAAcABwAIAAgACAAHAAgACQAJAAgACAAJAAkACAAIAAkACAAIAAgACAAIAAkACQAHAAcACAAKAAoACAAJAAgACQAKAAkACAAIAAgACQAJAAgACAAKAAgACAAJAAkACAAHAAkACQAJAAgACQAJAAcACAAIAAgACQAIAAgACAAHAAcABwAIAAcABgAHAAcABwAGAAcABwAGAAcACAAIAAgACQAIAAgACQAIAAYABwAIAAcABgAHAAgABgAGAAYABgAHAAYABgAGAAYABgAHAAcABwAGAAYABwAHAAYABQAGAAcABgAFAAYABgAFAAUABQAFAAUABAAFAAUABgAFAAUABQAEAAUABQAFAAUABAAEAAUABAAGAAYABAAEAAYABAAEAAYABAAEAAUABQAGAAYABQAFAAUABQAFAAYABQAFAAYABgAGAAUABAAEAAUABgAFAAUABgAFAAUABQAFAAUABQAEAAMABAAEAAQABAAEAAQABAAEAAQABAAFAAQABAADAAQABAAEAAMABAADAAMABAACAAQAAwADAAMAAgADAAIAAgABAAIAAgABAAIAAgADAAIAAwACAAIAAgABAAIAAgACAAAAAAAAAAAAAQAAAAEAAAAAAAAA//8AAAAAAgABAAEAAQACAAEAAAABAAEAAQADAAIAAQABAAEAAAAAAAAAAQACAAEAAAABAAEAAQAAAAEAAQABAP//AQABAAAAAAAAAAAAAAAAAAAAAQABAAAAAAAAAAAAAAAAAAAAAQABAAAAAQAAAAAAAAAAAAAAAAAAAAAAAAAAAAEAAAAAAAEAAQABAAEAAgACAAEAAQAAAAEAAQACAAEAAAABAAEAAQAAAAAAAQAAAAEAAQABAAEAAQAAAAAAAQABAAAAAAABAAAAAAAAAAAA///+//7//////////v///wAA/////////v8AAP///v////7///////////////7//v////7////+///////9///////+//7//v/+//7//v/9//7//f/+//7//v/9//7//v/9//7//v/9//z//v/8//z//f/8//3//P/9//z//P/9//v//P/7//r/+//8//z/+//7//z/+//7//r/+v/7//v/+v/6//r/+//8//r/+f/6//v/+v/6//r/+//6//r/+v/7//r/+//6//r/+v/6//r/+f/6//n/+v/5//n/+f/5//n/+P/5//n/+v/5//n/+v/5//r/+f/6//n/+f/5//n/+f/5//n/+v/4//j/+P/4//j/+P/4//j/+f/4//n/+f/4//n/+P/4//j/+P/3//j/+P/3//j/9//3//f/+P/3//f/+P/3//f/+P/3//f/9//3//f/9//3//f/+P/3//f/9//2//b/9//3//f/9//3//n/+P/5//n/+P/4//j/+P/4//n/+f/5//j/+P/4//r/+f/5//j/+f/5//j/+v/5//j/+v/6//r/+f/5//n/9//4//n/+P/5//n/+f/5//f/9//3//j/+P/4//j/+P/5//j/9//4//f/9//4//f/9//3//f/9v/3//b/9v/2//b/9//4//f/9v/2//X/9f/2//f/9v/2//b/9v/1//b/9f/2//X/9v/1//b/9v/2//b/9f/3//f/9//3//f/9//3//f/9v/1//b/9//2//b/9//1//b/9v/3//b/9v/2//b/9v/2//X/9v/1//X/9f/1//X/9f/0//X/9v/0//X/9f/1//X/9P/1//X/9P/1//X/9P/0//T/8//z//P/8//y//P/8v/z//T/8v/z//P/8//0//P/8//z//P/8v/y//L/8v/y//L/8v/x//H/8P/x//D/8P/z//H/8f/x//H/8P/x//H/8f/y//H/8f/x//L/8f/y//L/8v/y//L/8v/x//H/8f/x//H/8v/x//H/8f/y//L/8f/x//H/8P/x//L/8v/x//H/8v/y//P/8//z//P/8//y//P/8v/z//L/8f/y//P/8//z//P/8//0//P/8//z//L/8//z//P/8//y//L/8//0//L/8v/z//T/8v/z//T/9P/0//T/8//z//T/9P/1//T/9f/1//T/9P/0//X/9v/2//b/9f/2//f/9//3//f/9//5//j/+P/4//f/9//3//f/9//3//f/+P/5//n/+f/4//n/+f/5//n/+v/6//r/+//6//v/+//6//z/+//8//v//P/8//v//P/9//3//P/9//v//P/8//3//f/8//3//P/8//v//P/8//v//P/9//z//P/8//z//f/9//7//f/9//z//f/+//7//v/+//7//f/+//3//P/9//3//f/9//7//f/9/////f/9//7//v/+//7//v/+//3//f/9//3//P/8//z//P/8//v//P/8//z/+//7//z//P/9//3//P/8//z//f/9//3//f/9//z//f/9//3//P/8//3//P/8//v//P/8//3//P/9//z//P/9//3//P/8//3//P/8//v//P/8//z/+//8//z/+//9//z/+//7//z/+v/7//v/+v/7//r/+//8//r/+//6//r/+//8//v/+v/5//v/+v/6//r/+v/7//r/+//7//z/+//7//v/+//7//v/+//8//z//P/7//v/+//6//v/+//7//v/+v/6//v/+v/6//z/+v/6//r/+v/7//v/+v/6//v/+v/7//r/+v/7//v/+//6//r/+//6//r/+v/6//r/+v/6//r/+f/5//j/+P/5//n/+P/4//j/+P/4//f/+P/4//j/+P/4//n/+P/4//j/9//3//j/9//3//j/+P/4//j/9//3//f/9//3//j/9//3//f/9v/2//f/9//3//f/9//3//b/9//3//f/9v/2//f/9v/1//X/9v/3//f/9//2//b/9//1//b/9v/1//b/9v/2//b/9f/2//X/9f/1//X/9f/2//X/9f/1//X/9f/1//X/9f/2//X/9P/0//P/9P/1//T/9P/0//T/9P/0//P/8//0//T/8//z//P/8//0//P/8//y//P/9P/0//T/8//0//T/8//0//X/9P/z//T/9P/0//P/9P/0//T/9P/z//P/8//0//T/9P/0//T/9P/1//T/8//z//L/8v/y//P/8//y//P/8//y//H/8f/x//L/8v/y//L/8v/y//P/8v/z//L/8v/z//P/8v/y//L/8//z//T/9P/z//P/9P/0//P/8v/z//P/8//z//T/9f/0//T/9P/0//T/8//1//X/9P/1//X/9f/1//X/9f/0//T/9f/1//b/9v/2//X/9f/1//X/9f/1//X/9v/1//X/9f/1//b/9//2//f/+P/2//b/9//2//f/9v/1//b/9v/1//X/9f/1//b/9//2//X/9v/2//X/9v/2//X/9//3//f/+P/3//b/9v/2//b/9f/2//b/9v/2//X/9f/2//X/9f/2//X/9f/1//b/9v/1//X/9v/1//X/9v/3//X/9v/2//b/9v/1//f/9//3//b/9//2//b/9v/2//X/9v/3//X/9v/1//X/9v/2//X/9//2//b/9v/1//X/9v/2//b/9//3//b/9//2//j/9//3//b/9//4//f/9//3//j/9//3//j/+P/5//n/+P/4//f/9//3//f/9//3//f/9//4//j/9v/3//f/9//4//j/9//3//j/9v/3//f/+P/4//j/+P/4//n/+f/5//j/+f/7//r/+f/5//j/+f/5//r/+v/5//r/+v/6//r/+v/6//r/+v/6//v/+v/6//r/+v/6//n/+v/7//v/+f/6//n/+v/5//n/+v/5//n/+v/7//r/+v/7//r/+//8//z/+//7//v/+v/7//v/+//6//n/+//7//v/+//7//z/+v/7//v/+//8//v/+//8//z//P/9//3//f/9//z//f/9//3//f/9//3//f/8//3//P/8//v/+//7//z/+//8//z//P/8//z//P/7//z//P/8//z//P/8//z//P/8//z/+//7//z//P/9//z//f/8//z//f/9//3//f/9//3//f/9//z//f/9//3//v/9//3//f/+//3//v/8//3//f/8//3//f/9//3//v/+//7////+//7//v/9//3//f/+//3//P/8//3//f/7//v//P/8//z//v/+//3//f/9//3//P/+//z//P/8//z//f/8//z//f/9//3//f/9//3//P/9//3//f/+//7//f/+//7//f/+/////v///wAAAQAAAAAAAAD//wAA//8AAAEAAQAAAAAAAQAAAAAAAAAAAP///v8AAAAA//8AAAEA/////wEAAAAAAP//AQAAAP//AAD//wAAAAAAAAAAAAAAAAEA/////wEAAAABAAAAAQABAAAAAAABAAIAAgABAAIAAwACAAIAAQACAAEAAgACAAAAAQAAAAAA//8AAAAAAAAAAAEAAAAAAP//AAAAAAAAAQABAAAAAQACAAEAAQAAAAIAAAABAAAAAQABAAEAAQAAAAAAAQAAAAAAAQABAAEAAAABAAAAAQABAAAAAQD/////AQD/////AAD////////+//7//v/+//7//////wAA/////wAAAAAAAAAAAAAAAAAAAAAAAAAA//8BAAEAAQAAAAAAAAAAAAEAAQABAAEAAAAAAAEAAQABAAEAAAABAAAAAQABAAIABAADAAMABAAEAAIAAwAFAAQAAwADAAUABAADAAQABQAEAAQABAAEAAUABAAFAAQABAAEAAUABgAEAAQABQAEAAMABAAGAAUABgAGAAYABQAGAAYABQAHAAgABgAGAAcABgAHAAcACAAIAAkACQAIAAoACQAIAAgABwAGAAUABQAGAAUABQAGAAYABgAFAAUABQAFAAQABAADAAQABQAEAAUABQAGAAYABgAHAAYABwAGAAYABQAHAAYABQAGAAYABgAGAAYABgAEAAUABQAEAAUABQAGAAUABQAEAAUABQAEAAQABQAFAAUABgAHAAcABgAGAAYABgAGAAYABgAFAAUABAAEAAUABgAFAAMABAADAAQAAwACAAIAAgACAAIAAwACAAIAAgACAAIAAwADAAMAAwADAAIAAQAAAAEAAQABAAIAAQD//wAA//////////8AAAAAAQAAAAEAAgACAAAAAAABAAAAAAD//wAAAAD9//7//v/+//7////////////+//7////+////AAD//wAAAQAAAAAA///+/////f/+//z//f/+//7//v/+//7//v/8//z//P/8//z//P/9//z//f/+//7//v////7//v/+//7//f/9//7//v/8//3//P/7//v/+//7//z//P/9//7////+//7///////7//f/9//3//v/9//7//v/+//7///////7//f/8//z//P/7//v//f/9//7//v/9//3//f/9//3//v/9//7//v/+//7//v/+//3//P/8//z//f/7//v//P/7//v/+//9//7//f/+//7//f/+/////v/8//v/+v/5//n/+f/4//j/+P/4//j/+f/6//z//f/9//3//P/7//n/+P/2//f/+P/4//j/+P/5//j/+P/5//v/+//6//v/+v/6//z/+//7//r/+v/5//n/+v/7//z/+v/6//n/+P/5//j/+f/4//j/+f/5//n/+f/4//b/9P/z//X/9f/2//b/9//3//j/+f/6//v/+f/5//j/+P/3//f/9v/3//f/9v/2//j/+f/6//z//P/6//r/9//3//b/9v/4//n/+v/7//v//P/8//v//P/7//r/+//8//3//f/8//z/+//6//j/+P/5//n/+v/6//v/+//6//r/+f/4//j/+v/6//r//P/7//v/+//6//n/+P/5//r/+v/4//b/+P/5//n/+f/7//r/+v/7//z//P/8//z//P/7//v//P/9//7//v/+//v/+f/6//j/+P/4//j/+f/5//r/+//7//3///8BAAAAAQABAAAA/v/7//v/+//6//v/+//7//r/+v/6//v/+//6//v/+//8//3///////7//v/8//v/+v/5//j/9//4//f/+P/3//X/9v/2//b/9v/2//j/+f/7//v/+v/5//n/+f/5//j/+P/6//n/+f/3//T/8//0//T/9f/2//b/9v/2//b/9v/4//n/+v/7//v//P/7//r/+f/6//j/9f/0//X/9v/5//r/+//7//v/+f/5//n/9//5//v/+//8//n/+P/4//f/9//4//j/+f/4//n/+f/4//n/+f/6//j/+P/2//X/9v/1//f/9v/4//r/+v/4//v/+//8//v//P/8//z//P/7//v/+v/5//r/+P/4//f/9v/4//r//P/8//v/+//9//3/+//7//z////+//3//P/7//v/+v/4//b/9//3//j/+P/3//j/9//5//j/+f/7//v/+//7//v/+v/5//j/9//4//r/+v/5//j/9//3//f/9v/4//r/+//6//r/+//6//n/+v/5//n/+P/5//v/+//8//z/+//7//z/+//7//r/+f/5//n/+P/4//j/+P/3//b/9f/1//b/9//4//f/+P/4//f/9v/2//b/9//2//X/9v/2//b/9v/2//f/9v/2//X/9v/1//X/9f/0//T/9v/3//j/9//2//b/9f/0//T/8//0//b/9//3//f/9P/z//H/7//w/+//8f/w/+//8P/y//X/9//5//r/+v/4//n/9v/z//D/7//w/+//7//u/+//8P/w//D/7v/s/+z/7f/v/+//8v/0//X/9v/0//P/8f/x/+//7v/u/+3/7f/y//P/8//0//D/7f/s/+z/7f/t/+3/7//z//T/8f/v//H/9f/2//f/+f/5//j/9f/y/+7/6//s/+7/8P/y//H/8v/w/+//7v/x//T/9v/2//b/+v/7//n/9//3//v//f/8//n/9v/1//T/8P/v/+7/8P/x//H/8v/y//P/9v/7/wEAAAD7//b/+P/8//3/+v/7//3//f/6//b/8//x//P/9f/0//P/8v/0//n//v8BAAAA/P/6//r/+//8//z//P/7//3/+//5//r/+f/4//f/9//2//f/9//7//3/+f/y//T/+P/6//v/+v/7//3//v/9//z/+P/5//r/+v/3//T/9v/4//b/8//y//T/9v/3//n/+//7//3//v/8//v/+f/4//b/9P/0//T/9P/1//X/9v/4//r//P/5//j/+f/7//r/9//3//f/9//3//X/9f/0//b/9//z/+//8f/4//v/+f/3//r//P/5//n/9//1//P/8//y//L/8f/0//f/+P/2//X/9//5//n/+P/2//L/8f/z//X/9f/0//X/9f/y/+7/7//y//P/9P/y/+7/7f/t//H/8f/x//H/8P/x//H/8v/z//L/8//2//T/8f/t/+3/7v/u/+3/6v/p/+r/7f/u/+//7//x//b/9//3//f/+P/1//T/8//y//X/9v/2//X/8v/x//L/9//4//X/8f/y//P/8v/x//P/9f/1//X/9f/1//f/+//6//X/8v/0//X/8//y//P/9P/4//f/9P/y/+7/6f/n/+r/9f/8//z/+P/0//X/9//2//P/8v/z//P/7v/r/+z/8f/z//T/9v/3//P/7v/v//H/8f/x//L/9P/2//X/7//q/+z/8//2//b/8//y//L/8v/x/+//8v/3//f/8P/t/+v/6v/v//H/8f/t/+z/7//0//T/7//s/+z/8P/x//H/7//t/+//8//x/+n/4v/m/+7/7//q/+b/6//y//f/9//z/+7/6P/n/+r/6f/p/+z/7v/s/+3/8v/4//v/+P/1//H/6//q/+7/8//z/+//7v/u/+7/6//s//H/9f/5//T/6//r/+//7//q/+7/9//2//P/9f/1//D/7f/s/+z/6//q/+7/8v/1//X/8//v/+v/6//v//D/6//l/+X/6v/t/+7/7v/x//T/8f/s/+r/6//v//T/9v/1//T/9v/3//b/9v/1//T/8f/v/+//8//4//X/7f/v//r//P/y/+z/7f/v//H/9P/1//X/9f/5//n/9v/3//3/+//x/+//9f/1//P/+f8CAAIA+v/6//7/+f/y/+z/8P/8/wMA///7//r///8CAP//+//8////AgAAAP3//P/5//n//f/8//T/7//w//P/9P/w/+3/8f/3//3//v/5//j/+//7//j/9//4//n/+//9//n/8//v/+v/7P/w//b/+/8CAAMA/f/4//b/+//6//f/+v/8//z/AAD///r/9v/5//v/+//8//3/AAD5//X/9P/3//z//P/7//7/AQD5//L/8//0//n///8DAP7/9v/x//H/9//5//r//v/8//f/9P/v/+7/9P/3//T/8f/0//3//f/7//n/+P/3//3/AwABAP3/+v/2//P/9//9/wAAAQADAAIAAAD8//r/9f/u/+v/8v/9/wAA+v/z//b//P/6//f/9P/4/wcAEAAEAPL/7//5//3/+f/2//r/AwABAPf/8//4/wAABQACAAAA/f/8//7//f/5//r/AAAGAAIA+v/4//z/AAACAAMAAwD///v/AAAGAP//+f/9////AgACAAEAAwADAAMAAwALAA4ABwABAP///v/+////AQAFAAYAAwABAAMACAAMAA0ACwAIAAMA//8FAA4AFQASAAcAAQACAAQABgAHAAsAEgAPAAcABQALABIAFAAPAAYA/P/4//z/BAAJAAsADQAOAAwACgALAA4ACwAJAAoABwAEAAUABQADAAUABQAFAAcACgALAAwACwAHAAQABgAKAAsACQAGAAIAAgAGAAsACgAKABEAEgAIAP7///8EAA8AFAAPAAwACAAFAAQAAwABAAYACwANAA4ACAAAAAEACAASABQAEgANAAgAAQAAAAAAAgAHAAsADwAVABMACQACAAIABgAHAAYACAAKAAoACwAOAAwABQAEAAsADAADAPv//f8CAAUACAAQABUAEAAJAAcAAwD9////AQD///////8DAAkACwARABIACQAFAAgACwAKAAUA/v///wIAAwAGAAoAEAASAAwACAAHAAgADQANAAgAAgD7//v/AgAHAAkADgAZAB4AGgAOAAQABwARABMACwAHAAUAAwABAAEACAAPAA4ADAAKAAUA/f///wYADwASABAADwANAA4AEQAOAAUAAAAFABIAFgANAAYACgAKAAIA+v/9/wcADwAQAAoABQAGAAsAEgAQAAoABgADAAIAAgAIAAoA///5/wYAEgARAAcAAQAMAA8ABQD8//n/+v8DAAkABgAGAAgADwARAAkAAgD+//7///8CAAEABQAIAAYABQAHAA4AEQAMAAUABQAHAA0ADgAMAAgABQAGAAYACgAPABQAFQAOAAQAAwABAPj/+f8DAAgABwAIAA8AEgAKAAAAAgAKABAACwAGAAQAAwAJABIAEAAKAAgACgAJAAYABQAIAA0ACgD+//n/AAAFAAQAAgAJABQAFAANAAcACQATAAwA/v8AAAoADQAFAPr/+f8EAAoABgD+/wIADgAOAAUAAwALABMAEwAHAPz///8HAAUABAAJAAsACQAJAAgACAAFAAMACQAMAAoADgASABEACQD9//n//v8EAA8AGAAWAA8ACQAHAAcACAAIAAkACgAHAAcACgAMAAgADQAVABgAEwALAAcABwAHAAEA+//3//7/AwAIAAwADQARABwAHwARAAEAAAAIAAUA/f8AAAwAEgANAAYAAwAEAAcAEQAcABEA9//w//3/DQATAAkABQALAAgA/P/8/xUAFwD//wgADwAEAAAABQACAP//BQAHAAkABAAGAAsACQAHAAYAEQAWAAcA/f8EAAkABgADAAsAFAAOAAgACwAPAAsAAQD9/wEABgAGAAYADAATAA8ACQAHAAYABQACAAcAFAASAAUA/v/4/wIACAAFAAYACwAOAA0ABAD+/wQADAAKAAAA//8DAAUA///4//z/AAD7//j/AgAQABcAFQAHAPX/7f/0/wMACAD+//z/CAAKAPv/7//3/wgABgD5//j/AAADAAkAEAANAP3/7//w//j/AgAKAAoA///3//j/BQAHAAEAEAARAPX/6f/w//r//v/8/woAGwAUAP3/9P/6/wgABgD3//P/AAASABgACgD9/wQABgD///j//f8KAAgA+//z/+//+f8LABQAFwARAPz/8P/x//f/AgAQABgAGAASAAEA8//4/wkADwAEAP7/BQAHAP////8KAAkA/v/6//H/+P8FAAkACwANAAoAAwADAAgADgAKAAMA+P/v//P/+/8AAAEADQAZAAkA7f/p//7/BgACAAgACwAIAAQA+//9/wMABAADAP//9f/w//X//v8IAA4ACAAIAAIA+//9/////f8BAAYABwAGAAQAAQD9/wMACgAMAAYA/v/7//b/+f8AAAYACQAIAAgACAAAAPb/8P/7/xAAEwALAAYAAwAAAPr/9v/5/wQACQABAPL/6//v//z/DQAbABkACAD5/+7/5//0/wYAAgACAAwADAAHAAUABQADAP7/9//1//H/7/8AAAcA9f/y/wgAEAD///L/7//t//H/BQAXABoAEgD///D/8P/z//H/8P/9/xIAFQABAPb/9/8FAA0AAwD///z/9f/1//L/9P8DAAwAEQAPAAQA+v/5/wAAAQD3//b/AwAJAAsAAADw//T//f8BAAAA+/////v/8P/v//r/CwAWAA8AAAD4//r//P/9////BgALAPz/6v/p//b/AgAAAPj///8DAPz/+f/+/wMAAgACAAgACAD8//T/9P/1//n//v/9////AQD9//H/8P8DAAwAAQD8/wIAEQAUAP//9P/3//7/AwAAAPX/+v8NAB4AGQABAPL/+f8DAAUAAADz//L//f/4/+///P8LAAkA/f/7/wYACAAEAAYABAD4/+//+/8PABIACQD9//H/6//p//L/AAAJAA8ADAD9/+//5f/0/wsACQAFAAkACQAAAPX///8JAAAABAAGAPn/7v/x////AgAAAAIA///+//j/7v/x//n//P8BAPv/9P8FABwAFQD///T/AQAMAAIA8P/p//L/AwADAOb/2P/3/yIAHgDz/+L/8v8IABEABADs/+v/+v8GAAQA7v/s/wEABgD7//D/8P/2/wMACAACAPL/5v/s//z/CgAFAPr/+f8AAP//+P/x//L///8EAP3/8v/2/wsADwAOAA8A9//g/+3/BQAGAPr/+/8CAAMA/P8GABsAGgALAAMAAgAAAPT/5P/n/wMAGQADAOf//P8gACQAAwDq//T/BwARAAwA9v/y//r/AwAOAA4ABgACAAAA///5//n/BwAMAAsABwD8//3/BAAAAP///v8GABEABAD4//z/EQAjAA8A8P/l/+3/+//+////DQAYAAwA/P/9//3/9P/z//v//f8EAA8ADQAIAAgABQAAAPz/AgAHAAIA+P/w/+7/+P///woAFAAJAPn/9f/2//7/EQAVAAAA8v/3////AwAHAAoA///t/+r/+f8JABAABwD5//7/BgAEAPb//P8SAA4A9f/r//7/CgANAAoA/f/3//3/AgAKAAoAAgD7//r/BgAPAA0ABwD+//7////8//z/AQAKAAkABQAEAAgACgABAPb/8//8/wwAAAD2//////8EAA8AFAALAPH/4//t/wUAFwAZAAkA8f/e/+T/AQAXABoAEwAFAOT/yf/c/wYAGQAYABIA///y//D/7f/m/+X/8P8CAAoAAQD3////+//p/+T/8f8HAAoA/f/5//r/8f/p//X/DwAdABAA8v/f/+X/+/8HAAcACAAHAPn/5v/h/+7/AwAMAAUA/v/2//H/9f8AAAsAFAAEAOr/4v/g//L/EgAcABIA///o/+X/+P////v/AAABAAEA+f/o//D/BQAHAAQA+v/r//P/BAABAPj//P/9//r//v/+//v/+v/6/wEABgD///3/8f/q//z/+f/w/wMAEQASAAAA6f/0/xIAGgD6/97/6v8EAAwA///3//3/BgAIAPz/6//q//f/AwANAAcA8v/z/wkABADu/+///P8GAAcAAQACAAcADgAIAPX/7v/1/wEAAwD//wUACQD6/+T/7v8JAAsA/f8DABIA9//h//X////1//n/DwAPAP///P8IAA0AAADr/+L/8/8DAAkABgD3/+//9v8FAAwAEgAbABsABQDt/+v/7f/t/+7/9v8AAAEABAANAAMA8P/t////DgD5/+v/9f8FAAsA+P/l/+7/BgARAA8AAgDt/+b/6f///xYACwADAAkAAQD7//j/+v8CAAsABgDs/+f//f8LAAYAAgACAAQA+f/o//T/CAAGAAUACAAFAAQA8f/x/w0AEAAHAPv/5P/n//v/AgD3//n/CQAIAPz//P/+//T/7P/r/wIAHQAbAAIA7f/p//T//v8FAAgABwADAPj/7//5/wgAAgD6//v//P/6/+7/9f8GAA8AFAD///H/+f/6////CgAAAPj/9P/u//j///8EAP3/AAABAPb/7f/q/+z/7//2/wQABAD9/wwAGAAIAOf/zP/d/wIADAAGAPn/8P/9/wMA///+/wEACQD4/93/1f/b//D/AwANAA0ADAD//+z/9v/+//r/+P/f/9///f8NAA8ACQD9/+j/4f/0//3/+f/4//T/7//j/+z/DgAeAA8A9P/l//L//P/y/+H/6P/9/wAA+P/v//r/BAD+//D/4//r/wAAAwDx/+D/3//0/xIAIQAOAO//6f/0//j/9P8AAA8ABwDu/93/6f/9//v/+//5/+b/5P/8/wkADAANAPn/7//s//f/BQD4//X//////wMAAwD6//X/+f/4/+v/7v8DABAAAADv/+b/5P8BAA8AEwAPAPv/7//k/+z//P8OABoADQD8//X/9P/x/+f/4f8CAB8ADADy/+n/7v/1//j/AwAOAAIA8P/w/+3/6//0//X/+/8CAAYAEQALAPX/4f/b/+v/9f/+/wAA///8/+P/2P/x/xAAEQAFAAwACQD4/+7/7//0//X/+v/8//f/+v/1/wIAEwD+/+f/3P/y/w0AEQASAA8A/v/s//D/+v/w//X/DgAfABQA7v/Q/9n/9v8PABEA///5//3/8//u//P//P8RAAoA+v///wMAAgDk/9H/6//9//3////0/+b/6//z/+v/5//7/w8ADgD7/+b/7P8BAAoAAQD4/wAACgD5/+n/9f/9//T/7v/0//b/9//1//L/+f8GAAIA/f/7//3/CQAGAP//+//6/wYABADs/+r/9//0//n/AAD6//b/+v8HAAYA9P/t/+3/9v8EAAEA9P/w//z/CwD//+n/6v/3//f/5f/3/xgADwD///X/7v/y//P/+v8BAP3/7f/Z/9n/9P8dAC0ADwDl/9//8P/q/9r/9/8tACgA9f/L/9P/+v8UAAwA/P8BAAMA8//h/+X//P8MAA0ABQD8//3//P/y////BgD3/+j/5/8FABkACADs/+H/7/8EAAkABwANAAoA8P/v////8//n//f/BwAIAAAA9//5////DwAJAOv/7P8MACQAEgD0/+T/7P/1//z/AgAHAAgABQD///P/8P/2//X//f8RABEAAwDs/+v/AgAFAAQABwAMAAkA+v/x/+//AAAFAPf//P8ZABwA+f/h/+X/DAAeAPz/8v8NAAIA4//h//z/EQAPABAAEAD9//H/BAAWABAACgD5/9r/yv/1/yUAGgAGAAYAEAAFAOH/7v8ZACcAHAD4/9v/6f8BAAQA//8JAAUA/v8FAPf/6v/v//r/DAAZAB4ACgDq/wIAGwD0/87/4v8jADUAAADj//v/EAD9//D/AAD///b//f8UACEABwDq/+X/9f8KAPr/7f/7//7/EgAfAAIA3f/e/wIAHQATAAsADwADAOj/2P/t/wkABwAJACMAJAD4/8n/y//x/wgAEQAZABoAGQAWAP//5P/t/wIA/v///w4ADAD+/wAA+P///x0AIwAWAAEA6/8DABEA6f/k/woAIwAsABgAAAD3/+b/7P8JAB4AHAAVABMA/v/q//T//v8LABYAEQD//+v/6P/6/xsAJwARAPL/9/8MABIAEwAGAPL/8P/7/w4AIAAFAPL/HgAeAPb/7v8AAA4ABwAFABMAEAAGAPv/6f/p//z/GAAhACIAGwAKAPX/4v/w/wIAGwAzAA4A+v8ZABYA/v/3//n/FwAmAAwA+P/o//H/CQALABcAIgAXABIAAwDy//3/CQD+//b/BQAOAAcABAAKABMAEQARAA4A/P/6/woAEAAEAAIAFgAOAPn/9P/8/w8ABwD//wcA/f8KAA4A+f/7/xEAFwADAPb/9v/4//n/CgAjACIABQDv//b/9v/9/xcAFgAEAPz///8UAAYA6P8CAB0AEwAAAO//7P/+/xUAEQAEAAAABgAJAPr/9v8EAAQACQAYABcAAADu//n///8PABQAEQAVAP//7//6/wYAEAAnABwA+P/9/wkABAD6/wMAHQAYAAAA+P/z/wEACgAHACsAOAANAPL///8MAAIA9//6/wMAFgAmABsADAAJAAYAAgD4//3/FgAeABMACAACAA4AEAAFAAcAEwAhABwA/v/p/+n/BQAvACcAHAAeABEADwAAAOv/8//1/w0ALwA0ACYADgACABEAGQAFAP7/EAA8AEIAEADj/9//CAA1AEAAFQDg/+v//v/+/wYAJgA+ACwAGAAFAO7/7f8JABoAJgAbAPf/8/8JAB4ALQAnABAACQAhABsA8//j//j/IQAdABMAQgA6APz/2v/x/yAAKAAeAAQA+v/+/wEABgAYADcAMgAPAAAA9v/h/+3/FQArABwABgD3//3/JQAqABUAHAAnABkAAQDf/97/IABNAC8ADwAAAO3/6v/1/xIALgAyACgAFAAKAAAAAQAJABUAJQAoAA0A4//l/xgALAAJAPz/EQAcAAoA///8/wgAEAACAAsAIgAYAPz/8v8CAAAA+f8TABsAAgD7/xsAIwAIAAIAGwAqAAcA5f/v/wEACQACAAwAJwAhAAwA/v/4//v//v8HABoAJAAcABEABwAFAAkAEgAMAPn//v8SAPf/6v8RAB4ACQDt/+//GwBNADcA/v/q/+T/8f8AAAoAJQA0ABcA9v/r////GQAkADsAPgANAOL/7f8QAAoA//8XACEAFAATAAsA7//i/x8ATAA3ABgA/P8EAA0AAgACAAkACgAHAPz/8//b/9z/HgBEAB4A6v/u/xMAIAANAAcADQAUAB8ADADo/+D/BQAuACcABgD1/w8AJAAHAOr/7f8bAEQAKwD9/93/1f/6/yQALwAkABUAJAAjAOz/0P/4/ywAPQAmAP//8v/8/wkAEAAVABIABAD1/wMAFgAFAO//+/8jADkAJgAAAPn/FAAOAPv/BAD+/xAAJwAIAPb/7f/s//T/9/8JABUAHAAXAAgACwADAOz/8/8WACoAGAD4//X/AgAKABYADwAQAB0ACgDl/+D/DgAWAAMA8f/2/zYANwAFAPj/7v/v//3/BwD6//n/EAAOAA4ADwD+//7/DgAfAB4AAADq/+z/AAAAAPP//v8RABYAGgApABoA7P/e/wYALAALAOH/AgAsACIA+P/O/+b/HAArACAAFAALAPz/+f8DAAIAAwAHAA4AGAAcABAAAQATABEA/f8HAPr/7f8BABYAFADq/9//FgA6AC8AIAD3/+L/AQATABgABwABABIAAwDu/+D/9v8mAC8AJwAWAAAA7//j//H/BQAIAAgACAATABkA+v/f//7/IQAhAAgA/v8OAA0A//8JABgAGwAQAAUA8//c//j/GQAmACUABwD8/wEA+f8FAB8AJwAdAPT/zf/Y/xAAMAAOAAAAEgAcABQAAQDx/+z/9/8GAP3/6P/w/wkAHgAZAAIA9P8CAA8ADAAPABAA+v/u////CAD7/wEAHAAeABYA+v/q//f/+/8AAAgAIwA1ABcA//8IAAUABQD1//f/BwAFACEAFQDr/+r/9P8KABwAEwASABoADQDk/9r//f8OAP7/BwAkACcAEQD9/wgAJQAMANb/4f8IABcACgD6/wQAEAARAAwACAADAAkAFAD4/9n/6/8LACEAGgAQABcAJAAGAOD/BAAhAAoAAQAKAAwAGgARAPn/9v8KAC0ALAACAOn/AQArACMA9//0/wQAAADx//T/IQA0ABsAAgAMABEA+f///wUACgAVABAAEQAMAP///f8GABgALQA+ACMA4P/V//3/FQAjACoAJwAvABsA8v/r/+7//f8TAB4AJQAfAPj/6v/8//3/AgAKACMAMwANAPD/9f8CABQAKQAtACMACADr//n/DQAGAAQABgAZACQAAgDp//z/IAAkAAgAEQAiAA0A8f/T/+T/JQBBACEAFAAZAAwA9P/y/y0AVQBAABEA8f8BAAQA7/8CAB4AHwAaABAAAAD4/xEANQAyABYADQAZAB4AFwDr/9L/+/8sAEcAMAAKAAkABADl/+H/DwA3AC4ADwDx/+f/+v8QACMAOgAxABsAGwABAO7/7//u/xQAMQAbAAcA9v/4/xAAFwAEABIAKwAaAAcA/P/z//X/8/8GACQANgAfAAAABAD9/+v/4//6/yQAKAAJAO3/9f8dACUACAD4/woAIgADAOv/BgAWABsAJgAdABIAAAD3//H/9f8KAPb/9v8IAA0AEwAJAPv/8P/4/wwAEwAQABoAKAAnABoA+//l/wMAGQAJAAgA9f/c/+H/8f8OAAwAAgAgACoAGQD8/+v/9v8FAAYA/P/7/wEAEQAnABEA8/8CABIAAwDx//n/FgAfAA4A6P/Y//3/GgARAAIA//8XABkA6f/Z/wQAMgBAACcABgD7//v/6v/Z/+7/CgAYABYA///h/9r/9/8OACcAJwAbABUA9//8/xIACwD3/wEACQDz/+//8v/t/wcADQD5/wwAAADt//3/EgAeAAUABQARAPn/3f/e/woANAAyABYABQDz/9v/2//q/wcAOABIABMA3P/R/8n/5v8aADUAPwAhAOn/vv/Q//3/FgAsAD8AMwDv/6//tf/h/wQABgAAAPj/7v/6/wgABADs/+n/AgD5//L/DAAcABIA+f/7/wAA7f/t/wMACgDp/9X/8v8NABAA+//o/+z/+/8GAAwA7v/U/wEAJgARAPf/+f8JACUAFgDx/+T/zP/g/wAABAAMAAwAJQAyAPv/uv+3//v/JAAhAA0A7//8/xAAAwDz/wwARAAuAPz/1f/C/9n/4//i//P/FgAYAP7//P8MAAsA+/8JABcADgAEAOr/5////wcABwASABAADQADAOb/zf/a/wYADwAFAPr/7P/3/wkAAwD0//D/AAAXABEA6//e//3/DQAJAAIA+P/y/+v/9f/9/+r/7f/9//n//v/6/+X/5v/z/woACAD3//X/+f8RACEAAQDi//T/BAD6//P/8//6//j/9f/+/wEABQD0/9v/7f8SAAoA5//m/+j///8YABYADQD4//7/+//o/+P/2v/n//7//f///xAA/P/i//D/AwABAP7/5//j/+3/4f/l//X/EQAkACgAHwAMAPD/1f/T/9n/5P/o/+L/8/8QAA0Az//M/xoAJgAFAN//2f/3//D/5v/l/+r/DwAkACAAEgD6/9//yv/M/+f/9P/0//n/9/8FAAcA9//u//X/6f/U//X//v/y//7/DwALAPn/9v/4/wEAFQAOANv/u//A/+//AwD5/wkABgDz/+T/8f/0/9n/2P/j//H/CwAfABgAEAAHAPv/4f/F/83/8P8MAP7/3P/n/wIAAQD2/+7/+f/w/9P/2//3//D/BQA6ACYAAgDs/+r/+P/j//T/CgDu/9z/3P/p//b/9//w/+f/5P/f/9j/6f8TACIAHQD+/83/0//l/wMAJgAdAAIA8P/n/9H/3P8JAA0A9f/t/+//5P/S/9n/9//8//z/BwATAAUAAwAUAAYA7f/x/xkAJAD9/9//4//k//D/AAD3////CAACAO7/0v/j//z/AAD6/+f/6v///w4ABQD9/xIAEQDw/+P//f8OAPT/3//p//H/BQAPAPj/5f/O//f/IQD1/9v/7f8YACcABAADABAAAADy//r/8f/w//P/4//+/wMA2//p/w0ABgD+//b/3v/R/9//+P/+/w8AFQAYABwA/P/c/9L/6//2//7/GwATAAEA4f/O/+P/5v/x//z//v8ZABAA0f++//v/KgA1ABoA7P/y/wcABwDx//T/DgAcADQACgDf/97/yv/U/wQAIQAXAPv/6P/s/wQAAwABAA8AGAAQAOb/yf/N//H/IwAqAA8A+v/2/+r/0P/R/+3/9P8PACoAEwD0/+L/8P8HAPv/6//1//7/EwAZAAgA+v/l/+7/AQAEAAIA/v/9/wQA8//r/wsABADr/+z/+f8EAAkABAAHABcAFgD0/+n/BgAVABsADgDb/8X/1v/4/xMAEwAUAAIA4v/s////EQAHAPv/EgACAOf/5v/p//b/GQAlAAIA3v/U/+H/9f8HAAoAGAAKAP7/AwDx/9T/y//p//j/5P/n/+7//P8RAA0AGAAfABUA9v/a/9v/3v/0/xAADQAaACYADgDl/9T/2f/T/+r/DQAqACwA8//Y//H/EAAlAC4AGgD5/+X/2f/b/9v/BQBFADkAJAAjAAMA3v/K/9r/9P8eADEAKAAOAND/qv/L/xcANwA6ADAAEADr/8v/yv/R/wAAPgA4ABcA///7/+7/0//M/+H/DQAfAA0AAwD+/+n/5P/6/w4AHQAfAB4AEQDu/+r/BAAFAPv/7P/k/wEADgAVACkANgAjAPH/3v/R//7/PQAaAO3/0//q/woABAABAA0AMAA6AAkA5//2/wwABADm/+T///8KAPn/6f/2/wcA+f/2/xkAIgADAPD/8/8BAAsADwAbAB4AJgAiAAAA9/8NAAsA4P/c//7/CgANAPv/5P/8/ysAIwD///L/DgA6ACkABgD1/+v/+P/r/+j/DwArABkAFgAZAA8ADwDp/8f/5f8lADYADQDr//n/GwAXAAUACgAqACsA/v/b/+b//f8JABIAHgAwACUAAQDi/+L/6f/s//r/CgAdACMAJQAaAAQADAAKAA4AFQASAAAA5f/y/wAADQAOAAoAIgAtAA0A8f/r//f/CgD+//f/DgAZADAALAAWABkA/P/s/9v/1f8OACwAMgAdAAMAHgArAAAA5v/+/xEAFwD9/+L/7v8HAAkACAAdAC0AKgAaAAwA/P/p/9n/7f8DABUALAAmAAwA7v/l/+r/9/8AAAMADwARAA8AAgACAAQAGwAjAAAABwAYAB0ADQD6////EAASAP7/9f8AAAoADgDz/97/CgApACUAGQAeACYAHwD+/9v/3//z/xgALQAoACMAGQARAAoA/v/8/w0AAwD1//r/AgAGAPb/BgAcABcAKAA4ACgAAQDl/9v/8P8PABkAKgAnAB0ABADh/93/8/8ZAC8ACQDr/wIACQAEAA0AFAAlABwAAQANAAQA+f8CAPv/8//3/wYAFAAmAC8AFADz/+j/6v/8/xcAGAD3//L/FgAkABwACgADABAAIAAXAPP/9v8UAC0AOgAIAOX/7//x/wwAGgAMAAQADgAGAOf/5f8LAEkAWAAoABEAAwD0//n/AgAmADUAGAACAAMAEgASAAYA//8DABYAFQADAAUAEwAZAAwADwAXACMAIgAGAO3/7//8/xgAOQApABcACwD+//L/6/8FACsALgAEAO3/7f/y/wAAHgA8ADQAJAAHAPX/CAASABEAEwAfABUA///1//j/FAAmABAA9f/w//P/FwAhAAkAEQARACkANAAQAP3/CAAVAAQA/v8MAAgAFQAZABUABQDx////FQAfAAwA/P/p/+7/LABIADcAGQAFAAcA/v/4/+j/BQA2ACsA9f/s/xEAIQAyACQACwD//+//5v/v/xgALAAeAB8AFAADAPj/BwA5ADkAGAD6//T/+f/z/wwAHAAdABkADwAHAPv/8//7/wkAFwAiACMAEgAFAAkADAAEAAsAEQAVABUADQD8/+P/5P/9/y8AKQAGAPz/AQALAP3/8f8RAD8AOQAIAOj/7v8GABYAHAAhACYAEADn//P/BgAVAC4ADADv//j/BAAIAA4ACwANAAsAFgAcAAUADAAOAAAA+v/3/wkAHAAtAEAAJwD3/97/3f/7/x4AEAABAA0AFQAVAAcA//8PAC4APgA8AAkA3//m/+v/+/8JAB4AMgArACUAHQAbAPb/4//+/wMAFAAKAAEAHgAsADcALAAYAAoA8v8FABUAAgDr/+L/BwAnAB8AAQAGAC4ALwAEAO7/3//j/xUAIAAVABYAEwAaACUAEgD2////HQAZAPf/6f8CABAAFwAWAPv/+P8UAA8A9P/u//7/CwAOACUAMwAbAAcAEwAQAPn/7f/1/woAGAAHAPH/7f/2/w4AKwAiAAEA+P/4/w8AEwAJAAwAJQAtAAAA4//i//f/EwAZAAUA8f8LABYAAAAGABgADQACAAMA+f/y//X//v8IABkAIgAbACEAGgAGAAcACgAHAAcABAAFAP//+/8GAPv///8YAAkACAAXABAA/P/4/wQACwAgABcACwAaAB8AGAAKAPn//v8JAAEA9v/5/xQAIwAXAA4AEQD1/97/9v8JABsAIAAYACoAHADk/+b/EAAWABQAEgALAAcA8v/j/+r/FQArABsA///0/wUA+v/t//D/DgAaAAUADgAaABwADgADAPv/+v/4/97/1v/u/yIAMQAUAPz/+P8HABIACgDv/+n/AQAFAPj/6f/8/zQAPAAVAAMABADo/8z/0v/u/xkAGwAWACAAEgD7/+v/4P/l/wwAHAAKAP7/CwAVAAkA/v/0/wUACwD5//j/7v/1/wYACQD+/wUADgD8/wgAEgAFAPz/6v/1//H/5//3/wkANABCABwA8P/m/xQAHgDt/8n/2v8UACMAHAAFAOv/DwAlABIAAwDx/+j/6//p//L/FgA7AD0AHwD+/+3/4//q/wgADwARAAwABQAOABEAGAAKAOv/9v8ZABoA/f/z/wgAJQAgAPX/1v/3/zEAQwAQAOP/8v/n/+D/8f8IABkAHgA0ABwA0P/V/x4ANwAUAPD/5f/3/wwADwAGAAAACQAEAAkAHwANAPP/8//q/+T/+f8WAB8AFAAVABcA+//f//X/EQAQAPf/2//x/x4AGgARACYAGQD9/+L/6/8bACsAEwDv/+T/6//7/wsAAwAWADMAHQD9/+3//f8QAAwABwD4//D/8f8KADwAOwAFAOf/+P8EAAEA6f/u/yAAIgARABcADgAKABEAEAAAAO3/8P8EAAIA7v/n//7/JQAxACUACwAMACcAHwD//9X/yv/q/yUAMAD///z/LAAvAAcA7v/s/xAAEADz/+7/7v8CAA8AEQAaABMABgAOAAsA/P/t//X/AgAHABwAFwD6/9//8v8aAAkA+v8PAAgA9//t//H/BwAZACkAIAAHAPn////t/+b/AwAIAAgABQD8//b/9v8KABcAHQD6/9T/7v8QAAsA4v/M//f/MgA1AAUA8P8DAAMA7//r//r/EwAYABgACwDl/9b/1f/p/woADQD//wAAAgD+/wMAAwD9/wgAIwAoAPn/2P/i//z/AQD4//7/EgAZABMAAwDf/9D/5////wQADQAkAC4AEwDu/+L/8f/8/wAA+//6/wcAAgAHAAcA9v/p/+//AwABAOv/8v8EAAIA+//u//X/BQALAAYA+v8LABAABAD2//P/CwANAP7/8f/l/+3/3v/n/wAA/v8NABYAEADw/9r/3v/z/wkA+P/3/xMAIAAHANj/1v/z/wgA///0/wIAAQD6/+r/3v/d/9f/8P8PAAQABwATAAoABwDz/+v/9P/k/+X/+/8VABkA+//7//f/5f/h/97/6v/t/+z/5//y/xEAGAAWAPb/8P/8/+r/7v/+/xYAGAD0/97/4f/7/wMA7//o//H/CgAAAOT//v8VAPv/4v/g/9L/4/8JABsAIgAdABQA7f/N/8P/zv/9/xEAAAAEABYAAwDh/9H/6f/7/+f/4f/w/wEADAAJAPr/AAAgAAkA3v/V/9r/3v/g//P/BQASAAIA4v/j/+j/5//m/9////8uADUADADY/8f/0//n/+//+f8EAAgACgD6/+f/7//7/+v/2P/X/+///f8CABkADgDj/+D/5f/g//X////3/+H/4P/2/wcABgD0//n/+f/x//j/7v/X/9T/2f/t/wQA/v///xMACgDv/+P/6P/4//j/2//U/+P/8v8FAA0ABgDr/9X/0P/d//P/8P/m//D//v/1/+f/8/////H/4f/Q/9v/8P/y//P//f8EAPT/7f/4////5//I/83/6P/1/+z/6f///xIA+//h/9f/6P/7/93/zv/n/xQAHgD//+b/2//h/8v/w//m/wIA/f/i/+D/+P/9//X/7P/5/w8A/v/w/+n/1v/P/8f/1f/u////DQAFAOT/0f/b/9r/3v/x/wsAGAD4/9b/1v/u//j/7P/1/wEA7//R/8v/4f/s/+///v8HAPD/2//b/9b/0f/Y/+f/9f/3//X/9f8DAPz/4v/b/9z/3//t//H/4v/j/+7/7f/n/9n/3f/q/+P/5P/d/9z/7/8JABAA+P/X/9X/4//p//T/8P/r/+H/2v/e/+X/7f/v//D/4P/L/8v/1v/m//b/BAD5/+f/3P/d//b/+//n/9f/3v/9//3/0P+9/9X/6//p/9v/5v8GAAQA5P/V/9f/y//O/+v//v8FAPf/5f/n//P/+v/8/9r/rv+v/8j/5P/w//3/FQAMAO//2//g/+7/6f/X/7//uf/R//H/CwANAAIAAQD//+j/zf/P/+D/7P/z//n/9f/q/93/zv/U/+n/9f/2/+T/2v/d/+b/7f/t//v/AwD5//L/7P/g/9D/yf/q//3/6v/o/+3/7//m/87/yf/Z//P/+//2//n/7f/d/+j/7f/q/+D/3v/h/9T/0f/j/+//2v/c//f//f/7/+f/2v/Z/9j/0v/e//L/9v/p/+j/+v/s/87/xv/X/+7/5//c//b/DAD4/9P/xv/T/+D/3//l/+v/5f/l/9r/1v/l/+7/9f/u/9//8v/6/+D/yf/C/9D/3v/r//X/7//b/9H/1//X/9r/8P/1/+r/6//v//H/6f/V/87/5P/k/8P/wv/i/+X/2P/j//b/BwAOAP//3P++/73/y//a/9L/zP/l//b/9f/g/+P/AQD7//P//v/9/9r/yv/I/8X/1P/c/+r/7P/g/+P/8P/0/+n/3P/V/9f/3P/t/xMAGQD7/9v/0//Q/8X/zv/f//n/BgD0/9v/2//1/wIA8P/S/8X/3/8EAAwA/P/i/9f/4f/c/9L/4f/5/wAA4v/V//3/CwDx/97/7//1/9j/z//j//3/9f/L/7L/wf/z/xcAEAALAAAA8v/y/9v/zf/h/+n/1//E/+D/CgD2/9P/1f/z/wkA7f/J/8z/6//9//j/8P/x//z/8f/d/9//0/+2/7//6f/7//7/BQAOABYA+P/X/8//wP+0/8z/7//3/+D/2v8GACkAHgD6/9f/1f/Y/87/w//E/+r/IQA0AB0A8v/f/9n/vP+b/6b/2P8CACMANAA2ACoADADs/9b/xf+v/63/0f/7/wkABQAYACIADgD8/+f/0//H/8//3//o//D/9v8KAB8AEAD2/+f/4v/c/9f/3P/l/97/5f8UAC0AHgAJAAQA/P/Q/5z/lf+7//n/GgALAAEACgAaACgAJAACANj/xf+y/6j/vf/p/xUAHQAjACsACADm/9f/vf+r/7j/z//2/yUAPwA1AP3/y/+8/8b/3P/e/9D/5f8TACQACgAAAAsACwDz/8T/rf+w/8L/5/8FAA8ADwAVABQAHwAfAO7/vP+//+H/8f/y//v/BQAPAAQA9//l/9T/4//v/9z/zP/x/xIAGgArACgAGAAWAA8A7v/A/5v/ov/G/+3/HABDAFoASwAXAPD/2//D/7P/t//H//f/KgBGAE0AOwAwAA8A0v+3/7X/xf/j//X/+/8GACQAPwBEACIA6//R/7v/rf+6/87/7f8bADgARABBACkAEwD8/9n/sf+W/6v/7P8dACUAHQARAAAA8//2//f/5P/K/8//3//3/xkALQAzAB0A/v/8/wkA+v/K/7f/wv/G/8D/zP8AADkAUgA/ACQA/f/L/8X/zv/N/9D/4f8LACUAJwAcAAEA6P/W/9D/z//P//D/HgAYAPr/5f/w/wUA9v/k/9z/0//b//r/AwD+/xUAMgA2AB8A+f/l/9T/vP+w/7v/1f/q/wMAFwAOAAgA+f/c/9v/+f8VAA8A9//t//v/DQAOAAQA6f/S/9L/1P/N/8b/3f8PACMAAgDn//n/GQASAOn/yf/A/8L/1f/1/wkAEgAWAB8AIQAJAOf/zv/J/8f/xf/T//H/EwAgAA4A7f/l//f/+//p/9j/2v/n//b/FQAlABoADQAFAPn/4//I/7z/zP/l/+r/6//6/w0AIgAcAAgA8v/S/8f/0f/t/xMAMQApAAEA7P/l/+H/2//c/+j/5//r//D/7//2//r/BQARAAMA7v/0//z/4f/E/8f/7/8iADEAJQANAPb/6f/W/8j/z//0/xUADQDw/+X/9/8KABEADwD7/9r/y//h/wQAEAAHAPf/8P8EABQADQD4/+P/3v/k/+j/3//q/wYAFwASAPv/7v/x//r/AAD7//r//v/+//7/AQADAPr/4//a/9//7P/2//7/EgAYAAMA8//t/93/1f/f/wAAFwANAAcAEAAPAPr/8P/2//H/2P/K/87/5f8IACcANAAkAA8AAwDn/8H/rf+9/9v/5P/7/x0ANQA3ACQADADv/+X/5P/M/7P/uv/X/+z//f8ZAC0AKQARAP7/AQACAOf/wP+v/8X/6v8DAAsADQAdACoAHwACAOv/4//U/8X/xP/V//X/EwAbABwAHwAZAAsA+//s/9b/wf/F/9v/+P8VAB8AKAA4ADYADwDX/77/wP/B/77/zf/w/xMAKQA4AE4AUwAkAOj/xP+0/6r/rP/I/+v/BwAZACUAMgA6AC0AEADp/9P/4v/s/9z/1f/j/+v/8//7/wIABQACAP7//P8FAA4AEQASAAQA9v/u/+P/3//d/+X/6v/n/+n/6v/3/wgAFgAgABsAEAD5/9//2v/t//7/9v/y//j/+f/q/+H/6P/l/+7/CAAhAC0AJQAXAAAA5P/N/8H/yv/f//r/DQAKAP7/+/8HAA8ACwAAAPn/9f/u/+v/8f8BABMAEgD7/93/yv/I/9b/5//y/wAAHwBHAF4AUgAgAN7/o/+J/5T/rv/S/wEANgBZAFoASAA4ACEA9P+7/53/nv+2/9r/+f8VAC8AQQBBACcA///j/9v/2v/a/93/6P/7/w8AIwAhAA0A9f/k/+b/4v/O/8//7P8WAC8ALAAlACAAEwD1/8//tv+3/87/4//6/xgAKwAyADQANwAtAAsA2/+7/7P/tP/E/+X/DAAiAB8ACgD8/woAIQAhABYABwD9//v/9//z//H/8//0/+z/4//n/+//9P/6/wAABAAGAAMADAAZABwAGQAVABkAIQAVAPD/1P/S/9n/1P/I/9z/CwAxADIAIwAeACAAGQD5/97/2v/d/+X/+f8aACgAGQAOABUAHwAZAA4ACwAIAPj/5P/b/9r/4v8AABEAEAAOABIAHwAkABkAEQATABAABwABAAQABQD5/+j/5f/t//b/+P/6/wQAGQAfABIAFgAkABsA/f/l/+v/AgAQAAoAAwANAAwA+P/o/+r//f8JAAgACAAXACkAMAAiAAQA4//P/9L/4P/u//v/EQAoADQANAAuAB8ADAD+//n/9P/v/+7/8P/2/+//4v/d/+z//P8LACEANgBEAD4AHwABAPH/5P/c/9f/0P/U/+f/BwApADIAJQASAAAA8f/p/+b/7f8AAA0AEAAHAAEADAAZAA8A8P/f/+b/8v8AAA0AFwAdAB8AJAA1AC0A/P/K/7b/vv/E/8f/2/8JADoAVQBXAEgAMQATAO7/yv+t/6n/uv/a////GgAqADAAMQAlAAsA6//V/9L/4f/z//z/BwAVAB8AEgD3/+P/2P/P/9H/4//6/xAAJgA8AEQAOAAhAAMA6f/T/73/s/+4/8b/2P/1/xoAMQA9ADoAKgAUAPz/7v/l/+X/5v/m/+n/8v8IABsAHwAXAA0AAQDw/+f/5//t//X/+f8DABQAIQAZAAQA9f/n/+P/7P/7/wwAGwApADMANAAhAAEA4v/M/8X/xf/A/8T/2/8BACIAOABKAFEASwAvAAUA3P/D/73/v//M/+L/+P8LABgAJQAtACMADgD7/+3/4//f/+b/8v/7/wYAEQAVABEACAD4/+v/6v/4/wgAEwAYABoAGAARAAkA/P/z/+z/4v/c/9j/4P/3/xcAMwBAAEEAOAAqABIA+v/u/+X/4P/l/+3/9f8AAA8AHQAmACUAIQAgACAAGAAKAP3/+v/7//3///8EAA0AFQAbABUABgD6//n/BwAbACgALAApACIAGQALAPX/5P/Z/9z/7f8EABkAKwA7AEcASgA5ACUAGAANAPz/5//Z/+D/9f8GAA4AFQAfACsAMwAvACkAIgAZABAABwAJABMAGwAeABsAFQAVABYAEAAKAAkAEAAZAB0AGwAdACMAJgAiAB8AFQAFAP7///8FABIAIwAwADkAOwA2ACwAIAAWAAwADQAMAP7/7//u//j/CAAYACUAMQA+AEMANQAWAP7/+v/9//7/AAAKABkAJAAnAB0ACgD2/+v/6f/s//3/DgALAA0AHwAvACsAFAD9//P/6//h/9z/3P/m////GwA2AEIAOwAnAAMA3P/F/8L/xv/M/9j/8/8NABQAGQAsADcAJgD//9//z//B/7j/v//c/wMAJgAyACIABwDx/93/yf+2/63/vv/c//T/BQALAAsADQAPAAgA8v/Q/7b/rv+w/7n/w//V/+3/AQALAAcAAAD///P/3P/E/7L/qv+t/7r/zP/X/9n/2P/f/+j/6f/b/83/yP/C/7v/wf/V/+L/2f/P/87/zf/C/7L/rP+x/7n/xP/P/9j/4P/o/+f/2f/E/7P/pf+i/6n/rf+s/63/tv/J/9j/2P/Y/9n/1v/L/7z/tP+1/7X/r/+r/67/uP+//8L/w//E/8r/z//P/9T/4f/m/+L/1f/I/8H/u/+2/7r/yP/U/9n/3P/g/+r/7f/o/+f/5//q/+3/6f/l/+P/4//m/+7/9P/2//n/9v/4////BQAKAA4ADgATABQADgALAAkACgAPABQAGQAjACkAKwAvADcAPwBCADoAMgAyADYANwA1ADYAOAA/AEEAPAA6ADsAQwBMAFMAWwBgAGEAaQBqAGgAZABdAFkAVABMAEgARwBOAFwAaABxAHoAegB4AHcAdABuAGYAVwBiAFwAXABnAG0AdQB4AH4AfAB0AHUAbgBrAGgAZgBnAGcAbQBrAGoAZgBoAGgAYgBfAF0AYwBtAHcAeAB1AHMAbwBnAGAAWABQAE0ATgBRAE8AUABTAFkAYABhAF4AWQBWAFQAUQBHAD4AOgA6ADwAPQA5ADMAMAAvADEANQA6AEMARwBCADcAKgAgACIAJgAiAB8AFwAPAA8ADwAPABQAFQAVABYAEAADAPX/7f/r/+3/7P/s//L/+f/8//v/8P/f/9D/xf+8/7L/qf+l/6n/s//B/8n/xv/C/8L/vf+r/5X/gf98/4D/gP97/3r/gf+G/4T/ef9n/1P/RP88/z//Tv9X/1b/Vv9T/0T/Ov82/y3/Iv8c/xb/Ef8K/wX/D/8Y/xP/Af/r/tr+1P7R/sf+wf7C/s3+3/7g/tD+zf7M/sj+zv7g/vf+Ef8j/y3/MP8h//z+0v6w/pb+g/59/oT+oP7N/gT/OP9Z/2P/YP9X/0n/PP89/0r/WP9q/3//mP+s/7P/s/+0/6L/jP+H/4n/l/+y/8n/4v8AABsAMgBCAE0AWgBwAH4AfQB8AIIAjwCVAJUAmQCeAJ0AmwCeAKAAngChAKYAsQDBANQA5gD3AA4BJwE8AUABNgEqASEBEgH8AOoA3gDdANsA2QDfAO4A+wD/APwA+QD5APkA8wDwAPMA9QD3APUA6gDhANoAzwDGALkAqgCiAJsAkwCQAIwAhAB9AHsAegB4AHMAcABvAG8AagBoAGEAWQBVAFIARwA4ACcAHgAXAAkA+v/w//H/7v/s/+7/9P/6/wEACQAHAP//9//z/+3/4P/W/9f/2v/a/9n/2f/Z/9j/0f/K/8n/yv/M/9D/1v/g/+j/7f/y//v/AgAFAAIA//8DAAYABQAEAAoAEQAXABgAGAAcACgAMwA6ADsAPQBJAFIAVABXAFsAZABwAHYAdwB8AIIAgwCCAIIAhQCIAIgAiACQAJkAnQCjAKkAsAC0ALEAsACyALQAsgCwAK8ArgCxALEArQCnAJ8AnQCeAJ0AnACcAKAApACgAJoAmQCaAJcAkQCIAIAAegBvAGUAWgBPAEcAQgA8ADcAMQAvADQAOgA7ADQAKwAjAB4AFgALAAAA+f/x/+b/2f/Q/8r/w/++/7n/sP+p/6j/qf+o/6T/n/+b/5T/jv+J/4X/gP96/3L/af9l/1v/VP9P/0n/Rv9D/z3/Ov87/zr/NP8v/yz/Kf8j/xj/Ef8Q/xL/FP8U/xL/Dv8I/wL/+f7t/uP+1/7L/sH+uv61/rn+vv7B/sr+0/7R/sz+xf7A/r/+uP6r/qX+n/6T/o7+mv7B/uL+6P7u/v/+A//4/uD+wP6t/qP+mf6W/pr+q/7X/gz/Mf9G/1D/Vv9b/1P/P/88/0n/Vv9m/3T/gv+U/6L/rf+5/8L/xv/J/83/0v/h//f/CQAVACoAOwBBAEUAUQBlAHcAfgCHAJQAoQCsALMAtQCtAKwAtQC8ALsAsQCyAMkA1gDbAOcA9QABAQ4BGwEiASEBHQEeARwBDAH5AO8A7wDsAOwA7ADpAPEA9gD4APYA7ADqAO4A6ADgAN4A2gDVANAAywDBALcAsQCpAKEAmACOAIwAjgCLAIQAfAByAGgAXgBXAFQATgBPAFAAUABOAEQAPAA2ADEALQAfABQADwAFAPv/9f/x//D/7P/k/+X/5P/j/+T/5f/m/+X/5v/j/9//2P/T/9D/0P/N/8z/0f/N/83/yP/D/8f/x//H/8z/0//d/+X/5v/n//L//f/8//P/9P/+/wAAAAACAAsAEAASABUAGAAZABwAIAAmADAAOgBIAFkAYwBpAHAAeAB7AHgAeAB6AHUAcwBzAHcAggCHAIkAkACYAJ8AoQCfAKMArQCzALUAtwC8AMAAwQC9ALsAuwC3ALUAtQCxAKkApwClAKIApACkAKMAogCgAKQApwClAKQAowChAKAAlQCLAIQAfQB1AGkAWwBUAE4ASgBGAEAAPwBAAD4APQA+ADsANwAwACsAJAAaAA8ABgAAAPr/7f/i/9r/1P/N/8X/vf+4/7T/r/+s/6f/pv+k/5//mf+S/4v/iP+C/3j/cP9p/2P/W/9S/07/Sv9E/z//Ov81/zD/Kf8i/x3/Gf8U/w3/B/8G/wX/A//+/vj+8/7s/t/+0v7I/sD+t/6x/q/+sP6v/qz+rf6s/qr+ov6c/pv+l/6Q/o3+iP6F/oD+g/6e/rf+w/7S/tn+3/7m/tn+w/6z/qD+l/6S/ov+jv6n/sv+7/4L/yL/PP9J/z//Nv88/03/W/9n/3D/f/+Z/6X/rf+2/77/zf/M/8n/1v/o/wQAGQAgADYATgBXAF0AYwB1AJIAogCnALQAvgDNANwA2wDZAN0A4gDiAN4A3QDhAPIA+wD/ABABGwEhASoBKwEyATwBOwE3ATYBMAEsASwBJwEhARsBEgEKAQYBBQH+APkA+AD4APoA9gDwAPAA7gDmANwA1ADOAMMAvAC0AKoApACaAI0AhQB7AHkAdQBqAGEAWgBUAE8ASABBAD0AOwAzACgAIwAgABwAFgAQAAwABwD7/+r/4P/b/9//3P/S/83/y//M/8z/y//J/87/z//N/8j/w/+//8D/w//D/8X/w//B/73/vP+//8H/wf/D/8r/0f/Y/9//4v/n//D/+f///wIABAAHAA4AFQAZAB8AJQArADIAOAA8ADwAQABLAFUAYQB0AIMAjQCTAJQAlwCaAJsAnQCkAKoAsQC5AMEAyQDRANYA2wDYANMA0gDVANkA3gDkAO8A+gD/AP8A/wD+APsA+AD0APIA7gDrAOwA5wDkAOQA4QDeANsA2wDbANkA1wDXANQAzADEAL4AvAC2AKkAoACaAJMAiQCAAHgAbABkAGEAXgBbAFgAVQBSAEwARAA+ADQAKwAiABoAEgAFAPj/7f/o/9//1f/M/8T/wP+6/7X/r/+p/6X/n/+T/4v/hv+B/3z/eP90/3H/bP9k/1v/Uf9G/z//Nf8s/yb/Hv8Z/xb/Fv8X/xX/E/8P/wv/Bv/+/vX+6/7l/tz+1P7J/r3+uv63/rH+rv6q/qv+q/6n/qH+nv6c/pr+mv6S/o3+kf6O/oX+fv5w/nD+dv52/ov+q/67/s7+4P7l/un+4f7H/rz+s/6d/pf+lv6b/r/+4v7//if/Qv9L/1n/V/9K/17/b/9z/4z/nv+x/8b/zf/i//f/9f/v//P/9P/1////GgBKAHQAjgCpAL0AwQDFAMkAygDKAMcA1gDpAOwA8wADARIBIQEuAS8BOAE3AS4BNwE5ATgBQwFLAVIBYQFtAXUBeQFvAWUBYgFOAUIBRgFDAT8BRQFDAUEBPwEuAR4BFAEEAfcA9QDxAPMA/AAAAQAB+ADtAOYAzwC0AKIAlQCJAH8AfQB6AHUAcABsAGUAWQBOAEEANQAtACsAKwAjABkAFQARAAYA+v/y//L/7f/g/9X/zf/N/8v/zP/I/8H/wP++/7b/sP+w/7L/sv+u/6//sf+t/6f/r/+6/73/v//E/8f/wf+6/7r/u/+9/7z/vv/C/8P/zf/i//L/+f8AAAoAEAASABMAGQAnADEANQA/AEQARQBJAEwATgBWAF0AYwBvAIYAnQCpALMAvwDLAMsAwQC7AL8AxADIAM0A1wDeAOUA8AD4APgA9QD6AAAB/wD+AAYBEQEVARoBGgEZARoBFQESARABCgEAAfoA9QDzAPMA8ADrAO0A7wDwAO0A5gDmAOMA2gDUANEAyAC/ALoAswCnAJsAkwCJAH0AcABjAF4AXABXAFcAWQBZAFMATwBKADwAKgAeABYACAD4//D/6v/i/93/1v/L/8P/vv+3/7H/rP+l/6T/of+Y/4//iv+E/3v/c/9r/2T/W/9U/03/Q/87/zf/M/8s/yr/KP8l/yX/Iv8e/x3/F/8N/wj/A//7/vP+6/7l/uD+2v7V/sz+wv6+/rj+sP6q/qT+nf6a/p3+nf6g/qT+of6i/qL+mf6S/on+f/59/nb+cP5w/mv+Y/5x/or+oP6y/sD+0P7m/uz+3/7U/sn+vv63/qr+o/6v/sL+1/74/iD/QP9X/1//X/9h/2f/d/+L/5j/pv/E/+H/8P/0//v/CAANAA8AEQAYACoAPwBRAGcAggCWAJ8AqgCzAMAA0ADdAO0A/QAKARwBJAEjASIBJgEnASgBJwEfASIBLgEyATgBQgFHAVEBWQFZAWMBaQFrAWoBYgFYAVMBTAFCATYBKAEhAR4BHQEWAQkB/gD8APoA9QDtAOkA6QDkANoA0gDNAMIAswCpAJ0AiQB7AHAAZgBcAFcAVwBUAEkAPgA4ADAAKAAgAB4AGgALAP//+v/0/+z/5v/k/+H/2P/T/8z/xP++/7//vv+4/7H/rf+r/6v/qv+r/67/rP+q/6j/p/+m/6j/sv+4/7b/t/+6/7z/uf+2/7X/uf/B/8r/zv/P/9r/6f/v//P/+f/8/wUAEwAdACQAMAA6AD4ARABLAFAAVABTAFMAWwBhAGgAbwB4AIkAngCuALsAxgDPANsA4gDfANgA2QDbANMAzwDWAOAA7ADwAPUA/AD+APwA/gD+APgA+AADAQ8BEQEQAREBFAEPAQIB/gD6APAA6gDlAOEA3gDXANAAzADJAMQAwgC/AL0AuwC7ALgArwCnAJ4AkQCDAHkAcQBjAFcAVwBSAEMANgAxAC8AKQAjACEAHgAWAA4ACQACAPX/6v/l/97/0v/I/8T/vv+0/6f/oP+b/5L/jf+L/4f/hP+B/3z/dP9s/2b/Xv9W/0//Sv9F/0H/PP86/zj/M/8u/yv/Jv8f/xv/Gv8X/xP/EP8I///++P7z/u3+6f7n/uf+5P7e/tT+y/7F/r7+tv6t/qj+pf6j/qX+o/6g/qP+pP6i/pv+lP6Q/ob+fv58/nv+dP5u/m/+bP5l/mT+eP6c/rT+vf7U/vD++f7z/ub+2P7O/rj+pf6m/q3+sv7G/ur+Dv8v/0n/V/9a/1j/Yf97/47/m/+6/9v/8f///woAEQARAA8ADAANAAsADwAlAEIAVQBsAI4AqACsALIAwgDZAOQA7AAEARYBFwEZASIBKgEhARoBIAEpASMBGAEdASwBLQEtAToBPAE4AT8BTgFWAVcBXAFjAV4BTQE+ATkBLQEYAQwBCAEAAfcA6wDmAN8A1QDWANgAygDBAMAAvwC3AKoAqAChAI8AfABxAGUAVwBFAD4AOwAzACoAIwAbAA0ABQABAPb/7v/v/+7/6v/i/9v/1f/O/8b/xP+//7j/sf+t/6j/o/+d/5r/mf+V/5D/jv+J/4b/jf+S/5j/nP+d/6P/pP+g/6P/qv+0/7z/vv+7/7r/u/+5/7z/xP/K/9D/1v/b/9//6P/2/wYAGQAqADMAOwBEAEkATwBbAGUAZgBnAGkAaQBmAGcAdACGAJcAqQC7AMgA0gDeAOkA7wDyAO8A8ADvAOkA6gDyAPQA9QD/AAcBBgEDAQQBCAEKAQgBDAEYAR0BHwEiASIBHwEaARIBDQEAAfQA7QDmANwA1gDTANIAzQDLAMsAxQDAAL0AuwC5ALUArQCkAJoAjQCBAHYAagBaAE0ARAA1ACgAIAAcABoAFwAUABIADAAGAAEA/P/3/+7/4v/Z/8//w/+7/7T/rv+l/5r/kP+B/3T/bv9p/2b/Zv9l/2P/Yf9d/1r/Wv9a/1X/Tv9K/0D/Nf8t/yT/Hf8Z/xX/EP8K/wX/Af///v7+/v7//vz+9/7w/u3+5/7h/t7+3f7Z/tH+zP7D/rf+q/6l/qL+mP6P/or+iP6E/oL+g/6F/or+if6E/oX+ff50/nz+gf57/nb+c/5s/mr+Yv5o/ov+of6s/sP+2v7d/uH+3v7N/sX+vf6w/qv+pf6v/tr+/P4Y/z7/XP9v/3r/d/95/5D/of+r/8D/1P/i//b/BgAPABQAHAAjACkAKwAyAEsAZQB7AJMArADEANIA2gDoAPYA/QABAQkBDwESARoBIwEhASUBLgEvATMBOAE4AUABRAFFAUcBSQFMAUoBTQFWAVwBVAFSAVUBUgFHATkBLwEhARYBCAH4AO8A6gDjAN0A1gDLAMMAwAC8ALIAqgCmAJ0AkwCLAH8AcwBmAFkATAA5ACcAHQAWABAADAADAP3/9f/o/9//3P/W/87/0f/O/8H/tf+1/7T/r/+p/6T/o/+d/5P/iv+J/4n/hf+H/4X/gv+C/4L/hP+H/5D/lP+W/5L/kv+Z/53/oP+p/7H/t//A/8H/v//C/8X/zP/U/9T/1f/j//X/+/8AAA8AJAAuADAAQQBTAFMAUgBiAHIAdgB0AH0AiQCJAIMAiACTAJ8AqwC9AM0A2ADkAPAA9wD1APoABAELAQYB/gABAQYBBwELARABEQEOAQsBCAECAfoAAAEKAQkBCwETARoBFgEPARIBEwEKAfoA8gDsAN0A0ADMAMcAvgC4ALEAqgCeAJQAkgCOAIYAggCAAH4AdgBvAG4AaABcAFEASAA4ACMAFAAMAP//8//s/+r/5//m/+T/3//Z/9X/0//N/8H/tv+y/63/pP+a/5T/kP+K/4D/d/91/2//bP9s/2f/YP9d/1v/Wf9V/1H/Tv9L/0b/Pv84/zT/Mf8u/y7/Lf8p/yf/Jf8h/x//HP8Z/xL/C/8E//3+9v7w/uz+7f7t/ub+3/7a/tj+1f7N/sf+v/64/rL+q/6c/pH+if6G/oL+f/6A/oH+ev50/nX+c/5t/m3+bv5u/mj+Xv5V/lb+Xv51/o/+m/6u/s7+2/7V/sz+xv7F/rz+ov6W/pX+l/6k/sD+4v4G/y3/Rv9e/2j/Zf97/5r/pf+1/9L/4//o//H//v8OABIADAAaACMAIAAsADoATQBpAIkApwC4AMcA2QDxAAMBBgEQAR8BHAEZAR0BHwEgAR8BKAEzATIBLgExATgBOwEyATQBPwE9AT8BRwFNAVMBUQFYAVsBTQFAATkBLQEZAQQB+ADrAN8A1gDNAMYAwAC0AKwAqwCjAJoAlACQAIsAgwB6AHAAYwBYAEwAOAAlABoADwABAPf/8f/p/9z/0v/I/8L/v/+7/7j/t/+0/7D/sP+q/6j/pv+i/57/lv+L/4b/g/9//37/ff96/3b/cf9u/23/cv94/4H/jP+M/5H/mv+b/6L/rP+5/8X/zP/Q/9L/1P/P/83/0f/W/9v/4//v//b/9/8CAB4AOgBHAFEAZQB0AHQAcgB9AIwAlgCWAJYAmQCYAJYAnACpALkAzQDeAOEA5gDvAPUAAAEGARABGgEaARMBEAEPARABEwEQAQ4BDAEFAQEBAgH+AP4ACwERAQ0BCgEOAREBCwECAf4A/wDzAOEA1gDOAMMAtgCuAKkApACaAI8AhgCAAHgAcABwAGsAaABlAF0AVwBPAEYAPAAwACEAFQAJAPf/6//g/9b/0v/R/8v/xP/A/7z/vf+7/7j/uP+1/6r/oP+a/5P/jP+F/4L/fv92/2//af9p/2f/ZP9j/2D/Wv9U/1D/TP9M/0z/S/9L/0b/Pv8+/z3/Of86/z3/Ov81/zD/Kv8m/yL/H/8c/xn/FP8L/wb/BP8B//3++f75/vT+5/7h/tv+0v7M/sj+xP6+/rT+qP6g/pj+kf6O/on+hP6D/n/+e/55/nT+c/5z/nT+c/5t/mr+Zf5W/lL+Wv5g/nD+iP6Z/rL+x/7P/uD+6v7g/uT+2/7H/sL+sf6w/s7+5f7w/hP/Of9G/1X/Xv92/6H/s//A/+L//f8LABgAIwA5AFUAVgBMAE4ATwBMAFEAVABjAIYAmACiAL0A1gDtAAkBHAEvAUIBRwFFAUYBRQE/AT8BSQFKATwBPAFEAUIBMgEsATkBPwEzASsBOAFDAUcBRAFCAVIBWQFLATsBMwElAQ4B9gDiANcAxwC0AKgAnACVAI4AhgCBAIAAegBuAGcAXwBUAE0ARgA8AC8AIwAYAAkA+v/u/+L/1//M/73/sf+o/6D/nv+g/57/nv+d/5j/lf+U/5D/jf+M/4v/i/+F/4L/h/+L/47/jf+G/4H/f/96/3b/eP+D/47/lf+b/6T/sf+3/7r/wP/O/97/5P/t//r/BwAMABEAHgAiACEAJQApACgALAA9AFUAZgByAIMAmAClAKgArgC7AMkA0gDXANcA1gDbAOYA8AD5AAcBGgEmASIBHwEkAScBJgEmASoBLwEsASoBKQEsATEBOAE5AS4BJgElASIBFQERASEBMQEvASgBJAEbARAB/ADqAN4A0gDHALsArQChAJ4AnwCbAJUAkACOAIcAcwBnAGUAYABXAFAASQBFAD0ALAAfABcADQABAPD/4f/V/8n/vv+2/7P/t/+7/7j/tf+1/7P/rv+r/6n/pv+h/5v/lf+Q/4b/gf96/3f/b/9m/2X/Y/9g/2P/af9r/2f/aP9n/2L/Xv9Y/1j/U/9O/0n/Q/9A/0H/Qv9E/0r/SP9F/0T/P/85/zf/Nf8v/yX/G/8V/w3/Bv/+/vn+8/7w/uj+3v7d/tn+1v7W/sz+v/67/rP+of6P/oL+f/5+/nL+aP5m/mX+X/5V/lL+Vf5W/lj+Wv5h/mb+Yv5j/mb+c/6I/pb+mv6s/rn+wv7G/rb+vf7I/rz+sf6y/rT+yP7b/ur+Fv80/0b/Z/92/3z/m/+2/83/5//3/w8ALwAxAC4ASgBZAFgAWQBWAGAAcgB1AIAAmACtAMgA4gDoAPcAFAExAT4BQQFKAV0BZgFcAVoBZQFpAWQBYgFeAVYBUgFOAUcBQAE+AUQBSAFDAT0BSAFTAU4BRwFMAUoBPQE1ASYBGQEMAfcA5wDZAMMAswCmAI8AfwBzAGkAXwBTAEwASgBGAD0AOQA1ADIAKgAZAAoA+v/p/9v/zf/A/7b/sP+h/5b/jv+F/4b/gv95/3v/fv94/3j/gP+D/4b/h/+I/4b/gv+D/4H/fP96/3v/e/90/2//dP9//4j/jf+b/6z/tv+4/8D/yv/V/+H/7f/7/wcAEQAbACAAJwAvADUAOwBBAEYATwBXAGAAbgB6AIsAmwCmALgAxADJANYA4wDwAP8ACAEEAQUBDAEKAQgBBAEMAR0BJAEoAS8BNwE9AUIBRAFAATwBOQE0AS4BJQEiAScBJgEeARoBHAEVAQkBAgH+APUA8ADpAOUA6QDoAOcA4gDWAMwAwQCyAJsAiwB8AHAAYwBUAEwARwBCAD4AOwAwACoAKwAnACAAGQAWABMADgACAPn/9f/r/93/0//L/77/sf+o/6P/of+g/6D/pP+q/6//s/+3/7n/uP+2/7T/rf+q/6r/q/+p/6T/ov+h/6H/oP+e/53/ov+j/6H/of+m/6j/qv+q/6n/qP+l/5//lv+O/4j/hP9+/3v/ef93/3r/fP9//4T/hf+C/4L/fP9v/2T/WP9L/zz/L/8k/xb/Bv/5/ur+3P7V/tD+yf7A/rn+uP63/qr+m/6f/qP+j/54/nP+bv5Z/j3+Lf4v/if+C/4E/hX+Gv4V/hD+HP4s/i7+Rf5h/mf+d/6f/rL+r/65/rz+wf64/p7+mf6T/ov+jv6f/r3+3v78/hD/Kf9B/2f/jf+Z/7v/9P8YACcAPQBeAHcAgAB7AIAAgAB0AGQAaACAAH8AlAC4AM8A4ADvAA4BMQE8AUQBZQFwAXEBhAGOAZkBnAGVAZkBmQGGAXQBawFkAV4BUQFLAUsBQQFFAUYBQgFIAUsBRAE/AUIBPgExAR0BEQELAfUA1gDEALwAqQCOAHoAcgBjAEUANQApABwACwAAAP3/+P/x/+//6//e/8//wf+4/6//n/+V/5T/iP92/3D/aP9e/1X/R/9B/z7/Of80/zj/QP9I/1H/UP9U/1//X/9d/2T/c/94/3j/c/95/4D/d/95/4j/kv+T/5X/oP+s/7T/t//I/+D/8/8BABQAKAA0AEEATgBZAGQAbABtAHMAewCFAIwAkwChALAAugDCAMwA1QDdAO4ABwEUAR0BLwE7AT0BOAE3AUEBRgE4ATMBPwFFAUEBPAE/AU4BVQFNAUABOQE7ATkBLwEiASUBKgEfARABDAEIAQAB9QDnANsA0gDDALkAtgCtAKcAqQCgAI8AiQCCAHQAZQBWAEsAQgA0ACMAIAAXAA4ADAADAP7/+v/w/+z/6f/c/9T/zf/L/8n/vv+5/7b/sf+u/6j/oP+g/6H/nP+Z/5n/n/+l/6f/pv+s/7H/rf+n/6b/q/+u/6v/rP+w/7L/sv+2/7f/vf/I/8v/yf/H/8n/zv/K/8f/yf/O/83/w/+9/7//vf+1/67/qv+o/6L/nf+Z/5n/m/+d/5v/lP+Q/4r/gf90/2f/YP9d/03/O/8z/yv/H/8K//b+6/7j/s3+vv62/qv+pf6Y/of+g/53/mX+Yf5U/kf+Pv4v/ir+Iv4S/g7+CP4B/v79+P38/f798/39/Qj+Bf4W/jD+Ov5W/m/+gP6c/qL+nf61/rr+rf62/q/+r/7A/sj+3P74/gX/Hv9G/1D/Yf+N/7L/2P8GACkATAByAIYAoQC7AMAAyQDSANUA0QDKANMA4wDqAO0A+gAOAR8BKwE9AVUBaAF+AZYBpAGxAcABzwHYAdUByAHOAdEBsAGbAZgBhgFyAWcBWQFPAUYBQAE8AS8BJgEqASwBIwEUARABEAH9AOIA1QDKALMAlgCGAHoAYABJAD0ALAARAPv/7P/a/8r/t/+r/6b/ov+W/4z/h/96/3T/b/9k/1n/V/9Z/1P/SP9E/07/Sv8+/zz/Ov8z/yv/Kv8p/y//LP8v/zz/Qf89/0r/Xf9h/23/g/+T/5v/ov+w/8H/xf/G/9j/6f/v//b//v8LABkAJQAwADwASgBXAGUAbwB4AJAArQC4AMIA2wDsAOwA7QD3AA0BFAELARQBKQEnASEBNAFDAUoBUAFdAWsBYwFUAWUBdwFmAVYBWwFfAVEBPwFKAV4BWAFUAVgBVwFIATgBNAEsARoBEAEOAf0A7ADjANwA0QC+ALAApACUAIAAeABzAGYAYwBqAGMAUwBTAFUARgA3ACwALAAjAAoA+v/3/+v/2P/N/8j/yf/C/7n/vv+9/7P/s/+4/7f/tv+4/7//xP+//77/xf/H/8b/wv/A/8P/wP+9/8X/yf/O/9f/2P/a/97/5//u/+3/8f/8/wAA//8BAAUACgANABAAFQAYABcAGQAiACEAHQAfACEAHgAUAA4ADgAKAAEA+//2//D/6//d/8//z//M/8X/wP+5/7r/tv+p/57/lf+N/4P/cP9g/03/OP8q/xn/BP/0/uv+4P7N/rv+sf6l/pf+j/6B/mr+Wv5R/kL+Kf4V/hP+Dv77/ef93P3a/c79uP26/cT9wv2+/cz90v3M/dP91/3q/QT+Gf41/k/+aP6D/pX+ov6z/rv+uP61/qj+n/6z/r/+y/72/hz/LP9L/2X/f/+g/7n/5f8YAD0AYACRAL4A3QDvAAsBLAEnARQBHQEjARMBFQElAS4BOAE+AUkBXQFqAXQBigGmAbEBuwHMAeAB6AHvAfgB9wHxAesB5gHOAbUBrgGeAYEBaQFZAUcBNgEoARgBEgEIAf8A9QDnANYAygDAAK8AlgCIAIYAcwBWAEMAOQAoAAQA6f/d/8n/q/+R/4T/fP9s/1v/Vv9L/zn/Kf8i/xj/D/8V/xz/Hf8c/x3/IP8i/x//HP8f/yP/IP8U/xf/H/8h/yP/Jf8s/zf/N/8z/zr/S/9k/3P/e/+T/6v/s//B/8z/3//6/wcAFAAnADIAPQBOAFQAXwBsAHsAiQCOAJYAqQC+AMkA0wDjAPcABgEKAQsBEwEpATgBPQFAAUsBWwFgAVsBYAFqAXIBfAF/AXkBdgFxAW8BaQFWAUsBUAFUAUsBOQE0AUABPAEsAR8BFgEPAQcB7QDfAOUA5ADZAMcAvgC7AKgAjQB2AGUAXgBRADsALAAnACYAJAAXAAcABQAGAP7/7v/i/+H/5P/b/9D/zv/N/8z/wP+2/7n/uP+t/6n/r/+x/7L/sf+z/7z/xP/I/8n/yP/K/8//zv/M/83/0P/b/+D/4v/s//f/AgAKABUAHAAfACIAKAAtADAANwA6ADwAPwA/AD4AOwA5ADsAPAA6ADwAPQBBAEIARwBPAFAASwBEAEAAOAAqABoADwACAPT/4//P/8H/tf+k/5j/kP+K/4f/e/9v/2z/Z/9f/1L/SP8//zL/If8N//P+2v7L/rT+lf57/mv+Xv5F/i3+JP4h/hT+Av70/fL97P3a/dD90v3L/cb9xf25/a79of2b/Z79lv2K/Zj9qf2t/av9rf3E/ef9AP4R/jL+Xf6G/pr+pP7B/uL+6f7f/uT+6v7u/vX+D/8q/0H/Y/+H/5//sP/I//L/HgA3AF4AmgDPAOwABgE3AVkBUwFTAWcBbgFpAWABZwF1AX4BewF0AXoBjAGOAYQBjQGYAaQBswG3AbcBzwHUAc8B0AHEAb0BwAGyAZkBhgF4AWoBRgEfAQ0BAQHsANAAswCoAKEAhQBtAGEATQAxABwADgACAPH/5v/i/9b/y/+6/6H/lf+F/2v/WP9D/zP/Kv8V/wj/A//6/ur+1v7H/sn+x/67/r/+0v7g/uz+8v71/gP/E/8c/xz/HP8t/zz/Pf8//0n/YP9r/2b/aP96/4b/jP+P/5v/tv/P/9r/5v/+/xoAMgA9AEwAZgB6AIcAlQCkALIAvwDKANsA7QD8AAoBEQEUAR4BKAEqAScBLgE/AUsBRwFEAU0BWAFcAVYBUgFaAV8BWAFUAVwBZAFmAWMBZAFhAVIBQwE3ASwBIQEUAQ0BBwH4AOoA5QDYAMgAtACiAJkAiwB5AGwAZABZAFUASAA6AC4AIwAgABYABAD5//f/9P/t/97/1P/T/8z/v/+4/7T/sP+r/6P/nv+a/5b/lP+R/5T/n/+n/6b/r/+6/8j/0v/R/9f/4P/n/+n/7P/w//n//v/8//3///8CAAMABwAPABsAIAAjAC4APQBKAFQAWABfAGoAbgBxAHIAcQB1AHgAdgByAG8AbgBwAGwAZgBmAGEAVwBRAEgARwBDADUAMwA0ADEAJwAYAA4ABAD3/+X/1//D/7H/pP+T/4D/bv9a/0z/Pf8t/x//D/8E/wD/9v7t/uT+2v7R/sH+r/6i/pP+ff5s/mD+U/5E/jD+Hv4S/gH+9P3n/dH9vP22/bP9p/2e/Z79rP20/af9pP2t/bL9sP2q/aP9tv3J/cb9y/3Y/fD9Bf4T/ir+Sv5v/pD+t/7X/uv+Cf8y/0v/SP87/0n/cf9x/2H/fP+o/83/1//X//n/JQA1AEMAZACOAMQA8wAZAT8BaQGRAagBqgGfAagBtAGsAZgBhgGRAacBlQF7AXIBdgGBAW8BVQFgAXEBdQF2AXYBhQGMAXsBdgF0AWgBXwFNATcBMAEbAfwA4ADEAK4AnAB6AFsASwA5ACYAEgD4/+X/1P+3/5z/kf+I/3n/aP9j/2r/a/9g/0//Qv8//zr/Kf8T/wn/E/8V/wX///78/vT+6v7f/tf+1P7R/tX+5P7w/vr+Df8g/zH/Rv9W/2L/bv95/4v/ov+y/8X/1//f/+3//P8DAAcACgAXACsAMgA6AEwAYABzAIQAkQCcAKgAuwDLAM4A2QDvAAEBCQEQAScBQAFFAT8BQgFOAVgBUwFHAUUBTQFQAUYBOgE3ATsBQQE0ASEBHQEiAR8BDgEDAQ4BFQEPAQkBCAEMAQoB/QDxAOgA3gDSALwApgCXAI8AigB6AGgAXwBUAEQANAAhABMACQABAPv/9f/z//X/9//x/+r/6f/l/9n/0f/P/8z/yf/L/8//0v/U/9r/2//U/9L/2P/a/9n/3P/h/+n/7//0//v/AgAIABEAHAAmAC4AMwA9AEYATABTAFgAWQBiAGwAcgByAHMAfQCGAIMAfgCBAIcAjACMAI4AkwCYAJwAnACbAJoAmwCYAI0AhQCIAIwAhAB5AHQAcgBrAFoASwBCADkAMAAmABoADwAKAAQA+f/p/9z/0P/E/7P/of+R/4T/eP9n/1X/RP80/yT/EP/9/vD+5/7c/s7+wf67/rf+rP6e/pL+h/5//nf+aP5b/lX+U/5J/jn+Lv4p/iH+E/4D/vb98f3k/dT90v3Q/cf9w/3A/cH9x/3F/cP9x/3L/dH90f3S/dv97f3//Q3+GP4w/lL+bP6F/qH+x/71/h7/L/9B/2r/i/+U/4r/kf+n/67/rP+x/73/3P/8/w0AHAAuAFAAcwCGAJoAuwDmABABOQFXAW4BkAGqAbYBtwGqAa4BtAGjAZQBigGEAYQBcQFfAVsBUQFDATwBNwEuASsBMQEyASoBIAEeASABGAEGAfoA8wDzAOEAxgC5AKgAjwB2AGAATQAxABsAFAADAOP/y/+7/6z/k/9x/17/WP9M/z3/Ov84/zr/Ov81/zP/MP8s/zD/L/8p/y7/O/9A/zb/MP8y/zD/I/8W/xH/F/8h/yP/J/8y/0f/Xf9l/2z/hv+c/6f/uf/P/+T/+f8FABgALQA5AEIASgBTAF8AaQByAHwAiQCSAJ4AqgCrALEAwwDRANcA3wDvAAQBCQEHAREBIwEsAScBKQE2AT8BPwE5AT8BSgFGATsBNgE1AS0BIgEfARkBDwEFAf0A+ADtAN0A1QDNAMMAwAC/ALkAsACqAKwApwCZAI8AjQCLAIQAeQBtAGQAXwBOADcAJAAXAAsA9//m/+H/4P/b/9H/0P/Y/9T/yP/H/8z/0P/S/9P/3f/p/+z/7//y//L/9P/z/+//8P/x//b//v/9//z/BAAPABEAEAAWACQAMQA0ADgARQBUAFwAXgBhAGoAcAByAHUAegB+AIMAiQCLAIwAjACOAJIAlACYAJwAnQCgAKIAoACYAI8AiQCCAHoAbQBmAGMAXgBYAFEASgBFAEAAOAAwACgAJAAgABkADwAJAAMA9v/k/9X/xf+z/6H/jv9//2//XP9Q/0T/M/8l/xz/Ff8K//z+9v70/uv+4P7W/tD+yf6//rL+pv6c/pj+iv5+/nP+a/5l/lv+UP5L/kX+P/47/jX+Lv4m/iD+If4d/g/+Cf4I/gr+Af7u/e398v3s/eP94f3r/fP9+/0M/iH+K/42/lL+Yv5o/oP+pf7F/uv+EP8//2j/hf+m/7//yP/L/8b/wv/K/8X/wP/a//L///8VACQAMwBGAFYAaQByAIwAwQDtAAIBJwFgAYkBlQGcAaoBugGzAaMBowGWAYYBfwF1AWEBQwEzATUBIAH+APkAAwEGAfUA7AD8APoA5wDeAOMA4wDZANgA3gDbAM4AwgC8AKUAhQBsAF0ATAApABIADQD//+b/0f+9/6z/lP95/2n/Vv9L/0z/SP9I/0r/Sf9R/1T/Uv9U/1r/X/9r/3X/d/99/4T/h/+C/3H/aP9v/2z/Y/9g/2f/dP94/3z/iv+T/53/rf+7/8X/1P/y/xUAJgAyAEwAawB4AHkAgACVAKIAowCrALkAwQDCAMwA1QDVANQA3QDrAO4A7AD2AAUBDQELAQ4BGQEhASEBJQEoAS0BMQE6AT4BOQE6AUABPAEwAScBJAEmAR8BEQEHAQUB/QDvAOQA2wDRAMsAwwC6ALEAqACmAKAAlACLAIMAgQB8AG8AagBmAGEAXQBVAEcAOwA4ADMAIgARAA4AEAAKAP7/9//4//n/8f/o/+f/5//q/+7/7//v//T//f8BAPz//P8IABAAEAAOABYAJQAsAC4ANAA/AEQASABPAFQAVwBcAGQAbQBvAHAAdwB6AHoAdwB2AHsAfgB+AIMAhwCLAJIAkgCQAJQAmACbAJkAlQCZAJ4AmACSAJIAkACJAH0AdABrAGIAWQBUAE0ARABAADwANQAqACIAHgAXAAwABAD9//T/5v/Z/8//vv+o/5r/jv98/2n/Wv9R/0f/Ov8u/yr/Jf8e/xb/Ef8O/wj/Av/9/vT+7P7o/t/+zv68/rP+rP6d/oj+ff58/nb+af5d/l/+Yf5Z/lD+UP5S/k/+Rv4+/kL+Pf44/jf+Mf4v/jD+NP40/ir+L/46/jz+Pv5B/lL+Y/5l/m3+hv6n/r7+zP76/i3/Qv9c/4T/q//G/83/1f/i/+z/7P/p/+r/9f8IABcAHAAhADMAWABrAGkAgACpANAA5gDsAAwBRAFTAU0BWAFvAYABdAFoAXgBfgFwAW8BYAFOAU0BQAEqARcBCQERARIB9ADzAAQBAgHuANYA1ADdAMUArwCzAKwApQCdAI0AhgB8AHEAaQBRAEMARAA4ACgAHAAPAAkA8v/Q/8T/tP+U/37/df9w/2b/Uf9R/1r/UP9K/0n/SP9V/17/Y/9u/3f/hP+S/47/hv+I/43/jv+G/4X/kf+W/5b/n/+k/6P/rP+w/7T/u//E/9f/7P/4/w8AJAA0AEIASQBXAGkAawB4AI8AlgCgAK4AtAC8AMEAwgDOAM0AzgDgAOsA7wD0APwACAEIAf8AAgEIAQUBBgELAQsBCwEOARUBFQEKAQQBCgEJAQAB+QD5AAAB/QDuAOkA5gDdANQAzgDJAL8AtgC5ALUAogCWAJQAjgB/AGwAZgBoAGAAVQBQAE4ASwBEADkALgAmACYAIgAXABEAFwAYABEACQAEAAQA/f/2//L/8P/z//j/+P/5//v///8FAAQAAwANABIAEgAYAB8AJwAqAC0AMwA3ADcAOQBAAEgASgBOAFoAZQBjAGIAaQBtAGwAZwBmAGsAbgBvAHAAbgBuAHIAdABxAGwAbgB3AHsAdgB1AHsAfwB7AHMAcQBuAGYAXQBYAFMATwBIAEEAPgA3ACwAIwAbABQADAAEAP3/9//v/+b/2//U/8v/vv+y/6r/ov+Y/4r/gv97/3L/af9b/1H/Sv9C/zr/MP8o/yT/If8X/w3/CP8C//X+6f7h/tf+zf7C/rf+sP6r/qP+mP6R/pH+kP6L/of+if6L/oj+hf6F/oL+c/5r/m3+af5b/k/+Uv5b/lL+P/5A/k7+Sf47/j7+Sv5P/lH+Zf56/oP+mP7E/uP+8v4Q/z//cv+F/5D/vP/m/+j/4v/q//n/9v/o/+3/7P/m//b/BgAIAAoAGwA+AFQAUABkAJQAtQDHAN0A/gAfATIBRwFWAVMBXgFxAXABYgFXAVoBXAFEASkBJAEWAQEB8gDjANwA1ADOANcA0QC9AMQAygDCALoArgCwALYAqgCjAJ4AkQCSAIwAeABpAFkAWwBcAD0AJAAoACUAEQDz/9n/1f/H/6z/l/+F/3z/fv9x/2b/Yf9g/2z/bf9g/2n/fv+G/4j/i/+Z/6f/pv+m/67/rv+v/7P/sP+v/6//sP+5/7P/rP+1/73/vf/A/8j/1f/j/+//AQAOABkALgBDAFAAWQBlAHkAjACPAI4AnACtALUAsQC1AMUAzADLANAA2ADbAN8A5ADnAOUA5wDwAPQA7wDsAPIA9wDwAOgA7gD2AO8A7ADzAPYA9QD3APsA+wD4APcA/QD9APIA7gDzAO8A4ADTAMoAvACwAKUAkgB/AHcAcgBpAFoATgBOAE8ARwA9ADsAQABCAD8APAA7ADkAOQA2ACkAIQAeABgADwAHAAQAAQD7//X/8v/v/+7/7P/r/+3/7v/1//3//f///wUACwARABAAEgAYAB8AIwApACwAMAA3ADwAQAA/AD8ARABJAEgARQBHAEsASgBHAEgASABJAEkASQBJAE0AUgBUAFcAVwBcAGEAYABdAGAAYwBjAGAAWwBbAFkAVQBOAEQAOwA3ADQAKgAdABQADgAJAP//8P/o/+X/3//V/8z/xf+//73/tf+q/6H/m/+T/4X/ef9u/2X/Wf9M/0D/M/8n/xv/EP8I//3+8v7s/uj+4f7a/tT+0P7J/sH+uf6z/rD+qf6e/pb+kv6O/ob+e/5y/m/+bv5k/ln+V/5V/lT+Uf5O/kv+SP5R/lX+Tf5K/kv+Uv5a/lT+Uv5l/nH+d/6I/qT+uv7X/vz+H/9F/2b/iP+w/8r/2v/i/+z//f/8//P/7f/s//b/9//m/+L/9f8FAAcADAAiAEUAaQCDAJ0AwADtABUBKQE2AUsBZwF3AW4BZwFyAXMBXgFHAT0BMQEVAfoA7ADdAM0AxQDAAMAAvgDBAMUAxADDAMsAzgDHAMUAygDKALwAqwCoAKIAhgBtAGMAXABJADEAKAApACMAFAAFAP//+v/r/9r/zP++/7b/rv+a/4r/h/+C/3X/ZP9d/2P/Yv9a/17/bP94/33/gv+Q/5z/of+s/7b/uv++/8z/1P/T/9L/0//X/9L/yf/G/8P/w//I/8v/0f/a/+r///8LABgALgBIAFgAaQB+AJUApACvAL8AyQDKAMwA0QDOAMwA0ADVANQA0QDXAOMA5gDfAOMA6QDuAO8A8QD4APgA+wAHAQYB+gD2APoA+wDxAOMA4QDoAOYA4ADbANgA2gDcANUAywDFAMkAywC+ALAAsQCvAKEAkgCCAHkAbgBcAE8AQgA3ADEALAAfABQAEwAWABMACgAMABMAFAATABUAFAATABAADgALAP//+P/5//f/8f/p/+X/5//o/+b/5v/n/+j/7//2//r///8HABEAGAAaAB8AJgArAC0AMQA1ADkAOgA7AD4APgA/AD0AOgA6AD0AQAA+AD8ARwBRAFcAVgBaAGIAagBtAG4AbwByAHYAdwB0AG0AaABnAGQAWABNAEkARwBAADgAMAAtACwAKAAkABwAFgAWABQADgAGAAMAAgD8/+7/4//d/9X/yP+3/6r/oP+X/4n/ev9u/2X/W/9Q/0X/Ov82/zP/LP8l/x7/Gf8V/w//B//7/vD+6P7h/tX+yf7A/rj+sP6o/p/+mP6W/pL+jf6H/oP+hf6E/n7+ef53/nb+cP5n/mb+Y/5c/ln+V/5U/lP+UP5R/lT+V/5a/mD+a/50/n/+mv60/sX+5P4N/yr/SP9r/43/rf/B/8n/3P/v/+r/5//r/+j/4//i/+T/2//U/+D/7//5//3/CwAvAFgAawB8AKMAzADmAPkACgEdAS8BPAFDAUUBPgE8AT4BNAEeAQgB/gDyANoAxQC8ALUAqgCmAKUApAChAKIApQCpAKgAqQCtAK4AqACfAJkAkgCDAHAAZABXAEwAPwAxACcAIQAaABAAAwD2/+7/5v/Y/8f/u/+z/6r/mv+O/4P/d/9s/2D/Wf9Y/1f/V/9c/2b/bv93/3//h/+S/53/pf+p/7D/vv/H/8v/zP/R/9X/0f/L/8v/yf/B/8D/x//O/8z/zv/c/+z/+v8DABEAKABAAFQAZwB3AIcAnQCxALQAsgC6AMgAywDCAL0AxADKAMgAwQDDAMkAywDLAMsA0QDVANkA3ADgAOQA5wDoAOcA5ADlAOcA4gDbANsA3gDaANIAzgDPAMsAxADBAL8AuQCvAKwArQCmAJwAkwCOAIYAewBwAGUAWgBOAEYAOwAtACQAHwAYAA0ABgAFAAEA/P/7//7////7//z/AAABAP7//f/+//r/9v/3//P/7v/u//D/8P/r/+n/6//v//H/8v/1//n///8GAAsADQAOABkAIgAlACQAKQAyADgAOgA6AD4AQwBFAEYARgBIAEoATQBOAE4AUwBYAFoAWwBgAGYAaQBqAG0AbwBxAG4AbABoAGMAXgBYAFQATABFAEAAPgA6ADMALAApACkAJQAfABkAFQAVABAACQABAPz/9v/t/+H/1f/L/8P/t/+o/5z/kf+J/4H/df9t/2X/X/9W/0//Sf9E/z//OP8w/yn/JP8b/w7/Av/5/u/+5f7V/sf+v/64/q/+pP6b/pn+m/6X/pD+kf6Z/p/+mf6U/pr+oP6Y/o7+jf6M/ob+ev50/nL+a/5j/l7+Wv5V/ln+X/5h/mT+c/6L/qL+r/7J/vf+Gf80/1j/fv+i/8D/2f/s//v/BgANABIADAAAAAIAAwD4/+z/6f/u/+//+P8CAA0AJABBAF0AdgCLAKgA0gDxAPsABwEmAT0BRwFHAUQBSQFOAUMBLQEdARABBQH6AOIAygDCAMQAugCnAJYAlQCZAJIAiACAAIMAiQCHAIMAfQB3AHgAeABrAFkAVABVAE4AQAA2ADUAMwApAB8AEQACAPv/8//k/8//vv+4/67/l/9//3b/cf9n/1r/U/9X/1z/X/9k/2r/c/+A/4v/lf+g/67/vv/H/9L/3f/n/+7/8v/z//b/9//2//X/8//1//b/9f/1//f//v8FAAoAEAAeADAAPwBPAF0AbQB/AJEAnQCmALAAvADGAM0A0QDWAN0A4QDhAOEA5gDkAOMA5gDqAOcA5ADnAOkA6gDmAN8A3ADbANgA0QDIAMUAyADIAMAAtgC7AMAAuwC0ALMAugC7ALUAsACvAK4AqQCfAJUAjQCFAHwAbgBgAFgATgA9ACwAIQAWAAoA/v/4//X/8P/r/+3/8v/y/+//8f/6//7//v/9/wEABgAKAAgABAACAAUABgABAPv/+////wEA/v/8/wAABgAHAAcACQAPABEAFAAbACIAJQAoAC0AMwA3ADoAPAA/AEUASgBMAE0ATgBVAFgAXQBdAGEAZgBrAG0AbgBxAHQAdgB2AHMAcQBvAGsAZgBgAFsAUwBNAEkARQA+ADYAMwAwACoAJgAkACMAIAAbABcAEwAOAAcAAgD6//H/6v/j/9v/0P/H/8D/tf+o/5z/kv+H/3r/bf9h/1n/Uf9G/z3/Nf8w/yv/Jf8c/xT/EP8K/wL/+v71/uz+4/7c/tn+0f7G/r/+vv69/rX+r/6z/rT+s/6v/rD+sP6r/qb+o/6g/pj+kv6Q/ov+hP6D/n7+ef54/nz+fv5z/nX+hv6Q/ov+if6f/rn+xf7K/uL+D/81/07/Y/+K/7//4P/m//H/EAAqACsAGQAVACIAJAASAPn/7//2//j/6f/g//D/CQAdACkAQABmAIkAnwC6AN0A9AAEARcBMgE/ATsBOQE/AT8BMgEaAQMB+QDwANkAvACpAKcApwCSAHcAcgCAAHsAZQBiAHEAegB1AHAAdwB7AHUAbABjAFsAUwBLAEIAOgA0ADQALwAnACEAHgAYAA0AAwAAAPj/5//d/9n/yf+v/6L/nf+N/3b/a/9x/3D/Z/9m/3P/gf+D/4f/lv+p/7X/xP/T/+L/9P8HABIAFwAfACwAMgAqACYAKQAqACIAGQAYABkAEgAMAA8AEgAUABwAKwA5AEYAVQBoAH0AkQCgAKkAtQDGANYA2ADWAN8A6wDqAN8A2wDhAOEA2QDWANYA1gDTANIA1ADRAM0AzQDJAMIAvAC5ALUArwCqAKgApACeAJoAmwCaAJMAkQCUAJUAlQCRAJMAlwCWAJMAkACPAIgAgQB6AHMAZwBZAEsAQQAzACIAEQAFAPv/8P/o/+P/4f/g/+P/6P/r//H/+/8GAAsAEQAaACQAKQAtAC8AMAAyADAAKgAnACYAIgAcABkAGAAYABgAGAAYABkAHgAkACoALgA2AD4ARQBKAE4AUwBXAFkAWwBcAFsAWQBbAF0AXwBcAFsAXwBkAGYAZwBoAGwAdAB1AHIAcgB0AHIAagBiAFwAVQBMAEIAOQAwACkAIAAWAA8ACgAJAAYAAwADAAUABwAGAAcACAAGAAIA/v/5//L/5v/c/9L/xv+3/6j/nP+P/4D/cf9n/17/VP9L/0b/Q/8//z//P/8+/z3/Pf89/zr/Nf8w/yz/JP8a/w7/BP/6/u3+4f7X/tL+yf7A/r/+wf6+/rr+uv7A/sL+vf68/sH+v/64/rT+tP6v/qL+n/6g/pf+j/6P/pP+jP6F/pD+nP6Z/pX+pP68/sT+zP7j/gL/G/8z/1b/cP+F/6n/zv/b/93/8v8RABgACgAIABYAHQARAAMAAQAEAAYADAANAA0AHQA9AE8AVABoAIsApwC0AMQA1wDsAAABEQEaARoBIQErASsBGQEGAf8A/QDuANUAwwC1AKwAqACYAIAAdgB9AIIAcQBhAGkAeQB5AGwAZABoAG8AaQBXAEkARgBFAEAAMgAjACIAIwAfABEABQAGAAcA/v/z/+z/5v/e/9X/yv+8/67/pf+h/5f/iv+F/4f/iv+I/4n/j/+Z/6D/p/+y/77/zf/c/+z/9/8CABIAHQAkACsAMQA4ADkAOQA6ADsAOgA3ADUANgA1ADUANgA8AEQASgBRAGAAbwB8AIYAlAChAKwAtwDAAMoA0ADVANkA4QDkAOAA3gDgAOEA3gDaANgA2QDZANUA0ADLAMkAywDHALsAswCyALQAqgChAJ4AoQCgAJcAkgCSAJAAjgCPAI4AiQCGAIgAigCEAHwAdgB2AHIAZQBaAFIATABFADoALAAhABwAFAAJAPz/8//z//L/7f/o/+r/8v/2//X/9//+/wYACgANABIAGAAcAB4AIQAjACMAJAAmACcAJQAlACgAKwAsACsALAAxADQAMwAzADgAPgBBAEQASABNAFEAVQBWAFkAXABgAGMAYQBjAGkAawBpAGkAbQBuAGwAagBtAG8AbgBsAGwAbgBtAGgAYwBgAFwAVQBLAEcAQAA1ACwAJgAeABQACwAFAAEA+//0//D/8f/w/+//7f/p/+j/5//k/9z/1f/Q/83/w/+1/6v/o/+Y/4n/fP9y/2n/X/9X/0//SP9C/z//PP85/zT/Mf8w/y//LP8m/yP/If8d/xL/B/8B//3+8v7l/t7+3f7Y/tD+yv7I/sf+xf7C/r/+vf6+/r7+vP62/rP+tv61/qz+o/6h/qT+oP6Z/pf+lf6W/pv+m/6a/p7+pf6x/rz+yv7c/vL+Ff84/1H/bv+T/77/3P/n//n/GAApACkAKQAsACwAKAAmABsACQACAAsAEAAIAAEAGAA6AEcATQBjAIYAogC3AMoA3gDzAA8BJQEqAS0BNAFBAUABLAEbARUBDgH7AOAAzQC+ALIAogCOAH0AcQBwAGwAYgBeAGAAZgBrAGkAZABeAGAAZABaAEsARgBJAEkAOwAuAC0ALAAlAB0AFAAOAAkABgADAPT/6P/o/+H/z/+6/6//rf+f/4//if+I/4P/gP+B/4f/hv+K/5n/pv+v/7v/zv/k//P/AAATACUALgA5AEQATwBRAFIAWQBZAFMATQBJAEUAPgA2ADMAMAAvADMAOQBAAEkAUwBgAG4AfwCLAJUAqQC9AMcAywDWAOUA6gDnAO4A8wDwAOwA7gDuAOMA3ADhAN4AzQDBAMMAwgCzAKQAowCiAJwAkwCPAIoAhQCJAIoAgAB3AH8AigCFAHkAeQCFAIoAgQB4AHoAfQB6AHIAZwBfAFoAWABNAD0AMgAqACQAFwAHAPv/9f/x/+r/5P/c/9z/4v/n/+n/6P/w//z/BwAOABEAGQAnADEANQA2ADkAQgBGAEEAPgBBAEcARAA+AD8AQAA7ADsAOwA8ADoAOQA+AEEAQABDAEcASABMAE8AVgBYAFgAXwBnAGkAaQBuAHMAdwB1AHcAeQB5AHkAdwB4AHQAbgBsAGgAYABVAE8ARgA9ADIAKAAgABUADAADAPv/8f/s/+j/5P/e/9v/3v/f/9z/2//b/93/3v/b/9b/0f/R/83/w/+6/7L/rP+e/4//gv92/2v/YP9U/0j/Pv84/zX/Lf8k/yH/IP8f/xz/Gv8Z/xb/F/8W/xH/Cf8J/wj/Av/4/vH+8P7t/uX+3P7V/tL+0P7H/r7+uv65/rb+sP6o/qf+qf6k/p3+m/6c/pv+mP6S/pL+k/6V/pH+kP6V/pr+m/6d/qn+s/7B/tf+7P4H/yT/Q/9p/4j/qf/J/+D/9/8NAB4AJgApACsAMwAvACEAGwAVAA0ABgABAAEABQAMACIAMgA8AFQAcQCLAJ8AtADPAOUA+AALARoBJAErASoBKQEjARUBCAH3AOQA1wDGALEAnQCNAIcAeABiAFsAVQBVAFUATQBGAEoAUABQAEQAOQA7ADgALQAhABkAFwASAAkABwACAPf/8v/x//L/6//f/+L/5v/h/9f/zP/F/77/sv+g/5L/iP+D/37/cf9p/2j/bP9u/2z/cP96/4n/lv+i/7X/zP/g/+7/AwAUACAALQA3AEEARwBHAEoATwBKAEAAPAA6ADMAKQAkACYAKAAqAC8AOABAAEsAVgBfAGYAcACAAIsAkwCaAKQArgCzALUAuQC+AL4AvQDBAMMAwwDCAMQAyADEALoAtwC4ALMApgCbAJgAlACHAH4AdwBtAGQAXQBWAE0ARwBHAEUAPgBCAEYARABEAEYASQBMAEsATABRAFMAUABNAEoARwBAADcAKQAbABYADQD7/+7/7P/m/9v/0//Q/9D/0P/S/9f/3P/j//D/+/8DAAYAFQAiACMAJwAxADkAOwA+AEQASQBHAEgASwBLAEUAQwBGAEgAQwBBAEQARABDAEAAQAA8ADsAPgA9ADsAOgBBAEIAQQBBAEQASQBJAEsATwBUAFgAXABfAF8AYQBiAGAAWwBVAFIATABAADcAMAAlABgADAAAAPT/5//c/9b/y//B/73/vP+6/7T/sf+0/7T/s/+w/7D/sf+x/7H/rf+o/6X/pP+d/5P/jP+J/4H/eP9x/2z/Z/9f/1f/UP9J/0D/OP8z/yz/Jf8e/xj/E/8P/wj/Av/9/vv++f7y/u7+8P7y/u3+6P7q/u/+7f7n/ub+5/7l/uD+2v7X/tL+yv7F/rv+sf6o/qL+nf6Q/oj+i/6I/oL+f/6B/ob+iP6I/o/+mP6g/qn+tv7K/t7+9v4R/zD/Tf9p/4//sf/J/9//8/8SACMAIAAoADQANgAyACYAHAAYAA4AEAAMAPv//v8ZACkALAApAEYAdgB/AIYAnAC3ANcA6wD2AAMBCgEaAS0BHwELAQMBBwEFAeYAxwDDALoAqACXAH0AbgBnAF8AWQBFADgAQgBIAEMANgAqADEAMgAmABoADAAQABcADQACAP//AwAJAP//9//6//r/+v/4//L/8P/t/+n/4//O/77/vP+v/5r/jf+H/4T/e/9z/3b/dP9y/3n/g/+J/4//n/+8/83/0v/o/wUAFQAbACgAOwBIAEsAUwBbAFsAXABeAFoAUABIAEoASQA+ADgAPwBIAEYARABNAFkAXQBgAGcAbAB5AIUAigCNAJcApwCvAK0ArAC4AMEAxQDDAMUAzgDRANIAzwDGAMUAxAC7ALEApACcAJoAkACEAHgAbABoAGIAUgBFAD8AQgBDADYAMAA1ADsAPwA6ADcAQABJAE4ATABIAE8AWQBVAEsAQwBDAEIAMwAkABoAFAAMAP//9f/t/+b/4//j/9z/2f/d/+X/7P/u//P///8JABQAGwAeACgANgA/AEQARABMAFgAXQBZAFgAXQBiAGEAWgBZAFsAXgBbAFUAVgBXAFIATQBKAEkARwBDAEEAPwA+ADwAPgA7ADoAPQA/AEQARgBJAFAAVQBYAFkAWwBcAFsAWQBVAE0ARAA/ADgAKwAcAA8ACAD8/+r/2v/T/83/wf+0/6z/qf+m/6H/nP+Y/5n/m/+a/5f/lf+Z/53/mv+V/5P/kv+Q/4n/gP96/3b/cv9p/2D/Wf9T/07/SP8//zb/MP8v/yz/Iv8W/xT/FP8O/wD/+f77/vf+7v7n/ub+5f7l/uP+5P7h/t3+5P7p/uD+1/7Z/uH+2f7G/sP+yv7D/rD+qP6r/qX+l/6W/pf+j/6I/ov+kv6K/oP+kf6g/pr+mv63/tP+4P71/h//Tf9k/4T/uv/d/+r/BAAtAEQAPQA/AFkAXgBKAEEAPwA0ACIAGwAcABAABgAaAC8ALgAwAEwAbQB5AIQAnwC4AMkA3QDzAAEBCgESARwBGQEQAQkBAAH0AOYA2gDIALQAqACiAIwAdQBxAGsAXwBVAFkAWwBOAEcATgBIADMAJwAmABsACQD//wEA9f/l/+z/9v/r/93/5v/6//r/7f/3/wgABgD+/wEA///s/+D/4P/V/7j/pv+q/6b/j/+B/4T/hv+A/3//iP+O/5b/qP+9/8r/1v/w/wsAGAAjADYASwBYAGEAawBxAHUAegB4AG8AawBtAGoAXgBXAF0AYgBgAGAAZgBtAHMAewB+AH4AhACSAJUAjACLAJUAnACVAJEAmQCiAKEAqgC0ALYAuQDFANIA0QDIANEA3ADVAMcAwADAALgApACWAIsAfABxAGUAVgBIAD8APQA0ACgAJgAnACUAJQAnAC4ANQA6AEEARwBLAFAAUwBTAFYAUwBPAEsARABBADUAJwAlAB4AEQAIAAYACAADAPr/AQAIAAMAAwAHAAwAEQASABYAHAAgACcAKwAvADYAPwBGAEsATwBaAGgAbABvAHYAgQCGAIIAggCHAIcAgwB9AHkAdQBsAGUAXwBWAEoAQAA8ADkAMQAnACYAKwAsACwALAA0AD4ARQBIAEsAUgBbAF8AXABXAFYAVgBNAD0AMgApAB4ADgD9//P/6f/b/8//yP/B/7r/tf+z/7H/rf+q/6v/rP+p/6X/ov+j/6L/nP+Y/5f/lf+S/43/if+G/4T/gv+A/33/e/99/3v/dv9w/27/av9i/1j/Uf9M/0H/N/8w/yj/H/8U/w//DP8H/wH/AP8D/wP/Av8B/wb/Cf8E/wP/B/8E//3+9/7z/u/+5P7d/tf+yv7E/sP+uv6v/qv+sP6y/qf+of6r/rD+qv6m/qf+rv6v/qr+rv61/sD+zv7c/vX+FP8w/0z/bv+a/77/0f/q/xAALQA1AD8ATwBaAFsAWgBVAEAAMwA7ADsAIwAOACAAPQA3ACkAOwBaAGgAbwCIAJkAowC/AOQA8QDoAPIAEwEcAQQB9gD9AP4A7QDeANAAvgCzALEApACDAHEAdwB4AGIATwBTAFgAUQBEADcALAAlACEAEQD7//T/+f/2/+j/3v/l/+f/5f/j/+b/6P/v//v////4//v/CAAHAPL/4//n/9//yv+7/7j/rv+f/5v/m/+O/4L/iv+W/5L/j/+j/77/yv/S/+v/BwAVACUAPgBOAFEAYAB1AHwAdgB4AIUAhgB3AHIAegB4AHEAbwB1AHcAeAB9AIIAhACIAI0AkACSAJIAmACbAJoAnACgAKAApQCqAKkAqACzAMIAwQC+AMcA0wDZANUA0gDUANMA0QDPAMEAsACwALEAogCFAHYAfABxAFcARgBCAD4AMwArACoAJQAgACwANgAwAC8AOgBKAEwARgBLAFIAUABOAEsAQwA7ADgANwAsABwAGgAgABsAEQAOABMAFwARABAAFAAYABsAHAAcACMAKQAqACwAMAA7AEIAQgBIAFYAXABfAGQAbABzAHYAegCBAIEAggCIAIwAiACGAIgAhwCBAHoAeQBwAGUAYABcAFEAQwBAAEMAPAAvAC4ANwA5ADQANQA9AEQARgBGAEcARgBGAEUAQAA4ADAALQAoABkADwAJAAEA9f/p/+D/1//O/8T/u/+x/6n/o/+d/5X/jv+K/4f/hP+A/3z/fP99/37/e/92/3j/ev95/3L/bv9y/3L/bf9n/2f/Zv9i/1//Wv9T/0z/Sv9D/zn/MP8q/yb/Hf8S/wz/B/8B//3+/P76/vf+9/76/vj+8/7w/vL+8f7o/t/+2/7Y/tP+x/68/rj+tv6u/qf+pP6m/qj+qv6q/qr+qv6x/rj+uP6z/rf+0P7k/ub+8v4c/0v/Xv9t/5f/yP/j/+//CAAjADUARwBQAFAATwBYAGcAVQA4AEMAXABaAEQARQBqAH4AcQB5AIwAlgCjALAAuwDDAMkA4wD+APgA8AD5AAkBCwH3AOUA5QDlAOAA0QC0AKgArAClAJEAcwBlAHQAdwBfAE0ATQBbAFcANQAdACEAHQAHAO3/6f/t/+X/2f/Y/9z/3P/a/+D/6f/m/+f/9v/7//T/8v/2//X/5f/Z/9b/zv/E/77/vf+3/7D/uP+//7H/o/+y/8b/w/+0/7//4//0//D/+P8TACwAOAA9AEoAXQBtAHsAgACDAIoAkwCWAJAAiACOAJUAlACPAJMAnACgAKAAoACiAKMAnwCcAJwAlgCRAJQAlgCSAI0AjwCZAJ0AmQCaAKwAtwC7ALkAvADHAMoAyAC+ALYAtgC2ALAAogCXAJYAlQCKAHcAaABiAF4AUAA/ADMALwArACUAHAAWABMAFwAbAB0AHgAkADAAOQA6ADoAPwBEAEMAQQA9ADoAOgA5ADgANwAwAC8AMQAtACYAIgAjACEAHQAZABoAGwAZABgAGgAgACQAJwAuADsARwBRAFYAXwBrAHQAeAB5AH8AggCFAIYAhACHAIkAiACGAIQAggCAAHsAdQBxAGoAYQBbAFcAUABFADoANgA1AC4AJwAkACcAKQAoACYAKgArACsAKAAnACcAJQAiAB0AGgAYABQADAAEAAAA/P/y/+X/3P/W/8v/v/+z/6r/ov+a/4//h/+B/3//ff97/3r/eP96/3z/ff98/3r/e/9+/37/fP94/3j/e/98/3f/df91/3b/dP9u/2v/Z/9j/13/Vf9M/0P/O/8y/yz/IP8a/xf/EP8K/wT/AP/8/vX+8v70/vL+7P7l/uf+6v7m/uD+3f7c/t3+3P7Z/tL+z/7T/tX+zf7C/sD+wv7A/rT+qv6q/qv+qP6j/qT+qf63/sj+3v73/h3/Qf9h/5P/wP/X/+n/DwA/AEkAPgBSAHAAeQBrAF0AZABkAFgAVABOAEIATABlAGsAXgBnAIwAmQCOAJYAswC/ALoAxwDjAOkA3gDjAPIA6gDWAM0AzADFALoAswCsAKIAoACcAJQAhwCAAH0AcQBjAGUAWwBGADcALwAiAAcA6P/W/9P/y/++/67/sP/A/87/yP/B/87/6//v/+X/6f/7/wQA+//5//z/8v/i/97/3P/K/7v/uv/B/7n/r/+y/7P/sv+2/7v/vP+8/8v/5f/u/+3/BAAjACkAJwA2AE8AUwBQAF0AcAB1AG8AdgCEAIgAhgCLAJUAlwCcAKYAqQCsAK4AsACsAKEAnACVAIoAhACAAH4AeAByAHIAdgB4AHkAegCAAI0AlACWAJ0ApACuAK0ApgCnAKgAnwCZAJsAlgCJAIAAgQB9AGgAVwBSAEoAQAAvACUAJQAfABwAHQAXABIAFQAbABgAEgASABkAHQAZABsAHAAbABoAIQAkAB0AHAArADYANgAxADYAQgBAADgAMgAwAC0AKAAkACIAHQAbACAAIQAfACAAJQAtADUAOwBAAEkAVQBeAGEAZABnAG0AcQByAHIAdgB5AH0AfgB6AHoAdwBzAG0AZQBgAFkAUABKAEcAQAA1AC0AKgAmABsAEwASABAACgAFAAQAAwD+//v//P/5//f/+P/6//7//P/8//3/+//3//P/6//g/9j/0P/I/7r/rf+k/5v/j/+E/33/dv9v/2r/aP9k/2H/X/9f/17/W/9Z/1v/Wv9a/1r/Xf9f/2H/Zf9n/2n/aP9q/2r/aP9m/2L/Xv9Z/1H/Sv9D/zn/M/8t/yP/Gv8S/wz/Bv/6/vH+6f7h/t7+1P7N/s7+yf7F/sT+xv7K/sn+xv7J/sr+yv7H/sH+w/7B/rn+s/6s/qf+pv6h/p3+lv6W/qP+r/62/sn+6v4N/zP/T/9u/57/w//X/+z/AQAYACcAMQA3ADsASABTAEsAPAA8AEgATABEAEAATQBnAHMAdQB8AIkAnACpAKcAqQCzAMUA1gDZANIA1ADYANgAzQC1AKMApACoAKIAkACFAJMAmgCQAIMAdABzAHgAbQBYAEUAPwBAAC0ACgDz/+n/3f/I/7j/tP+2/7v/wf/I/8n/y//R/9r/2v/W/9n/3f/j/+T/4v/e/9r/0//Q/8T/uv+2/7f/uP+2/7b/vP/B/7//v//E/8n/zf/V/+T/9v8EAA4AGgAoADMANgA2ADwASQBRAFUAXgBtAHoAggCHAI8AlgCZAKMAqQCrALAAtwC5ALMAqACiAJwAiwCCAH8AdgBtAGwAcgBwAGoAagBxAHAAbABzAHwAfgCBAIkAkgCPAIsAiwCLAIIAeQB3AHUAbQBmAGMAXABRAEoARAA6AC8ALAAsACsAJAAhACMAIQAaABQADAAHAAUABQACAP//AwAKAA0ACwAKAA8AFwAaAB8AIgApADYAPQA8ADsAPwA/ADsAMwAvAC8ALQAsACwAKwArACwALwAtACoALgA2ADoAPQBFAE4AUQBVAFoAXgBeAF8AZgBrAGsAbwB1AHkAeAB3AHgAdgBxAG0AagBmAGAAWgBTAEoAPwA2ACsAHwAWAA8ACwADAP3//P/9//r/9//3//f/+P/3//b/+f/8//z/+//5//b/8v/s/+b/4v/b/9T/0P/P/8n/wf+7/7b/sv+r/6P/n/+e/5v/l/+V/5T/kv+N/4r/h/+E/4P/gv9//3//gv+E/4P/g/+I/4v/i/+L/47/lf+W/5P/k/+T/43/hf96/3L/Z/9c/1P/S/9A/zv/Nv8u/yX/IP8g/xr/Ev8Q/xL/Ef8L/wb/Bv8B//n+8P7q/ub+3P7U/tL+zv7F/sD+vf64/rH+r/6s/qf+p/6o/qb+ov6j/qf+o/6d/qH+q/6w/rP+0f79/ib/Qf9e/4r/v//j/+X/7v8UADsAQQA1AD4AXABuAGUAWABeAGMAXgBcAFsAWgB3AJMAiQB0AIEArgCwAI4AlQC4AMgA0wDbANgA1gDUANYA0QCnAIUAlgCyAKMAfwCAAJYAmACIAHYAXwBUAFoAXABAABQADwAaAAcA1/+x/6z/rv+U/3v/hv+c/5z/mf+h/6X/pf+o/6j/qP+s/7f/xf/S/9D/y//U/9r/0v/B/73/wv/D/8b/y//J/8j/0//c/9f/z//V/+j/8v/x//r/FAAqACYAJAA5AEgAQAA9AFEAaQB0AHwAlgCrALIAuADBAMYAxQDHANAA1QDPAM0AzwDHALgArAClAJUAhAB+AHgAawBiAGQAYgBVAEkASwBKADwANQA+AEwASgBFAE4AWABWAE4ARABEAEMAPgA6ADQANgA9ADwAMAApACkAKQAhABUAEQASABIADQAGAP///P/0/+//6v/n/+b/6//0//z///8GABIAGwAbAB0AKAA3AEEARwBRAGAAawBxAG4AbgBsAG0AbABjAF8AYQBiAF4AVgBSAFMAUQBNAE4AUgBSAFUAWwBhAGMAXwBhAGIAXgBbAFwAXwBhAGMAZwBrAGwAagBnAGQAYgBgAF0AWQBTAFAATQBDADMAKQAfABUABgD6//P/7f/l/93/2P/P/8v/yP/H/8b/xv/K/87/0//U/9b/2f/a/9n/2P/V/9P/1P/V/9T/0P/Q/9H/z//M/8j/xv/F/8P/v/+6/7r/t/+y/6v/pf+g/5z/l/+Q/43/j/+O/43/jf+P/5H/k/+W/5b/mv+f/6L/ov+i/6P/ov+d/5b/kP+I/33/df9v/2r/YP9X/0//S/9E/zj/MP8s/yr/If8V/xD/D/8N/wT/9/7x/vL+7/7h/tP+zf7N/sb+tv6n/qH+pv6g/pL+jP6Q/pT+j/6G/oL+gf5+/nr+dv5w/m/+gP6U/qn+vv7k/h3/SP9m/4n/sf/W/+v/+/8MABoANABKAE0AUABhAHcAegBjAFoAaQByAGkAYQBsAIQAjQCOAJMAlACdALEAswCvALcAzQDfAN0A0wDRAMoAvgCxAJ8AkACLAJUAnQCYAIwAkQCaAIkAbgBcAFQASAAxABsAEQALAPv/4v/L/7z/sP+d/4//kP+X/53/nv+k/67/s/+w/6//tf+7/8L/yP/V/+T/6v/t/+3/6f/k/9r/0f/U/9r/3f/f/+r//f8CAPr/+/8HAA8ADQAMAB0AMwA9AEEASgBUAF0AXQBcAGUAcwCEAJAAnQCwAL8AxgDEAMEAyADKAMMAwwDKAM8AywDFAMEAtAClAJMAhQB1AGcAXABXAFYATgBIAEAAOgA4ADMAKgAqADIAOAA6ADsAPgBBAD0ANgAvACoAKQAsADAAMwA1ADsAPgA2AC4AKwAoACAAHAAbABwAHwAdABgAFgASAAoAAwD9//v/AQAIAA4AEgAbACcALgAvADAANgBDAE8AVwBiAG8AfQCDAIAAegB1AHUAdQBtAGYAaQByAHUAcABoAGUAZwBiAFoAVgBXAF8AZABjAGIAYQBgAF8AXQBXAFYAWABhAGgAaABqAG4AcQBwAGoAYwBhAGUAZgBhAFoAVQBTAEkANwApAB4AFgANAAQAAQD+//r/9v/z/+//6v/m/+X/6f/r/+z/7//0//b/9v/y/+7/7P/r/+r/6//s/+//8f/w//D/7f/s/+j/5P/k/+X/4//h/+D/3//a/9H/yf/E/8D/uP+y/7D/sP+v/63/q/+q/6v/q/+t/67/sP+0/7n/vP+8/7v/uf+3/7D/qf+i/5r/lP+P/4v/gv95/3b/cv9o/1v/V/9Y/1L/SP9D/0H/Pf81/yn/H/8a/xX/DP///vr++f73/u/+5/7k/uT+4v7Y/s7+0f7U/tH+yv7E/sb+xv66/q7+pf6h/qD+j/6I/of+h/6O/qT+uf7P/v3+OP9o/4f/qP/c/wAACQATACwARgBZAGkAdQCDAJQApAChAIQAeACLAI0AegBuAIUAqgCtAKAAowC2AMAAuwC3ALcAxADRANoA1gDDALgAtgCtAJQAdwB3AIkAmgCZAJkAoACqAKwAmAB6AGUAYABfAEwALwAhACQAHgD+/9n/x//B/7T/of+b/6D/q/+z/7b/tv+2/7v/xP/N/83/1f/s/wIACgAGAAgADgAHAPn/8P/y//n/AgAPAB0AKwA5AEQARAA+AEEASQBJAEcASwBaAGcAZgBfAGIAaQBpAGcAaQBzAIUAlACgAKoAsgC8AMAAwADBAMUAzADTANkA3wDcANYAzQDAAK4AmgCIAH0AeAByAGwAZQBkAGEAWwBPAEQAQABBAD4AOAA5AD0APQA3ADIALgAsACwALQAyADoAQABJAE0ATgBMAEgARQBAADwAPAA9AEAAQgBCAD8AOwA2ACwAJAAfABoAGAAZABsAHQAdACMAKQApACoAMAA7AEUASABQAFwAZABmAGcAaABpAG4AdAB1AHcAgACNAJAAiwCJAI0AjgCGAH0AewB/AH4AeQB0AHAAbQBoAGEAVwBRAFAATwBNAEwATwBQAFIAVgBXAFgAWQBbAGAAYQBeAFoAWABUAEwAQQA4ADMALQAmACAAHwAeABcAEAAMAAgAAAD4//X/9f/v/+n/5//m/+L/2v/W/9T/0//R/9H/0P/V/9n/2//a/9v/3//g/9//3v/g/+L/3//a/9j/0//J/8D/uP+y/6r/ov+f/5//nf+c/53/nv+e/5z/nP+c/57/n/+e/57/nP+a/5b/kP+K/4f/hP+B/3//fv9+/3//gP96/3T/dP9u/2b/Yf9c/1j/Uv9K/0D/Nf8p/x3/FP8F//b+7f7p/uP+2f7V/tT+0P7K/sj+x/7F/sb+x/7F/sP+v/68/rn+rv6n/qv+tP7A/tX+9v4h/1H/eP+X/7j/4P/1//n/CAAgADUASQBWAGIAcQCAAIcAdQBiAGQAaQBkAFoAWgB1AIoAiwCOAJYAmgClALIAswCuALkAzADXAMsAswCsALAApQCMAHwAfwCUAJ0AngCbAJsAogCaAIQAaQBcAFoAVQBFADYAMQAmABQAAgDu/9f/w/+8/8X/xP+6/7z/0f/d/9T/yf/O/+H/7P/r//D/AgAYAB0AFAAOAAwACwAFAPz//v8OABsAJAAtADsAQwBAADoAPABBAD0AOgBGAFUAXABbAF4AZwBkAF0AYQBrAHQAegCGAJoApwCsALEAtwC+AMMAxQDLANIA2QDgAN8A1QDLAMMAtACgAJEAiQCDAH8AegB4AHIAaABiAFsAUABFADwAPgBEADwAOQA9ADsANgAtACcAJQAkACYALQAxADcAPABEAEYAQgA+ADwAPwBAAEAAQgBEAEkASwBBADcAMAAsACgAHgAVABkAIgAmACMAJQArADEALgAtADQAPQBIAFAAWABfAGMAZwBqAGUAYgBoAHAAcwB0AHoAggCIAIMAfgB8AH0AfAB3AHMAdAB2AHYAbgBmAGAAWgBUAEwARQBGAEkASQBJAEkATABMAEwATABLAEwAUABXAFkAVABRAFEATQBCADUALgAsACgAIQAaABUAFgARAAgA///5//X/9P/v/+v/6//u/+r/5//k/+H/3f/a/9r/2v/d/93/4P/k/+L/3//f/+L/4f/d/93/4P/l/+T/4P/c/9r/0//K/8L/vf+2/7P/sP+s/6j/p/+i/53/m/+Z/5f/lf+X/5j/m/+b/5j/mP+X/5T/kf+Q/47/jf+N/47/iv+G/4H/ev90/23/ZP9b/1j/Vf9O/0b/QP86/zT/Kv8e/xf/Dv8E//v+9/7v/uj+5f7g/tn+0v7T/tT+0v7R/s/+0P7T/s7+xv7C/sL+w/7B/rn+uP7D/tv+6/75/hj/Sf99/5T/pP/L//L/AQADABEAKwBAAFMAYQBrAHsAjQCKAHUAaQBtAGwAYgBZAGMAewCAAHoAgQCMAI0AigCIAIsAjQCHAIQAiACFAHYAYQBYAFsAUwBGAEMAUgBnAGkAYQBYAFcAWABHADAAIAAgACUAHQAPAAQAAQD3/+T/z/+8/6//q/+w/7H/rP+w/8H/0P/L/8T/zP/g/+z/7//y/wMAFwAbABYAFAAZAB4AIAAhACkAOgBKAFcAXgBiAGkAagBmAGEAYABkAGcAbAByAHQAdgB6AHkAcwBrAGoAcgB3AHUAewCKAJcAlgCRAJQAnACcAJcAlwCdAKMAogCbAJQAiwCBAHgAagBdAFgAVgBVAFAASQBAADcALgAiABIABwAHAAsACQAGAAYACwAMAAQA/P/9/wAAAQACAAsAGAAiACQAKAA0ADoANgA1ADkAQwBKAEgASQBOAFIAUABGAEEAQQBBAD0AOQA5ADwAPAA5ADgANQAzAC8AMQA1ADkAOwBBAEgATwBPAEsAUABWAFgAVwBZAGMAbABtAGsAbgBzAHEAagBmAGYAZQBgAFwAXABYAFIASgBEAD8AOQAzAC8AMAAxAC0AKgAqACoAJgAiACEAJAAlACQAJAAnACcAIwAfABwAGgAWAA8ACwAMAA4ACgAEAAMABAD///j/9f/1//X/8//w/+7/7f/q/+b/4v/g/9//3P/a/9v/2f/a/9n/2P/X/9X/0v/R/9H/0P/R/9L/0v/R/9D/zv/M/8r/xv/B/77/vf+5/7L/rf+s/6b/oP+b/5j/l/+T/5D/jv+M/4X/gP99/3n/c/9u/2r/Z/9i/1//XP9X/1T/Uv9P/0b/Qf9D/0X/Ov8x/zP/Nv8u/yP/If8d/xj/Ev8M/wD/9f71/vL+5f7S/tD+1P7O/sH+vP7C/sT+wv6+/rj+s/62/rb+rf6f/pz+p/6v/rD+t/7R/vr+IP9C/2X/hv+r/9H/4//p//r/EgAyAEcASwBbAHoAkQCKAHcAawBpAGkAXgBPAEgAWQBvAG8AXwBdAGgAbwBlAFQAVABcAF8AXABQAEAAOgA3AC4AIQAVABsALgA8AEAAOgA8AEQAPwAtABgAEwAaABoADwAHAAMAAwD7/+T/yv+7/7n/sv+n/6j/sv/A/8T/w//I/87/0//a/+D/5//x////CwALAAgADgARABIAEQAXACkAOgBHAFUAXwBnAHAAcgBpAGcAbABwAHIAcgB2AHkAegB3AHAAaABhAGAAXwBgAGIAaABvAHMAdwB5AHYAdwB9AH0AewB6AHsAfgB6AHAAZwBhAFoAUwBLAEcARgBFAEQAQAA4ADEAJwAgABoADwADAAQABgAEAP3/9v/7//3/+P/v/+v/8P/1//b/+f///wsAFwAdAB4AIwAuADEAMQA1ADYAOQA8AD8AQQA/ADwAQABDAD8AOQA5AD4APgA3ADQANQA4ADQALgAvADQANwA1ADQANwA8ADwAOQA2ADsAQQBAAEAARQBOAFQAVABVAFgAXABYAFMAUgBRAE8ATQBLAEYAQQA9ADoANQAuACgAJgAmACEAHQAaABsAHAAYABQAEwAWABkAFwASABMAFAARAA0ABwAFAAcACAAGAAUACAAKAAwADgAMAAsACwANAAwACwAIAAgABwAGAAEA/f/6//n/9v/z/+//7//w/+3/6//n/+b/5v/j/9//3v/d/9z/3P/W/9L/z//M/8n/w/+//7z/vf+7/7j/tP+y/7D/r/+s/6f/pf+m/6P/nf+Y/5b/kv+N/4b/f/97/3j/dP9t/2j/Zv9m/2D/Vf9S/1P/T/9F/0D/Pv89/zn/MP8o/yT/I/8b/w//C/8L/wr/A//7/vb+9/74/vH+6f7p/ur+6v7n/uH+3/7c/tv+1/7N/sb+yP7M/sX+v/68/sD+yf7V/uL+8/4U/z//Yv99/5X/tP/U/+X/7f/7/xMAKwA+AEoAVQBnAHcAdABnAGIAZwBhAFoAYABnAGwAcAB2AHYAbgBmAGYAZgBZAFAAUgBQAEYAPwA3ACoAIQAeAB4AIAAjACsAOgBBAD8APwA+ADUALAArACcAIQAhACMAIwAZAAwABAD7/+z/3v/V/9X/1P/X/9v/3v/g/+L/5v/o/+X/4//t//j/+v/7/wIADAARABIAEgAaACQALQA6AEYAUQBaAGgAbwBtAGoAbwB1AHQAcQB2AH4AgQCAAIAAfQB4AHYAdQBzAG4AcwB9AIIAfQB+AIUAhQB9AHYAeAB4AHMAcQBvAGoAaABlAF8AWABSAFAATwBNAEoASQBKAEgARQBCADkAMQAwADAAKQAlACUAKAAmACAAHAAbABoAFgATABQAGQAeACIAJgAtADEAMwA1ADYANgA1ADYAOQA7ADwAOwA+AEIAQwBAAD8AQQBBAEAAQwBFAEYARwBKAEkASABIAEcAQwBBAEIAQgBAADsAPAA9ADsAOQA6ADsAPABAAEUASABKAFAAUwBTAFIAUQBUAFMAUABPAFAATwBNAEoARgBDAEMAPwA7ADgAOAA6ADgANAAxADIAMQAuACoAKAAnACYAJQAiAB4AHAAaABUAEQANAA4ADAALAAwACgAJAAgACQAGAAQAAwADAAQAAwABAAEAAAD///7/+//6//j/9v/y/+7/7P/p/+X/3//a/9j/0v/M/8n/xf/B/7z/uP+0/7H/rP+q/6j/pf+j/6L/of+f/6D/nv+b/5n/nP+d/5n/mP+Z/5n/l/+V/5L/jv+K/4b/f/95/3X/b/9n/2P/Xv9W/0z/R/9E/zn/Lv8p/yj/If8W/xH/EP8O/wn/A/8B/wP/BP8A//j+9f73/vX+7/7l/uP+6f7n/t3+2f7Z/tn+1v7Q/tP+4P7x/gL/Fv8z/1f/dv+K/5z/tP/J/9f/5v/3/wsAIgA5AEoAUwBaAGMAZQBfAFcAWwBmAGkAbQB2AH0AgACFAIIAdgByAHgAcwBnAGEAZgBjAFUASABCADwAMQAuADAAMgA4AEMASwBGAD4APwA8AC4AJwAnACkAKwAsACsAJQAhABsADQD+//P/8v/z//T/9P/5//7/AgACAPz/9v/5//7//P/9/wMADAARABIAFAAWABgAIAApAC8AOgBKAFoAYQBlAGwAcgBzAHEAcgB4AIAAhQCLAJEAkwCSAJMAkACLAIoAjQCRAJMAlgCbAJ0AmwCXAJcAkwCOAI0AjACKAIcAhwCEAH0AdgByAG4AaQBlAGQAYwBlAGMAYABaAFMATwBNAEkAQgA/AEAAPwA8ADgANQA2ADQALQAmACUAKQApACcAJAAqADEAMQAtAC0ALwAyADYANAAyADcAPQBAAD0APQBDAEcARwBEAEoATgBQAE8AUgBSAFAAUQBTAFIATwBQAFUAVgBSAFIAUgBQAE4ASgBIAEcARwBLAEwATQBQAFMAUgBQAFAAUgBQAE0ATgBTAFQAUwBUAFQAVABTAFAATQBOAE4ATABMAEgASQBGAEIAQgA+ADwAOgA8ADoANgAzADIAMAAqACUAIgAgAB8AHQAaABgAGwAbABYAEAAOABEADgAIAAUACQAMAAkABwAGAAcABwAGAAQAAwADAAQABAACAAEAAgABAP3/+f/4//f/9P/z//D/6f/n/+X/4P/a/9T/0v/P/8v/xf/B/8H/v/+8/7j/tv+z/7L/sf+w/7D/rv+0/7T/s/+w/7D/sv+v/6v/p/+j/5//nf+X/47/hv+C/37/df9q/2T/Yf9e/1b/T/9J/0T/RP8+/zT/Lv8w/zT/Mf8p/yP/JP8m/yD/E/8N/xH/Ff8Q/wf/B/8M/xH/C////v7+//4C/wH/AP8E/xX/K/8+/03/Yf94/5T/qf+y/7z/0//t//z/CQAZAC0AQwBSAFUAUgBXAGcAagBdAFgAZgB2AHUAbABxAHwAgAB6AHQAdABzAHIAbQBlAFwAVgBVAE8ARgA8AD4AQgBFAEUARABJAFEATgBDAD4APQBBAEEAPgA8AD8ARQBCADMAJgAkACIAFgAHAAYADwAQAAwADwASABQAEgASABEAEAAUABgAGwAcAB0AIwAnACgAKgAvADoAQgBLAFUAWwBkAG0AcwB2AHYAewCGAIsAigCNAJUAmwCXAJMAkgCSAJIAjwCPAJIAlgCYAJoAmQCXAJgAlgCVAI8AjQCNAI0AigCFAIEAgAB+AHoAeAB5AHsAfwCBAIIAggCDAIMAfgB3AHIAcwBzAG4AaQBpAGkAZABbAFYAUQBNAEsASwBKAE0AUQBRAE8ATABLAEoARQBAAEAAQABAAEIAQgBEAEQAQwBEAEQARQBIAEsATwBTAFQAVgBWAFkAWABUAFEAUQBSAFEAUQBQAE4ASwBLAEoASQBKAE0AUQBWAFoAWgBdAF0AXgBeAFsAWQBbAF0AXABaAFkAWwBaAFgAVgBWAFgAVwBYAFoAWgBXAFcAVwBSAE0ATABLAEoARwBEAEQAQwA+ADoANwAzADAALgAsACkAJwAoACcAIwAeABwAGQAUABAADwAOAAoACQAIAAYABQAEAAQABAADAAUACAAIAAcABgAFAAIA/v/6//b/8v/t/+r/5v/h/9//2//W/9H/zf/K/8b/wv+//7z/uv+4/7X/sv+u/6r/qP+l/6D/n/+d/5z/nP+c/5n/mP+c/53/mv+a/5v/mf+X/5X/k/+K/4T/g/97/3L/bP9p/2L/W/9V/0//SP9F/0H/Ov8x/yz/Lf8r/yL/Gv8c/x//GP8Q/w3/Dv8N/wb///4A/wT/A/8C/wX/EP8b/yj/O/9S/2r/gP+W/6r/vP/N/93/6v/4/wwAIAArADkATABbAF0AWQBaAGAAXQBWAFUAYgBpAGUAZwBuAG8AZwBiAGMAYQBYAFIAUABOAEgAQQA6ADUAMgAxAC4AKwAzADoAPAA7ADsAPgA7ADQAMwA4ADoAOgA7AEEAPgA1ADAALAAkABoAEAATABoAFgATABcAHAAdABYADgAPABMAFQARABIAGwAiACMAIQAiACoAMAAxADMAPQBLAFUAWgBgAGwAcQBxAHYAfgCDAIQAiwCSAJMAkQCRAJMAkgCLAIcAigCPAI8AkACTAJUAlgCUAI4AigCJAIgAgwB/AH4AgQB/AHoAdgB2AHUAcABtAHAAcQB2AHkAegB8AH0AewB3AHMAcABvAHAAbgBoAGUAYwBfAFgATgBIAEgARwBEAEEARQBLAEwARQA/AEAAPgA4ADAAMAAyADIAMQAwADEAMQAyADAAMQAzADcAPABCAEcASQBNAFEAVQBUAFAAUQBUAFcAUABLAE0ATwBKAEIAPwBAAEMAQgBAAEAARgBIAEQAQAA+AEAAPQA7ADsAOwA5ADoAOwA6ADcANQA2ADgANgA2ADcAPgBCAEEAQQBAAEQARAA/AD4APgBAAD4ANwA1ADUAMwAsACcAJQAjAB8AHAAaABkAFgATAA8ACwAJAAYAAwACAAEAAQD+//7//f/7//n/+P/5//j/9//2//j/+P/1//L/8v/x/+z/5v/j/+P/4f/c/9j/1f/V/9H/yv/F/8P/wP+8/7j/tv+z/7H/r/+t/6v/qf+o/6b/ov+i/6L/of+g/6D/oP+e/5z/nP+b/5n/lf+U/5L/jv+M/4r/hv+A/33/e/92/27/bP9p/2T/Xf9Z/1P/TP9E/z7/OP8x/y3/J/8f/xj/Fv8R/wn/Bv8D//z++v76/vj+9f73/vr++/77/gH/C/8R/xz/Mf9H/1P/ZP98/5D/m/+p/73/zP/a/+3/AQANABgAJwAyADMALgAzADoANwAyADkAQQBDAEYARgBDAEEAQAA8ADcAMQAzADcAMwAtACgAKAAoACAAFwAUABoAHwAfAB4AIwAoACcAIwAhACAAIQAlACYAJQAnAC0AKgAfABcAEgAMAAIA+//6//v/+//6//z//P/5//P/8//z//L/8//3//3/AgACAAMACAAIAAgACAAMABIAGQAhACgALwA4AD4AQQBEAEsAVABZAFwAZABuAG8AbQBwAHEAbQBqAGwAbgBtAG0AcwByAG0AawBnAGMAXwBcAFsAWABZAF4AXABYAFgAWgBdAFcAVABZAFwAWgBYAFwAXwBiAGAAXABYAFkAWABSAEwASQBIAEUAQwA8ADgANwA3ADEAKQAnACcAJAAdABcAFQATAA0ACQAGAAQAAwAEAAMAAQABAAYACwAIAAcADQAUABkAGAAaACEAJwAoACcAJQAoACwAKwAlACMAJwAqACcAIQAhACQAIwAdABkAGwAcABgAFQAUABIAEQAPAA0ACwAIAAgABgAEAAUABAAEAAUABgAIAAoACgAPABEAEQASABYAFwAWABQAFQAWABUAEwARABAAEQANAAcABQADAP7/+f/0//D/7P/m/+D/3P/Z/9P/0P/L/8j/xf/B/8H/wP++/7z/vP+9/73/vP+6/7n/uf+5/7X/s/+z/7H/rv+q/6b/pf+k/6D/nf+b/5r/mP+V/5P/kv+P/47/jP+K/4f/g/+C/4H/ff95/3j/dv92/3T/c/9x/3H/cv9x/23/a/9x/3T/b/9p/2r/cP9s/2T/X/9e/1z/V/9P/0b/Qf8+/zn/Lv8n/yT/Jv8h/xf/E/8W/xj/EP8J/wn/C/8H/wD//f7+/vz++P74/vn++/4C/w3/F/8n/zr/Tv9f/3D/hP+W/6P/sP/E/9b/5v/y/wEADwAbAB4AGgAaAB4AHwAcABwAIAAoAC4AMQAvACwAKwAuACgAHQAXABoAHAAVAAgABAACAAAA+//w/+z/8v/9//3/9v/4/wIACgAEAPr//v8JAA8ADAAIAAsADwAOAAYA/P/0//T/9//z/+7/7v/2//z/9v/t/+v/8P/y/+z/5f/n/+//8f/s/+j/6v/x//T/8v/z//r/CAAPABMAFwAiACwAMQAzADkAQQBHAE0AUwBWAFUAWQBhAF8AWQBbAGMAZgBiAGIAaQBsAGoAZwBkAGMAYABeAFoAUwBSAFQAUgBMAEkATgBTAEwASQBPAFMAUQBPAFMAVwBaAFsAXABbAFgAVwBYAFEASABFAEoASQBBAD0APwBBADwAMwAwADAALwArACQAIQAgACAAHAASAAkACwANAAcAAQD//wYACwAHAAMABAALAA4ADwAPABIAGgAgACEAHAAZACIAJQAgABkAHgAoACkAJQAjACgAKgAnACUAJQAlACUAJgAmACIAHwAfABwAFQANAA4ADQAJAAYABQACAAIAAQAAAP3/+////wMAAgABAAMABwAHAAMAAgAEAAcABgAGAAgACgALAAkACAAHAAYABAAAAP3/+v/5//X/8P/r/+f/4v/d/9X/z//L/8f/wv/A/7v/t/+1/7T/sf+u/6z/rP+t/6n/p/+n/6j/p/+j/5//oP+i/6D/n/+e/5//nv+d/5z/m/+Y/5f/lv+T/4//jv+Q/4z/h/+H/4j/hf+B/4D/f/97/3n/eP90/3D/cP9w/27/aP9m/2b/Yv9d/1r/Wf9W/1L/Uv9R/1H/UP9N/0z/Sv9G/0T/Qf89/zr/N/80/zL/MP8u/yv/Kf8o/yX/JP8j/yL/Iv8j/yX/Kf8u/zX/Pv9M/13/aP90/4P/kv+e/6f/sP+9/83/2//i/+//AQAPABIAEwAZAB0AGAAZAB4AHQAjACgALAAtACoAKAAnACAAGQAWABMADgALAAkABwADAAAA///8//X/8//6//3/+v/5//7/AgD///j/+/8CAAMAAwAGAAwAEAAQAAwACAAFAAEA//////7/AgAIAAkACAAIAAUAAQD8//j/+P/3//f/+f8AAAEAAQAEAAUABAAAAAAABgALAA8AEwAbACQAJgApACwAMAA2ADoAQABIAE4AUwBYAFoAWgBcAF4AXwBgAGQAaABoAGkAagBoAGIAXQBaAFgAVABXAFkAWgBbAGIAZwBfAFkAWgBdAFkAVABXAGAAZgBmAGUAZQBmAGQAXABWAFMAVwBbAFgAVABXAFkAVABKAEMAQgBAAD0AOAA4ADcAMgAtACcAHwAXABMAFAASAA4ADgAVABUAEAAJAAoADQALAAkACgATABwAHQAaABsAHQAeABsAFgAXAB8AJAAjACQAKAAqACgAJAAiACIAIwAhACIAJQAkACIAIAAgAB4AFwAWABkAGAAWABUAFgAWABEADgAMAAwACgAIAAgACQALAAwACgAHAAcACQAHAAYABwALAAwACgAKAAsACwAHAAQAAQD9//n/9v/z//D/7P/o/+X/4P/b/9f/1f/R/8//y//J/8b/w/+//7n/tv+z/6//qf+j/6D/nf+b/5f/lP+T/5P/kv+T/5X/lv+Z/5r/mv+b/53/nv+d/5v/m/+a/5j/lv+V/5T/kP+P/4//jP+I/4b/h/+G/4D/fv99/33/eP90/3P/bv9r/2v/Zf9e/13/Xf9a/1P/Uf9U/1T/Tv9O/0//T/9M/0r/Sv9I/0j/Sf9H/0T/Rv9G/0P/Qv9H/0T/Qf9G/0//Vv9Y/2T/dv+F/43/lf+j/7L/vP+//8T/0v/l/+//8f/7/wkAFAAVAA8ADwAYAB4AGwAZACAALQAtACgAKAArACoAJQAgAB0AGgAYABkAFAAOAAwACwAHAAEAAQACAP//AQAEAAEA/v8BAAEA/v/3//v/AwACAP//BQALAAwACQAIAAkACQAKAAkACQAPABcAGQAZABkAGgAbABgAFQAWABkAGwAdACAAIQAjACYAJgAmACcAKQAuADAANAA4ADkAPABAAD8APQBBAEcASQBJAEwAVABWAFYAVgBZAFsAXABdAGEAZABpAGwAbQBrAGoAbQBsAGcAZgBpAG0AbgBtAG0AbQBtAG0AagBkAGEAZQBlAGEAXQBgAGIAXABTAE8ATgBKAEcARABEAEQAQwBBAD0AOQA4ADcANQAzADQANQA2ADYAMwAwAC8ALgArACgAJgAoACoAKwAnACUAJQAkACIAHwAcAB4AIQAdABsAGwAdABwAFgAUABUAFAAVABQAFwAYABoAGwAZABkAGQAZABsAHAAdAB8AIAAfACAAHgAdABsAGgAcABkAGQAZABkAFwATABMAEwAQAA4ADAANAAwACQAHAAUABAABAP///P/+//3//P/8//z//f/8//r/+P/5//n/9//2//b/9P/z//H/7f/q/+b/5P/g/93/2v/X/9T/0f/Q/83/yf/H/8X/w/++/7r/uf+2/7H/rv+q/6j/pv+j/6H/n/+f/53/nf+e/53/nf+e/5//oP+g/6D/ov+l/6X/ov+h/6L/o/+h/57/nv+e/53/m/+Y/5b/l/+Z/5b/k/+W/5f/lv+T/5L/kf+Q/4//jv+J/4j/h/+H/4b/gv+A/3//gf+B/3//gf+D/4T/hP+D/4L/gf+C/4P/g/+E/4j/jP+O/5H/l/+d/6H/rP+1/7z/x//R/93/4//q//b//f8DAAwAEQAWAB0AJQAiACAAJQAqACYAIgAnAC0ALgAtAC8AMQAxAC8AKwAmACMAIQAfABoAFgAZABgAFAARAA8ADgAKAAkACAAJAAwADwASABEAEgASABUAFAASABEAFAAaAB0AGwAbACIAJQAgAB4AIAAoACoAKAAsADUAPAA5ADYAOQA7ADkANwA5AD0AQABDAEQARwBIAEoASABIAEkATQBQAFMAWABeAGAAXgBfAGIAYQBdAGIAaABoAGgAbAByAHQAcgByAHUAeAB5AHgAewCAAIIAggCCAIEAgQCAAHwAfAB7AHoAeQB3AHcAdgB0AHEAcABvAGwAagBpAGkAZgBjAF8AXQBdAFYAUwBSAFIATwBKAEsATABKAEYARABDAEMAQQBAAEAAQQBDAEEAPwA+AD4AOgA5ADgAOQA6ADsAOwA8AD4APgA/AD4APQA8ADwAPwBAAD8APwA/AD8APQA4ADYANgA1ADEAMAAwADAALQArACoAJQAjACIAIAAfAB4AHQAbABkAFgAUABAADQAMAAoACQAHAAgABgAFAAMAAwAAAP///f/6//v//P/6//b/9f/z//D/7P/q/+j/5P/h/9//3v/b/9f/1P/R/87/zP/I/8T/w//B/77/uv+3/7T/s/+v/6v/qf+o/6X/ov+g/57/nP+Z/5b/lP+S/5H/kf+N/43/jf+L/4r/h/+F/4X/hP+C/4D/f/9//4D/ev92/3j/ev93/3P/cv91/3b/dv9z/3T/ev98/3z/ev98/4H/gv9+/33/f/+C/4T/g/+C/4b/iv+O/5H/kP+U/5v/ov+n/6v/tv/D/9D/2f/f/+j/9P/9/wAAAwAIABUAHwAfACAAKwA4ADkANAA1ADoAPAA8ADcAOgA+AD8APwA6ADcANQA0ADAAJwAhACEAIAAaABIADwASABIACwAHAAkADgAPAA0ACwALAA0ADwAMAAcACAARABcAFAARABoAIQAfABoAGwAhACIAIwAkACcALAAvADAAMAAtAC0ALwAuACoAKQAsAC8AMQAwADAANAA5ADoAOQA6AD8AQgBDAEMARABKAE8ATwBMAFAAVwBaAFkAWQBeAGMAYwBhAGUAaQBqAGwAbQBwAHIAdgB3AHUAdAB0AHYAdABvAHAAcgBzAHEAbwBvAG4AbwBsAGYAYwBhAGIAXgBXAFUAVwBXAFAASgBJAEgARgBCAD4APgA/AD0AOgA4ADgANwA3ADUAMwAyADIAMwAxADEALgAtACsAKQAmACQAJgAmACQAIwAiACIAIQAeAB0AHQAeAB0AHAAdAB8AHwAeAB4AHgAfAB8AIQAgACAAIwAjACIAIgAhACIAIwAiACEAIgAiACIAIQAgAB4AHAAbABgAFgAWABYAFQASAA8ADQAKAAcABAACAAEAAAD+//v/+P/3//P/8P/u/+v/6f/m/+T/4//f/93/2//a/9j/1P/S/9D/0P/N/8z/yf/H/8T/w//A/73/u/+5/7f/s/+x/67/rP+p/6X/o/+h/5//m/+Z/5j/lf+U/5P/kf+O/43/jv+M/4r/iv+K/4r/h/+H/4b/hP+D/4L/gv+A/3//gf+C/4H/f/+A/4L/g/+B/4P/hv+G/4T/hv+G/4b/iP+K/4r/hv+J/4z/i/+J/4r/jf+O/4v/i/+Q/5L/lP+Y/5j/nP+j/6n/qv+s/7T/u/+//8P/zP/U/9r/4//o/+r/7f/2//3//P/+/wcADgAPABAAEwAUABUAFAARABAAEgAVABQAEgASABQAEgANAAkACQAGAAIAAgAAAAEAAgAAAP7/+//7//z/+v/7//z//v8AAAIAAgABAAEAAgACAAEAAgAFAAkACwALAAwADQAPABEAEAAOABQAGgAaAB0AIAAkACUAJAAmACYAKAArACwALgAyADUANgA2ADoAPAA6ADwAQQBBAEEARABIAEgARwBKAE4ATQBOAFAAUABSAFIAVABVAFUAVwBYAFgAWABaAFoAWABXAFgAWABUAFIAUwBTAFEAUABPAE8AUQBQAE8ATQBPAE4ATABJAEoASgBHAEUARQBEAEEAPgA9ADkANwA3ADUAMwAwADAAMAAwAC8ALQAsACwAKwAoACUAJQAkACMAIQAcAB4AHwAcABoAGQAZABoAGAAYABoAGQAYABYAFgAXABUAFAATABIAEAAQAA8ADQAMAAwACwALAAsACgAJAAkACgAJAAgACAAJAAYABgAEAAQABAABAAAA/P/6//n/9f/y/+//7v/s/+j/5f/j/+H/3f/Z/9b/1P/S/9D/zf/L/8r/yP/I/8T/w//D/8L/wP++/73/vf+7/7r/t/+1/7P/sf+v/6z/qf+p/6j/pf+j/6H/n/+d/5z/mf+X/5b/lf+S/4z/i/+L/4j/g/9//3z/fP92/3L/cP9v/2z/aP9n/2b/Zf9l/2X/Y/9k/2X/Zv9k/2P/Zf9l/2X/Zv9p/2z/bf9u/3D/c/94/3z/gP+D/4j/j/+T/5j/n/+n/67/tf++/8P/yv/V/9z/4f/k/+//+P/5//3/BwAPABIAFAAYABwAHgAhAB8AHwAgACUAJgAeAB8AJgAlAB0AGQAaABsAFAAQABAADgAOAA4ACQAGAAUABwAGAAEAAQADAAUABgADAAMABQAEAAUABQADAAUACQAIAAcABwAHAAkACAAHAAcABwAKAAkACAALAA8AEQARABEAEwAXABgAGAAaABwAIAAiACUAJgAoAC0ALwAxADQANQA5ADsAPQA+AD8AQgBGAEYARgBIAEkATQBMAEsATQBPAFAAUABOAFEAVABTAFIAUwBXAFcAWABXAFkAWABXAFcAVABSAFMAUwBSAFAATgBPAE0ATABIAEYARQBDAEEAPgA8ADwAPAA7ADcANAA1ADQALgAsACwALAAqACYAIwAjACIAIAAcABoAGgAYABQAEgARAA4ADgALAAgACQAIAAgABwAGAAgACgAJAAoACQAMAA0ADQAPABAAEgATABUAFwAYABYAGAAXABUAFQAVABYAFAASABIAEQAQAA4ADgAMAAoACgAJAAUAAwACAAEA+//5//f/9f/y//H/7f/r/+j/5f/i/97/3f/b/9r/1//V/9T/0//R/83/zP/L/8n/yP/H/8b/xf/F/8X/xP/B/8H/v/++/7v/uf+2/7L/sf+v/6v/qf+m/6L/n/+e/5v/mf+W/5T/k/+R/4//jf+M/43/jf+M/4v/iv+K/4n/iP+I/4f/hv+F/4X/hv+G/4f/h/+H/4n/jP+M/4r/jP+R/5D/jP+M/4z/jv+O/47/jf+P/5L/lf+T/5P/lf+Z/5v/mv+e/6P/pv+p/63/s/+1/7j/vv/B/8b/yf/M/9H/1f/b/97/3//k/+z/8P/x//b/+////wEAAgADAAQABgAIAAYABwALAAsACgAMAA0ADAALAAoACwAKAAYABgAGAAYABAACAAEAAQD///7//P/9//z/+v/5//n/+//6//r/+//+/wEAAgADAAUACAAHAAcACAANAA4ADgAQABQAFgAWABcAGQAbAB0AHQAeACAAIwAlACUAKAArAC0ALgAvADMANAAzADUAOAA7ADoAOwA/AEQARQBHAEoATwBUAFUAVgBYAF0AXwBfAGEAYwBmAGYAZwBpAGkAaQBqAGsAbgBtAG0AbwBxAHAAcABvAG0AbABqAGgAZQBkAGIAXgBZAFYAVABOAEoASQBGAEEAPgA9ADsAOAA1ADQAMgAwAC0AKQAoACcAJQAiACAAIAAeAB4AHgAdAB0AHQAeAB8AHgAfAB0AHQAeAB4AHAAbABwAHAAZABcAGAAXABYAEwARABEADwAOAAsADAAKAAoACAAGAAUAAgD///3//P/5//b/9f/z//H/7v/s/+v/6P/n/+T/4f/e/9v/2P/U/9H/zf/J/8b/wv+//7v/uP+0/7H/sf+v/6z/q/+s/6v/qv+p/6n/qP+o/6f/pf+k/6T/ov+g/57/nf+c/5r/mf+X/5f/lv+U/5L/kf+P/47/jf+L/4n/iP+F/4T/gv+B/37/fP97/3X/c/9x/3D/b/9s/23/bv9t/2z/bP9r/2n/aP9n/2X/ZP9m/2j/Z/9p/2z/cP9z/3X/eP99/4L/h/+M/5L/mP+g/6f/r/+3/7//yf/Q/9T/2//h/+j/8P/1//3/BAALABIAFwAbACEAIwAmACgAKQAsAC0ALQAuACwALAAuAC0AKwAsAC8AMAAsACsAKgAsACoAKAAnACgAKwAtACwAKgAuAC8ALAAoACcAKQApACoAKgArAC4ALwAwADAALwAuAC8ALQAsACwALAAtAC4AKgAoACkAKQAoACkAKAAqACwAKwArACwALgAvAC8AMQA0ADgAOgA8AD8AQwBEAEYARwBJAE8AUgBVAFoAXgBlAGkAawBtAHEAdAB2AHgAeQB8AH8AggCCAIIAhACFAIQAhgCHAIgAiwCMAIwAigCKAIoAiQCFAIIAggCAAH4AeQB3AHMAbwBqAGUAYQBdAFkAVgBSAFAATgBLAEcAQwBBAD0AOQA2ADMAMQAvAC0AKwApACkAKAAoACYAJQAnACcAJQAkACUAJgAmACUAJAAjACUAJAAiACEAIAAgAB4AHAAbABsAGgAYABcAGAAXABYAFQAVABQAEgARABAADgANAAwACwAJAAYABQAFAAMA///+//r/9//1//L/7//r/+f/5f/g/9z/2f/W/9H/zP/I/8X/w//A/77/vf+8/7v/vP+8/73/vv+8/73/vf+9/7//vv++/77/vf+9/7z/u/+7/7n/uP+5/7f/tv+1/7T/sv+w/67/q/+q/6b/oP+e/5r/l/+T/47/jf+K/4f/hf+D/4P/hP+D/4P/g/+F/4X/h/+H/4j/iv+K/4v/i/+K/4v/jP+M/47/kP+S/5T/l/+a/53/n/+j/6j/q/+t/7H/tf+1/7n/vv/A/8D/xf/K/83/0P/W/9r/3P/g/+f/6v/t//P/+f/+/wMABwALAA4AEgAWABcAFwAbAB8AHgAeACEAJgAlACQAJgApACoAKwArAC4ALwAuAC4ALQAtAC4ALAArACoALAArACoAKgApACsAKQApACoAKgArACoALQAvADAALwAyADQANAA0ADUANQA4ADkAOAA6ADwAPgA+AD8AQwBEAEUARwBIAEsASwBNAE0AUABUAFUAVwBaAF0AYABjAGQAZwBqAG0AbgBwAHMAdQB4AHoAfAB/AIIAhwCKAIsAjACRAJQAlACUAJYAmQCZAJoAmQCaAJkAlwCWAJMAkQCPAIsAiQCFAIMAgAB9AHoAdwB0AHIAbwBtAGkAZQBiAGAAXgBbAFkAVwBVAFQAUgBRAFIAUABPAFAAUABPAE0ATABNAEwASwBJAEgASQBIAEcARABEAEIAQQA+ADsAOwA6ADkANwA1ADQAMwAyAC8ALgAsACoAKAAkACIAHwAeABsAGQAWABUAEgARAAwACgAIAAYAAwAAAP3/+v/3//P/8P/s/+j/5f/h/9//3f/Z/9b/0//T/9L/0P/O/87/zP/L/8r/yv/I/8f/x//F/8T/w//E/8T/wv/C/8H/wP/A/7//v/++/73/vP+8/7r/uP+3/7b/tP+y/6//rf+s/6r/p/+o/6b/pf+k/6L/ov+h/6D/oP+f/57/nv+f/57/nf+e/57/n/+e/57/nv+g/6H/oP+j/6X/p/+q/6z/rf+x/7L/tP+2/7j/u/+9/7//wP/F/8j/yf/N/9H/0//W/9j/3P/h/+b/6v/u//P/+v/9/wAABAAJAA4AEQAWABoAHQAfACQAJwAnACkAKwAtAC8AMgA0ADUAOAA5ADkAOQA5ADoAOAA2ADgAOAA5ADkAOQA6ADgAOAA4ADcANgA5ADgAOQA7ADsAPAA6ADsAPQA9AD4APgBAAEIAQwBGAEYARwBJAEwATgBOAFAAVQBYAFkAWgBbAFwAXgBfAF4AYABkAGUAZgBlAGcAaABoAGYAZwBpAGsAawBtAG4AbgBwAHEAbwBuAG8AcQByAHIAcgBzAHQAdQB2AHQAdAB2AHYAdgB3AHgAeQB5AHgAdwB3AHUAdABzAHMAcwBzAG8AbABrAGgAZgBiAF8AXgBcAFkAVwBVAFMAUQBPAEoASABGAEUAQQBAAD0AOwA6ADcANAAzADQAMQAuACwALAArACoAKQAmACUAJAAkACIAIQAhAB8AHgAdABsAGQAXABYAFAASAA8ADwAMAAoACAAEAAIA/v/6//b/9P/w/+3/6f/m/+P/4P/d/9r/2f/W/9X/0v/R/9D/zv/M/8v/yv/J/8f/xv/E/8P/wf+//73/vP+6/7n/uP+3/7b/tf+1/7L/sf+y/7H/r/+u/63/q/+o/6f/pv+k/6L/of+g/6D/oP+e/57/nv+f/5//nf+e/5//n/+e/5//oP+g/6D/n/+g/6H/o/+k/6L/o/+k/6T/pf+l/6j/qv+s/67/rv+y/7b/t/+4/7r/vv/A/8L/xf/K/87/0v/X/93/4//n/+3/8P/2//3/AAADAAkAEAATABUAHAAgACEAJQAnACkALAAvAC8ALwAwADEAMwAzADMAMwA2ADMANAAzADIAMAAuAC0AKgAoACgAKAAmACgAKAAoACkAKgAsACsALAAtAC4AMQAyADQANAA3ADoAOgA7ADsAOwA9AD4APgA/AEEAQwBEAEUARgBJAEoASQBJAEsATABMAEwATABMAE0ATQBOAE8ATgBQAFEAUgBTAFMAUwBTAFYAVwBWAFgAWgBaAFkAWwBbAFwAXABbAFwAXQBbAFwAXABfAF8AXgBfAF8AXgBfAF0AXABcAFoAWQBWAFUAVQBSAFAATQBLAEoASgBHAEUARABCAEEAPgA7ADkAOQA4ADYAMgAwAC0ALAAqACcAJwAlACQAIwAhAB8AHwAeAB4AGwAaABkAFwAVABMAEQAPAA8ACwAJAAcABAACAP//+//6//j/9f/z//D/7P/q/+r/5v/j/+L/3//c/9n/1//V/9P/0v/Q/83/zv/M/8v/yf/I/8b/xP/D/8H/wv+//73/vf+6/7n/t/+1/7P/sv+x/67/q/+q/6n/p/+m/6T/ov+h/6D/nv+c/5r/mf+Z/5j/mP+X/5j/mf+a/5v/m/+d/57/oP+h/6L/o/+m/6f/p/+o/6j/rP+s/6v/rP+v/7D/sP+x/7H/s/+1/7T/tP+3/7n/uf+6/7v/u/++/77/vv++/8H/wv/C/8P/xv/J/8n/y//P/9T/1v/Y/93/4v/l/+r/7//y//b/+//+/wEABAAKAA4ADgARABUAFwAZABwAHwAgACMAJQAlACcAKAAnACgAJwAnACQAIwAlACUAIwAhACMAIwAjACMAIwAkACYAKAAnACYAKAArACoAKQAqAC0ALQAtAC8AMgAyADUANwA6ADsAPABAAEIARABGAEcASABJAEoASwBLAEsATABMAEsASwBLAEoASQBIAEoASQBJAEoASABIAEcARQBFAEYARgBDAEIAQwBEAEIAQABAAEIAQwBBAEMARABHAEgASABLAEoATABOAE4ATgBOAFAATwBPAE4ATQBNAEsASwBJAEcASABHAEUAQgBBAEAAOwA5ADcAMwAxAC0AKgAmACMAIQAfABwAGQAXABUAEwAQABEADgALAAsACgAIAAYABQAEAAMAAgAAAP7//f/8//v/+v/3//f/9f/0//P/8f/w/+//7v/r/+n/5//l/+L/4f/d/9r/2P/V/9P/0P/N/8v/yP/F/8L/v/++/7v/u/+3/7X/s/+x/7H/r/+t/6v/q/+o/6j/pv+l/6X/o/+i/6L/ov+i/6D/n/+g/57/nv+e/53/nP+d/57/n/+f/57/n/+h/6D/ov+j/6P/pP+m/6n/qf+p/6r/q/+r/6v/rP+s/63/rf+t/6z/rP+t/63/rv+u/6//sP+y/7P/tv+2/7f/uf+6/7z/vP++/8L/xf/G/8j/yv/N/8//0f/R/9T/2f/a/9z/3//i/+T/5v/p/+v/7v/x//X/+P/7//7/AgAFAAgACwAOAA8AEgAWABYAGAAbAB4AHgAdAB4AHgAeAB4AIAAiACAAHwAhACIAIAAgAB8AIAAhACEAIgAjACQAJgAlACQAJgAnACYAJwAnACoALAAsAC4ALwAvADAAMQAyADMANAA1ADYANwA3ADcANwA4ADkAOAA4ADkAOQA5ADgAOAA4ADYANQA2ADYANgA2ADYANgA0ADUANQAzADMAMwAzADMAMwA0ADQANAA0ADMAMwA1ADUANgA2ADcANwA3ADYANgA3ADYANQA1ADUANQAzADEAMQAwAC8ALQAsACoAKAApACcAJgAjACIAIAAeABwAGgAZABcAFwAUABEAEAAOAA0ACgAHAAYABAACAAAA/v/9//r/+P/2//X/8v/x//D/7v/t/+v/6v/o/+f/5f/j/+H/4P/f/97/3P/b/9r/2f/W/9T/0v/S/9L/0P/O/8z/y//K/8j/x//F/8T/w//A/7//v/+9/7z/uf+4/7f/t/+2/7T/tP+x/7H/rv+s/6v/q/+q/6r/qf+p/6j/p/+o/6j/qP+o/6j/qP+o/6j/p/+o/6n/qf+q/6r/qv+q/6z/rP+t/67/rv+w/7H/sv+0/7T/tv+3/7r/u/+7/7z/vf+9/73/vv+9/77/vv++/7//wP/A/8H/wf/C/8T/xP/G/8f/yv/L/8z/zf/R/9P/0v/U/9b/1//Y/9n/2//d/+D/4//m/+f/6v/t/+//8P/z//f/+P/5//v//v8AAAEAAgAEAAUABwAJAAkACwAMAA8AEAAQABMAEwAWABkAGAAYABkAGQAZABgAGAAZABkAGwAZABoAHAAdAB4AHQAeAB4AIAAgACAAIQAhACMAIwAlACUAJgAnACgAKQAoACoALAAtAC4ALQAvADAAMQAxADMAMQAxADEAMgAxADAAMAAuAC8AMAAvAC0ALAAtACwAKgAsACsAKgArACkAKQAoACgAKAAoACcAJwAoACcAKAAnACcAJwAoACgAJwApACkAKQAqACgAKQApACkAKQAoACcAJwAnACYAJAAkACQAIgAgACAAHgAdABwAGwAaABgAFgAWABQAEgARABAADQAMAAsACgAIAAcABAAEAAMAAAD///7//f/8//r/+f/5//b/9P/y//H/8P/u/+z/7P/r/+n/6P/n/+b/5v/k/+P/4//h/9//3f/c/9r/2v/Z/9n/1//V/9T/0v/S/9D/zv/O/83/zP/L/8j/yP/I/8b/xf/E/8P/wf/A/7//vv+9/7z/vP+7/7v/vP+7/7z/vP++/7//vv+//8H/wv/C/8L/w//E/8X/x//H/8j/yf/K/8r/y//M/83/zf/O/8//z//Q/9H/0P/R/9H/0f/S/9L/0//T/9P/0//U/9T/1f/W/9b/1//Z/9r/2//c/93/3f/e/97/4f/j/+L/5f/m/+j/6f/s/+7/8P/x//P/9P/0//b/9v/4//n/+v/8//z//v8AAP//AQADAAMABAAEAAYACAAJAAsACwANAA8AEAARABEAEgATABMAEgASABMAFQAWABYAGAAYABoAGgAaABoAGwAdABwAHQAeAB8AIgAiACMAJAAlACgAJwAoACgAKQAqACwAKwAsAC8ALwAvADAAMQAyADAAMQAxADIAMgAwADEAMgAxAC8AMAAvAC4ALAAsACsAKgAqACoAKQAoACgAJwAmACcAJwAoACcAKAAoACcAJgAnACgAJgAlACUAJQAkACUAJAAjACMAIwAiACIAIwAiACIAIgAiACAAHwAfAB8AHQAcABsAGgAYABcAFgAVABQAEwAQAA8ADgALAAwACgAJAAgACAAFAAQAAwABAAEAAAD///3//f/9//z/+v/4//j/9v/1//T/9P/z//H/8f/w//D/7//u/+//7//r/+v/6v/p/+j/5v/m/+T/4v/i/+H/4P/f/9//3//e/93/3P/a/9r/2f/Z/9j/1//W/9b/1P/T/9P/0v/V/9T/1P/U/9T/1v/W/9j/2f/b/9v/2//b/9z/3v/d/97/3v/f/9//4P/g/+D/4P/h/+H/4f/j/+P/4//j/+P/5f/l/+b/5//m/+f/6f/p/+r/6//s/+3/7P/v//D/8v/y//P/9P/2//f/9f/2//f/9//1//b/9//5//r/+//6//z//v///wEAAQADAAQABQAGAAYACQAJAAsADQAOAA0ADwAQABAAEAARABEAEwAUABQAFgAYABkAGQAZABsAHAAcABwAHAAcABoAHAAcAB0AHQAeAB4AIAAhACAAIgAjACQAJQAkACUAJgAmACgAKQApACkAKQAqACkAKwArACsALQAtAC4ALQAuADAAMAAwAC8AMAAwADEAMAAxADAAMQAwAC8ALgAuAC4ALwAuAC0ALwAvAC8ALwAuAC4ALQAtACwAKgAoACcAJwAmACUAIwAiACIAIgAgACAAIQAhACEAIAAgAB4AIAAfAB8AHQAdABwAHAAcABoAGgAaABoAGQAYABcAFwAWABYAFQAUABMAEgASABEAEAAPAA4ADQAMAAsACgAKAAkABwAGAAYABgAFAAUABAACAAIAAQAAAP///f/9//v//P/6//n/+P/3//b/9f/1//b/9P/0//P/9P/z//P/8//w//H/7//v/+//7f/t/+3/6//r/+r/6v/q/+r/6P/o/+r/6v/q/+n/6f/p/+j/6P/p/+n/6v/q/+r/7P/r/+z/7P/t/+3/7//w//D/8v/y//L/8v/y//T/9P/1//X/9f/1//b/9//3//f/+P/4//n/+v/7//v//f/9//3//f/+/////v/+/wAAAQACAAEAAgADAAIAAwADAAMABQAFAAcABwAIAAkACAAJAAsADAANAA4ADwAPABAAEQARABEAEgATABQAFAAWABYAFgAYABkAGQAYABoAGgAaABkAGgAbABoAGgAbABoAGgAbABsAHAAcAB0AHQAeACAAIQAhACEAIQAjACIAIgAjACMAIwAhACEAIQAhACIAIQAhACMAIwAkACMAJAAkACQAJAAkACUAJQAkACYAJgAnACcAKAAnACgAKQApACkAKQAoACkAJwAnACgAKAAoACcAJgAkACMAJAAiACEAIAAeAB8AHQAcAB0AHAAcABsAGwAbABoAGQAZABkAFwAZABgAFwAYABcAFgAVABUAFQAUABMAEgASABEAEAAQAA8ADgANAAwADAALAAoACQAJAAgABwAIAAgABgAIAAcABwAIAAcABwAFAAUABQAEAAMABAADAAEAAAAAAP///v/8//v/+//7//v/+v/6//j/9//3//b/9v/1//T/8//z//P/8v/y//H/8f/w//H/8f/x//H/8f/x//H/8v/y//L/8v/z//P/8//z//L/8v/x//H/8f/w//H/8f/y//H/8f/w//D/8f/w//D/7//x//H/8f/x//D/8f/x//L/8v/x//L/8//0//X/9//3//f/+P/5//n/+v/7//z//P/8//7//////wEAAQABAAIABAAEAAUABQAEAAUABAAGAAYABQAGAAcABwAHAAgACAAJAAsACwALAAwADQAPABAAEAARABIAEgARABIAEgASABIAEwATABMAEwAUABQAFQAWABcAGAAXABgAGAAZABgAGAAZABkAGQAaABkAGAAZABoAGQAaABkAGAAYABcAGAAXABgAGAAYABkAGQAaABoAGgAaABsAGwAcABwAHgAeAB0AHwAfAB8AIAAgACEAIQAhACMAIwAhACEAIgAhACIAIQAgACAAIAAgACEAHwAeAB8AHQAeAB0AHQAdABsAGwAaABkAGAAYABgAFgAXABUAFwAWABQAFQAUABMAFAATABIAFAATABMAEwASABIAEQARABEADwAQAA8ADwAQAA8ADgAPAA4ADgANAAwACwALAAoACwAJAAkACQAJAAgACAAHAAcABgAHAAUABAAEAAMAAwACAAEA//////7//v/+/////v/8//z//P/8//3//f/9//v//f/8//z//P/8//3/+//7//v/+//6//r/+//6//n/+f/5//j/9//4//f/9//1//X/9f/1//T/9P/z//P/8//z//P/8v/y//L/8P/v/+//8P/v/+//8f/x//L/9P/0//T/9v/3//j/+f/5//r/+v/7//r/+v/7//r/+v/6//n/+f/5//n/+P/5//r/+v/7//r/+//8//z//f/8//3//f/9//3//P/8//z//P/+/////////wEAAQAAAAIAAgABAAMABAADAAQABQAGAAYABwAHAAkACgAKAAsACgAKAAsADQANAA0ADgAPABAAEQASABIAEgASABEAEQARABEAEgASABEAEgATABMAEwAUABUAFQAVABQAFQAUABQAFQAVABQAFQAUABUAFQAVABQAFQAWABYAGAAWABcAFwAXABcAFwAWABYAFgAWABcAFgAWABYAFwAXABUAFQAWABYAFgAWABYAFwAYABcAFwAXABcAFwAWABYAFgAXABYAFgAVABUAFQAUABYAFAAUABMAEwATABIAEgARAA8ADwAOAA8ADgANAA4ADQAMAAwACgALAAsACQAIAAcABwAFAAYABQAFAAUAAwADAAMAAgACAAIAAgACAAEAAgABAAEAAQAAAP////////7//v/9//z//P/7//v//P/6//r/+f/4//f/9//3//b/9v/1//b/9P/z//P/8v/y//L/8f/w/+//7//w/+//7//v/+//7//v/+//8P/x//H/8v/y//P/9P/0//P/8//z//T/9P/1//T/9P/1//T/8//z//L/8v/z//L/9P/z//L/9P/0//L/8//z//L/8//z//L/8//z//P/8v/y//P/8//z//P/8//0//T/9f/0//X/9f/2//X/9v/2//b/9//3//f/9f/2//b/9v/2//b/9v/3//f/9//4//n/+P/5//n/+P/5//n/+v/7//v//P/8//z//P/9//z//f/+//7////+////////////AAD//wAAAQACAAIAAQAAAAEAAQAAAAEAAAABAAEAAAABAAAA/////wAAAAD/////////////AAD/////AAAAAAEAAQABAAIAAQABAAEAAAABAAEAAQABAAEAAAAAAAAAAQABAAAAAAD/////AAD///7//////wAA/////wAAAAAAAP/////+//7//v/+//3//f/8//v/+//7//r/+f/5//n/+f/5//n/+f/6//r/+v/7//r/+v/6//r/+//6//r/+//6//r/+//7//r/+v/6//n/+f/5//n/+P/4//j/9//3//b/9v/1//P/8//y//L/8f/x//D/8P/v/+3/7//v/+//7//w//D/7//v/+//7//v/+7/7//u/+3/7v/u/+7/7f/t/+z/7v/t/+z/7f/s/+3/7f/s/+3/6//t/+z/6//r/+v/6//q/+n/6f/p/+j/6f/p/+j/5//m/+b/5v/n/+b/5P/m/+b/5f/l/+b/5v/l/+b/5v/m/+f/6P/o/+f/5//o/+n/6f/p/+r/6v/q/+r/6v/q/+r/6v/q/+v/6v/q/+r/6v/p/+v/7f/t/+3/7P/t/+z/7P/s/+v/6//q/+n/6v/q/+r/6f/q/+r/6v/p/+n/6v/q/+n/6f/p/+n/6//r/+r/6v/q/+r/6f/q/+n/6f/o/+n/6v/p/+r/6v/p/+v/6v/r/+v/6//r/+v/6v/p/+r/6v/p/+n/6f/p/+r/6f/p/+r/6v/q/+v/6//s/+z/7P/t/+3/7v/u/+7/7f/s/+7/7f/s/+z/7P/s/+7/7f/u/+//7//w/+//8P/w//D/8f/y//H/8P/w/+//7//v/+7/7v/t/+7/7v/t/+7/7v/u/+//7v/v//D/8P/v/+7/7//v/+7/7//u/+//8P/v/+//7//w//H/8f/y//L/8f/y//L/8v/z//H/8f/x//H/8f/x//H/8f/y//L/8v/y//P/8//0//P/8v/y//L/8//0//L/8v/x//L/8v/y//H/8f/y//D/8f/x//H/8v/y//L/8v/y//L/8//y//P/8//z//L/8P/x//D/8P/x//H/8f/z//L/8//0//T/9P/z//T/8//0//T/8//z//L/8f/x//H/8P/w//D/8P/u/+7/7//w//D/7//w//D/8f/x/+//7//v/+//7//v/+//7//v/+//7//w//D/8P/x//D/8f/w//D/8P/w//D/8P/w/+//7v/t/+7/7f/s/+z/7P/s/+7/7P/r/+z/7P/s/+z/7P/q/+v/6f/q/+n/6f/p/+n/6v/r/+r/6v/q/+v/7P/s/+z/7P/s/+v/6//r/+r/6//q/+r/6//s/+z/7P/t/+7/7//w/+//7//w//H/7//u/+//7f/t/+3/7P/q/+r/6v/o/+j/6P/o/+j/6P/n/+n/6P/o/+n/6v/p/+n/6P/n/+f/5v/m/+b/5f/m/+b/5f/n/+f/5//o/+r/6v/r/+z/7P/t/+7/7v/u/+7/7//u/+//7v/t/+3/7f/t/+3/7f/u/+7/7//v/+//7v/t/+3/7f/u/+3/7f/r/+v/7P/s/+v/6//r/+v/7P/s/+z/7f/t/+7/7v/u/+//8f/w//D/8v/y//H/8P/y//H/8f/y//L/8f/x//H/8//y//P/8//z//P/8//y//P/8//z//P/8//z//P/8//y//L/8v/x//H/8P/v/+7/7v/u/+7/7//v//D/8f/x//H/8f/x//L/8v/y//P/8//0//P/9f/2//T/8//1//T/9P/z//P/9v/0//T/9P/0//T/9P/1//X/9v/2//b/9f/1//X/9f/2//T/9f/2//X/9v/1//T/9P/0//X/9f/1//b/9v/2//f/9v/2//b/9//2//X/9v/2//b/9P/0//T/8//z//L/9P/z//P/9P/0//T/8//1//T/9P/0//T/8//1//T/9P/z//L/9P/z//P/9P/0//T/9P/0//X/9v/2//X/9v/1//f/+P/2//X/9f/2//X/9f/1//X/9f/0//X/9P/0//X/9f/0//b/9v/1//b/9v/2//f/9//3//f/9//2//b/9v/4//f/9v/3//j/+P/4//j/+f/4//j/+P/3//f/9//3//X/9v/2//b/9v/2//b/+P/3//f/9//3//f/9//3//b/9//1//X/9f/0//T/9P/0//P/8v/y//P/8//y//P/9P/z//b/9f/1//X/9v/3//b/9f/1//X/9f/2//T/9P/1//X/9P/1//b/9v/2//f/9//2//f/9//4//j/9//4//j/9//3//b/9//2//b/9P/0//b/9f/0//X/9P/0//T/8//0//P/9P/0//X/9f/1//X/9P/0//b/9v/2//b/9//2//b/9v/3//f/9v/3//f/9//3//f/9//4//j/+P/4//f/9//3//f/9//4//j/+P/4//j/9//4//j/9//2//b/9v/2//b/9v/3//f/9//5//n/+P/4//r/+f/5//n/+P/4//j/+f/6//j/+f/5//r/+f/5//n/+f/5//r/+v/6//r/+//7//z//P/7//3//P/9//3//P/8//z//P/8//z//f/8//3//f/9//3//v/+////AAD//wAAAQABAAIAAgACAAMAAQACAAEAAQABAAEAAAAAAAAA/v///////f///////v/+//7//v/9//7//v/+/////v///wAA//////////8BAAEAAgABAAIAAwADAAQAAwAEAAUABAAFAAQABQAFAAQABAADAAMABAADAAEAAQAAAAAAAAD/////AAAAAAAA/v///////v8AAP7///8AAP//AAAAAAAAAQAAAAEAAQD/////AAAAAP///v////7/AAAAAP////8AAAAAAAD///7//v/9//3//P/8//z//P/9//z//v/8//z//f/7//v/+//8//r/+//7//r/+//6//r/+v/6//n/+f/3//f/9//3//j/9//4//j/9//3//j/+P/2//j/9//4//j/+f/5//n/+//5//r/+f/6//r/+P/5//j/+P/5//j/9//3//X/9f/2//X/9f/1//X/9//2//X/9P/1//b/9f/1//X/9f/1//b/9//3//f/9//3//f/9//3//f/9//4//f/9//4//f/9//4//j/+f/5//j/+P/4//f/9//3//j/+P/3//j/+f/5//n/+P/4//n/+P/4//j/9//3//n/+f/6//r/+f/6//v/+//7//v/+//6//v/+v/6//r/+//7//v//P/7//z/+//7//z/+//8//3//P/8//z//P/9//z/+//8//z//P/8//3//f/+/////////wAAAQABAAIAAgABAAMAAQAEAAQABAADAAQABAADAAQABAAFAAUAAwADAAMABAAFAAUABAAGAAYABQAFAAUABwAGAAcACAAIAAgABwAHAAgABwAHAAcABwAIAAcACAAHAAcABgAHAAcACAAIAAkACQAJAAsACwAKAAoACgAJAAkACQAJAAkACQAKAAkACgAKAAgACQAIAAgACQAJAAoACQAJAAkACQALAAoACgAKAAoACwAKAAoACwALAAoACQALAAoACgALAAsACgAKAAsACwALAAoACgALAAoACgAKAAkACgAJAAkACQAIAAgABwAGAAYABgAFAAQABQAEAAQABQAFAAQAAwADAAMAAwADAAQAAwAEAAMAAwADAAQAAwADAAQAAwAEAAMABAADAAMAAwADAAQAAwAEAAMAAwAEAAMAAwADAAIAAgACAAAAAAABAAEAAAABAAEAAQABAAAAAQABAP//AQAAAP///////////v///////v//////AAD/////AAAAAAEAAQACAAEAAQACAAIAAQD///////8AAAAA///+////AAD//////////////v/+/wAA/////////v////7//v/+//7//f/+/////v///wAA//8AAAEA//8BAAEAAQABAAAA/////wAA//////7//v/+//7//v//////AAD/////AQABAAIAAgABAAEAAQABAAEAAQABAAEAAAAAAAAAAAAAAAEAAAAAAAAAAAABAAIAAgABAAIAAgABAAEAAQABAAIAAQABAAIAAgACAAIAAwADAAUABQAFAAQABQAFAAUABAAFAAYABgAGAAYABwAGAAYABgAGAAYABQAFAAYABQAGAAUABgAGAAcABgAHAAYABQAFAAYABgAGAAYABQAGAAYABwAGAAYABwAGAAcACAAHAAcACAAIAAgACQAKAAkACwALAAsACwALAAsADAAMAAsACwALAAkACQAJAAkACQAJAAkACAAJAAgACQAKAAkACAAJAAgACQAJAAgACQAJAAgACQAJAAkACgALAAoACgAKAAsACwAKAAsACgALAAwADAANAAwADAAMAAwACwANAAwADAALAAsADAALAAsACAAJAAgABwAHAAYABgAGAAUABQAGAAUABQAFAAYABgAFAAYABwAGAAUABgAGAAYABQAGAAcABgAFAAYABwAFAAYABwAIAAgABgAFAAYABwAHAAUABgAFAAQABAACAAMAAgACAAIAAgACAAIAAwADAAQAAwACAAMABAAEAAMABAAEAAMABAAEAAQAAwAEAAMAAgADAAIAAgABAAEAAQAAAAAA//////////////7//v/9//7//f/8//3//v/9//7//f/9//3//v/9//7//v/+//z//f////7////+//7//v/+//7////////////+//3//v/+/wAAAAD//wAAAQACAAEAAQABAAEAAQAAAP//AAAAAAAAAAD///////8AAAAAAAD//wAAAAD//wEAAgAAAAAAAAD//wAAAAAAAP7//v////7////+//7//v/+//7/AAAAAP//AAABAAEAAAAAAAEAAQABAAEAAgACAAEAAAAAAAAAAQAAAAAAAQAAAAEAAgACAAEAAQABAAEAAwACAAIAAQADAAEAAQABAAIAAwACAAMAAwADAAMAAwAEAAYABQAFAAUABQAFAAQABAAFAAUABAAEAAMAAwADAAMAAwADAAMAAgADAAMAAwADAAMAAQACAAAAAQABAP/////+//////////7//v/+/wAA/////wAAAAABAP//AAAAAAAAAAD//wAA/////wAAAAD//////////wAA/v////3//v/+//7//v/9//3//P/9//3//P/8//v/+v/6//v/+//5//n/+v/5//n/+f/6//r/+v/6//v/+//6//v/+//7//z//P/8//3//v/9//3//P/9//3//f/8//z//v/9//3//f/8//7//P/7//v/+v/5//j/9//2//X/9f/0//T/9P/0//T/8v/y//H/8v/y//P/8v/z//L/8v/y//H/8v/z//P/8//0//P/9P/z//P/9P/0//T/9f/1//X/9f/1//T/9P/0//T/8//z//P/8v/y//L/8v/y//H/8f/x//H/8f/x//H/8P/v/+//7//v/+7/7//u/+//7//v/+7/7v/w/+//7//w//H/8v/z//T/9P/1//X/9P/0//b/9v/1//f/9//2//X/9f/1//T/9P/z//T/9P/0//b/9v/1//T/8v/0//L/8f/w/+//7v/u/+3/7f/t/+3/7f/s/+3/7P/u/+//7v/v/+//7//w//H/8f/w//D/8P/w//H/8f/w//D/8f/x//H/8f/x//H/8v/z//P/8v/z//T/8//0//P/8//z//P/8v/0//T/8//z//L/8//z//P/9P/z//T/9P/0//T/9P/1//X/9v/2//X/9v/1//X/9f/2//b/9v/2//b/9//4//j/9//5//n/+P/4//n/9//2//f/+P/3//f/9f/3//b/9//3//f/+P/3//f/9v/2//X/9f/0//T/9f/1//P/8//z//L/8v/0//P/8//1//P/9P/0//T/9f/0//b/9v/2//b/9v/3//X/9f/2//f/9//3//f/+P/4//j/+f/5//n/+f/4//j/9//4//j/+P/3//b/9v/2//f/9f/2//X/9f/1//b/9v/3//b/9//2//b/9v/2//X/9f/2//f/9v/3//f/9//3//f/9//2//f/9v/3//f/9v/1//X/9f/z//P/8v/y//P/8v/x//H/8f/w/+//8P/w//D/7//v//H/8P/x//H/8//x//H/8v/y//L/8f/y//L/8v/x//L/8v/x//H/8f/w//H/8f/w/+//8P/w//H/8f/w//D/8P/w//H/8f/x//H/8P/w//D/7//v/+7/7v/v/+7/7f/u/+7/7//u/+3/7f/t/+3/7v/t/+7/7v/t/+//8P/u/+//8P/w/+//7v/v/+//7v/u/+7/7//v/+//7//v/+//7//w/+//7//v/+//8P/v/+//7//v/+7/7f/t/+3/7P/t/+z/7v/u/+3/7P/t/+7/7//w/+//8f/y//H/8v/y//L/8v/z//P/8//0//X/9P/1//X/9//3//j/+f/3//v/+v/4//v//P/8//v/+v/9//3/+v/7//3//P/7//v/+v/6//n/+f/6//j/9//4//j/+P/3//b/9//2//X/9v/2//X/9f/2//b/9f/3//j/+P/4//n/+v/7//r/+f/6//n/+f/7//z//P/8//v//P/7//r//P/8//v//P/8//3//P/+//3//f/+//3//f/7//v/+//6//r/+f/6//r/+//7//r/+//6//v/+//6//v/+v/6//v/+v/7//v/+f/6//r/+v/5//n/+v/5//r/+//6//r/+//8//z//P/7//z//f/9//3//P/7//z//P/7//v/+//8//v/+//7//r/+//5//n/+f/4//j/9//4//j/9//3//b/9v/1//b/9v/1//b/9v/2//b/9v/3//f/+f/4//j/+P/5//n/+P/4//f/9//2//b/+P/3//b/9v/3//j/+P/4//n/+P/3//f/9//4//f/9v/2//b/9f/1//X/9f/1//T/9P/1//b/9v/2//f/9//3//f/+P/4//f/9//3//n/+P/4//j/+f/4//n/+P/4//n/+P/4//j/+f/4//j/+P/4//j/+P/4//j/9//5//j/9//4//n/+P/4//n/+f/5//r/+v/6//r/+v/5//r/+//6//r/+v/6//r/+v/6//r/+v/6//r/+//7//v/+v/7//z//P/8//z/+//8//z//P/8//r/+v/6//n/+P/9/wEA+//1//X/AwD+//b/+/8BAAAA+f/9/wEA/f8CAPr/+//8//r//v/9//7/9v/8//3/+f/9//7//v/6//v/AAD8//7/+//8//v/+v/9//z//P/7//7////8//z//f/+//v/+//9//3//f/+///////9//3///////3//P/+//3//f/8//7//f/+//7///8AAP////8AAP//AAD//////v/+/wAAAAAAAAAAAAABAAEAAAAAAAEAAQAAAAAAAQABAAEAAQABAAEAAQABAAEAAQAAAAAAAAD+////AAAAAAEAAAAAAAEAAgABAAIAAgACAAMABAADAAQABAADAAQAAwAFAAQAAwADAAMAAgACAAMAAgADAAQABAAEAAQABAAEAAQAAwAFAAMAAwACAAEAAQABAAEAAAAAAAEAAQACAAIAAAABAAEAAQACAAEAAAABAAEAAQABAP////8AAP///v/+/////////wAA//8AAAAAAQACAAEAAQABAAIAAQABAAEAAAAAAAEAAQACAAMAAgAEAAMABAAEAAUABgAFAAMABAADAAMABAACAAIAAgABAAAA///9//7//////wAA/v///wAA/v///////v/+//////////7//f////////8BAAIAAgACAAIABAADAAMAAwADAAMAAwADAAIAAQAAAAAA//8AAAAA/v/+//7//v/8//7////9///////+//7//v/+//3//v/+////AAAAAAAAAAAAAAEAAQACAAIAAgADAAMAAgADAAMAAwAEAAQABAADAAMABAADAAMAAwADAAMAAwADAAIAAgADAAIAAgACAAMABAAFAAQABQAGAAUABQAFAAYABQAGAAYABgAHAAcABwAHAAgABwAHAAcACAAIAAcACAAIAAcACAAJAAcABwAHAAgACAAHAAcABwAIAAgACQAIAAkACQAIAAoACQAIAAkACgAJAAoACgALAAsACgAMAAwADAAMAAwADQANAA0ADQAMAAwACwAKAAsACQAKAAkACAAIAAcABwAIAAgACQAIAAkACQAKAAoACQALAAoACgAKAAkACgAJAAgACAAIAAkACgAKAAoACwALAAsACwALAAwACwALAAsACwAKAAoACgAJAAgACAAHAAgACAAIAAkACQAJAAgACQALAAwACwAMAAwACwALAAsACgAKAAoACQAJAAoACgAIAAkACQAJAAoACgAJAAkACgAKAAkACQAJAAgACgAKAAoACQAKAAsADAALAAwADAAOAA8ADwAPABAAEAAQABAAEAAOABAAEAAQAA8ADgAOAA8ADwAQAA8AEQAQABEAEgARABEAEQARABEAEwASABIAEQAQABAADwAQABAAEAARABEAEAAQABEAEQATABMAFAATABUAFQAUABUAFQAWABcAFwAXABYAFgAXABQAFQAVABUAFQAUABQAEwATABMAEwAUABMAEwAUABUAFQATABMAFAAVABQAEwATABUAEwAUABUAFAAVABUAFAAVABYAFQAWABYAFQAVABUAFAAUABQAEgASABEAEAAQABAAEAARABEAEAARABIAEAASABIAEgAUABMAEgATABMAEwATABMAEgAUABMAEwATABQAEwATABMAEwATABIAEQARABEAEAAQABAADgAOABAADgAPAA4ADwAPABAAEAARABIAEgASABEAEgARABEAEgARABIAEgASABIAEgASABIAEQASABIAEwATABIAEQASABEAEgAQABAAEAAPAA8ADwAPAA4ADwAOAA4ADwAPABEAEAARABEAEAARABEAEQAQABEADwAPABAADgAOAA4ADgAOAA4ADQAOAA0ADgAOAA8ADgAOAA4ADAAMAAwADQANAAwADQANAAwADQANAA4ADgAOAA4ADgAOAA8ADgAOAA0ADgAPAA8ADgAPAA0ADgAOAA0ADQAOAA0ADwAQABAADgAOAA4ADwAOAA4ADgAPAA4ADwAOAA0ADgAOABAADwAPABEAEAARABEAEgASABMAEgASABIAEQARABEAEAAQABAADwAQABAAEAAQABEAEAAPAA8AEAAQABEADwAQABAAEQARABAAEAAQAA8ADwAPAA4ADwAQAA8ADQAPAA0ADgAOAA4ADwAOAA4ADwAOAA4ADgAOAA4ADgANAA0ADAANAAwADAANAA0ADgANAA4ADwAQABAADwAQAA8AEAAQABAAEAAQAA8ADwAOAA4ADgAPAA8ADwANAA4AEAAPAA8ADwAQABAAEAAPAA8AEAARABAAEQASABEAEQARABIAEQAQABAADwAQAA8ADwAPAA8ADwAQAA8ADgAPAA8AEAAPAA4ADwAQAA8ADwAPAA8ADgAOAA8ADwAOAA8ADwANAA0ADAAMAAwADAALAAsACwAKAAoACgAMAAsADAAMAAsADQANAA0ADgAOAA4ADgAOAA0ADgAOAA0ADQANAA0ADgAMAA0ADQAMAA0ADQAOAA4ADwAOAA8ADwAPABAAEAAPAA8AEAAQABEAEQAQABEAEQAQAA8ADwAPAA8ADwARABAADwAPAA8AEAAPAA8ADgANAA0ADQAMAAsACwAMAAsADAALAAsADAAMAA0ADAAOAA4ADQAOAA8AEAAQABAADwAOAA8ADwAPAA4ADQANAAwADAANAA4ADgAOAA8ADwAQABAADwAQABEAEQARABEAEQASABEAEQARABEAEgASABIAEwATABQAFQATABUAFQAVABUAFQAWABQAFAAUABMAEgASABEAEQAQAA8ADwAPABAAEQARABMAEgATABQAEwAUABMAEwASABIAEgARABEAEAARABAADwAPABAADwAPAA4ADwAOAA8ADwAPABAADgAPABAAEAAQAA8AEAAPAA8AEQARABEAEAARABAAEAARABEAEQARABEAEQA=\" type=\"audio/x-wav\" />\n",
       "                    Your browser does not support the audio element.\n",
       "                </audio>\n",
       "              "
      ],
      "text/plain": [
       "<IPython.lib.display.Audio object>"
      ]
     },
     "execution_count": 12,
     "metadata": {},
     "output_type": "execute_result"
    },
    {
     "data": {
      "image/png": "[encoded data removed]",
      "text/plain": [
       "<Figure size 640x480 with 1 Axes>"
      ]
     },
     "metadata": {},
     "output_type": "display_data"
    }
   ],
   "source": [
    "#testing a single audio\n",
    "fpath='/kaggle/input/audio-mnist/data/01/0_01_0.wav'\n",
    "data,sample_rate=librosa.load(fpath)\n",
    "librosa.display.waveshow(data,sr=sample_rate)\n",
    "ipd.Audio(fpath)\n",
    "\n"
   ]
  },
  {
   "cell_type": "code",
   "execution_count": 13,
   "id": "98a99ab8",
   "metadata": {
    "execution": {
     "iopub.execute_input": "2023-06-03T08:34:27.053166Z",
     "iopub.status.busy": "2023-06-03T08:34:27.052433Z",
     "iopub.status.idle": "2023-06-03T08:34:27.061678Z",
     "shell.execute_reply": "2023-06-03T08:34:27.060386Z"
    },
    "papermill": {
     "duration": 0.029334,
     "end_time": "2023-06-03T08:34:27.064660",
     "exception": false,
     "start_time": "2023-06-03T08:34:27.035326",
     "status": "completed"
    },
    "tags": []
   },
   "outputs": [],
   "source": [
    "def feature_extractor(file):\n",
    "    audio, sample_rate = librosa.load(file) \n",
    "    mfccs_features = librosa.feature.mfcc(y=audio, sr=sample_rate, n_mfcc=40)\n",
    "    mfccs_scaled_features = np.mean(mfccs_features.T,axis=0)\n",
    "    return mfccs_scaled_features\n",
    "\n"
   ]
  },
  {
   "cell_type": "markdown",
   "id": "62ea0b4b",
   "metadata": {
    "papermill": {
     "duration": 0.015675,
     "end_time": "2023-06-03T08:34:27.096448",
     "exception": false,
     "start_time": "2023-06-03T08:34:27.080773",
     "status": "completed"
    },
    "tags": []
   },
   "source": [
    "The code below might take a few minutes to run"
   ]
  },
  {
   "cell_type": "code",
   "execution_count": 14,
   "id": "45dd6f91",
   "metadata": {
    "execution": {
     "iopub.execute_input": "2023-06-03T08:34:27.131801Z",
     "iopub.status.busy": "2023-06-03T08:34:27.130367Z",
     "iopub.status.idle": "2023-06-03T08:48:04.396887Z",
     "shell.execute_reply": "2023-06-03T08:48:04.392550Z"
    },
    "papermill": {
     "duration": 817.290553,
     "end_time": "2023-06-03T08:48:04.403282",
     "exception": false,
     "start_time": "2023-06-03T08:34:27.112729",
     "status": "completed"
    },
    "tags": []
   },
   "outputs": [
    {
     "name": "stdout",
     "output_type": "stream",
     "text": [
      "6-5-0-4-4-3-6-0-2-8-5-6-5-3-3-7-0-0-1-6-2-6-4-7-9-4-7-0-0-1-9-1-1-5-3-2-6-0-5-8-1-8-9-7-9-2-6-5-0-8-1-2-7-4-5-1-3-0-8-1-4-3-3-9-8-3-6-3-5-5-5-9-8-2-3-0-6-2-1-0-4-7-1-8-4-7-5-3-1-6-6-2-9-7-3-4-4-7-7-5-9-8-2-5-7-7-4-8-2-8-8-6-6-2-5-3-1-5-9-5-9-3-3-2-7-0-9-6-4-0-8-1-8-3-3-2-7-4-5-4-0-6-7-0-0-0-5-5-1-0-9-7-3-4-8-8-8-0-3-0-2-9-1-9-1-2-7-6-9-8-6-8-7-7-3-7-9-4-9-4-2-9-9-0-9-1-7-5-4-9-9-2-8-0-6-5-7-2-4-4-4-7-7-1-9-5-5-0-0-0-4-8-0-5-6-8-0-0-3-4-4-7-1-7-8-5-1-8-5-5-6-3-2-9-3-5-7-0-9-2-0-7-2-3-1-8-4-1-4-2-3-1-1-9-6-3-4-8-9-5-2-6-8-8-2-1-9-5-2-4-7-4-6-2-4-2-7-1-2-0-8-3-6-8-6-3-1-8-3-3-6-3-1-1-5-0-2-9-6-2-3-5-6-9-7-8-4-4-5-0-9-0-6-7-1-2-0-3-5-0-5-3-2-7-3-5-4-4-9-3-6-4-7-5-9-0-4-5-9-1-7-1-5-7-5-8-8-8-1-9-3-4-6-6-7-5-4-6-3-8-6-4-7-0-8-8-1-5-9-9-7-5-2-7-4-3-1-6-2-2-1-9-8-2-9-9-6-4-1-8-1-4-1-7-6-1-5-8-1-3-7-7-4-2-3-6-3-6-1-3-2-2-9-5-0-2-5-5-3-6-0-6-6-0-1-2-6-4-7-4-9-9-9-2-2-9-0-0-1-2-6-8-9-2-9-2-0-3-3-7-6-8-0-8-6-2-1-9-1-4-0-7-4-4-8-6-2-1-3-3-5-5-8-8-5-8-0-4-0-7-1-9-3-0-0-7-2-7-9-3-6-1-1-6-6-8-2-7-8-4-3-5-5-8-8-5-1-6-3-5-8-2-2-9-2-6-8-7-6-2-9-4-7-4-6-9-6-7-0-4-9-5-8-9-0-8-5-4-3-0-3-5-3-8-4-4-7-7-2-6-4-8-1-1-2-0-0-7-0-2-3-8-0-8-8-4-2-6-7-6-3-7-5-9-4-3-5-6-2-3-9-0-8-5-6-4-7-2-5-4-2-8-2-4-5-0-1-3-3-8-6-5-1-0-9-7-9-1-0-0-0-2-3-8-5-6-8-4-2-6-8-0-0-5-7-8-3-9-6-6-0-9-1-3-8-5-0-7-0-2-2-3-4-5-2-4-3-8-5-6-1-8-2-4-0-9-7-4-4-1-0-7-1-5-8-0-3-7-1-5-6-5-7-2-7-3-0-5-1-2-9-4-2-8-1-5-3-0-6-5-7-1-0-3-7-6-2-6-2-3-2-3-7-2-5-5-5-5-9-9-0-2-0-4-0-3-3-1-5-1-9-8-4-3-7-0-9-9-6-7-3-8-2-2-3-3-0-0-1-7-5-7-9-3-3-2-5-3-3-2-9-9-2-6-7-8-1-9-8-2-6-2-4-5-7-8-3-9-4-2-9-8-9-7-7-8-4-6-8-6-6-4-1-5-0-3-2-1-5-6-4-5-3-6-7-7-3-8-2-8-2-0-6-6-3-2-1-3-3-8-6-4-4-0-1-9-7-1-6-3-0-6-5-0-3-7-0-9-5-4-7-8-6-2-5-1-8-0-6-9-9-3-0-0-9-1-6-8-1-6-8-1-1-5-0-1-4-5-9-1-4-1-5-0-6-4-2-5-6-1-9-2-4-1-1-9-9-8-7-4-0-4-9-2-0-7-3-4-7-0-8-7-6-6-9-2-4-1-7-8-1-1-9-1-4-4-1-1-3-0-2-5-1-1-6-9-9-6-3-9-9-0-5-6-4-9-2-7-7-9-8-9-4-1-7-6-9-3-2-4-6-7-6-1-8-0-1-2-8-0-2-4-4-1-4-7-1-5-5-3-5-7-2-6-1-4-6-9-7-8-5-8-9-4-3-0-4-0-6-7-9-3-3-7-7-1-1-8-8-7-4-9-7-5-5-9-8-8-4-2-4-2-6-0-3-9-0-4-1-5-2-2-3-4-7-0-0-5-1-2-3-6-7-5-7-6-4-1-4-1-7-8-5-8-8-6-3-9-2-2-6-9-5-2-2-8-4-7-0-6-0-6-3-5-1-5-3-9-1-5-5-0-0-6-9-3-2-7-9-2-4-3-1-7-1-5-4-9-9-2-7-3-2-0-7-5-3-4-1-6-7-6-3-0-5-5-2-9-9-0-4-8-4-1-3-7-3-3-4-8-7-6-0-8-3-5-8-5-0-4-5-4-2-7-6-1-6-5-8-4-0-2-8-7-9-0-2-1-9-6-3-7-4-4-7-7-3-1-5-2-5-3-4-1-0-6-4-5-7-3-9-7-2-6-4-4-0-5-4-9-4-6-3-1-8-0-9-1-3-2-8-8-6-9-1-2-9-7-8-1-2-9-8-0-6-1-0-2-4-5-6-4-4-8-2-0-2-1-4-2-3-7-7-7-2-4-3-4-5-4-3-9-2-2-5-4-9-7-0-2-3-1-0-8-0-6-5-5-8-2-1-1-9-7-2-8-1-0-6-3-5-5-1-8-5-7-0-6-9-9-1-9-8-7-4-3-5-8-2-2-9-7-3-7-4-0-8-9-0-0-9-9-4-3-5-4-6-4-6-6-3-7-6-4-8-1-7-8-8-8-7-7-1-9-3-0-1-1-6-6-5-1-3-5-6-7-7-6-0-6-0-0-5-8-9-3-5-3-4-4-1-0-8-9-1-5-3-0-5-9-5-9-6-6-9-2-4-5-7-4-6-6-6-4-1-3-0-8-3-5-9-8-8-9-5-3-0-0-4-9-6-6-1-7-6-3-5-4-1-2-6-5-8-3-1-6-7-5-1-5-2-3-2-5-8-0-9-1-8-9-3-1-0-3-3-6-1-0-6-6-7-2-4-1-0-3-0-7-9-7-9-3-0-1-0-2-8-2-4-5-8-4-7-3-8-8-7-3-7-3-1-8-9-8-2-1-9-2-8-6-9-2-1-1-1-4-2-9-8-6-6-7-0-9-4-5-8-2-0-7-8-9-9-6-7-2-8-0-1-2-8-9-0-5-8-5-8-2-8-2-7-1-9-3-2-6-4-0-7-7-4-8-6-9-5-8-0-7-2-0-1-7-1-4-1-8-6-2-6-0-3-7-5-4-3-8-0-5-9-5-2-0-0-9-8-8-6-3-3-7-4-6-9-5-0-0-8-8-8-1-4-9-3-4-2-2-2-1-4-9-1-8-8-7-1-7-4-5-0-7-1-4-9-9-9-7-8-5-4-7-2-0-1-6-0-5-2-2-6-3-5-3-9-7-3-7-5-7-5-9-6-0-9-0-5-8-4-2-8-9-7-9-9-5-0-7-3-8-5-0-7-5-5-4-8-5-5-8-1-3-4-4-6-4-2-1-2-4-3-7-4-5-9-0-9-0-5-0-1-8-3-5-6-1-8-3-8-1-3-6-9-2-4-5-1-5-1-5-7-2-3-7-9-6-8-6-9-4-1-9-2-8-5-1-4-6-1-0-1-7-7-3-8-4-3-1-7-4-2-2-5-0-6-4-9-5-6-4-3-1-7-7-4-9-9-6-1-4-1-7-6-3-9-9-0-3-8-0-3-5-2-9-7-9-1-3-1-0-8-5-2-4-4-0-4-9-3-1-2-3-6-6-3-2-4-3-1-0-2-5-2-4-5-7-0-9-2-9-8-0-3-0-0-3-4-0-2-8-0-9-1-5-7-0-4-3-1-6-0-6-1-4-6-6-1-8-6-3-6-6-9-8-6-5-8-8-3-7-0-8-6-2-5-4-2-0-0-0-2-5-8-0-5-3-7-8-5-4-9-6-1-3-3-7-8-7-0-4-6-5-1-6-8-2-7-5-7-7-2-1-9-9-8-8-8-6-3-2-2-4-2-9-7-8-5-5-3-3-2-2-6-7-1-0-2-7-8-7-6-7-0-8-8-9-5-4-5-7-5-2-5-6-8-5-8-1-1-0-5-6-4-1-4-2-6-1-8-3-1-1-7-1-9-2-9-3-2-4-2-0-7-3-9-3-4-3-7-7-1-3-1-0-3-6-2-7-9-6-8-1-0-4-8-0-0-1-6-4-3-2-9-3-6-0-9-9-6-2-9-3-8-1-7-2-5-2-2-1-6-4-9-2-2-4-6-7-2-9-7-6-6-4-6-0-8-3-3-6-7-1-4-4-0-5-5-3-6-9-7-9-3-8-1-4-0-7-9-3-1-3-7-9-7-5-5-2-3-1-9-2-7-8-0-8-6-1-6-5-8-7-1-6-2-1-9-6-2-5-9-0-2-1-1-6-9-7-6-7-8-6-4-9-9-3-8-7-5-1-9-4-1-7-7-5-3-2-7-0-9-0-5-1-3-6-2-1-9-0-6-4-4-1-2-2-3-4-9-1-8-9-5-8-4-7-9-8-8-9-8-6-6-6-2-9-4-9-0-3-2-1-2-3-4-0-2-7-5-4-6-4-0-5-1-8-7-9-5-9-3-8-2-4-5-5-7-0-2-4-3-9-6-2-8-6-8-1-7-0-9-8-0-7-3-3-4-1-1-0-9-3-7-6-9-1-4-3-5-8-2-6-6-8-2-0-0-4-3-1-2-0-1-3-4-7-0-5-8-0-4-9-2-3-7-5-8-0-5-6-9-0-6-5-9-5-4-2-8-0-0-3-9-4-6-7-1-0-0-2-3-9-6-1-6-8-9-5-1-4-0-3-9-6-6-6-8-3-8-2-8-6-5-8-5-7-0-0-2-2-8-4-3-0-1-6-3-0-1-6-4-7-4-5-4-8-7-5-5-6-5-7-5-5-2-0-7-9-8-3-6-4-3-2-9-2-9-6-0-8-9-9-5-5-1-8-9-0-7-1-7-6-2-4-0-5-7-1-3-9-2-7-8-3-5-1-1-2-2-7-7-9-3-5-5-6-2-4-4-9-6-7-4-4-4-0-4-9-2-5-6-3-1-0-9-4-3-0-3-8-8-5-1-0-2-3-4-2-1-3-0-0-2-2-7-2-2-1-6-7-6-3-6-7-3-8-9-3-7-1-6-7-3-7-7-8-1-1-8-6-5-8-5-1-8-0-8-1-6-3-5-6-0-0-3-8-4-5-9-4-9-7-1-3-1-8-3-0-9-8-7-4-5-0-5-8-8-3-0-2-0-0-5-5-4-7-7-0-8-1-7-4-7-1-1-5-4-6-6-2-4-3-5-1-3-9-6-0-4-6-5-7-5-1-0-3-3-9-2-6-2-2-8-6-4-3-9-4-8-4-4-5-5-9-8-1-9-2-4-6-3-1-4-8-4-2-2-7-2-7-7-2-6-8-5-7-1-5-0-4-8-7-6-9-8-1-4-4-0-8-9-0-2-1-1-1-9-8-7-9-6-3-1-5-1-0-7-3-4-9-1-5-0-2-4-6-9-7-7-4-1-3-2-1-7-0-0-9-3-3-1-6-1-8-6-2-2-2-2-5-4-4-6-0-6-3-6-0-1-7-4-3-1-7-5-6-8-3-0-0-0-3-9-0-6-2-8-6-5-6-2-2-7-9-5-0-4-4-5-6-7-1-7-2-4-4-0-1-6-1-2-1-6-8-6-5-7-2-6-6-2-2-5-5-4-8-5-8-4-7-9-2-4-7-5-0-7-3-8-5-3-7-1-4-3-4-3-9-2-9-9-8-6-3-0-9-4-7-1-5-5-6-2-7-0-5-2-8-3-9-0-5-7-6-1-3-3-3-3-1-0-3-8-4-5-0-2-8-8-5-6-3-6-6-9-6-8-8-2-7-1-7-2-1-6-8-4-9-5-8-2-6-1-6-7-8-8-7-9-0-4-6-5-2-4-6-4-7-2-5-2-3-7-3-7-5-1-1-6-3-4-7-2-0-5-2-1-1-3-4-7-3-4-6-6-9-0-5-5-1-3-1-2-5-0-0-3-7-1-5-1-1-8-7-2-8-8-5-8-4-8-0-8-1-8-1-5-9-4-9-2-1-8-0-1-5-8-0-3-5-9-4-0-4-5-7-3-3-4-2-9-6-2-3-7-1-6-3-7-6-3-0-8-6-4-6-2-9-4-7-7-6-3-1-0-0-0-9-5-5-2-4-1-8-0-7-2-8-4-5-9-1-0-4-3-0-5-8-8-5-0-9-5-9-9-2-7-9-6-9-2-2-9-9-9-5-6-0-2-3-2-9-8-4-3-4-6-9-5-2-9-2-2-1-6-7-5-5-4-1-5-0-4-3-3-4-2-8-8-8-0-9-8-9-8-5-3-9-9-8-7-3-7-0-4-2-5-7-0-6-0-7-9-5-0-6-4-1-4-8-0-1-7-3-4-6-3-2-4-2-7-8-2-1-7-9-1-9-1-4-7-6-3-9-8-3-9-6-3-9-7-9-8-8-2-0-0-8-3-0-6-0-5-4-7-7-9-1-4-3-9-3-0-2-6-7-2-5-5-1-7-8-0-4-6-7-0-7-0-7-3-8-9-2-8-7-2-1-3-1-3-5-1-5-7-3-6-8-5-8-1-5-4-0-9-3-4-8-8-6-5-4-6-5-9-1-1-9-2-5-1-7-1-4-5-2-4-2-9-3-4-9-3-6-1-1-0-9-6-2-3-4-7-0-7-1-1-1-9-4-4-8-9-5-8-2-9-2-0-9-2-5-4-7-1-1-0-8-3-7-7-8-5-9-3-6-2-4-5-9-7-8-3-3-6-7-8-6-7-1-0-5-1-2-8-5-4-3-0-6-0-1-1-9-3-6-2-3-5-6-1-6-1-4-9-8-6-9-4-3-6-8-7-0-7-2-1-5-3-2-2-2-3-7-9-8-5-0-0-8-5-5-7-0-1-5-3-4-4-0-8-2-6-6-7-3-6-4-2-8-8-9-9-1-4-9-5-5-2-2-1-9-9-4-3-5-5-3-9-2-8-9-2-8-8-9-2-2-2-4-4-8-4-3-0-0-3-3-8-0-2-4-2-5-8-7-4-7-6-1-6-0-4-0-9-2-6-9-2-5-1-1-9-4-3-8-2-0-7-4-1-3-8-4-6-0-2-1-6-3-0-1-3-2-2-7-3-6-1-1-7-9-6-6-6-1-6-2-2-0-7-7-0-9-0-6-6-7-6-6-7-0-8-9-4-5-9-4-4-2-4-4-0-0-6-6-8-7-6-3-4-5-3-2-5-8-7-9-7-6-4-6-0-4-1-8-7-9-4-3-8-3-6-8-5-3-8-7-9-5-5-7-8-8-5-3-0-7-3-1-9-5-3-4-9-0-2-2-8-7-9-5-1-8-1-1-6-2-5-9-7-8-0-6-5-3-6-8-6-2-5-1-2-4-7-3-9-6-7-8-4-3-7-1-0-5-9-4-7-7-8-7-2-9-1-8-1-3-9-0-5-5-3-5-4-9-5-2-3-8-2-0-4-9-4-5-8-6-7-6-5-3-0-9-5-1-0-4-2-0-0-4-6-5-3-3-1-6-2-9-1-1-6-7-1-0-3-2-0-8-4-0-8-3-9-7-9-3-4-0-1-4-7-0-5-8-0-7-0-0-9-6-5-5-4-2-6-4-0-8-0-3-7-2-1-8-2-9-4-2-0-5-9-4-5-5-9-0-9-4-1-0-9-9-3-3-3-0-6-8-7-0-8-3-7-5-6-5-8-1-9-5-4-2-4-2-0-1-3-1-4-6-2-9-3-7-1-8-2-4-5-4-4-5-9-8-9-3-6-6-2-9-2-0-6-8-7-3-6-8-0-0-4-5-6-9-3-8-6-1-8-1-4-2-8-3-1-6-4-4-2-8-1-8-5-7-7-3-4-6-4-0-7-2-1-7-6-9-9-3-1-8-0-5-5-7-0-5-0-0-3-9-3-9-1-4-6-2-7-5-8-8-4-8-6-0-2-0-1-4-4-9-7-5-5-2-7-1-0-4-6-7-1-4-9-7-5-0-7-0-3-8-8-6-3-8-1-9-1-5-6-4-7-7-2-7-2-0-3-1-1-5-2-9-7-2-7-8-4-4-5-2-4-5-9-2-2-4-9-8-6-1-4-2-9-9-8-3-6-8-2-9-3-1-1-9-9-4-5-3-3-9-2-7-5-2-7-9-0-0-2-2-1-2-2-9-6-0-0-2-6-2-5-3-2-0-7-4-9-7-1-0-3-1-6-9-2-4-3-7-8-8-1-1-8-0-9-6-5-1-0-7-1-5-7-4-4-7-5-5-5-6-1-3-1-3-5-0-3-4-2-6-6-7-0-4-7-1-4-9-5-0-8-6-5-2-3-8-3-0-3-8-0-8-0-6-5-2-0-1-7-7-8-8-9-6-1-7-6-1-4-0-6-8-5-4-3-3-5-4-6-9-3-8-8-4-9-1-8-3-4-5-1-6-5-8-0-6-6-5-5-0-3-2-9-3-1-0-1-4-7-6-7-1-9-2-5-9-7-8-0-2-6-2-2-6-1-1-8-1-6-0-2-1-3-4-4-6-3-0-5-2-8-3-8-1-9-7-3-8-9-9-5-2-3-0-7-5-5-6-0-2-2-9-0-3-7-7-3-1-6-5-7-7-6-4-7-6-7-3-9-5-3-9-5-4-4-5-7-6-6-7-7-8-1-3-6-8-3-2-9-2-9-1-7-6-9-3-3-0-4-9-1-6-8-0-0-8-8-4-8-7-2-0-2-5-5-0-7-4-5-0-2-1-8-5-7-1-3-0-2-2-4-7-4-7-6-5-8-0-9-7-6-1-6-8-3-5-8-8-8-3-0-3-1-0-1-6-1-8-6-1-8-7-3-1-8-3-7-8-3-3-4-3-5-5-9-3-0-1-9-0-8-2-1-8-4-8-4-1-1-2-2-6-4-6-5-6-8-3-0-4-9-0-4-3-6-3-5-3-0-3-3-8-0-5-1-1-0-4-4-7-5-4-7-7-6-6-3-2-1-5-4-1-6-2-5-9-2-2-2-6-4-9-8-8-5-2-2-8-1-6-9-0-3-4-5-8-6-4-7-3-6-8-2-4-7-6-9-3-7-2-9-3-9-7-2-9-4-1-2-0-9-8-3-4-4-2-1-0-7-9-3-0-9-0-2-8-6-2-9-5-9-3-5-7-4-2-6-4-4-6-0-8-5-5-1-2-1-8-5-9-3-8-5-2-7-5-1-5-9-7-2-0-1-3-1-7-4-9-3-7-9-5-7-9-3-5-4-4-1-6-6-2-0-9-6-9-7-8-5-4-3-3-2-4-4-2-2-1-7-2-5-8-4-2-5-1-9-4-9-3-0-0-3-1-4-5-8-1-9-6-7-3-4-8-4-5-0-1-6-4-2-6-6-5-9-0-9-7-4-8-6-1-7-7-9-3-4-9-0-2-3-5-3-9-0-0-6-2-2-1-2-8-8-0-1-7-2-7-1-7-5-3-5-8-2-5-5-9-3-8-8-7-3-2-0-5-0-7-8-5-3-7-8-8-0-4-5-0-6-9-9-1-6-7-4-6-4-2-7-5-6-7-8-4-9-6-8-6-4-6-3-7-1-8-1-0-6-0-5-5-6-9-7-1-6-0-9-7-9-9-0-1-0-3-7-2-7-9-1-9-9-6-8-9-5-1-8-3-1-8-6-6-8-7-7-6-4-6-4-9-7-5-4-3-4-5-1-4-8-1-9-8-0-7-5-6-3-1-9-4-8-3-7-2-5-1-6-0-8-3-1-6-1-6-4-0-6-2-0-0-7-0-4-2-7-5-2-9-7-0-7-2-0-1-0-6-3-0-3-8-2-1-2-9-2-5-0-9-9-3-9-5-0-3-6-9-8-2-2-4-7-9-9-4-1-4-9-3-7-7-0-2-0-5-6-9-2-6-5-2-7-0-2-0-3-9-8-2-3-3-3-9-5-5-6-4-6-8-9-8-0-3-3-7-2-2-5-7-8-2-4-6-0-7-0-4-7-3-2-1-3-4-9-9-3-7-5-4-7-5-6-9-5-0-0-8-1-0-4-5-9-5-9-0-1-4-0-7-2-9-2-5-5-5-9-0-4-6-3-9-1-7-2-9-6-8-8-4-3-0-9-8-3-1-8-1-3-9-5-1-0-2-5-3-0-6-9-3-1-1-8-8-4-8-6-7-3-8-7-4-8-4-3-5-5-7-7-2-6-8-8-5-6-5-4-6-5-5-1-8-9-3-7-8-5-5-9-8-9-6-2-5-2-2-1-7-8-7-4-3-8-6-6-3-4-6-7-4-4-2-8-3-3-4-1-3-1-0-8-0-4-7-3-7-9-5-6-1-3-0-6-2-1-9-7-8-9-3-4-3-1-3-7-4-8-6-0-0-9-9-7-9-1-2-9-6-1-4-5-1-6-8-2-9-0-6-2-5-8-0-7-0-5-8-3-5-0-6-2-6-6-7-5-1-6-2-3-4-7-3-0-5-1-9-2-2-8-8-2-6-1-5-4-2-3-7-0-2-9-1-3-7-9-9-0-0-4-6-7-1-4-5-3-4-6-9-2-5-4-3-1-8-1-2-0-8-6-2-5-6-2-5-0-4-0-4-2-4-2-1-4-6-5-4-7-8-2-8-7-6-5-6-0-6-0-2-0-1-3-6-6-5-7-9-8-4-4-3-3-9-9-4-1-8-3-1-7-1-3-1-8-7-1-9-5-2-8-8-9-1-8-4-0-2-8-7-2-7-0-0-2-1-4-5-6-9-6-4-3-5-5-3-3-9-5-6-9-1-2-4-4-4-7-4-0-8-3-5-0-5-2-3-1-0-7-1-8-5-7-6-9-8-6-9-8-6-4-6-8-7-9-0-2-1-9-1-7-8-1-7-0-8-6-7-7-1-6-6-1-5-0-1-0-3-0-0-8-1-7-2-1-3-9-1-4-7-7-2-0-7-0-2-4-3-1-4-2-6-1-5-3-2-3-6-4-1-2-8-7-1-0-8-8-1-7-1-7-7-5-4-2-1-6-0-8-1-8-3-9-6-5-9-3-3-4-4-9-2-7-9-1-3-5-6-7-9-8-3-5-8-3-0-5-4-4-8-5-0-2-9-7-4-2-4-3-0-9-6-1-1-6-9-6-8-4-0-3-8-3-5-8-1-5-9-5-9-8-5-5-9-5-4-7-5-6-0-7-8-3-5-5-4-6-7-1-5-8-2-8-9-0-5-2-4-7-7-4-1-2-0-7-5-6-8-5-5-9-5-7-4-9-2-9-6-8-2-5-9-4-9-4-5-7-9-6-0-1-3-6-3-2-9-3-8-1-1-1-9-4-2-8-2-6-1-7-1-4-5-6-6-2-2-9-5-7-3-3-5-4-1-3-3-7-7-2-7-5-4-8-0-9-4-9-0-5-6-9-5-5-1-4-2-8-6-5-9-6-1-1-4-6-4-8-3-7-1-2-1-4-0-6-2-7-5-6-6-2-1-6-9-3-2-5-8-2-1-4-7-7-7-6-8-1-7-4-9-8-4-8-9-8-6-5-2-7-9-1-8-0-7-1-0-1-5-3-7-2-1-7-7-6-3-7-0-8-8-0-2-6-2-5-7-7-8-7-6-0-9-8-4-1-4-3-4-8-9-6-6-4-0-5-3-0-2-6-0-3-0-7-4-9-3-8-5-0-4-3-9-7-3-8-3-6-3-5-2-9-7-1-7-5-0-8-4-6-9-9-8-7-1-6-1-9-7-6-7-2-4-9-2-4-2-9-2-3-2-6-7-2-2-5-1-4-8-2-0-0-3-6-0-3-6-5-7-8-5-0-4-9-8-4-6-4-2-2-6-7-9-1-3-1-1-3-4-3-6-5-8-7-6-9-0-2-5-1-1-2-8-8-8-0-6-6-0-3-6-1-7-8-4-0-0-2-8-5-2-0-0-9-2-3-9-6-0-0-0-6-0-1-5-1-0-0-9-0-4-1-6-3-6-1-9-4-9-4-5-4-4-3-2-1-2-0-8-3-3-3-2-4-0-8-9-9-2-8-4-9-0-7-1-0-8-3-3-2-5-5-3-0-2-0-7-1-0-3-0-7-3-1-3-7-9-7-9-2-9-0-6-7-5-9-5-8-7-7-6-1-4-0-3-1-5-1-6-4-0-6-6-1-1-4-1-0-1-0-1-5-6-9-9-9-9-8-6-6-0-7-3-9-7-0-7-3-8-1-3-5-0-6-9-1-2-2-7-8-0-4-2-0-2-4-5-1-7-9-4-6-2-2-6-9-4-1-3-2-5-5-7-4-2-7-2-3-6-8-7-3-8-1-8-7-3-6-7-8-3-9-0-8-5-9-6-9-5-0-7-1-9-4-7-2-2-5-0-2-7-4-5-5-9-6-7-8-5-3-0-4-9-4-1-9-1-5-8-1-5-4-5-3-7-5-6-6-7-2-4-2-3-8-1-3-3-1-4-4-9-0-5-7-1-5-8-6-7-5-3-2-1-1-1-2-7-2-3-7-9-2-7-8-5-2-7-8-0-9-5-2-0-6-0-0-1-0-5-3-7-8-3-7-6-7-3-4-9-2-5-3-8-9-0-4-3-6-3-1-5-2-0-6-3-9-0-6-1-4-1-7-8-7-3-9-5-7-4-8-6-6-4-1-4-8-4-5-2-8-1-2-3-1-3-8-5-3-3-2-5-6-2-3-7-0-5-3-5-8-0-6-1-2-3-0-2-0-0-0-1-4-5-3-2-4-0-3-6-5-8-0-5-8-6-4-6-2-6-9-2-0-7-7-8-8-9-0-0-8-5-3-6-2-7-7-2-6-2-8-7-1-2-4-9-4-6-4-9-9-9-0-6-4-4-9-8-0-6-9-3-8-2-1-3-4-8-2-7-5-4-2-9-8-0-2-5-1-9-4-0-2-6-9-1-8-6-8-3-4-6-1-8-8-3-9-8-3-2-5-3-8-9-9-6-6-5-2-8-5-7-3-5-8-9-0-5-1-5-6-5-0-1-6-2-5-2-1-0-0-4-0-3-6-9-2-7-1-6-8-4-4-8-4-4-9-4-8-9-3-9-0-9-8-8-7-3-2-1-4-7-1-5-5-7-3-1-4-1-0-2-0-5-0-7-1-6-2-7-6-5-8-9-6-0-3-1-6-8-0-4-4-6-9-3-3-0-3-3-9-8-1-4-4-4-4-7-7-1-7-2-4-1-9-8-5-3-1-2-1-3-6-6-2-2-0-7-2-9-0-0-4-2-4-0-9-8-3-1-8-7-7-0-7-9-1-6-5-3-6-6-8-6-0-6-1-5-5-9-4-8-3-4-9-9-2-7-4-3-3-5-1-9-0-3-9-6-7-0-4-3-1-8-6-6-0-8-4-1-6-1-4-0-4-9-6-0-8-7-9-0-5-5-2-8-3-5-2-4-0-1-1-7-1-9-6-6-0-4-7-8-3-1-5-5-3-9-7-9-2-1-1-6-6-2-8-9-5-0-5-4-2-2-9-0-1-4-1-1-7-9-7-9-7-2-3-6-9-6-7-9-7-7-5-9-3-3-5-0-7-4-9-8-4-8-3-7-6-6-6-7-7-0-8-2-5-7-2-8-8-2-0-9-4-2-2-9-3-1-7-2-3-4-5-4-2-7-4-2-7-6-8-9-1-1-8-4-1-7-3-8-1-1-3-3-8-2-5-7-5-1-4-2-2-7-8-4-5-8-6-7-4-1-1-2-5-1-4-5-3-2-1-8-4-4-5-2-8-0-8-2-6-3-7-5-7-6-8-9-2-9-6-9-3-8-2-6-5-0-4-6-8-0-4-4-8-1-2-1-0-1-6-8-4-4-2-5-0-5-0-9-0-4-9-2-4-2-2-6-0-6-7-5-8-6-6-0-6-6-0-4-1-7-3-8-3-1-3-2-5-6-9-1-8-9-0-0-6-4-0-2-9-0-0-1-4-1-9-3-8-2-5-8-9-7-4-0-9-7-7-0-1-8-0-5-4-7-5-3-6-3-3-5-8-4-0-9-5-9-7-8-4-6-7-7-0-0-6-3-4-4-1-0-9-4-6-3-6-0-3-5-5-2-8-3-4-7-4-1-8-7-5-7-1-7-3-7-3-5-1-5-7-8-2-3-8-9-5-9-1-2-6-9-1-0-8-5-3-4-0-1-5-9-1-9-3-5-3-9-8-6-0-6-6-8-0-8-7-9-1-7-2-5-5-5-5-4-9-2-3-6-8-3-9-9-4-2-3-3-3-2-5-3-3-4-0-8-7-2-4-0-8-0-1-2-6-1-7-8-7-5-1-9-2-5-9-3-8-2-3-2-6-5-6-0-8-2-7-8-9-9-8-5-1-3-7-9-0-9-9-6-0-2-9-7-5-7-1-2-0-6-0-6-0-8-1-5-6-9-0-4-9-1-2-3-0-5-4-5-6-6-0-9-5-2-9-4-5-9-2-7-4-1-3-2-5-4-2-1-9-4-0-2-3-7-1-4-7-0-6-2-1-7-3-1-8-8-3-4-5-0-9-9-8-6-0-9-2-7-3-6-2-6-0-5-9-7-1-3-9-0-6-5-6-2-1-3-9-4-1-3-9-8-3-5-9-2-4-1-1-5-1-6-0-2-1-6-3-4-5-2-1-9-5-8-9-1-8-4-0-5-7-5-6-9-5-7-3-4-7-0-8-4-9-3-4-5-2-7-1-2-9-2-5-2-5-0-6-6-8-5-4-0-4-8-0-0-8-9-3-9-4-7-3-5-1-0-6-1-7-1-2-5-6-2-7-9-1-9-9-7-0-0-5-6-9-2-2-2-4-5-4-3-9-1-2-2-7-6-3-5-6-5-7-9-2-4-8-1-0-0-1-5-6-7-4-5-9-0-6-3-7-4-3-7-7-8-3-9-9-0-8-2-3-7-0-7-8-0-9-3-2-3-3-9-7-5-5-8-8-5-3-4-1-4-1-1-7-7-8-8-1-5-0-5-6-5-0-6-4-2-3-3-7-1-6-3-9-5-2-3-4-7-3-6-3-4-4-2-1-2-0-6-3-4-6-1-9-4-1-8-1-8-1-0-6-0-4-4-3-1-3-9-7-4-8-7-9-6-8-0-9-7-1-4-6-3-7-0-7-3-8-0-6-6-2-9-6-5-8-7-4-1-5-8-8-2-5-1-8-7-2-3-8-9-2-4-7-7-2-4-8-4-1-1-0-8-4-6-4-6-6-5-6-0-8-3-1-6-2-9-9-4-8-5-0-4-2-2-0-3-8-5-3-8-8-3-5-8-3-4-1-0-6-2-5-6-2-6-8-3-0-3-7-3-7-9-1-4-3-4-6-5-6-9-0-1-5-0-0-2-8-3-2-4-8-7-0-0-1-2-4-3-2-5-8-7-6-7-8-8-4-1-7-5-3-6-1-5-7-0-4-7-2-8-6-8-8-9-1-7-8-2-6-7-2-2-0-7-9-8-4-8-7-2-8-5-5-5-4-7-0-0-1-3-2-2-6-8-0-3-6-8-1-6-7-8-9-4-9-0-4-1-8-5-1-8-9-0-5-5-3-2-7-1-8-0-5-0-3-2-3-1-2-8-0-8-7-7-5-3-5-8-0-4-4-2-0-2-0-8-5-1-3-7-8-2-2-5-9-4-2-7-5-7-3-2-3-2-4-2-9-6-9-8-1-1-3-9-1-1-6-3-3-6-9-6-3-2-3-8-5-7-6-7-7-3-8-7-4-0-8-9-1-6-5-8-1-4-3-2-3-1-8-9-3-1-7-9-9-7-2-0-4-4-6-6-2-6-6-2-1-5-7-7-7-9-0-1-7-7-2-0-8-6-7-3-8-6-0-9-8-1-4-0-2-8-1-2-3-4-0-0-9-5-6-7-0-2-1-0-6-5-2-6-5-6-1-1-9-3-2-8-7-9-1-3-6-5-2-4-3-4-1-3-0-4-6-4-0-6-5-7-7-4-4-3-6-6-0-0-8-6-2-2-6-4-9-8-1-3-0-5-8-0-7-7-8-9-3-5-7-2-1-9-5-5-9-6-5-0-3-4-4-8-9-1-6-0-6-8-3-8-1-7-9-5-0-4-1-1-9-2-5-4-1-3-6-3-4-6-5-9-5-7-7-2-5-6-9-8-1-9-8-9-6-4-1-3-6-4-0-2-1-9-1-6-9-8-6-4-1-8-6-3-7-6-4-9-5-1-4-8-2-0-9-5-4-0-4-5-4-5-6-4-7-3-8-2-8-8-7-0-1-6-9-7-8-3-4-2-5-1-3-9-8-1-0-9-1-7-9-6-6-9-7-0-3-0-3-6-2-3-5-0-4-9-1-7-3-9-6-4-8-5-3-3-3-6-4-8-0-5-0-7-4-6-3-4-6-1-9-0-4-3-5-8-5-1-7-7-4-2-1-5-1-0-3-9-7-2-2-0-9-5-2-7-8-9-4-2-6-1-5-5-1-7-3-8-7-4-6-2-7-7-7-1-2-8-0-3-9-9-4-2-4-1-0-3-7-8-4-5-5-8-0-9-4-5-0-0-5-3-5-4-2-5-9-2-2-2-9-9-0-6-0-7-3-4-5-4-6-3-8-2-8-6-9-5-5-0-7-6-8-4-4-0-8-6-0-7-8-3-2-8-4-6-2-3-3-2-0-1-7-2-9-6-3-9-0-4-1-5-4-2-1-0-4-4-4-4-5-1-0-3-3-3-7-1-4-1-6-5-7-9-6-7-7-8-4-5-2-2-7-6-5-8-9-2-0-4-4-8-7-4-8-5-6-2-9-0-7-3-8-1-0-3-2-0-5-9-7-3-2-4-9-6-3-1-4-6-1-3-3-1-1-1-4-8-8-9-5-7-4-0-9-0-4-2-8-3-1-1-8-8-9-9-8-8-9-0-5-6-3-8-1-0-1-5-9-5-2-0-2-2-5-9-6-9-9-4-0-8-6-5-0-9-2-6-8-4-4-6-6-7-6-1-7-6-5-8-0-7-2-1-4-2-9-1-2-7-5-3-2-8-6-8-1-3-0-3-5-1-8-8-4-5-6-1-6-0-7-1-7-1-3-4-2-9-8-1-0-0-9-0-6-6-0-2-2-0-9-7-3-9-1-1-5-0-7-6-0-0-3-8-3-1-2-5-7-5-1-2-5-5-7-5-3-4-7-6-0-0-7-5-2-3-6-0-9-3-2-5-8-3-0-8-7-1-2-1-3-0-1-7-1-9-6-0-2-7-4-6-7-1-6-3-1-2-7-4-4-9-2-0-7-9-9-9-2-7-3-2-6-1-7-3-7-0-9-5-2-2-8-4-1-6-6-1-3-6-5-3-1-1-1-5-0-6-5-7-9-9-1-6-4-8-3-5-9-9-4-3-4-2-5-9-3-6-9-8-8-7-4-4-1-4-3-3-5-2-5-7-9-8-6-6-9-9-6-2-0-6-5-7-9-8-3-2-5-8-8-8-4-4-1-2-4-7-8-2-7-5-8-0-5-6-3-7-6-4-5-3-4-0-0-0-3-2-1-5-9-7-1-8-2-3-6-4-6-7-9-2-8-1-0-5-5-8-9-1-4-8-6-7-6-5-6-1-4-2-5-9-1-9-9-3-3-7-7-9-5-5-4-7-8-7-2-9-8-8-9-4-8-3-0-5-8-5-7-3-0-0-4-7-2-0-9-4-6-3-2-0-3-2-4-7-5-3-9-5-1-8-6-3-0-4-6-3-0-8-4-6-1-7-0-2-5-1-5-2-5-8-4-9-9-5-7-2-7-2-5-0-3-3-6-3-5-6-6-0-1-1-0-1-9-1-7-6-9-6-6-1-2-9-6-7-6-0-0-2-7-9-9-6-0-3-5-9-2-3-3-4-7-6-5-5-9-1-8-7-2-8-8-3-9-4-4-7-7-4-0-5-1-7-6-0-8-9-0-7-9-2-9-1-3-3-4-1-8-3-2-5-0-2-3-2-2-5-3-4-5-3-5-7-5-6-5-8-4-4-0-3-1-3-5-0-3-2-0-6-7-8-6-5-3-5-3-0-7-9-6-8-3-8-3-1-8-1-4-7-2-6-9-9-4-7-1-9-8-8-4-8-4-9-7-4-8-7-7-4-1-5-7-9-6-3-5-6-4-1-8-2-7-7-1-9-2-6-4-0-9-0-1-4-3-0-5-8-5-4-2-0-6-2-3-0-5-5-2-5-6-0-4-4-2-7-7-7-0-9-0-3-7-8-2-6-8-7-6-8-4-0-3-0-9-1-5-4-8-1-9-2-3-5-0-8-0-8-8-3-3-7-7-2-2-8-9-1-8-1-6-1-3-5-4-0-7-0-6-6-4-9-5-8-6-9-4-1-1-6-1-8-1-7-6-6-7-7-2-5-9-9-8-6-9-1-4-3-5-6-5-2-7-8-4-8-9-0-3-2-1-4-4-3-2-0-1-8-3-7-8-6-1-0-4-6-5-1-8-1-2-2-1-1-5-6-4-4-8-4-3-8-9-5-9-1-0-4-5-5-1-3-0-9-8-4-9-2-8-9-1-7-0-6-2-2-9-4-8-2-1-2-4-0-0-1-3-8-5-2-9-2-0-0-1-2-5-2-2-8-9-9-2-3-6-7-0-7-2-0-6-6-3-1-7-5-8-6-8-2-9-1-9-5-9-5-6-6-2-7-3-7-4-3-1-3-7-0-9-2-9-7-6-5-3-0-0-3-4-8-7-8-4-6-2-0-5-0-8-2-7-9-5-7-7-3-5-0-2-9-8-4-4-9-8-6-4-3-1-6-4-2-9-4-0-1-1-3-1-3-4-5-6-7-4-6-5-5-1-2-8-9-6-9-5-3-7-3-6-0-7-6-8-4-2-9-9-2-5-8-9-6-2-0-1-6-2-5-0-9-0-0-5-0-2-4-7-7-1-9-8-5-6-7-9-9-8-6-4-9-0-0-0-1-3-4-1-3-1-1-7-1-1-0-5-1-3-8-7-3-2-3-2-9-4-9-7-0-9-7-5-9-5-0-1-3-1-7-2-4-8-4-2-9-2-8-3-4-4-9-8-7-3-0-9-3-9-2-8-7-2-0-9-0-1-2-5-5-5-6-6-9-5-7-4-0-9-4-9-4-9-1-5-3-3-1-4-8-6-5-6-0-5-1-7-4-6-3-2-9-4-0-5-8-4-5-2-8-0-5-9-8-2-1-4-7-1-5-8-8-9-3-1-8-9-5-2-1-8-3-1-2-5-0-6-4-4-1-2-7-6-7-3-7-4-6-6-2-2-4-9-3-4-7-7-9-1-3-8-8-4-4-2-2-8-8-7-8-6-8-2-0-2-2-0-0-8-2-7-0-9-1-3-5-4-5-9-8-0-4-3-7-7-1-5-3-5-1-2-8-9-6-6-2-9-4-3-3-7-0-1-2-7-2-7-3-5-0-4-2-6-6-9-3-8-1-0-9-6-2-8-8-3-1-4-5-0-5-8-2-0-0-5-1-0-2-8-5-6-6-8-7-6-6-2-3-6-0-8-9-1-8-2-9-0-3-6-9-5-6-4-0-6-7-7-1-7-2-7-8-4-1-4-6-5-0-8-7-5-3-1-6-6-3-2-2-3-5-5-1-7-9-7-7-6-8-6-8-5-6-3-5-6-0-4-5-1-6-6-4-3-4-7-8-8-9-5-3-4-8-3-3-1-0-6-4-0-8-4-2-4-9-2-9-4-8-6-2-3-5-6-1-8-3-9-2-1-2-3-4-1-9-1-3-0-5-7-1-7-7-4-2-6-5-7-3-8-3-5-3-0-0-5-6-8-1-6-2-7-4-0-3-5-7-7-8-0-7-6-4-3-9-9-2-5-7-9-1-0-9-3-6-1-3-6-4-2-4-1-7-1-3-6-4-7-8-1-0-1-1-4-5-8-9-3-0-9-0-5-0-7-7-0-4-6-1-2-0-1-8-1-8-2-5-0-6-2-9-0-2-5-8-1-3-0-9-7-5-9-7-2-3-8-5-2-4-3-7-0-7-1-9-4-3-6-1-3-5-5-9-8-4-2-4-5-1-7-9-9-7-0-8-4-9-9-8-0-7-3-0-4-0-7-7-1-0-0-1-1-5-1-7-1-2-0-8-6-3-3-7-7-6-0-3-3-2-0-8-3-5-0-1-2-3-3-6-4-3-0-4-6-7-0-2-4-9-3-8-5-6-7-7-1-7-6-4-8-7-6-2-3-1-4-9-7-9-8-3-2-9-5-0-9-3-9-3-3-7-8-0-4-9-5-1-9-2-8-2-7-9-1-6-2-5-8-5-1-4-2-2-7-8-0-0-2-8-6-4-2-9-5-8-5-4-9-8-6-6-8-1-4-0-5-3-1-7-6-1-2-7-0-1-8-2-8-7-9-3-2-0-8-1-0-5-8-6-5-2-7-6-6-4-3-9-6-0-1-2-0-5-9-6-7-6-1-6-0-1-0-9-4-3-8-7-9-4-8-5-8-9-3-7-4-4-0-8-1-7-9-3-3-2-9-8-5-8-9-5-8-4-5-7-4-5-0-4-2-5-2-0-2-3-5-8-2-6-1-5-1-4-6-4-8-8-9-7-7-7-1-3-9-8-3-1-4-3-0-5-4-7-0-3-2-0-4-6-1-6-9-0-3-5-8-6-3-6-9-3-4-6-6-8-6-9-7-3-7-2-1-3-1-0-1-4-8-4-3-9-1-2-9-8-4-2-3-5-9-4-4-0-8-7-3-5-6-9-8-7-5-1-5-4-9-6-8-9-4-1-8-2-8-3-7-6-2-0-8-7-6-7-6-4-6-3-7-6-9-3-3-6-7-0-5-1-0-5-6-9-6-6-7-5-4-1-1-4-2-6-9-4-2-7-0-0-2-4-2-1-3-2-9-2-7-5-0-0-7-3-3-8-7-8-5-6-4-5-2-5-5-1-9-3-1-2-4-5-6-6-5-8-5-6-4-4-9-2-0-4-0-8-5-2-5-6-2-9-3-7-0-2-1-1-6-2-0-0-9-8-1-5-1-5-4-9-6-4-4-3-9-2-1-1-7-5-0-7-5-8-2-0-6-6-2-0-7-2-9-2-0-7-6-3-5-2-1-6-7-2-5-0-8-2-1-5-6-8-6-9-9-8-5-4-7-1-4-9-3-0-3-2-8-9-9-0-2-0-0-0-4-1-2-2-4-7-0-8-9-2-2-6-5-6-6-0-8-8-3-4-2-2-6-6-5-4-1-2-3-4-7-5-4-7-5-9-0-9-7-6-5-8-3-1-3-4-0-5-8-1-5-8-8-5-7-3-9-3-3-0-9-1-1-5-7-2-7-0-1-2-1-4-7-4-8-7-8-3-4-8-2-7-2-1-4-3-7-0-9-1-7-1-5-9-1-6-0-8-3-2-8-1-0-8-8-9-1-5-4-2-7-4-4-5-7-6-3-8-0-1-6-2-5-6-5-2-2-1-4-7-5-1-7-6-8-7-4-5-3-9-9-5-1-4-1-9-7-8-6-6-2-2-1-8-2-9-9-1-5-4-6-3-4-3-7-8-7-5-6-6-1-1-3-0-6-2-7-0-8-7-4-9-6-1-2-3-1-3-7-7-9-9-0-1-9-5-9-6-9-4-7-3-9-9-4-1-5-6-4-9-2-8-9-5-2-0-2-8-3-3-6-0-1-5-2-0-9-9-8-8-6-3-5-0-7-2-9-0-3-0-5-7-0-3-6-6-4-5-7-7-8-8-3-3-0-8-0-0-8-8-9-0-3-6-3-4-8-9-8-5-7-9-9-4-8-2-2-3-7-6-4-6-6-6-5-3-4-5-5-0-9-0-5-9-3-6-1-3-6-0-6-8-1-2-0-4-3-9-3-1-5-5-2-5-0-5-3-8-7-8-4-1-0-1-5-6-4-8-7-8-9-3-0-3-7-1-9-2-9-7-8-0-4-8-3-5-6-0-5-1-3-9-0-7-1-6-2-0-2-1-4-7-6-2-0-6-0-6-4-5-7-4-2-2-9-3-1-4-7-3-4-8-1-4-4-1-6-5-2-9-3-4-6-8-1-4-5-8-1-9-3-5-3-2-7-7-5-1-3-3-7-1-8-2-4-9-1-6-1-0-9-6-4-4-6-1-6-0-0-7-4-4-5-8-3-9-8-7-4-2-9-2-3-7-5-4-4-3-3-9-9-4-0-6-0-9-6-4-5-4-0-8-4-4-9-4-7-8-9-7-6-0-9-7-8-8-9-2-2-5-9-4-6-0-0-5-8-8-3-0-8-2-1-2-9-7-2-6-8-5-9-7-7-2-3-2-3-1-0-7-3-7-1-9-4-3-2-1-9-7-5-5-5-1-3-0-4-1-2-3-5-0-8-3-3-9-5-2-6-7-6-9-2-6-5-0-0-6-6-1-7-9-7-6-1-9-1-6-2-9-7-2-5-4-5-4-3-3-9-7-0-7-2-9-8-2-2-3-5-0-5-0-0-1-3-1-7-2-0-8-2-5-5-4-9-2-1-7-0-6-7-1-6-3-5-8-3-1-8-0-1-3-5-1-1-4-5-8-7-5-9-0-9-2-1-0-4-9-5-6-6-5-9-4-0-8-2-8-4-6-7-7-3-6-6-1-5-8-4-2-9-0-2-2-3-2-2-6-7-8-0-5-4-9-8-6-2-4-0-8-4-1-4-6-9-2-7-1-8-9-7-8-1-0-8-1-6-1-6-7-4-9-6-8-2-8-6-5-2-3-5-3-1-7-9-7-8-2-4-1-0-8-6-8-6-8-0-0-8-1-4-0-3-9-9-8-3-9-4-3-5-9-4-1-1-9-6-1-3-2-5-3-0-4-5-4-5-8-4-7-3-8-8-4-8-5-2-2-0-1-9-5-4-5-1-6-3-6-2-5-0-3-7-3-0-5-2-8-4-4-2-0-4-3-4-2-0-2-6-9-4-2-6-4-2-1-3-0-7-0-0-8-6-0-5-4-9-1-7-8-4-1-7-4-5-9-8-6-4-6-5-9-1-5-1-0-9-9-3-3-1-8-6-5-4-0-3-1-2-7-7-7-1-8-3-4-7-7-2-6-0-4-1-1-7-5-1-0-4-7-0-6-0-8-2-7-3-5-8-6-6-5-7-7-0-1-2-8-5-7-8-7-9-6-8-7-3-6-3-5-7-9-3-9-3-5-3-1-1-3-7-6-3-4-9-3-6-8-3-2-6-6-2-8-1-3-6-1-2-9-9-4-5-1-5-2-7-5-3-8-6-7-6-5-0-2-1-3-4-7-0-9-4-9-8-0-7-2-1-3-8-4-7-8-1-5-4-4-4-5-2-6-1-1-1-2-5-5-3-0-9-6-4-4-9-8-6-4-4-5-9-7-8-1-2-5-6-6-9-7-0-8-0-0-1-2-3-7-1-6-9-7-3-1-2-8-1-6-5-3-8-9-6-5-9-4-5-7-4-0-2-2-4-7-8-1-1-4-7-8-1-0-3-0-1-8-9-2-7-6-3-2-4-1-8-4-6-5-7-9-3-6-1-8-8-9-2-1-0-5-7-6-3-6-0-8-2-3-0-6-8-4-0-3-9-1-9-0-8-8-2-0-4-9-4-3-7-7-3-9-8-5-3-3-9-9-2-7-2-5-0-7-1-3-2-2-0-6-2-7-4-7-8-9-5-5-7-6-5-5-8-9-5-5-8-4-4-6-0-1-4-5-5-1-2-8-5-6-4-4-5-3-6-6-1-9-3-3-0-0-1-2-9-6-5-9-9-0-6-5-6-5-4-1-7-2-6-8-8-2-8-3-3-7-9-8-6-3-7-2-9-3-3-7-4-7-9-0-8-3-7-5-0-1-5-4-0-5-8-9-7-1-8-7-6-3-3-5-7-0-2-8-9-3-0-7-9-9-2-8-5-2-5-1-1-2-4-7-5-4-1-2-4-0-7-6-5-0-4-8-8-9-6-8-9-4-4-9-6-4-8-2-8-2-6-5-8-7-2-5-7-5-1-6-6-3-4-3-6-8-0-4-1-1-2-6-7-6-2-7-2-9-6-5-0-1-3-6-6-8-2-7-4-0-3-7-3-9-5-3-3-0-6-9-4-7-7-1-5-6-5-9-7-3-8-6-9-0-9-3-3-5-2-3-8-9-0-2-2-3-1-8-3-4-1-0-3-8-1-0-2-4-3-7-4-9-7-2-1-8-8-0-9-7-8-2-8-0-3-0-7-7-5-1-1-9-6-4-0-6-5-0-3-0-4-1-0-9-0-6-9-7-9-7-4-3-4-0-6-6-3-1-7-5-0-8-2-5-1-0-4-4-2-6-2-1-2-1-6-4-0-0-7-5-5-2-4-8-1-1-9-0-0-1-7-6-5-9-0-9-2-2-3-2-5-6-1-3-2-8-1-9-9-4-4-3-8-7-9-6-5-9-1-2-8-7-1-2-5-9-1-4-1-9-5-5-8-5-6-4-5-8-5-5-3-7-5-7-4-3-7-2-4-3-0-3-9-4-6-5-6-6-9-6-8-2-7-3-0-9-9-1-8-3-2-5-2-4-2-8-2-7-7-4-3-6-5-1-8-0-2-9-0-0-0-7-6-8-5-9-9-8-2-5-2-5-7-0-6-3-0-0-2-0-1-8-5-2-2-6-7-4-4-3-4-6-5-8-0-2-5-0-9-7-3-6-3-0-7-1-9-9-0-7-8-5-5-1-8-5-6-6-3-9-8-9-7-4-1-0-1-4-0-4-0-1-6-9-0-9-6-9-1-4-6-0-8-8-0-3-8-1-2-7-4-1-0-0-0-7-3-3-6-8-4-0-6-4-3-0-5-5-3-1-5-6-3-3-5-3-3-2-5-3-3-3-4-0-7-3-1-4-4-5-9-1-6-6-2-1-1-4-6-3-3-3-4-5-6-9-2-5-4-9-8-7-7-8-2-4-9-6-4-3-6-5-7-6-7-0-4-3-9-2-1-0-1-2-0-8-4-0-2-4-0-0-0-1-2-3-2-8-8-8-3-9-1-0-2-1-9-1-3-5-0-0-2-6-0-6-8-1-3-6-3-4-9-9-3-0-4-2-2-9-1-8-2-8-9-5-5-6-0-1-1-3-4-4-2-1-7-3-4-9-4-8-9-1-9-0-7-2-4-8-8-8-4-7-9-2-1-6-3-4-4-6-7-4-7-7-7-7-6-8-7-8-6-8-2-7-8-8-9-3-9-7-0-0-9-7-7-4-8-5-8-7-3-2-7-2-9-6-1-9-7-5-1-5-7-1-9-9-0-2-0-8-8-4-1-2-5-4-3-1-3-4-3-6-4-8-1-2-2-8-5-5-6-1-2-4-1-9-3-6-0-7-8-5-9-7-9-1-9-8-8-0-5-0-8-9-5-1-2-2-9-9-7-2-5-3-1-6-1-7-8-5-3-1-5-7-2-6-4-6-2-7-7-3-6-5-2-9-6-6-1-1-3-7-4-8-5-3-7-8-4-4-2-2-0-6-0-7-5-6-4-1-5-6-1-5-7-6-2-6-0-9-5-9-2-4-3-7-5-9-7-9-6-3-5-1-5-2-7-1-2-7-1-7-1-5-0-0-9-8-0-2-5-8-5-6-0-8-2-7-0-9-1-4-2-8-8-6-8-0-8-4-5-2-6-8-2-3-2-3-6-8-0-4-2-1-6-7-4-5-0-0-1-6-3-1-9-6-2-7-5-8-0-6-7-7-3-2-3-9-5-8-7-1-5-0-9-5-3-2-7-3-0-6-8-5-9-4-4-9-7-8-0-1-9-5-4-4-4-8-6-0-4-0-4-9-1-8-1-7-4-2-4-3-2-6-3-5-2-1-2-7-9-2-1-3-5-1-3-8-1-1-8-2-7-2-8-2-7-5-7-7-1-4-5-5-0-1-2-9-2-9-9-3-3-1-4-4-3-1-7-2-9-9-6-2-0-0-8-8-9-2-5-6-6-8-5-2-9-6-5-5-0-0-7-3-7-3-4-4-2-3-6-0-8-3-6-9-7-1-5-0-4-8-6-7-9-8-8-0-5-1-4-6-9-4-3-4-4-4-5-3-4-7-6-6-3-7-2-2-2-2-3-8-0-9-1-5-7-1-7-2-4-4-3-2-0-9-7-1-8-6-8-6-5-9-5-7-1-9-6-6-4-7-8-4-4-1-7-6-5-5-1-4-3-8-9-3-7-8-5-0-0-4-3-3-2-7-0-6-8-2-6-4-6-8-1-7-2-4-3-8-9-5-5-8-4-3-9-5-5-3-6-9-1-8-6-0-0-9-1-0-3-8-5-1-0-5-8-3-1-9-9-8-9-3-9-5-2-1-1-7-7-7-4-6-7-5-6-7-3-6-0-9-5-3-0-2-2-9-7-4-9-1-6-3-6-7-2-7-4-9-3-6-9-0-1-4-1-6-3-1-1-2-6-3-1-0-1-0-4-3-9-4-0-5-0-2-3-9-8-0-8-2-0-4-0-0-0-3-6-6-3-3-8-0-4-2-1-4-1-8-8-2-0-7-1-8-1-6-1-3-0-0-5-4-9-9-1-9-4-8-8-8-3-0-6-8-9-5-6-2-3-9-4-7-8-7-0-7-2-4-6-5-5-5-5-7-6-7-3-7-2-5-6-6-9-1-9-2-6-4-5-7-4-4-8-0-4-0-5-2-7-3-2-5-5-6-8-2-2-1-7-4-1-5-4-2-2-1-5-8-4-3-3-0-1-6-0-7-8-7-0-4-4-7-3-8-1-6-8-3-9-4-0-8-6-7-9-0-2-0-5-1-9-0-4-7-2-1-8-8-7-8-5-3-5-9-5-1-9-7-3-1-7-6-4-2-8-5-6-0-1-3-5-1-9-3-5-0-7-3-3-0-4-6-4-4-3-4-5-9-2-2-1-5-7-9-4-6-6-6-8-7-2-8-9-3-8-8-4-3-0-5-0-8-2-7-6-9-8-2-3-6-1-6-4-2-7-8-5-0-0-8-1-2-0-2-8-7-0-7-6-5-9-5-8-5-5-0-1-3-6-0-5-5-3-3-5-6-6-9-1-2-2-4-9-5-0-7-7-9-4-2-4-1-9-2-6-8-1-7-5-4-8-7-6-1-7-4-5-2-6-7-8-3-2-8-8-7-7-2-7-3-1-9-6-3-1-8-1-7-8-0-1-2-1-9-4-0-9-1-8-3-9-6-5-9-2-8-8-3-8-9-2-6-9-1-0-0-7-7-5-5-0-6-5-5-6-8-6-8-9-3-2-1-0-9-3-7-9-0-2-7-6-7-7-0-4-3-0-6-4-2-9-6-2-4-8-2-0-4-4-3-9-7-5-2-3-0-0-4-6-3-5-9-4-4-3-3-9-2-0-3-1-6-6-2-6-5-3-4-1-0-7-6-3-3-0-8-5-7-5-4-0-6-3-0-2-6-2-5-8-4-2-1-2-4-9-3-9-9-5-0-4-9-6-9-7-6-2-4-5-4-8-7-3-1-0-9-2-9-6-3-3-7-4-5-5-1-8-3-2-2-4-7-9-7-9-1-6-8-7-3-0-6-9-3-1-6-9-9-1-4-6-2-3-3-0-8-1-7-8-0-4-5-2-2-2-9-1-5-4-6-6-6-6-9-8-6-7-3-8-5-6-5-5-4-7-0-2-1-7-8-4-1-4-6-0-2-5-5-4-0-3-8-9-3-4-0-1-9-8-2-1-7-0-9-1-8-7-9-9-1-1-1-3-1-1-5-0-8-1-1-1-3-0-7-9-9-4-8-4-2-2-7-0-7-6-6-9-0-4-7-3-6-5-7-1-1-6-0-3-8-4-7-2-0-7-6-3-9-9-0-4-9-3-9-7-2-7-8-6-1-2-5-7-0-6-5-4-3-2-8-7-6-1-7-2-5-5-5-4-1-1-3-8-5-8-6-2-3-5-8-0-9-1-7-5-7-4-2-9-2-1-0-7-4-5-6-1-3-7-3-9-1-4-7-8-6-6-6-5-3-0-2-2-8-4-7-2-3-1-1-1-4-3-2-6-5-0-4-5-3-4-7-4-8-4-8-7-5-6-0-6-5-3-3-9-4-1-1-9-4-7-9-8-2-6-4-0-0-8-1-9-9-7-1-7-3-9-8-5-0-6-3-9-0-1-6-5-8-9-4-1-7-7-1-5-7-4-7-2-6-3-5-8-0-4-4-3-8-7-6-8-8-2-9-9-2-2-9-0-2-2-8-8-3-4-9-6-9-0-0-0-0-0-2-0-8-8-5-4-5-2-9-1-7-2-7-2-9-4-2-0-5-1-1-6-4-9-9-3-8-6-3-3-0-8-2-6-0-4-3-9-3-6-9-0-2-5-9-6-3-4-5-9-0-7-3-5-8-3-1-2-3-8-3-0-1-2-3-6-3-0-4-5-3-0-6-9-1-1-7-3-2-3-9-2-4-6-7-6-1-4-5-2-5-2-2-4-6-7-9-3-7-0-4-0-9-4-6-7-5-2-5-6-4-1-0-9-5-3-0-7-4-5-8-8-4-5-8-8-4-0-2-7-6-4-8-2-3-1-9-8-2-1-9-7-6-3-5-1-5-2-7-7-0-1-9-4-9-2-1-2-2-8-5-8-7-5-1-8-9-5-1-6-3-0-1-9-2-8-5-6-4-0-8-0-3-7-6-9-1-5-0-0-2-8-4-7-5-9-1-3-1-4-6-1-6-9-7-4-1-9-1-9-5-5-6-3-6-4-0-0-1-9-2-7-7-4-5-6-0-8-6-8-0-9-7-8-7-8-4-0-1-9-6-1-1-7-2-8-6-3-9-4-2-4-6-8-7-3-2-0-1-3-8-0-3-8-8-5-2-5-4-1-6-5-3-8-8-6-5-8-5-1-9-5-3-3-0-8-9-6-7-5-4-4-5-2-1-4-8-3-8-6-0-3-3-2-6-8-4-7-2-9-7-1-8-1-5-7-3-3-9-5-8-0-5-8-7-4-9-7-1-6-8-0-6-5-9-0-4-4-0-4-9-4-7-8-8-1-1-8-6-4-9-2-5-2-2-4-3-3-5-3-5-2-8-2-1-0-8-7-7-5-7-2-3-9-9-8-2-2-6-3-9-4-8-6-6-4-1-8-7-8-5-2-6-0-3-0-4-7-9-9-0-9-5-0-6-2-3-8-3-5-6-7-5-9-5-3-3-4-7-1-6-4-9-0-3-0-5-4-9-4-6-8-9-2-7-6-6-6-1-7-2-1-6-7-1-7-2-9-8-0-4-7-6-8-1-7-4-5-0-3-6-1-2-8-8-6-0-7-2-9-9-0-1-1-5-9-6-9-3-1-0-2-0-3-1-5-6-3-4-4-5-1-0-4-1-0-1-3-8-3-8-5-3-1-0-4-2-0-5-8-5-4-2-8-3-4-4-7-6-8-9-0-5-5-5-8-8-0-4-5-1-9-6-1-4-9-2-8-1-3-2-0-0-3-0-5-7-7-3-9-5-2-2-7-0-3-6-7-6-2-9-9-5-8-8-1-2-4-6-7-1-5-2-7-0-0-6-1-9-7-7-5-5-9-2-6-3-4-8-7-9-8-8-0-7-0-3-0-7-1-4-5-0-9-0-8-6-8-6-0-7-3-6-0-6-3-5-9-2-1-4-2-7-0-0-7-6-9-6-7-4-5-5-9-1-5-1-3-8-3-4-7-5-7-4-4-5-2-7-2-2-9-7-4-6-0-4-6-5-2-6-1-6-3-5-0-2-2-4-0-9-9-8-5-6-8-1-0-2-8-0-2-5-1-8-4-8-9-9-7-2-3-3-6-6-3-6-9-6-1-9-3-8-4-9-1-4-7-3-0-3-8-1-4-0-2-6-9-3-8-1-3-3-4-3-6-9-4-7-6-4-2-6-1-1-2-4-9-2-7-0-5-1-7-8-5-3-2-2-7-9-9-7-1-8-0-8-1-1-5-9-5-7-1-1-9-3-2-4-1-3-7-3-2-1-2-3-1-0-0-5-6-5-4-2-4-9-3-7-7-2-0-0-5-0-6-2-9-7-1-8-4-5-0-3-3-7-3-4-8-8-3-5-8-4-5-2-5-1-6-6-5-6-7-9-3-8-0-1-2-7-6-2-2-6-0-3-3-4-3-3-5-7-6-6-9-0-3-8-9-9-7-4-7-9-1-2-1-1-7-9-4-9-9-7-9-9-5-6-6-2-5-1-3-1-0-1-6-7-4-2-2-0-6-5-2-3-5-9-8-9-7-4-7-3-0-1-0-5-5-7-7-5-5-0-9-9-6-6-4-6-7-2-9-1-7-9-5-4-3-5-6-5-8-2-5-5-7-7-8-9-1-3-0-2-8-6-3-6-4-8-0-9-8-3-4-8-3-2-4-0-6-0-4-2-8-8-8-8-8-4-0-6-3-7-1-1-9-0-5-6-2-9-3-7-9-8-1-7-1-3-6-7-2-6-0-5-9-0-7-1-2-4-9-2-4-2-3-5-7-0-3-6-9-5-8-0-0-0-2-2-7-2-9-9-9-6-3-6-4-5-6-4-8-8-3-4-5-4-0-9-7-7-5-9-4-7-2-4-5-1-2-5-8-9-9-1-9-1-4-4-0-8-1-8-7-6-8-4-8-1-8-6-3-0-6-0-4-4-6-0-6-0-5-0-1-2-0-4-0-2-7-2-3-7-0-5-2-3-7-4-6-7-6-9-2-5-0-1-5-8-9-1-8-3-3-8-2-4-6-3-2-9-2-2-2-1-8-4-3-9-2-5-1-8-1-7-3-4-8-5-1-5-9-1-4-1-4-8-7-3-3-8-5-1-2-0-0-5-0-6-0-1-3-3-9-6-6-1-3-4-2-9-3-3-2-8-7-5-5-5-0-6-8-8-2-0-0-2-1-3-5-6-2-7-1-4-1-7-4-9-5-0-8-4-8-7-9-4-4-7-5-8-9-2-9-8-3-8-5-8-8-7-3-7-8-9-6-5-4-9-5-1-7-1-7-2-1-9-6-3-2-6-4-1-3-6-6-0-1-3-3-5-1-8-1-4-7-8-2-8-5-6-4-2-4-9-7-1-9-5-0-6-0-2-7-0-4-2-1-7-6-6-4-0-6-0-3-1-0-1-3-4-1-1-2-3-8-8-5-0-5-5-2-7-6-4-4-4-1-0-2-9-5-5-0-8-2-3-4-6-0-6-9-4-8-1-9-4-1-6-5-6-3-4-8-9-7-3-1-3-2-9-3-5-3-4-2-7-5-0-0-8-4-6-5-7-5-5-9-0-1-1-3-1-4-5-2-5-7-8-0-1-8-7-2-5-0-8-9-8-3-8-0-9-2-3-9-8-2-3-2-1-4-8-7-9-2-9-8-2-4-8-9-2-6-8-4-9-4-5-7-2-2-8-8-2-4-9-0-9-8-2-0-0-7-6-5-1-5-0-3-9-4-3-6-9-0-0-7-9-2-6-1-7-8-7-6-9-6-1-0-5-1-9-6-6-4-2-7-7-5-3-1-8-3-5-3-6-0-9-3-6-3-0-1-4-7-1-7-2-2-1-8-8-9-7-1-8-6-7-6-1-6-7-9-4-8-8-1-8-7-5-3-3-8-7-7-3-6-8-9-6-3-8-8-2-4-2-3-0-7-1-7-3-7-2-0-6-4-9-1-6-3-7-8-0-7-9-8-7-8-9-7-2-8-8-4-1-0-3-8-2-3-2-3-7-4-2-4-6-7-0-1-4-7-1-6-6-1-8-4-1-6-0-3-2-0-5-2-4-6-9-1-1-0-0-9-4-4-0-9-8-3-5-7-0-6-1-7-5-7-9-1-2-4-3-8-0-9-4-9-4-0-9-7-1-2-6-5-6-6-5-6-0-6-8-7-9-3-8-3-3-2-4-6-9-2-7-0-2-9-5-5-7-9-0-4-9-2-1-1-1-2-2-6-6-1-3-4-4-5-1-1-4-2-4-0-6-0-6-3-0-5-8-9-9-8-9-3-5-4-6-5-3-0-2-9-5-6-3-3-5-3-2-6-2-3-7-3-8-4-6-4-6-0-3-8-2-1-0-5-7-1-3-3-6-4-5-4-1-9-9-5-1-3-5-9-5-5-3-1-8-5-4-4-7-2-1-5-3-5-3-4-2-1-0-0-5-1-8-1-2-7-0-6-9-7-0-1-7-6-4-9-5-2-6-0-8-0-0-0-2-9-6-7-4-5-8-5-2-1-4-9-7-7-5-5-4-6-7-0-5-7-1-9-2-5-9-2-0-2-3-3-2-8-3-1-8-6-1-1-7-3-8-7-5-7-7-0-6-1-0-8-7-3-6-5-1-8-9-3-2-3-1-4-0-9-3-7-5-1-4-0-2-9-7-8-0-3-5-3-6-3-6-1-9-0-0-2-5-5-0-8-1-8-8-7-3-7-1-0-6-5-8-0-0-5-4-6-2-6-7-0-3-4-6-5-3-4-8-4-8-5-4-4-7-0-1-5-6-9-1-4-5-2-0-2-3-3-4-3-7-9-1-2-2-6-0-1-8-5-9-6-3-8-8-5-1-7-8-9-3-3-4-8-5-1-8-2-4-8-8-0-2-1-3-4-0-8-2-3-5-3-9-5-9-8-0-4-4-7-2-6-2-1-7-0-4-1-7-7-5-2-6-9-4-7-2-5-9-0-7-4-1-1-5-8-0-1-8-1-7-2-2-2-9-9-8-4-7-6-9-9-3-7-3-7-7-5-4-3-2-7-1-4-2-2-0-3-3-6-9-9-6-7-8-2-3-2-6-9-7-7-4-1-4-6-1-0-7-7-3-1-9-7-6-5-1-0-4-7-9-7-9-2-0-7-5-9-6-5-9-2-7-3-1-3-4-8-5-9-8-2-0-5-4-0-6-9-0-2-8-6-3-2-9-8-4-9-6-7-7-8-2-8-0-2-8-7-6-4-6-8-4-4-4-2-0-4-5-6-9-9-2-3-2-1-0-3-4-5-8-4-2-9-4-1-6-2-2-4-1-4-1-6-3-8-9-6-1-5-4-4-5-0-2-4-5-6-5-8-0-7-8-1-4-1-5-4-7-6-7-8-0-5-5-1-9-7-9-4-9-0-6-6-0-4-8-6-7-0-1-6-0-9-5-8-4-3-0-6-4-1-9-2-3-3-2-6-2-0-1-9-3-9-9-8-3-9-4-6-6-3-5-0-1-7-4-5-9-3-9-2-7-8-1-5-2-2-8-0-9-1-0-3-5-1-3-3-2-1-5-6-7-1-7-5-6-9-1-6-8-3-5-9-0-1-3-5-8-8-3-2-7-5-0-6-8-0-0-9-2-6-0-6-3-7-5-9-6-8-8-6-6-1-5-5-6-7-1-0-4-4-5-2-4-5-0-5-2-4-5-5-5-0-0-0-2-1-5-2-5-1-2-2-7-0-7-6-4-6-4-1-4-1-7-0-2-0-4-4-1-3-0-4-6-0-0-0-7-4-2-7-8-0-0-0-5-8-4-8-8-8-3-9-6-4-3-1-2-4-3-3-9-9-4-6-3-3-7-7-2-5-4-9-4-3-8-8-5-7-6-7-7-7-3-5-6-8-5-9-8-8-1-1-1-6-9-3-6-1-7-5-9-3-8-0-6-2-7-1-6-4-4-2-4-7-7-5-5-6-0-7-7-7-2-0-3-8-3-7-3-9-2-1-4-2-1-4-6-2-2-6-2-2-0-2-4-0-1-4-9-2-4-3-2-0-6-8-8-9-8-3-5-8-4-9-5-4-8-2-0-2-8-2-5-7-7-4-3-4-7-1-9-0-3-1-8-5-1-9-4-5-9-0-6-1-4-3-8-6-6-7-6-6-0-5-3-7-9-3-2-1-2-6-9-6-3-1-0-8-3-1-0-9-5-2-5-6-5-3-6-4-1-0-0-1-1-3-9-2-5-3-8-3-3-8-6-2-1-1-3-0-0-5-7-1-9-2-5-8-6-4-8-4-0-3-0-0-1-3-5-1-2-5-5-8-0-2-8-6-9-3-3-9-6-5-4-9-6-1-7-6-4-7-7-6-7-3-6-1-7-7-7-9-9-7-7-9-6-6-4-5-8-6-0-5-8-3-9-7-6-1-8-7-7-3-1-6-4-2-1-7-4-4-7-3-1-4-9-8-4-0-2-9-6-7-4-8-5-0-5-9-6-6-7-0-2-6-1-5-6-1-8-6-9-4-5-7-2-1-3-8-9-5-4-8-7-7-7-9-1-0-9-2-3-5-1-0-0-0-8-2-9-5-2-0-9-1-8-8-9-4-9-5-6-3-0-2-8-0-5-2-6-5-8-8-3-6-0-8-6-8-7-9-8-5-1-9-2-3-2-7-9-8-2-0-7-4-7-1-2-3-1-2-3-9-4-5-1-3-4-8-7-8-3-3-3-0-8-4-2-6-4-9-0-1-5-8-4-5-9-9-9-2-9-3-9-0-1-6-5-9-1-9-5-5-9-1-3-6-8-1-2-0-4-2-8-3-8-0-9-0-3-5-9-4-1-8-2-2-5-1-6-1-2-0-7-7-8-7-2-8-1-1-2-6-5-7-4-3-5-0-5-7-7-5-6-6-5-9-0-4-3-9-9-6-6-5-5-9-6-6-0-4-3-9-3-1-7-8-9-8-4-6-0-9-1-7-0-9-8-9-8-2-7-3-6-4-8-6-2-7-3-5-0-1-2-9-7-4-0-6-0-9-6-3-1-9-7-0-7-4-7-3-9-3-1-0-1-1-5-8-8-9-8-8-5-3-8-3-4-7-4-8-3-4-4-4-0-0-3-8-0-5-2-1-7-8-7-6-4-6-7-1-1-7-8-5-1-3-5-8-4-1-0-9-1-4-2-4-2-6-2-3-8-1-7-5-2-7-9-3-6-2-1-0-8-7-3-5-5-2-0-5-9-9-4-3-6-2-2-0-8-2-5-9-7-6-7-6-8-5-7-6-0-2-7-4-0-6-3-7-1-1-9-4-1-7-2-1-7-0-2-6-9-9-8-0-6-3-8-0-1-5-4-7-3-7-4-5-5-8-8-5-0-6-7-3-4-3-6-5-9-3-7-0-0-8-2-3-4-4-7-5-2-3-0-7-1-9-9-8-4-1-3-4-4-7-8-0-9-5-0-3-8-7-2-1-7-4-1-1-3-4-4-4-3-6-9-1-7-0-8-4-3-4-5-6-5-2-8-1-9-9-2-1-4-2-0-6-1-0-2-4-4-2-3-3-1-1-9-5-0-7-8-8-3-1-6-6-7-5-2-9-6-1-4-6-3-3-1-0-3-1-2-8-4-3-6-8-1-0-6-5-0-9-4-0-4-2-2-9-0-9-9-6-5-3-6-9-1-2-7-3-8-0-6-5-0-4-5-4-7-9-9-9-8-1-0-3-4-2-2-6-7-8-2-8-0-9-2-8-9-4-3-4-4-5-0-6-5-3-9-8-8-5-0-0-5-7-8-2-7-4-1-3-7-1-5-7-5-7-8-2-5-6-3-1-1-2-2-6-9-8-8-2-2-0-2-5-3-6-5-2-7-6-5-9-3-4-5-9-2-9-6-6-3-0-5-2-9-6-9-5-6-6-8-1-1-1-2-6-5-4-0-1-6-4-0-4-0-1-4-8-3-2-9-4-9-9-2-5-6-5-7-2-5-5-0-1-1-4-4-1-1-3-7-3-2-9-1-2-7-1-7-5-1-5-8-8-0-4-2-2-2-0-0-6-0-1-1-8-1-3-2-0-7-1-8-6-1-7-6-0-1-0-1-0-8-8-9-9-2-0-7-6-6-2-9-7-8-1-3-0-4-6-1-9-3-7-6-8-0-7-8-6-9-6-3-3-0-3-3-0-2-2-5-4-4-4-6-0-4-7-1-6-9-3-7-7-2-0-1-1-7-6-8-2-8-6-2-9-7-5-4-9-0-3-2-6-8-4-9-0-6-1-9-3-5-2-8-9-3-2-3-6-4-0-9-5-5-8-0-2-9-3-3-6-5-2-2-1-0-8-3-9-2-2-5-6-7-1-0-4-3-6-6-8-0-1-7-2-5-0-9-8-1-6-0-0-4-2-4-9-6-5-8-0-2-0-6-3-3-5-8-0-4-3-2-4-6-0-0-5-1-6-1-2-7-0-7-6-8-1-1-2-0-9-5-4-6-5-4-7-5-5-5-0-4-7-5-3-8-6-3-1-0-6-7-9-9-8-7-3-1-9-8-7-6-0-3-2-4-2-4-8-3-5-7-6-7-7-5-1-7-7-9-8-8-9-2-1-2-9-9-8-0-8-7-4-0-3-5-0-4-6-9-0-4-4-6-9-3-1-5-7-5-7-8-1-0-4-5-4-2-3-7-3-2-6-9-3-1-8-7-1-1-7-4-9-8-8-9-4-9-5-7-6-3-8-2-7-4-1-5-4-5-1-2-3-3-2-5-0-2-9-9-8-8-9-2-5-7-5-3-7-4-1-1-2-9-5-6-5-7-3-5-7-1-6-9-9-4-8-2-2-8-8-4-9-3-5-2-5-2-3-3-6-5-3-3-6-6-7-9-5-7-8-6-3-8-6-6-7-3-7-9-0-8-6-7-1-3-3-6-8-0-5-8-4-5-4-1-5-9-1-8-3-2-5-2-1-4-9-0-8-7-7-5-6-6-4-3-8-4-6-4-4-5-8-5-8-8-4-9-9-7-9-0-4-1-5-4-3-7-1-9-2-2-4-9-3-0-4-5-1-2-3-4-0-2-9-9-2-9-7-7-2-6-0-5-4-6-2-0-7-2-6-7-2-7-3-9-3-6-1-3-6-1-0-5-1-4-0-8-2-7-5-6-8-0-8-0-0-8-0-5-0-7-0-3-9-4-5-3-9-2-2-0-0-5-6-8-5-6-7-7-4-9-6-9-1-3-5-0-3-3-2-0-3-1-4-3-8-2-9-1-5-4-7-5-9-6-9-9-4-9-8-4-1-2-2-8-8-7-9-2-7-3-9-4-3-7-6-7-3-6-2-0-7-4-5-0-5-4-2-3-0-5-8-8-8-2-8-4-7-2-5-0-6-2-6-0-3-1-8-9-1-3-5-2-6-9-6-2-1-1-9-7-5-7-4-8-5-7-6-9-4-0-4-1-7-8-1-2-3-1-8-5-5-5-1-8-0-6-4-8-3-3-7-8-1-8-3-5-5-0-5-5-5-3-9-6-2-3-6-1-1-5-4-8-0-9-0-0-2-5-1-1-0-3-2-5-0-1-3-3-3-5-7-8-7-9-7-8-5-9-9-7-3-4-6-0-7-1-2-4-5-4-3-7-3-6-8-9-6-1-1-6-1-2-1-9-0-4-8-6-4-9-3-4-2-7-8-6-9-6-6-2-6-8-5-1-7-8-6-0-4-4-3-4-5-0-1-7-0-7-4-2-3-6-6-8-9-3-1-6-2-1-6-9-3-2-4-9-4-3-7-7-4-0-5-6-0-9-6-3-5-8-0-4-2-4-3-9-9-9-9-1-2-1-4-6-6-3-9-7-4-0-8-8-9-9-3-3-4-2-9-7-0-9-4-0-2-4-5-7-2-1-9-9-6-8-6-2-1-9-3-4-8-3-1-9-5-9-6-2-1-4-5-5-4-6-9-6-8-7-5-4-2-8-3-6-5-6-3-8-1-1-1-1-4-2-7-0-2-8-5-7-9-7-4-2-7-8-1-7-5-2-0-0-5-4-7-8-4-3-3-8-7-6-0-8-5-3-6-2-2-0-8-0-2-3-1-1-7-6-0-4-1-7-5-8-7-0-1-3-1-7-6-8-8-8-4-8-7-0-6-1-4-2-9-1-5-2-7-1-0-9-8-5-5-0-5-3-6-9-4-1-6-6-7-3-6-5-7-4-0-9-9-3-5-1-4-0-3-3-0-2-5-5-0-1-5-4-9-5-4-9-9-4-5-9-8-5-1-5-6-3-9-7-0-5-8-9-2-0-7-2-7-1-8-0-5-9-9-3-2-7-7-2-0-3-7-2-8-5-0-9-7-5-0-5-6-4-0-6-2-4-8-2-3-9-8-6-4-5-4-5-2-4-5-1-1-3-9-0-0-8-4-7-5-9-6-4-5-2-6-2-8-3-0-0-7-1-6-1-5-9-8-8-2-2-1-4-1-7-0-1-8-3-5-1-6-7-2-7-8-9-2-7-2-0-6-8-4-0-4-0-1-8-1-9-1-5-9-4-3-0-4-7-8-8-3-3-2-0-5-6-5-1-5-6-4-5-3-3-1-0-0-1-8-1-7-1-6-9-5-4-8-6-1-5-4-8-2-3-8-7-3-1-7-9-9-6-0-2-7-1-8-5-3-3-1-9-1-5-6-6-9-2-1-3-4-7-6-7-7-4-4-5-3-5-3-0-9-8-4-2-7-9-4-1-2-4-5-1-8-2-4-7-2-5-8-6-5-6-5-2-6-1-3-6-9-7-6-2-7-5-1-4-9-6-2-5-8-4-2-1-0-0-0-3-2-7-9-6-9-9-8-9-2-5-8-8-3-8-6-0-8-2-8-3-4-4-8-3-7-0-5-3-6-2-0-0-0-4-0-7-0-1-8-6-9-9-6-2-8-8-0-8-6-0-7-9-5-3-2-8-7-6-4-6-8-6-1-3-4-9-7-1-7-9-7-4-5-0-9-3-6-6-2-4-7-3-3-3-2-9-7-6-8-7-4-3-3-1-7-0-9-6-6-6-6-5-9-0-9-4-9-0-7-0-2-3-2-3-0-5-8-3-4-1-7-1-8-3-7-3-5-6-1-8-3-6-5-0-1-9-7-7-8-1-2-8-3-2-0-2-3-9-0-2-5-8-2-2-0-2-7-7-4-1-4-8-7-8-6-3-6-4-7-9-2-4-3-0-6-9-1-8-1-1-5-1-5-1-2-1-2-4-6-3-4-8-9-1-0-1-4-4-4-0-9-7-7-9-3-6-8-2-2-4-1-4-2-1-2-3-9-5-9-6-7-1-3-0-6-5-9-1-9-2-3-4-6-4-5-0-6-5-4-8-1-6-7-5-0-8-4-5-8-5-4-8-2-4-1-9-9-5-7-1-1-7-6-7-8-1-4-1-0-3-4-0-1-9-4-6-6-5-7-4-3-3-1-8-3-6-8-3-1-0-8-9-9-9-8-8-7-8-4-5-5-4-8-9-7-5-3-0-9-1-4-2-8-8-6-2-1-8-7-4-1-1-7-5-7-6-8-4-3-5-5-6-2-7-6-5-8-2-9-3-2-8-4-2-4-8-1-0-1-2-6-6-2-8-0-3-4-3-5-0-7-6-2-9-7-1-8-3-3-4-7-3-0-4-4-2-3-4-0-1-1-9-0-1-9-1-1-7-0-6-4-8-3-4-5-4-7-1-0-9-6-3-7-5-1-8-9-9-7-4-5-0-9-6-2-7-0-0-8-1-3-6-9-5-9-9-4-2-2-9-6-1-2-7-8-1-5-2-3-2-7-7-4-2-1-9-6-9-0-2-7-5-7-7-7-3-6-8-5-9-2-7-1-2-1-7-2-2-4-5-9-4-2-5-7-2-2-7-1-6-3-3-7-3-8-8-4-2-4-3-4-5-3-1-8-6-0-8-0-8-0-7-6-2-1-5-6-6-5-6-5-5-8-6-0-4-7-8-8-2-0-9-1-5-7-9-8-5-6-5-5-3-1-3-0-4-3-7-6-7-0-3-9-9-0-0-7-8-2-2-8-7-0-2-4-9-5-2-5-5-3-9-7-8-7-1-5-2-9-4-6-3-3-2-8-6-1-3-0-2-3-6-4-2-0-4-0-6-3-1-7-9-7-1-3-6-9-6-5-9-7-9-6-8-2-1-6-6-4-0-6-3-5-3-5-6-0-8-5-5-4-9-0-0-3-0-2-8-0-8-0-4-2-8-4-3-0-9-0-0-7-6-9-0-9-8-3-4-8-2-3-3-6-6-5-5-0-9-1-8-2-3-5-4-7-8-9-4-8-1-2-0-9-1-1-7-6-7-4-7-9-4-0-6-9-9-9-2-5-2-1-0-2-1-0-5-1-5-3-6-8-0-3-2-4-7-0-3-3-6-7-2-5-9-3-9-3-1-6-7-8-4-2-6-0-7-2-6-6-6-0-8-1-6-8-7-8-0-3-8-1-6-6-8-6-8-4-0-2-3-5-6-9-7-8-2-9-7-0-9-1-8-5-5-4-1-3-9-7-2-5-9-1-8-6-4-0-9-9-2-4-4-8-9-6-0-0-1-0-9-8-7-7-8-4-7-7-3-0-7-2-9-4-1-2-6-4-2-3-8-5-2-7-8-8-3-2-6-0-9-5-3-4-9-7-2-7-3-8-6-7-3-4-8-8-4-7-2-9-1-0-6-5-5-1-6-0-6-3-5-2-0-6-9-6-1-0-4-8-4-5-0-9-1-0-8-6-3-8-2-0-0-6-6-7-1-8-8-1-5-0-4-7-9-2-9-3-3-9-5-1-8-6-3-9-2-4-3-2-0-9-9-7-0-6-9-1-1-5-0-5-5-6-2-9-0-8-5-5-2-2-0-7-3-0-1-0-3-2-7-7-0-0-5-4-2-9-5-3-4-2-7-1-5-5-3-4-2-2-3-4-4-9-0-2-1-6-7-1-0-2-1-1-8-4-6-1-7-5-3-9-0-8-8-0-7-5-5-4-1-1-6-9-3-9-4-0-6-0-6-3-9-3-7-4-9-1-3-8-6-2-2-7-3-6-3-5-1-2-9-6-6-5-5-1-5-5-5-9-4-9-9-1-1-1-7-4-6-9-3-0-1-4-8-6-0-1-7-7-8-8-9-7-5-3-0-4-6-4-8-5-7-5-9-5-0-0-5-1-8-1-3-7-4-1-2-4-7-6-6-3-2-0-2-2-3-8-7-3-4-8-9-6-4-4-4-4-2-6-4-2-5-9-6-2-3-3-5-2-7-9-0-9-6-8-7-7-1-7-9-5-7-8-7-9-2-5-6-0-9-2-0-4-7-1-4-5-2-1-6-9-5-5-3-6-1-2-5-4-3-4-3-5-7-9-3-4-2-0-4-3-9-5-5-3-8-8-8-3-3-3-2-5-3-0-1-4-3-8-2-8-0-4-0-2-4-7-1-6-0-6-1-0-2-7-9-6-1-1-4-8-4-4-1-8-1-8-5-8-8-3-1-3-1-7-8-5-7-2-7-7-2-6-6-3-3-9-2-4-5-5-1-3-4-6-7-3-3-8-6-4-5-9-2-7-6-7-5-9-2-5-1-1-5-3-8-0-1-5-2-1-5-0-5-0-9-8-4-4-9-0-9-7-4-4-3-4-4-7-5-9-9-5-0-5-0-2-1-0-4-1-9-5-3-8-7-8-6-8-6-0-2-0-2-8-3-0-1-4-4-3-6-0-9-9-7-0-7-8-6-5-1-9-5-4-5-0-8-4-8-7-6-6-4-3-4-9-7-2-2-8-9-1-7-4-9-1-8-6-7-5-5-3-8-1-2-6-0-8-8-9-9-1-3-1-4-7-9-9-3-3-0-7-7-4-3-7-3-0-7-2-8-8-7-2-7-1-3-8-7-6-7-4-4-0-9-5-9-2-1-6-8-7-3-1-5-5-6-1-6-0-5-5-2-7-6-9-5-1-5-4-5-5-1-0-1-6-0-9-5-4-3-9-2-8-8-6-3-7-4-9-3-8-1-6-2-2-7-9-1-7-4-6-1-8-5-1-3-2-0-1-0-4-8-6-3-1-5-4-6-6-6-4-4-7-7-4-7-9-2-9-1-8-9-6-2-7-7-7-8-2-4-6-6-8-3-6-4-5-2-6-7-5-2-0-8-3-2-7-5-0-8-1-8-7-8-1-3-8-2-4-9-5-8-8-2-5-9-9-8-2-3-7-1-0-0-2-6-5-8-6-6-3-1-6-1-4-3-0-2-8-2-6-3-7-7-8-3-2-4-1-5-5-1-6-7-0-2-9-1-2-7-0-4-7-2-0-0-6-6-0-9-9-2-6-6-8-1-6-1-6-9-1-3-3-7-5-3-5-3-7-8-2-8-3-1-2-4-6-9-9-5-5-3-5-0-4-8-4-0-9-0-0-9-4-1-3-9-2-9-9-5-2-4-5-1-7-6-8-9-7-5-5-1-4-2-0-8-9-0-1-1-5-3-3-0-8-9-1-2-4-8-6-6-7-0-4-9-8-0-1-0-0-2-7-3-6-3-3-0-4-2-2-2-2-3-3-1-4-0-2-3-3-0-6-2-0-7-1-8-9-0-7-0-1-9-0-5-8-4-5-4-3-2-6-8-4-3-4-9-7-3-5-7-8-7-2-1-0-8-3-8-8-6-6-3-9-5-1-3-6-3-5-7-4-8-7-9-2-2-0-6-2-9-4-5-3-9-9-4-8-2-6-0-0-6-8-1-8-7-3-5-3-7-7-2-4-7-2-1-9-0-3-2-4-7-4-9-9-5-0-2-8-7-0-7-3-9-5-4-9-3-2-3-1-4-9-2-2-5-5-3-7-4-4-7-4-8-8-5-6-0-2-0-2-5-2-4-8-4-6-7-0-7-8-5-1-9-7-9-8-5-1-9-9-5-2-3-3-0-0-1-9-0-7-3-3-0-9-1-3-7-4-2-2-6-8-3-8-8-2-1-9-8-1-2-5-1-9-5-6-9-5-7-0-3-7-0-2-3-6-3-5-4-8-3-4-7-9-2-0-8-2-4-0-6-1-8-6-0-6-7-3-4-6-6-9-8-2-7-2-7-1-2-6-3-1-0-4-4-5-9-3-4-4-1-1-1-9-2-7-2-5-6-8-0-9-6-1-7-9-1-5-5-6-0-3-1-8-7-3-2-7-6-2-8-1-6-1-9-1-5-5-4-5-2-9-9-2-4-3-9-8-7-9-6-8-0-2-1-4-6-1-8-2-3-6-5-0-2-5-3-1-5-3-2-1-6-4-4-6-9-0-5-6-1-8-3-1-2-7-3-8-8-3-4-8-1-9-2-0-5-3-4-9-7-0-5-6-0-6-7-4-6-9-0-6-5-0-8-0-0-1-1-3-9-9-4-1-4-0-3-5-4-7-3-6-0-5-0-5-6-8-0-4-1-9-8-8-5-8-4-4-1-1-1-6-8-8-3-0-8-4-4-0-2-7-7-0-8-4-8-2-1-1-7-4-4-7-2-8-1-7-7-4-5-4-6-2-3-9-0-9-5-2-5-1-5-5-1-7-4-9-6-6-9-1-8-0-2-6-0-1-0-6-7-6-7-3-7-8-4-5-9-6-5-0-5-1-9-2-8-9-3-8-5-2-0-5-4-3-5-6-1-6-0-4-7-9-9-9-7-6-6-0-3-1-6-0-7-8-3-9-2-8-7-3-2-0-5-6-6-5-2-7-3-1-7-3-4-6-9-0-4-2-4-5-8-1-3-1-5-0-8-6-8-8-4-8-9-0-1-0-5-0-8-5-6-5-7-9-9-9-1-2-4-7-3-8-5-9-4-9-8-3-2-4-6-2-2-4-7-7-4-9-7-2-7-1-6-2-3-5-3-6-5-9-1-2-9-3-5-6-0-1-0-4-4-0-5-8-4-8-1-5-5-3-2-6-0-8-0-1-3-9-8-5-6-3-0-1-7-7-8-8-8-6-1-5-3-7-2-0-0-4-2-7-3-3-7-3-1-9-5-2-7-1-0-9-8-8-1-5-8-3-9-7-3-8-5-2-0-5-8-6-3-3-4-0-6-6-2-8-5-1-3-5-7-2-4-9-4-2-7-8-3-3-3-0-1-4-4-2-2-2-8-6-3-8-2-1-3-7-2-0-3-8-9-7-1-8-0-7-9-6-2-9-5-9-4-6-7-2-2-9-5-7-9-4-8-0-1-6-8-7-8-0-7-2-8-6-5-2-8-1-7-5-4-1-3-2-8-7-2-4-7-4-2-0-4-7-9-2-5-0-1-1-9-4-1-4-1-3-8-5-6-4-3-8-2-2-8-5-0-9-9-0-3-0-3-0-0-1-4-1-9-9-1-6-1-7-9-8-6-6-0-4-3-8-2-3-6-4-2-5-6-5-0-2-9-7-6-3-1-2-6-1-1-5-3-7-0-7-5-9-6-9-1-6-2-4-3-3-2-0-8-8-1-5-3-8-1-8-5-2-7-1-3-4-5-5-3-7-4-4-1-9-4-6-7-2-4-1-5-8-6-0-4-9-0-4-1-4-7-0-9-1-5-1-8-7-5-8-0-6-5-7-6-5-1-7-4-9-1-1-3-7-7-1-3-8-7-1-2-9-2-0-0-8-9-4-9-6-1-4-4-4-1-9-4-2-7-6-7-5-6-5-7-9-3-3-7-2-0-0-6-1-2-6-7-7-4-0-0-6-8-6-2-5-2-8-9-9-7-4-6-9-0-5-6-5-0-1-9-7-4-3-5-8-0-9-6-3-2-3-9-6-6-8-4-3-6-2-9-6-3-6-7-0-8-0-0-3-4-5-6-9-0-4-4-5-0-3-9-4-9-2-2-6-9-6-3-5-6-7-3-0-5-5-1-1-5-6-8-8-2-2-5-8-4-1-3-3-9-9-9-5-6-2-8-7-2-0-6-6-4-0-9-7-0-2-3-1-2-6-1-5-5-3-7-6-9-3-3-6-8-7-9-0-0-5-0-9-4-4-7-8-1-9-6-7-7-9-2-0-6-7-8-9-7-6-2-6-1-8-5-1-2-0-9-3-9-1-7-1-8-3-1-8-5-2-4-8-6-2-8-3-6-1-9-6-0-0-1-7-9-5-0-6-8-6-5-9-7-2-4-8-4-4-6-7-2-0-7-9-3-2-2-2-3-0-6-4-5-6-2-9-3-5-7-9-9-7-4-2-4-3-6-8-8-5-0-5-6-4-9-2-4-0-4-7-9-7-6-0-2-1-1-6-1-6-7-1-5-4-0-8-3-0-6-9-1-2-6-2-4-7-0-5-5-4-9-3-4-8-0-9-0-0-7-8-1-2-5-1-4-7-8-8-5-9-1-1-3-3-9-4-6-0-7-8-2-6-6-8-5-8-8-3-8-3-3-8-4-5-9-9-8-1-7-4-9-2-1-4-8-4-0-5-7-4-2-9-1-0-9-4-5-6-1-3-4-5-8-1-4-1-1-7-7-0-5-8-4-4-2-5-6-4-7-8-3-2-7-8-4-7-8-8-3-3-3-1-0-5-1-5-7-6-0-4-3-2-0-0-6-4-1-4-2-0-7-2-7-1-9-3-4-5-2-4-6-8-4-8-7-6-9-6-9-6-1-5-7-9-3-7-2-7-4-6-2-9-1-5-9-0-5-3-4-3-4-9-8-3-3-9-8-9-0-6-9-0-2-3-7-8-5-4-4-9-5-3-1-2-1-8-0-3-0-5-2-3-4-1-2-7-7-2-3-0-3-7-5-5-9-0-6-1-0-1-8-2-0-2-6-8-6-5-1-8-1-7-0-9-8-8-3-9-0-2-5-2-3-4-9-6-6-5-5-0-3-8-9-3-0-2-7-7-5-2-7-4-7-8-3-7-8-1-6-1-1-6-3-4-0-3-0-4-1-0-6-2-5-3-1-7-5-9-5-0-3-6-2-9-2-8-7-6-0-5-1-4-7-6-4-5-1-2-5-5-2-9-1-3-3-5-1-0-3-2-9-8-4-9-5-8-0-6-0-3-8-9-2-4-9-8-4-2-5-1-8-3-1-6-7-0-9-5-0-5-6-5-6-4-2-4-4-9-6-8-7-9-6-2-5-5-5-5-8-5-5-3-4-8-9-0-6-7-3-7-2-9-1-4-5-2-8-1-4-7-7-2-8-0-6-4-4-3-7-2-5-6-8-1-6-6-9-6-8-7-1-7-0-4-8-0-8-4-6-0-9-5-2-3-7-5-4-3-3-1-8-7-2-4-9-9-4-5-8-9-9-8-6-7-3-5-2-3-9-2-7-1-5-6-7-5-3-5-8-7-1-8-5-0-3-2-0-1-0-3-5-8-3-4-4-2-8-6-0-2-0-4-3-6-0-2-4-1-0-7-0-3-9-9-6-4-9-1-3-6-1-3-1-8-1-0-2-1-0-2-8-5-1-2-2-3-9-1-1-3-9-9-0-0-3-6-9-6-0-7-6-6-9-0-5-4-5-9-5-9-6-7-3-8-1-7-1-5-3-1-9-6-2-4-0-6-9-4-9-2-7-2-8-6-1-6-8-5-7-0-7-7-9-7-0-6-4-4-2-6-5-1-6-4-9-8-8-6-8-5-0-6-7-4-8-7-3-2-6-2-4-8-2-0-3-7-6-8-4-9-7-9-9-0-8-7-7-1-3-9-4-5-7-3-8-5-3-8-8-6-9-3-9-6-8-0-8-6-5-2-0-1-8-4-4-4-5-5-6-5-3-2-1-3-7-4-5-2-3-9-5-4-0-5-1-6-3-9-2-7-8-3-5-4-8-3-4-7-5-1-1-7-3-7-0-3-9-6-3-6-7-0-4-8-1-1-0-6-2-2-9-1-6-7-1-0-8-7-0-2-2-1-7-2-3-1-2-5-5-4-4-0-1-6-1-4-2-6-3-7-1-8-8-2-7-3-0-2-8-0-1-9-6-5-1-8-2-4-2-2-0-4-9-2-7-6-4-2-8-7-0-7-9-6-5-1-4-4-4-6-1-2-0-0-0-3-2-3-1-5-8-9-9-5-3-3-5-1-4-1-7-3-4-7-2-0-1-8-5-0-9-1-0-9-7-3-9-0-1-3-5-0-3-7-9-7-1-2-3-8-7-0-6-7-1-2-3-0-2-4-1-9-4-3-9-6-4-9-0-7-7-7-8-1-9-4-1-7-5-9-0-7-8-6-3-5-5-9-9-9-8-7-5-1-8-8-4-0-3-6-0-5-6-2-3-4-0-1-3-6-9-8-5-9-9-5-0-8-7-6-4-0-7-6-8-0-4-8-2-2-7-5-7-7-9-5-8-5-3-2-4-2-0-0-4-0-6-9-9-4-3-8-2-5-4-6-6-5-9-5-1-6-1-2-8-2-7-5-2-7-0-6-7-1-1-4-0-2-5-9-1-7-7-2-4-2-5-8-2-6-5-6-2-2-2-0-2-0-0-7-0-6-4-4-2-1-3-6-8-1-0-9-3-0-9-3-3-0-6-5-6-7-4-1-2-4-0-6-5-9-1-3-1-3-5-7-1-8-3-9-8-4-9-2-7-4-3-3-7-8-5-9-3-1-9-8-5-6-9-2-1-0-1-1-7-9-4-4-2-3-0-5-4-8-2-9-6-6-6-0-8-3-0-2-5-6-1-1-7-4-8-2-1-4-9-4-5-9-7-7-2-1-4-5-8-8-0-0-4-6-6-8-6-0-9-5-5-1-7-1-1-3-4-8-0-2-0-0-9-2-7-3-3-6-2-8-5-2-9-4-3-5-9-2-6-1-7-8-3-2-9-8-1-5-6-9-2-2-5-4-2-1-6-1-3-4-0-2-8-7-4-7-8-1-6-0-7-5-9-6-0-5-9-5-9-9-4-9-8-8-7-5-8-0-5-7-6-7-6-0-4-7-4-8-7-8-3-7-4-0-8-0-6-8-5-3-8-7-3-6-3-6-2-4-1-5-1-4-1-5-0-5-7-0-8-1-6-3-9-5-2-1-5-7-1-4-9-8-6-3-8-3-4-9-3-3-5-1-1-1-5-7-8-6-6-6-0-5-3-3-1-2-8-0-0-7-4-1-3-1-5-0-3-3-7-4-8-9-8-8-8-0-2-4-2-2-9-1-3-9-3-8-4-1-2-2-0-1-5-3-4-3-3-9-2-3-1-4-9-6-2-0-7-5-6-8-7-5-3-6-9-3-4-9-4-6-6-0-7-6-1-7-4-3-9-2-3-7-2-6-0-5-6-8-5-2-6-5-4-8-8-0-6-2-4-5-1-3-3-7-2-2-1-8-0-0-7-2-1-3-9-3-6-4-9-1-7-5-2-3-5-1-9-4-4-7-0-7-1-7-5-2-2-8-1-6-2-8-5-4-3-8-5-9-5-8-5-1-7-7-5-6-5-7-7-7-7-7-4-8-9-2-2-1-3-1-2-4-8-8-7-8-2-8-3-8-0-1-2-4-3-9-7-6-3-9-4-8-1-1-3-0-0-3-5-0-4-0-6-9-0-7-2-6-9-0-7-6-8-2-2-1-5-8-6-5-6-4-1-3-1-9-5-7-4-0-1-7-7-0-9-6-0-5-5-8-0-4-0-6-8-3-4-7-8-3-5-0-9-9-1-9-0-1-2-7-4-5-2-0-3-4-0-6-9-0-6-6-8-1-8-6-3-0-4-2-3-2-5-2-7-1-9-1-3-4-4-3-0-6-7-4-3-9-3-2-6-2-1-8-2-6-8-5-7-2-7-4-3-9-7-2-0-1-3-1-2-5-4-9-2-5-5-5-1-5-4-2-3-7-4-1-7-0-6-7-1-7-8-4-0-2-5-7-5-8-4-5-9-8-6-5-8-5-6-3-3-9-7-1-9-9-3-8-8-6-9-9-6-6-5-8-6-4-3-4-1-9-9-7-0-4-7-8-3-6-3-0-2-2-6-4-6-1-3-5-7-1-3-6-4-3-4-6-3-9-4-8-9-0-8-0-8-3-4-7-8-0-9-4-9-3-4-2-6-4-6-2-0-3-9-7-9-5-1-5-3-1-3-9-4-3-8-8-7-0-8-0-5-1-6-1-9-7-2-2-5-9-1-8-1-1-9-1-5-0-4-4-9-1-3-6-4-4-0-3-3-0-3-1-0-0-8-1-8-4-5-6-8-7-9-7-5-1-0-5-4-1-2-7-1-7-6-0-6-4-4-6-6-6-0-9-5-9-3-7-5-0-5-9-6-2-3-0-5-2-5-5-9-9-1-2-4-6-8-9-8-8-2-2-9-8-0-2-4-7-3-0-6-7-9-1-2-0-8-2-6-0-2-9-2-3-5-2-9-2-6-1-8-3-8-1-9-7-0-4-6-7-7-7-0-3-7-1-2-0-1-0-8-9-6-1-6-1-2-2-1-9-5-3-1-3-8-0-3-2-2-8-4-1-3-2-6-7-9-0-3-5-0-3-2-9-6-5-9-1-5-2-7-6-6-5-1-0-7-5-5-8-0-2-8-7-0-5-1-8-1-0-3-7-6-2-9-0-8-6-9-3-8-8-5-2-5-8-3-7-4-9-5-1-8-4-8-9-6-1-1-7-5-5-9-8-5-6-0-8-4-9-3-3-0-2-3-9-1-8-1-9-6-4-4-4-9-0-1-4-7-9-5-3-8-2-3-8-1-6-1-7-0-4-7-1-8-4-3-8-2-1-1-2-6-8-4-6-6-6-4-6-4-5-2-9-9-7-0-0-8-0-2-0-9-6-1-5-6-4-1-5-5-9-6-6-9-5-2-6-4-9-5-3-1-2-5-4-3-0-6-1-7-6-4-4-4-5-2-2-4-8-4-1-9-6-0-7-6-0-2-7-7-3-8-0-8-9-7-2-2-3-9-7-7-9-1-8-3-2-7-6-9-2-4-8-6-2-1-1-8-7-6-4-4-8-4-4-6-9-5-2-5-0-3-4-6-3-1-8-2-6-5-8-7-5-9-8-3-0-3-8-1-7-7-6-7-0-7-8-5-5-1-9-0-3-3-4-4-0-9-3-0-5-2-4-6-9-4-6-2-0-1-4-7-3-8-9-2-6-9-5-5-9-4-6-5-9-6-5-4-3-6-9-2-2-6-3-4-0-1-7-9-4-2-9-3-1-5-7-9-7-4-7-2-4-0-4-9-8-4-4-0-0-7-1-8-4-3-9-6-0-0-3-0-2-1-3-0-8-1-7-2-0-0-5-1-5-3-9-0-7-3-5-8-8-4-3-9-2-0-0-2-1-0-9-7-1-7-0-5-6-0-5-7-3-9-6-7-7-5-7-2-1-5-3-3-0-7-8-2-0-7-2-7-8-2-4-5-6-1-1-3-8-3-3-0-9-9-1-2-8-0-2-4-3-3-7-9-4-5-8-1-7-7-5-8-5-8-2-1-4-6-9-9-2-8-3-8-2-4-7-6-3-5-6-8-1-7-3-8-7-5-6-4-6-3-4-2-5-5-6-1-0-7-6-5-5-7-3-9-5-0-3-6-9-7-8-5-5-0-5-1-9-8-2-2-8-0-4-3-5-3-9-4-3-9-7-2-6-1-7-0-9-7-1-4-2-8-0-0-4-3-3-2-1-6-4-3-9-0-7-0-6-0-1-6-1-9-3-2-8-4-7-4-5-8-8-9-2-6-9-4-2-7-5-3-0-6-3-4-2-2-5-0-3-8-6-4-7-3-6-0-3-9-3-0-8-9-5-0-8-4-4-4-8-7-5-5-8-3-7-1-1-5-0-6-3-8-8-2-1-3-1-9-5-8-3-1-7-0-0-9-0-5-6-1-4-0-0-9-9-3-5-9-1-7-0-0-6-9-2-0-8-7-3-5-8-7-5-8-9-5-6-3-4-3-3-5-3-4-6-1-7-7-6-3-4-8-3-8-6-5-0-1-0-7-1-7-4-5-7-1-3-0-5-0-9-0-7-1-4-9-5-3-5-0-6-6-7-2-9-3-1-5-4-5-1-8-7-0-2-3-8-8-7-2-7-1-2-4-0-5-1-6-2-4-4-0-2-5-6-3-9-0-7-3-4-1-1-4-1-7-8-5-4-3-0-4-1-5-3-1-7-0-5-8-5-4-7-0-0-9-6-1-4-1-6-9-6-2-7-8-3-1-6-4-2-5-2-6-9-9-1-3-5-3-6-5-4-0-4-8-9-8-2-9-7-3-6-0-4-4-9-2-2-0-6-1-2-6-1-4-2-9-8-4-1-2-9-1-2-6-1-6-3-5-1-6-7-0-1-2-2-4-9-6-9-4-8-9-0-9-5-2-8-1-4-5-5-7-3-6-1-3-3-9-7-6-4-8-8-1-5-9-5-2-8-9-9-7-1-0-5-8-9-7-4-7-7-4-7-6-0-2-4-2-7-6-5-9-9-7-7-3-5-2-7-2-6-3-7-5-8-3-0-6-2-2-8-2-8-4-8-2-9-9-6-5-6-2-8-2-7-2-0-7-6-0-7-9-8-1-3-5-5-6-6-1-2-9-6-3-1-8-4-4-9-8-1-8-6-8-6-2-1-3-7-2-0-8-6-1-3-0-1-4-9-4-4-2-2-8-2-8-4-2-9-8-7-8-6-1-4-3-7-3-7-0-6-8-1-5-3-4-7-2-4-1-8-1-4-1-8-7-7-5-8-5-6-4-5-7-6-6-1-8-7-2-6-3-7-0-7-2-6-9-6-2-5-1-7-7-3-3-9-8-5-8-4-2-5-0-6-8-0-7-4-2-4-2-0-9-0-5-9-2-5-8-6-2-4-0-3-7-3-4-1-3-4-3-0-0-3-1-9-3-3-7-6-1-7-2-9-1-6-5-1-8-3-2-2-0-7-7-1-2-1-2-8-3-9-0-4-2-6-8-9-9-0-4-3-4-0-9-9-9-8-4-8-7-6-5-6-0-9-8-6-4-4-0-3-4-7-4-4-4-7-9-1-9-8-9-7-1-5-6-8-2-7-8-1-3-1-9-6-6-3-5-5-1-4-6-1-6-4-3-0-5-0-6-7-9-5-0-6-2-9-3-7-1-2-9-4-7-9-1-1-1-8-9-6-7-4-0-3-5-6-2-7-0-8-7-1-4-7-9-8-3-1-2-9-1-6-0-8-6-0-1-9-2-6-9-7-8-6-6-1-1-5-6-3-6-4-5-4-3-3-7-8-6-1-2-0-8-7-7-1-6-2-2-2-0-0-0-5-9-7-0-0-8-6-5-9-5-9-8-0-6-3-5-9-7-8-7-9-0-9-3-1-1-6-5-0-6-8-2-8-0-1-6-6-2-9-5-8-3-2-7-2-1-5-1-2-3-1-8-8-3-0-3-6-2-4-8-4-6-5-1-4-8-8-2-5-3-8-2-0-9-1-6-6-8-7-4-2-2-0-6-5-4-8-8-4-3-1-9-9-9-6-9-8-4-2-9-2-5-7-4-3-3-1-8-3-1-0-9-4-5-9-4-1-3-0-1-6-0-8-9-4-2-2-3-0-5-3-7-7-0-3-0-7-5-0-3-0-3-3-3-6-5-2-4-2-8-0-2-7-2-7-4-9-5-9-7-0-8-2-0-9-4-3-8-4-2-0-5-6-1-4-9-6-7-4-0-9-1-0-3-3-8-7-8-8-7-5-5-5-1-6-2-2-5-5-5-4-2-5-3-7-5-5-7-5-4-5-2-1-5-9-4-1-8-0-5-1-3-4-2-9-9-4-5-8-7-5-1-9-1-6-1-5-3-1-2-7-3-4-6-7-1-2-6-6-8-5-8-3-4-4-6-3-4-3-0-6-1-1-2-5-2-7-6-9-4-0-8-5-7-1-8-8-6-3-1-0-8-2-9-7-5-8-9-7-4-1-7-3-6-4-2-5-8-0-6-5-2-2-1-7-9-3-5-7-7-1-1-5-0-4-8-0-8-9-6-1-5-0-6-0-7-0-8-8-8-1-2-1-6-2-6-7-3-2-7-3-0-7-5-7-3-6-3-5-4-5-2-2-1-4-0-0-9-2-5-5-3-9-4-0-9-7-9-2-2-6-1-1-7-0-8-4-3-7-3-2-9-8-4-6-2-0-0-5-4-4-1-8-1-9-3-7-3-3-7-5-2-0-1-4-4-6-7-6-8-0-7-6-7-4-6-0-2-0-8-2-2-1-3-0-5-5-9-2-8-7-0-2-4-1-6-3-2-6-1-3-2-9-3-7-8-1-2-4-2-2-8-4-4-8-7-6-4-6-2-1-0-9-4-9-3-8-7-0-3-9-6-6-0-5-6-5-2-1-2-3-4-5-5-0-2-6-0-7-4-3-7-3-4-2-9-8-6-1-3-8-3-6-1-9-9-9-8-1-6-0-6-9-9-0-7-9-3-7-0-8-8-5-4-7-4-8-2-3-6-8-5-4-5-7-1-0-3-5-4-2-8-0-1-5-3-9-1-0-9-6-5-1-9-3-0-0-7-5-0-6-0-8-8-3-3-8-0-3-3-7-1-7-7-4-4-3-5-6-5-4-8-7-3-5-2-2-5-3-9-6-1-1-3-4-6-9-6-7-9-9-1-1-0-6-9-4-8-8-2-7-4-2-8-2-3-5-7-1-9-5-5-7-0-8-9-8-7-2-3-1-9-1-3-5-1-4-8-0-4-9-2-4-8-7-9-8-1-3-6-5-5-2-9-7-0-5-0-2-4-4-9-0-4-8-0-9-9-6-0-4-5-4-6-3-4-8-9-9-1-6-1-3-5-9-7-5-9-9-4-6-5-4-0-4-8-5-0-6-7-6-9-8-2-2-3-0-8-2-6-3-1-9-2-1-7-1-5-5-4-5-6-8-7-9-9-0-2-2-7-7-1-3-0-0-5-6-6-7-7-4-9-4-0-8-5-8-9-9-5-2-4-6-1-0-1-3-7-3-5-5-6-1-3-6-5-9-5-8-9-9-6-5-3-9-9-4-0-9-6-6-2-1-7-6-1-0-2-3-7-8-6-1-1-7-3-0-0-0-1-3-6-1-0-7-2-8-8-7-9-3-0-2-1-9-2-2-3-6-9-8-4-9-6-7-7-1-7-5-7-5-9-4-8-4-5-5-5-9-8-3-1-5-5-6-2-8-4-3-0-2-6-9-3-5-1-3-6-5-8-6-9-9-4-3-0-4-1-3-2-6-8-1-9-0-3-9-4-9-2-8-8-2-0-8-0-8-7-1-6-1-2-0-9-4-3-6-2-6-7-1-7-5-8-6-5-4-0-8-1-1-0-1-5-7-2-4-8-4-0-7-6-8-6-3-8-3-2-4-5-7-4-9-7-6-1-1-4-8-9-3-8-9-2-2-8-7-3-0-7-0-6-0-7-1-4-8-7-5-9-8-5-4-9-3-6-1-0-4-4-3-0-2-1-1-3-4-9-5-1-1-7-9-6-7-8-2-7-2-8-0-5-1-5-3-4-4-0-7-0-5-3-1-4-2-5-3-9-3-2-6-7-9-4-7-3-5-1-2-6-2-9-4-0-1-2-0-6-0-1-8-1-7-5-8-5-6-9-3-9-8-3-0-5-4-9-4-0-7-2-8-3-9-8-4-6-5-2-7-2-1-5-5-9-5-7-4-2-1-8-0-1-2-2-7-2-2-3-9-4-1-0-8-8-3-1-0-4-2-3-4-0-5-3-2-5-2-7-6-9-8-6-6-9-0-5-4-0-5-7-6-4-5-7-1-7-1-2-3-9-3-9-0-7-3-3-5-0-0-6-5-9-4-2-6-3-9-3-2-6-1-0-6-7-6-7-1-2-4-6-7-6-9-0-8-9-4-5-0-8-8-8-7-0-8-4-5-6-2-2-6-3-4-1-8-0-4-7-0-3-7-5-7-4-9-0-9-5-8-6-1-5-2-2-9-6-8-3-1-1-0-6-4-8-3-1-5-8-2-9-8-6-4-8-2-4-3-7-3-4-2-4-2-5-4-7-8-3-2-4-9-0-0-7-6-6-7-8-1-1-2-0-6-1-6-4-5-8-1-5-0-6-4-9-2-9-1-9-6-9-8-9-1-3-7-2-0-4-4-0-9-5-2-3-8-9-2-0-9-5-2-6-8-4-5-7-0-6-0-7-5-5-5-6-6-1-7-4-2-3-6-5-1-9-1-9-5-6-2-8-7-0-3-9-0-5-0-1-8-0-4-0-3-2-9-0-2-0-3-6-0-8-3-6-1-1-9-3-6-8-0-2-8-0-7-7-5-9-7-8-2-5-6-8-5-5-1-3-8-2-4-5-1-3-9-6-5-0-4-5-1-4-1-8-0-6-0-4-2-1-5-9-3-1-9-8-1-1-9-4-8-7-2-4-2-9-9-6-8-2-7-3-4-4-2-9-3-1-3-7-6-8-9-7-3-5-8-3-4-4-0-8-7-2-5-9-5-2-9-2-4-0-4-6-1-8-6-6-8-3-6-4-1-6-5-6-3-9-3-0-7-3-9-1-2-1-2-8-5-0-6-9-4-1-1-1-3-9-0-7-3-8-6-3-2-6-3-5-7-3-9-6-0-4-4-8-4-9-0-2-5-9-1-8-3-6-1-1-6-5-4-7-7-0-7-2-7-4-2-5-7-1-1-8-7-4-3-8-6-4-6-7-2-0-2-5-0-8-5-3-3-0-8-7-0-7-7-4-0-5-2-5-2-5-5-9-0-5-9-9-7-2-6-9-3-5-8-5-8-7-8-6-2-9-9-6-7-0-6-1-7-6-9-0-1-2-4-1-1-0-3-0-5-9-0-7-0-0-3-6-2-3-1-8-4-7-7-2-2-1-7-7-8-0-1-7-2-8-6-3-8-2-5-3-3-4-4-7-3-4-6-9-5-2-9-0-8-2-7-6-3-8-3-4-4-4-7-9-7-5-3-3-4-4-8-8-5-3-8-5-4-6-5-2-1-4-6-7-4-3-7-8-2-7-0-7-6-1-0-7-1-5-9-1-5-2-9-2-9-3-7-1-2-8-2-1-4-5-8-4-8-4-2-1-4-3-9-8-1-3-9-5-4-6-5-1-9-3-6-6-3-4-1-8-9-3-2-5-4-7-0-0-0-3-7-8-8-6-2-8-4-4-8-9-3-8-0-5-7-8-1-9-2-0-4-9-6-5-5-6-1-6-4-5-7-3-6-3-1-7-0-0-7-4-1-2-2-5-0-3-1-3-3-7-0-8-9-1-2-7-7-4-5-1-9-0-4-1-2-0-4-1-6-8-8-8-9-1-6-4-4-2-7-4-4-0-8-1-9-9-3-8-7-4-6-3-9-7-0-8-5-2-0-8-3-6-9-0-3-1-3-6-8-0-3-3-9-9-1-6-7-9-9-9-5-5-4-5-9-0-1-6-2-4-0-2-2-2-3-6-7-6-9-4-1-0-7-7-6-0-4-0-1-2-6-4-8-3-2-5-3-1-9-0-9-9-5-6-6-4-2-4-8-5-7-7-7-9-2-2-1-6-5-4-6-4-0-8-5-3-7-2-9-2-9-0-8-7-3-7-2-9-7-6-8-3-0-7-1-5-2-6-9-7-5-3-3-8-7-1-1-1-0-5-2-5-6-6-2-3-1-7-5-2-2-2-5-1-7-6-2-0-9-5-6-8-3-3-7-0-0-3-9-8-7-5-2-8-4-4-4-5-3-3-4-1-3-3-6-3-0-8-1-2-4-1-7-0-6-0-0-3-1-1-5-8-8-0-8-8-4-8-7-1-1-8-0-8-2-1-2-0-4-7-6-3-9-9-4-9-2-4-4-8-6-0-6-5-8-6-5-6-8-2-9-9-9-5-5-1-0-0-6-4-9-8-4-4-8-8-1-7-0-3-8-5-1-1-2-8-3-0-0-2-2-6-5-5-7-5-6-9-5-7-6-0-4-2-1-9-3-4-7-3-7-2-5-4-8-1-4-9-5-9-3-9-3-1-7-2-1-1-6-5-0-3-9-7-8-8-9-3-5-6-7-7-0-9-5-3-0-0-6-7-6-5-9-3-4-7-8-3-4-2-5-6-6-3-4-2-7-4-2-3-2-4-0-8-7-2-9-5-6-7-4-5-2-4-1-9-0-6-5-6-7-1-9-5-1-3-5-5-1-1-0-8-4-8-0-5-3-6-4-6-2-9-8-7-8-2-3-1-9-7-8-6-8-1-5-8-2-9-7-3-4-6-2-1-9-2-3-6-4-0-7-0-5-1-4-2-3-4-6-9-7-2-3-1-3-6-8-8-2-9-9-1-5-6-5-9-1-3-2-2-6-6-1-1-4-3-5-6-4-3-0-5-5-1-5-2-7-3-9-9-8-0-5-3-7-4-9-4-9-0-2-4-2-5-6-0-8-5-8-2-0-0-1-4-2-0-7-7-7-8-1-5-4-0-6-8-5-6-7-2-9-1-5-0-4-1-6-1-5-4-8-0-6-9-1-8-1-2-6-4-9-2-7-1-3-8-7-9-0-2-9-3-2-9-8-7-5-0-4-2-9-7-8-6-7-7-7-7-6-8-5-3-7-4-0-5-3-7-8-1-6-8-8-0-2-5-8-2-4-3-3-6-3-2-4-3-3-3-2-4-5-6-9-5-6-4-0-9-1-4-3-5-2-9-4-6-8-5-0-5-5-1-9-2-3-8-7-3-2-7-0-1-7-5-5-4-0-6-1-9-4-6-7-1-3-7-5-0-6-3-2-8-4-5-6-4-9-8-7-1-5-0-8-9-7-7-1-9-8-8-8-0-1-1-4-6-8-3-8-9-3-9-1-6-2-3-6-9-9-3-8-4-2-0-2-0-9-2-2-1-1-0-1-3-1-5-5-2-2-6-8-3-1-2-0-6-9-5-7-5-2-9-9-0-7-8-7-5-9-4-6-5-4-9-0-0-8-8-7-1-3-6-6-0-8-3-4-4-6-6-6-9-0-3-0-0-8-9-2-1-6-0-1-1-7-0-7-8-2-4-5-2-7-3-5-9-5-5-7-7-6-8-7-2-1-6-3-5-1-4-9-0-8-2-2-6-5-1-7-9-6-2-7-5-2-7-5-0-7-3-9-5-9-3-0-4-6-2-4-3-4-6-2-4-6-1-8-4-3-1-0-0-4-1-1-8-1-7-8-8-7-4-6-1-7-0-3-5-0-8-7-8-2-0-4-4-2-1-8-2-4-3-0-0-9-2-7-3-0-6-8-2-3-3-6-7-2-0-4-5-5-3-1-3-4-3-5-7-9-9-6-4-6-5-3-9-9-1-8-9-4-1-6-0-0-9-0-4-4-4-8-7-5-2-1-8-5-6-7-3-4-0-3-1-9-9-6-8-9-3-8-1-7-7-0-6-4-9-1-9-3-7-6-3-6-9-4-2-8-1-4-2-5-4-8-5-9-3-0-1-3-1-9-2-5-1-2-7-6-4-9-7-1-0-3-8-3-4-4-2-1-4-0-4-6-4-6-9-7-1-7-2-5-1-2-4-5-0-8-4-9-4-0-5-9-2-6-3-0-5-6-7-6-2-5-0-9-4-3-9-9-3-5-7-2-9-9-0-5-7-1-1-6-8-2-3-8-2-8-5-7-5-8-4-0-9-3-6-2-9-0-5-9-4-7-7-2-5-5-4-2-5-0-6-2-8-7-9-6-0-0-9-1-7-6-1-2-6-5-4-3-6-1-4-0-0-3-6-5-9-6-8-8-0-5-4-2-3-9-7-1-0-0-5-6-3-3-1-2-5-6-3-4-9-5-4-3-5-6-5-9-1-6-6-3-6-2-1-4-0-0-2-9-8-8-7-8-9-4-7-7-6-1-9-3-9-5-3-7-7-6-5-3-8-3-7-9-7-8-7-4-8-5-1-3-6-2-3-0-4-3-6-2-7-0-5-3-7-1-0-8-3-1-1-1-4-8-2-0-0-8-2-5-9-1-4-2-3-8-4-2-1-9-0-0-9-7-6-1-0-7-2-6-2-5-3-6-4-2-4-4-5-6-0-4-1-4-3-7-7-9-0-3-3-6-0-0-1-5-4-2-7-6-3-8-3-9-2-0-5-1-1-6-6-1-5-8-3-7-8-7-0-7-2-6-2-0-2-3-8-6-5-0-9-3-8-4-9-2-1-3-1-5-1-8-7-9-1-6-5-1-7-9-8-8-8-6-7-6-9-3-5-5-9-6-7-8-0-4-5-6-0-2-4-4-8-4-7-4-8-8-8-8-2-1-6-1-6-7-8-0-6-0-8-9-9-2-7-7-0-8-4-8-9-4-1-3-1-7-3-5-3-1-2-4-8-7-2-8-9-5-6-7-1-6-5-1-8-2-5-1-3-0-5-0-4-9-2-7-3-1-0-7-2-9-1-0-4-2-4-8-7-0-5-9-7-1-7-5-2-5-2-8-0-3-2-1-3-8-9-3-1-9-5-9-7-7-8-6-3-9-4-4-0-3-8-2-8-2-5-6-4-0-8-8-4-6-9-1-8-3-7-9-8-4-4-0-7-0-5-3-5-2-4-4-2-5-5-1-3-6-7-0-7-7-5-5-9-3-8-4-6-2-1-7-0-5-3-2-6-2-1-3-4-7-6-8-2-3-1-2-8-4-8-5-6-4-8-3-0-8-8-9-3-7-1-1-8-2-0-3-0-5-9-1-4-1-5-9-1-4-0-2-5-3-0-2-1-6-4-6-0-3-2-5-1-5-9-0-4-4-6-5-0-9-7-3-7-1-9-0-7-9-0-4-3-0-8-1-8-3-8-9-6-4-8-6-8-5-0-5-6-0-8-8-0-4-1-0-2-8-3-2-3-3-0-3-6-5-9-9-8-0-6-3-3-3-5-2-9-2-6-9-8-4-1-2-9-2-7-4-7-6-9-5-0-0-2-3-4-6-4-2-3-1-9-0-3-7-1-8-9-8-7-1-7-8-6-3-5-7-0-1-4-6-1-3-6-0-8-0-4-6-0-4-2-4-1-2-1-0-2-1-1-6-4-9-8-7-7-8-4-3-5-5-9-6-9-4-8-6-8-8-4-4-0-6-2-4-7-1-9-6-2-8-0-7-8-7-2-3-5-8-7-7-1-7-6-5-0-7-5-4-0-9-1-3-2-2-7-5-6-6-1-2-3-3-9-9-7-0-6-0-1-9-4-8-1-1-5-2-7-2-8-4-2-7-9-4-4-1-5-0-2-6-1-5-9-9-8-6-0-1-9-5-9-5-9-9-1-2-3-8-8-7-0-6-9-9-1-1-4-5-0-8-7-8-9-7-1-5-2-2-6-4-6-5-0-5-9-7-8-9-1-2-3-6-8-5-6-1-7-8-6-3-9-4-5-7-2-7-9-2-0-4-0-4-8-4-6-8-7-3-2-8-8-5-5-2-4-4-1-5-3-9-1-2-8-7-3-6-9-1-9-2-2-7-3-3-0-8-7-5-4-4-3-0-3-3-3-6-1-2-0-6-6-1-0-5-5-7-5-8-5-6-5-3-9-9-7-2-2-1-1-6-9-3-5-6-5-4-3-9-7-7-0-4-3-2-6-9-7-0-2-2-0-7-9-3-5-0-6-7-6-7-3-2-1-6-5-7-4-1-4-6-1-3-3-4-8-6-6-9-3-6-2-8-2-4-7-3-5-4-8-7-2-5-9-2-0-2-8-2-4-2-1-8-5-5-1-8-8-3-8-6-8-4-1-3-4-1-2-1-4-2-7-0-5-7-4-0-4-3-7-2-5-0-6-4-8-7-6-4-8-9-2-1-4-2-2-9-6-2-3-7-0-8-9-2-1-2-3-4-1-6-2-7-0-3-5-2-7-5-1-1-8-5-9-5-1-0-6-4-8-0-1-8-4-6-3-6-3-9-5-3-3-7-9-6-4-2-0-6-8-9-2-5-1-7-7-7-9-2-7-2-0-5-7-5-0-5-2-2-5-2-7-5-6-3-5-6-4-2-0-0-9-2-5-9-5-3-4-8-6-7-0-8-9-4-5-5-0-5-8-1-5-0-0-5-3-3-6-5-5-7-1-4-4-7-5-1-3-0-0-4-6-3-8-5-0-8-7-1-3-7-4-2-5-6-7-5-0-1-3-7-2-8-6-1-6-7-6-0-0-6-0-3-4-8-1-7-2-9-8-9-4-1-9-6-0-0-1-4-9-4-9-8-7-7-2-0-7-8-6-8-5-4-2-1-1-7-7-2-8-4-4-5-5-7-3-1-6-6-4-0-2-4-9-7-1-1-6-0-6-2-3-5-8-0-5-0-1-6-6-9-9-2-6-6-0-8-7-6-1-8-3-5-1-3-1-9-2-3-3-6-9-7-2-9-6-5-6-0-2-7-5-9-4-6-8-0-0-1-1-7-4-6-7-7-1-9-7-8-9-4-0-5-9-5-4-3-8-9-5-3-7-0-5-3-8-9-8-7-1-6-7-0-5-1-3-6-3-7-0-9-8-4-9-0-9-7-9-8-4-7-1-3-3-3-2-1-2-4-6-9-7-3-6-6-2-7-1-3-3-6-3-6-9-1-0-3-8-4-2-3-0-2-9-9-1-8-9-9-8-5-2-9-1-5-0-4-8-0-9-9-9-5-2-3-1-9-0-3-3-2-5-4-8-0-4-0-1-3-7-8-2-8-3-9-4-1-1-1-9-6-3-9-1-4-4-0-9-5-2-4-9-2-3-8-5-6-4-0-0-6-4-7-8-8-4-1-7-8-8-8-8-9-0-3-2-6-8-5-5-0-6-2-1-0-3-1-8-8-3-5-6-2-4-4-5-0-3-1-1-6-3-1-4-6-8-1-6-3-1-9-7-8-7-6-9-0-9-9-2-8-3-4-0-5-1-3-1-5-7-6-9-4-8-0-1-2-2-3-7-6-2-7-7-7-4-1-2-0-9-6-4-7-6-2-1-0-4-0-9-7-2-9-5-8-8-2-1-3-5-3-7-4-2-9-7-8-1-1-2-9-5-9-9-1-6-3-3-7-2-0-3-6-5-9-1-6-3-3-5-5-3-5-7-3-9-3-2-5-9-6-2-2-9-7-7-2-0-4-1-8-2-2-7-4-4-0-7-4-7-2-3-3-0-0-1-8-8-9-3-2-4-0-7-4-6-3-1-6-8-6-6-7-5-0-3-7-9-8-7-8-2-1-9-1-7-7-9-5-1-8-8-3-8-6-6-2-5-8-9-8-2-8-3-4-9-9-7-0-2-4-8-3-8-5-9-1-1-2-3-0-0-6-6-3-1-6-8-9-6-5-8-2-8-2-4-5-1-0-7-6-0-1-6-2-3-2-7-1-7-5-4-8-4-7-8-8-6-2-2-1-7-0-2-6-2-5-5-6-4-2-0-7-5-1-6-8-0-0-0-6-7-3-7-5-1-1-0-7-5-5-4-5-7-1-1-0-9-9-0-1-4-9-1-4-9-9-8-8-3-3-4-2-9-5-9-3-4-8-8-3-2-4-5-4-4-6-3-3-4-2-4-5-8-6-9-5-2-7-0-5-8-6-1-0-7-7-9-6-0-2-6-5-3-0-5-8-6-2-4-5-1-4-4-9-4-7-0-1-8-2-8-7-4-3-1-9-8-9-5-5-3-0-5-5-5-7-3-5-6-4-7-5-3-6-6-5-2-4-1-6-5-8-0-0-9-9-4-3-2-7-9-4-9-3-1-9-8-7-0-7-3-7-2-9-3-3-0-0-7-1-9-9-3-2-1-3-4-1-0-0-2-6-5-0-6-4-1-1-8-6-4-0-6-4-8-8-8-5-1-0-4-4-5-4-0-2-5-0-0-1-0-6-4-7-7-4-7-8-6-2-9-5-3-6-9-9-9-6-4-4-3-0-0-8-9-5-5-6-3-9-8-1-2-2-2-2-2-1-0-8-1-7-8-4-6-2-4-6-0-7-6-4-9-7-8-1-1-7-3-8-1-4-9-4-6-7-2-5-1-4-9-4-3-4-5-4-0-4-7-2-3-9-5-9-6-2-9-5-4-1-9-6-3-5-2-7-9-6-5-6-8-7-3-7-6-1-5-2-6-1-3-7-4-1-7-0-5-4-2-4-6-0-0-4-9-2-8-6-7-6-2-3-4-3-0-8-7-4-5-3-8-9-0-7-3-1-1-9-7-3-7-2-0-3-5-9-4-8-0-5-8-1-1-1-0-9-7-0-6-8-6-5-7-2-3-7-7-9-1-2-8-4-8-0-4-2-6-5-8-1-0-9-0-4-2-6-6-2-6-0-6-6-8-2-0-7-2-2-5-7-8-7-9-8-9-8-0-7-0-7-2-4-3-0-6-9-1-2-6-5-1-7-8-9-2-7-4-5-8-2-1-0-1-7-1-8-9-8-4-3-6-3-6-8-5-3-7-9-7-0-0-6-8-6-6-4-9-2-1-2-7-6-9-5-5-0-5-3-9-6-8-5-5-7-1-2-7-8-8-5-6-1-2-6-2-0-2-8-7-2-0-3-1-9-1-5-1-0-7-0-4-7-1-9-6-7-7-5-6-3-4-8-8-4-3-3-9-8-6-3-8-5-2-3-5-6-3-3-4-5-3-3-3-5-6-8-1-3-5-5-3-1-6-8-3-9-8-5-8-4-0-4-5-1-2-7-0-2-9-0-2-7-6-2-4-4-3-1-2-1-0-9-3-4-1-2-4-8-8-0-4-5-5-5-5-3-1-3-5-6-8-7-0-7-9-9-9-1-7-2-9-1-4-0-9-2-6-1-9-8-7-9-2-7-8-0-7-2-0-3-0-6-4-9-3-2-8-7-9-9-6-3-8-3-5-8-1-6-4-5-8-9-5-4-5-4-7-3-1-4-1-0-2-0-9-3-5-3-9-1-5-9-7-0-4-6-4-5-4-0-5-6-9-9-3-1-1-3-6-1-7-9-5-6-2-3-0-0-0-0-9-1-8-1-0-4-8-2-6-4-4-2-5-3-3-4-0-1-8-2-3-2-3-1-5-3-6-1-6-2-5-8-0-9-7-1-3-3-4-5-3-4-9-6-7-1-2-9-2-3-3-4-3-1-4-4-7-5-4-9-0-4-2-5-1-5-3-8-6-0-2-2-1-5-5-5-5-0-7-1-4-2-4-7-9-2-0-5-4-6-4-7-8-0-4-6-7-8-1-2-5-4-0-1-6-2-5-9-7-8-6-1-2-8-4-3-1-9-3-8-7-9-4-1-3-9-4-6-8-7-6-7-1-7-7-8-3-9-5-6-7-9-4-0-2-0-0-1-8-9-1-5-1-1-9-7-3-7-0-1-5-9-3-7-3-2-9-8-7-6-4-5-8-2-6-5-8-3-1-5-0-7-9-3-8-6-0-3-1-5-7-9-1-3-9-3-5-9-9-9-0-1-6-6-0-1-3-9-1-9-6-5-3-7-0-0-1-7-8-8-9-4-1-2-0-2-4-2-3-4-0-8-2-8-5-0-0-7-8-3-9-4-4-8-2-3-4-8-6-3-6-8-7-2-8-0-8-5-6-7-9-6-7-1-9-8-8-9-0-1-7-1-5-5-4-2-4-3-2-0-9-6-9-1-2-8-9-1-0-3-0-5-3-1-2-6-4-1-9-6-8-7-9-9-9-4-9-7-7-6-9-5-4-0-0-7-6-0-7-2-7-3-5-1-5-3-8-0-7-7-9-5-1-7-0-7-1-0-0-0-4-4-3-2-4-7-8-4-6-3-6-0-5-3-8-6-2-7-2-1-8-2-6-2-4-0-3-6-5-8-2-0-2-4-3-2-0-7-2-9-4-4-6-4-5-3-5-4-2-1-5-8-5-1-8-2-9-1-8-4-6-6-5-6-0-2-6-3-7-2-1-7-9-8-5-7-5-3-3-8-9-2-8-6-5-8-1-6-0-2-5-7-1-6-8-2-3-5-7-9-7-4-9-6-8-1-5-1-6-1-9-1-6-0-0-9-3-9-2-8-5-3-5-0-9-8-9-9-4-2-0-6-4-2-0-3-4-1-6-6-6-3-5-8-0-2-7-2-2-1-5-8-6-6-5-0-4-8-2-5-8-3-0-0-6-4-4-4-8-7-4-0-3-4-8-3-7-6-7-9-3-2-5-8-6-3-0-4-6-0-2-1-5-2-1-7-2-8-5-4-6-4-0-6-8-6-8-4-3-5-3-6-4-7-8-5-8-7-0-5-8-2-4-8-3-0-4-4-4-2-9-7-3-1-0-0-3-2-4-5-2-9-6-2-4-7-5-6-0-8-0-9-9-8-0-1-8-9-6-5-5-2-8-0-9-1-3-1-0-9-0-9-9-8-0-1-3-7-2-7-1-7-6-4-1-9-8-7-0-1-1-0-1-9-2-3-4-8-4-2-3-1-9-0-6-2-4-6-2-3-4-8-3-4-8-1-5-1-3-7-9-7-8-0-2-0-3-9-5-7-9-3-2-1-0-0-1-3-9-7-3-3-1-7-3-0-4-6-7-4-7-4-7-8-6-6-5-5-2-5-7-4-7-3-5-3-5-8-1-5-2-0-1-8-4-4-3-5-4-1-0-3-6-4-6-5-4-1-9-8-9-4-0-3-2-6-2-2-8-8-9-6-8-9-5-9-1-3-6-7-6-0-6-4-7-0-7-8-1-5-7-2-5-3-8-4-5-9-3-0-8-9-0-0-7-3-7-1-2-3-0-3-1-3-2-1-4-1-2-6-4-7-7-4-1-5-0-2-1-8-1-7-4-9-0-5-7-7-7-1-2-4-9-9-1-7-1-2-1-6-2-9-4-2-5-4-3-6-1-0-5-1-6-0-6-8-3-2-5-2-7-6-8-5-2-0-0-7-2-0-0-5-1-3-3-1-4-8-7-6-9-2-1-3-3-4-9-9-8-8-8-2-4-9-1-0-8-0-6-5-4-6-7-0-7-7-4-3-0-9-6-8-2-3-0-1-3-1-5-8-8-7-3-6-9-5-0-2-6-5-8-6-7-2-2-7-5-8-9-6-8-6-0-2-5-3-3-7-2-6-8-2-8-6-9-4-1-4-8-4-4-6-9-7-5-5-7-9-3-2-4-6-9-1-8-9-9-9-3-0-5-5-4-7-9-1-5-1-2-2-3-9-3-3-5-2-0-6-6-6-5-8-6-1-0-9-7-3-2-1-5-9-9-6-7-7-0-5-5-2-6-4-8-5-8-7-9-5-5-9-4-9-7-6-1-8-6-6-4-5-6-8-5-5-4-3-4-2-7-4-1-2-1-0-9-2-3-6-4-7-5-8-1-5-9-5-6-4-5-0-5-2-9-8-6-0-9-9-6-4-8-5-2-5-2-1-1-5-0-0-3-6-9-7-1-7-0-3-7-6-2-3-8-3-6-6-7-7-8-1-3-0-5-7-3-3-9-4-8-2-6-6-8-7-0-9-1-5-6-1-9-7-8-6-8-0-8-9-6-0-2-8-0-4-6-6-3-3-0-3-7-0-1-8-1-4-1-7-8-7-0-2-5-6-4-4-8-4-4-7-3-5-8-2-2-1-7-7-7-1-4-4-1-9-1-2-3-6-9-3-2-7-2-2-2-0-0-2-9-6-3-7-3-2-2-2-8-5-4-9-9-8-0-2-0-9-6-5-1-9-4-5-3-6-8-1-9-9-7-5-6-7-8-4-3-0-8-3-5-0-2-4-5-0-7-3-7-8-1-8-9-7-1-6-9-3-5-8-6-3-7-4-1-4-0-7-3-6-0-0-7-1-7-6-8-8-4-5-6-4-8-0-1-1-9-2-0-7-0-1-9-9-7-7-8-2-2-9-3-5-3-6-7-9-7-7-7-2-9-7-3-3-5-6-5-2-9-6-2-6-8-8-5-2-8-5-8-6-1-1-2-1-4-3-4-8-3-0-4-5-9-2-6-4-5-4-9-4-6-2-5-2-4-0-5-5-6-2-4-3-3-7-0-8-6-9-4-2-9-8-2-7-4-5-1-9-4-1-8-3-9-1-8-3-3-4-6-7-7-8-0-6-8-9-5-8-2-1-1-0-8-7-9-4-5-7-1-9-0-0-0-3-6-1-5-9-5-5-3-1-2-1-9-3-6-4-5-1-6-7-4-3-8-1-0-5-5-8-5-4-1-9-9-8-5-3-0-1-9-9-8-5-9-0-4-3-2-2-9-4-0-3-7-2-4-2-8-0-6-9-4-5-1-6-3-3-0-0-2-4-3-3-1-3-2-0-6-9-1-8-4-4-3-6-7-7-7-1-8-0-4-5-4-6-5-9-3-0-9-1-7-6-0-1-2-2-0-9-4-2-8-6-6-0-7-3-2-1-0-0-5-5-4-2-8-6-1-1-7-"
     ]
    }
   ],
   "source": [
    "mf=[]\n",
    "for fpath in wavename:\n",
    "    a = feature_extractor(fpath)\n",
    "    num = int(fpath.split('/')[-1].split('_')[0])\n",
    "    mf.append([a,num])   \n",
    "    print(num, end='-')"
   ]
  },
  {
   "cell_type": "code",
   "execution_count": 15,
   "id": "9f971eef",
   "metadata": {
    "execution": {
     "iopub.execute_input": "2023-06-03T08:48:05.250558Z",
     "iopub.status.busy": "2023-06-03T08:48:05.250014Z",
     "iopub.status.idle": "2023-06-03T08:48:05.259500Z",
     "shell.execute_reply": "2023-06-03T08:48:05.258019Z"
    },
    "papermill": {
     "duration": 0.466392,
     "end_time": "2023-06-03T08:48:05.264808",
     "exception": false,
     "start_time": "2023-06-03T08:48:04.798416",
     "status": "completed"
    },
    "tags": []
   },
   "outputs": [
    {
     "name": "stdout",
     "output_type": "stream",
     "text": [
      "/kaggle/input/audio-mnist/data/47/5_47_30.wav\n"
     ]
    },
    {
     "data": {
      "text/plain": [
       "5"
      ]
     },
     "execution_count": 15,
     "metadata": {},
     "output_type": "execute_result"
    }
   ],
   "source": [
    "#rechecking\n",
    "print(wavename[1])\n",
    "mf[1][1]"
   ]
  },
  {
   "cell_type": "code",
   "execution_count": 16,
   "id": "1582ef9c",
   "metadata": {
    "execution": {
     "iopub.execute_input": "2023-06-03T08:48:05.936377Z",
     "iopub.status.busy": "2023-06-03T08:48:05.935922Z",
     "iopub.status.idle": "2023-06-03T08:48:05.997333Z",
     "shell.execute_reply": "2023-06-03T08:48:05.995819Z"
    },
    "papermill": {
     "duration": 0.398848,
     "end_time": "2023-06-03T08:48:06.000045",
     "exception": false,
     "start_time": "2023-06-03T08:48:05.601197",
     "status": "completed"
    },
    "tags": []
   },
   "outputs": [
    {
     "data": {
      "text/html": [
       "<div>\n",
       "<style scoped>\n",
       "    .dataframe tbody tr th:only-of-type {\n",
       "        vertical-align: middle;\n",
       "    }\n",
       "\n",
       "    .dataframe tbody tr th {\n",
       "        vertical-align: top;\n",
       "    }\n",
       "\n",
       "    .dataframe thead th {\n",
       "        text-align: right;\n",
       "    }\n",
       "</style>\n",
       "<table border=\"1\" class=\"dataframe\">\n",
       "  <thead>\n",
       "    <tr style=\"text-align: right;\">\n",
       "      <th></th>\n",
       "      <th>Features</th>\n",
       "      <th>Number</th>\n",
       "    </tr>\n",
       "  </thead>\n",
       "  <tbody>\n",
       "    <tr>\n",
       "      <th>0</th>\n",
       "      <td>[-610.77844, 0.5747652, 38.636696, 18.550526, ...</td>\n",
       "      <td>6</td>\n",
       "    </tr>\n",
       "    <tr>\n",
       "      <th>1</th>\n",
       "      <td>[-587.6907, 61.90871, -5.2784634, 16.531912, 8...</td>\n",
       "      <td>5</td>\n",
       "    </tr>\n",
       "    <tr>\n",
       "      <th>2</th>\n",
       "      <td>[-599.39954, 67.75347, 27.81983, 13.045481, 10...</td>\n",
       "      <td>0</td>\n",
       "    </tr>\n",
       "    <tr>\n",
       "      <th>3</th>\n",
       "      <td>[-618.4858, 108.97974, 6.630151, -4.22232, -2....</td>\n",
       "      <td>4</td>\n",
       "    </tr>\n",
       "    <tr>\n",
       "      <th>4</th>\n",
       "      <td>[-595.89935, 102.14142, -3.690007, 4.193048, 1...</td>\n",
       "      <td>4</td>\n",
       "    </tr>\n",
       "  </tbody>\n",
       "</table>\n",
       "</div>"
      ],
      "text/plain": [
       "                                            Features  Number\n",
       "0  [-610.77844, 0.5747652, 38.636696, 18.550526, ...       6\n",
       "1  [-587.6907, 61.90871, -5.2784634, 16.531912, 8...       5\n",
       "2  [-599.39954, 67.75347, 27.81983, 13.045481, 10...       0\n",
       "3  [-618.4858, 108.97974, 6.630151, -4.22232, -2....       4\n",
       "4  [-595.89935, 102.14142, -3.690007, 4.193048, 1...       4"
      ]
     },
     "execution_count": 16,
     "metadata": {},
     "output_type": "execute_result"
    }
   ],
   "source": [
    "mnist_df=pd.DataFrame(mf,columns=['Features','Number'])\n",
    "mnist_df.head()"
   ]
  },
  {
   "cell_type": "code",
   "execution_count": 17,
   "id": "e1930711",
   "metadata": {
    "execution": {
     "iopub.execute_input": "2023-06-03T08:48:06.689721Z",
     "iopub.status.busy": "2023-06-03T08:48:06.688681Z",
     "iopub.status.idle": "2023-06-03T08:48:06.729707Z",
     "shell.execute_reply": "2023-06-03T08:48:06.728404Z"
    },
    "papermill": {
     "duration": 0.388556,
     "end_time": "2023-06-03T08:48:06.732509",
     "exception": false,
     "start_time": "2023-06-03T08:48:06.343953",
     "status": "completed"
    },
    "tags": []
   },
   "outputs": [
    {
     "name": "stdout",
     "output_type": "stream",
     "text": [
      "<class 'pandas.core.frame.DataFrame'>\n",
      "RangeIndex: 30000 entries, 0 to 29999\n",
      "Data columns (total 2 columns):\n",
      " #   Column    Non-Null Count  Dtype \n",
      "---  ------    --------------  ----- \n",
      " 0   Features  30000 non-null  object\n",
      " 1   Number    30000 non-null  int64 \n",
      "dtypes: int64(1), object(1)\n",
      "memory usage: 468.9+ KB\n"
     ]
    }
   ],
   "source": [
    "mnist_df.info()"
   ]
  },
  {
   "cell_type": "code",
   "execution_count": 18,
   "id": "123ef609",
   "metadata": {
    "execution": {
     "iopub.execute_input": "2023-06-03T08:48:07.412458Z",
     "iopub.status.busy": "2023-06-03T08:48:07.412030Z",
     "iopub.status.idle": "2023-06-03T08:48:18.003849Z",
     "shell.execute_reply": "2023-06-03T08:48:18.002328Z"
    },
    "papermill": {
     "duration": 10.936087,
     "end_time": "2023-06-03T08:48:18.007173",
     "exception": false,
     "start_time": "2023-06-03T08:48:07.071086",
     "status": "completed"
    },
    "tags": []
   },
   "outputs": [
    {
     "name": "stderr",
     "output_type": "stream",
     "text": [
      "/opt/conda/lib/python3.10/site-packages/tensorflow_io/python/ops/__init__.py:98: UserWarning: unable to load libtensorflow_io_plugins.so: unable to open file: libtensorflow_io_plugins.so, from paths: ['/opt/conda/lib/python3.10/site-packages/tensorflow_io/python/ops/libtensorflow_io_plugins.so']\n",
      "caused by: ['/opt/conda/lib/python3.10/site-packages/tensorflow_io/python/ops/libtensorflow_io_plugins.so: undefined symbol: _ZN3tsl6StatusC1EN10tensorflow5error4CodeESt17basic_string_viewIcSt11char_traitsIcEENS_14SourceLocationE']\n",
      "  warnings.warn(f\"unable to load libtensorflow_io_plugins.so: {e}\")\n",
      "/opt/conda/lib/python3.10/site-packages/tensorflow_io/python/ops/__init__.py:104: UserWarning: file system plugins are not loaded: unable to open file: libtensorflow_io.so, from paths: ['/opt/conda/lib/python3.10/site-packages/tensorflow_io/python/ops/libtensorflow_io.so']\n",
      "caused by: ['/opt/conda/lib/python3.10/site-packages/tensorflow_io/python/ops/libtensorflow_io.so: undefined symbol: _ZTVN10tensorflow13GcsFileSystemE']\n",
      "  warnings.warn(f\"file system plugins are not loaded: {e}\")\n"
     ]
    }
   ],
   "source": [
    "from tensorflow.keras.utils import to_categorical\n",
    "from sklearn.preprocessing import LabelEncoder"
   ]
  },
  {
   "cell_type": "code",
   "execution_count": 19,
   "id": "7329b3fd",
   "metadata": {
    "execution": {
     "iopub.execute_input": "2023-06-03T08:48:18.701117Z",
     "iopub.status.busy": "2023-06-03T08:48:18.700088Z",
     "iopub.status.idle": "2023-06-03T08:48:18.738515Z",
     "shell.execute_reply": "2023-06-03T08:48:18.736912Z"
    },
    "papermill": {
     "duration": 0.394785,
     "end_time": "2023-06-03T08:48:18.741384",
     "exception": false,
     "start_time": "2023-06-03T08:48:18.346599",
     "status": "completed"
    },
    "tags": []
   },
   "outputs": [],
   "source": [
    "X=np.array(mnist_df['Features'].tolist())\n",
    "Y=np.array(mnist_df['Number'].tolist())\n"
   ]
  },
  {
   "cell_type": "code",
   "execution_count": 20,
   "id": "83b87aa7",
   "metadata": {
    "execution": {
     "iopub.execute_input": "2023-06-03T08:48:19.519029Z",
     "iopub.status.busy": "2023-06-03T08:48:19.518571Z",
     "iopub.status.idle": "2023-06-03T08:48:19.529035Z",
     "shell.execute_reply": "2023-06-03T08:48:19.527731Z"
    },
    "papermill": {
     "duration": 0.357192,
     "end_time": "2023-06-03T08:48:19.531951",
     "exception": false,
     "start_time": "2023-06-03T08:48:19.174759",
     "status": "completed"
    },
    "tags": []
   },
   "outputs": [],
   "source": [
    "encoder=LabelEncoder()\n",
    "Y=to_categorical(encoder.fit_transform(Y))"
   ]
  },
  {
   "cell_type": "code",
   "execution_count": 21,
   "id": "e990c2e4",
   "metadata": {
    "execution": {
     "iopub.execute_input": "2023-06-03T08:48:20.206038Z",
     "iopub.status.busy": "2023-06-03T08:48:20.205540Z",
     "iopub.status.idle": "2023-06-03T08:48:20.213033Z",
     "shell.execute_reply": "2023-06-03T08:48:20.211933Z"
    },
    "papermill": {
     "duration": 0.350109,
     "end_time": "2023-06-03T08:48:20.215459",
     "exception": false,
     "start_time": "2023-06-03T08:48:19.865350",
     "status": "completed"
    },
    "tags": []
   },
   "outputs": [
    {
     "data": {
      "text/plain": [
       "(40,)"
      ]
     },
     "execution_count": 21,
     "metadata": {},
     "output_type": "execute_result"
    }
   ],
   "source": [
    "X[0].shape"
   ]
  },
  {
   "cell_type": "code",
   "execution_count": 22,
   "id": "9dc7bf11",
   "metadata": {
    "execution": {
     "iopub.execute_input": "2023-06-03T08:48:20.905240Z",
     "iopub.status.busy": "2023-06-03T08:48:20.904233Z",
     "iopub.status.idle": "2023-06-03T08:48:20.914747Z",
     "shell.execute_reply": "2023-06-03T08:48:20.913646Z"
    },
    "papermill": {
     "duration": 0.355079,
     "end_time": "2023-06-03T08:48:20.917296",
     "exception": false,
     "start_time": "2023-06-03T08:48:20.562217",
     "status": "completed"
    },
    "tags": []
   },
   "outputs": [
    {
     "data": {
      "text/plain": [
       "array([6, 5, 0, 4, 3, 2, 8, 7, 1, 9])"
      ]
     },
     "execution_count": 22,
     "metadata": {},
     "output_type": "execute_result"
    }
   ],
   "source": [
    "mnist_df['Number'].unique()"
   ]
  },
  {
   "cell_type": "code",
   "execution_count": 23,
   "id": "eeb55d9b",
   "metadata": {
    "execution": {
     "iopub.execute_input": "2023-06-03T08:48:21.602532Z",
     "iopub.status.busy": "2023-06-03T08:48:21.601673Z",
     "iopub.status.idle": "2023-06-03T08:48:21.610170Z",
     "shell.execute_reply": "2023-06-03T08:48:21.608725Z"
    },
    "papermill": {
     "duration": 0.356757,
     "end_time": "2023-06-03T08:48:21.613052",
     "exception": false,
     "start_time": "2023-06-03T08:48:21.256295",
     "status": "completed"
    },
    "tags": []
   },
   "outputs": [],
   "source": [
    "from tensorflow.keras.models import Sequential\n",
    "from tensorflow.keras.layers import Dense, Dropout, Flatten\n",
    "from tensorflow.keras.callbacks import EarlyStopping\n"
   ]
  },
  {
   "cell_type": "code",
   "execution_count": 24,
   "id": "7a275e7a",
   "metadata": {
    "execution": {
     "iopub.execute_input": "2023-06-03T08:48:22.411317Z",
     "iopub.status.busy": "2023-06-03T08:48:22.409851Z",
     "iopub.status.idle": "2023-06-03T08:48:22.701994Z",
     "shell.execute_reply": "2023-06-03T08:48:22.700584Z"
    },
    "papermill": {
     "duration": 0.64236,
     "end_time": "2023-06-03T08:48:22.705096",
     "exception": false,
     "start_time": "2023-06-03T08:48:22.062736",
     "status": "completed"
    },
    "tags": []
   },
   "outputs": [],
   "source": [
    "model = Sequential()\n",
    "model.add(Dense(512,activation='relu',input_shape=(40,)))\n",
    "model.add(Dense(256,activation='relu'))\n",
    "model.add(Dense(128, activation='relu'))\n",
    "model.add(Dense(32, activation='relu'))\n",
    "model.add(Dense(10, activation='softmax'))"
   ]
  },
  {
   "cell_type": "code",
   "execution_count": 25,
   "id": "df41dc00",
   "metadata": {
    "execution": {
     "iopub.execute_input": "2023-06-03T08:48:23.392147Z",
     "iopub.status.busy": "2023-06-03T08:48:23.391077Z",
     "iopub.status.idle": "2023-06-03T08:48:23.560869Z",
     "shell.execute_reply": "2023-06-03T08:48:23.559274Z"
    },
    "papermill": {
     "duration": 0.515918,
     "end_time": "2023-06-03T08:48:23.564332",
     "exception": false,
     "start_time": "2023-06-03T08:48:23.048414",
     "status": "completed"
    },
    "tags": []
   },
   "outputs": [],
   "source": [
    "from sklearn.model_selection import train_test_split\n",
    "X_train,X_test,Y_train,Y_test=train_test_split(X,Y,test_size=0.2,random_state=0)\n"
   ]
  },
  {
   "cell_type": "code",
   "execution_count": 26,
   "id": "74145025",
   "metadata": {
    "execution": {
     "iopub.execute_input": "2023-06-03T08:48:24.253806Z",
     "iopub.status.busy": "2023-06-03T08:48:24.253385Z",
     "iopub.status.idle": "2023-06-03T08:48:24.275866Z",
     "shell.execute_reply": "2023-06-03T08:48:24.274641Z"
    },
    "papermill": {
     "duration": 0.364039,
     "end_time": "2023-06-03T08:48:24.278951",
     "exception": false,
     "start_time": "2023-06-03T08:48:23.914912",
     "status": "completed"
    },
    "tags": []
   },
   "outputs": [],
   "source": [
    "model.compile(loss='categorical_crossentropy',optimizer='adam',metrics=['accuracy'])\n"
   ]
  },
  {
   "cell_type": "code",
   "execution_count": 27,
   "id": "37a81ad1",
   "metadata": {
    "execution": {
     "iopub.execute_input": "2023-06-03T08:48:25.083746Z",
     "iopub.status.busy": "2023-06-03T08:48:25.082331Z",
     "iopub.status.idle": "2023-06-03T08:48:25.110327Z",
     "shell.execute_reply": "2023-06-03T08:48:25.109145Z"
    },
    "papermill": {
     "duration": 0.486975,
     "end_time": "2023-06-03T08:48:25.114219",
     "exception": false,
     "start_time": "2023-06-03T08:48:24.627244",
     "status": "completed"
    },
    "tags": []
   },
   "outputs": [
    {
     "name": "stdout",
     "output_type": "stream",
     "text": [
      "Model: \"sequential\"\n",
      "_________________________________________________________________\n",
      " Layer (type)                Output Shape              Param #   \n",
      "=================================================================\n",
      " dense (Dense)               (None, 512)               20992     \n",
      "                                                                 \n",
      " dense_1 (Dense)             (None, 256)               131328    \n",
      "                                                                 \n",
      " dense_2 (Dense)             (None, 128)               32896     \n",
      "                                                                 \n",
      " dense_3 (Dense)             (None, 32)                4128      \n",
      "                                                                 \n",
      " dense_4 (Dense)             (None, 10)                330       \n",
      "                                                                 \n",
      "=================================================================\n",
      "Total params: 189,674\n",
      "Trainable params: 189,674\n",
      "Non-trainable params: 0\n",
      "_________________________________________________________________\n"
     ]
    }
   ],
   "source": [
    "model.summary()"
   ]
  },
  {
   "cell_type": "code",
   "execution_count": 28,
   "id": "7f5e1986",
   "metadata": {
    "execution": {
     "iopub.execute_input": "2023-06-03T08:48:25.816946Z",
     "iopub.status.busy": "2023-06-03T08:48:25.816542Z",
     "iopub.status.idle": "2023-06-03T08:52:53.185920Z",
     "shell.execute_reply": "2023-06-03T08:52:53.184363Z"
    },
    "papermill": {
     "duration": 267.728312,
     "end_time": "2023-06-03T08:52:53.188937",
     "exception": false,
     "start_time": "2023-06-03T08:48:25.460625",
     "status": "completed"
    },
    "tags": []
   },
   "outputs": [
    {
     "name": "stdout",
     "output_type": "stream",
     "text": [
      "Epoch 1/100\n",
      "750/750 [==============================] - 5s 5ms/step - loss: 1.0692 - accuracy: 0.6601\n",
      "Epoch 2/100\n",
      "750/750 [==============================] - 4s 6ms/step - loss: 0.4608 - accuracy: 0.8283\n",
      "Epoch 3/100\n",
      "750/750 [==============================] - 4s 5ms/step - loss: 0.3501 - accuracy: 0.8716\n",
      "Epoch 4/100\n",
      "750/750 [==============================] - 4s 6ms/step - loss: 0.2784 - accuracy: 0.8999\n",
      "Epoch 5/100\n",
      "750/750 [==============================] - 4s 5ms/step - loss: 0.2257 - accuracy: 0.9185\n",
      "Epoch 6/100\n",
      "750/750 [==============================] - 4s 5ms/step - loss: 0.1909 - accuracy: 0.9320\n",
      "Epoch 7/100\n",
      "750/750 [==============================] - 4s 5ms/step - loss: 0.1607 - accuracy: 0.9434\n",
      "Epoch 8/100\n",
      "750/750 [==============================] - 4s 6ms/step - loss: 0.1431 - accuracy: 0.9493\n",
      "Epoch 9/100\n",
      "750/750 [==============================] - 4s 5ms/step - loss: 0.1284 - accuracy: 0.9541\n",
      "Epoch 10/100\n",
      "750/750 [==============================] - 4s 5ms/step - loss: 0.1277 - accuracy: 0.9558\n",
      "Epoch 11/100\n",
      "750/750 [==============================] - 4s 5ms/step - loss: 0.1078 - accuracy: 0.9628\n",
      "Epoch 12/100\n",
      "750/750 [==============================] - 4s 6ms/step - loss: 0.1014 - accuracy: 0.9634\n",
      "Epoch 13/100\n",
      "750/750 [==============================] - 4s 5ms/step - loss: 0.0930 - accuracy: 0.9675\n",
      "Epoch 14/100\n",
      "750/750 [==============================] - 5s 6ms/step - loss: 0.0857 - accuracy: 0.9692\n",
      "Epoch 15/100\n",
      "750/750 [==============================] - 4s 6ms/step - loss: 0.0754 - accuracy: 0.9753\n",
      "Epoch 16/100\n",
      "750/750 [==============================] - 4s 6ms/step - loss: 0.0751 - accuracy: 0.9738\n",
      "Epoch 17/100\n",
      "750/750 [==============================] - 4s 5ms/step - loss: 0.0742 - accuracy: 0.9734\n",
      "Epoch 18/100\n",
      "750/750 [==============================] - 4s 6ms/step - loss: 0.0602 - accuracy: 0.9799\n",
      "Epoch 19/100\n",
      "750/750 [==============================] - 4s 6ms/step - loss: 0.0608 - accuracy: 0.9787\n",
      "Epoch 20/100\n",
      "750/750 [==============================] - 4s 5ms/step - loss: 0.0626 - accuracy: 0.9792\n",
      "Epoch 21/100\n",
      "750/750 [==============================] - 4s 6ms/step - loss: 0.0569 - accuracy: 0.9810\n",
      "Epoch 22/100\n",
      "750/750 [==============================] - 4s 6ms/step - loss: 0.0518 - accuracy: 0.9832\n",
      "Epoch 23/100\n",
      "750/750 [==============================] - 4s 6ms/step - loss: 0.0504 - accuracy: 0.9834\n",
      "Epoch 24/100\n",
      "750/750 [==============================] - 4s 6ms/step - loss: 0.0491 - accuracy: 0.9833\n",
      "Epoch 25/100\n",
      "750/750 [==============================] - 4s 6ms/step - loss: 0.0470 - accuracy: 0.9840\n",
      "Epoch 26/100\n",
      "750/750 [==============================] - 4s 5ms/step - loss: 0.0372 - accuracy: 0.9872\n",
      "Epoch 27/100\n",
      "750/750 [==============================] - 4s 6ms/step - loss: 0.0504 - accuracy: 0.9826\n",
      "Epoch 28/100\n",
      "750/750 [==============================] - 4s 5ms/step - loss: 0.0419 - accuracy: 0.9865\n",
      "Epoch 29/100\n",
      "750/750 [==============================] - 4s 6ms/step - loss: 0.0360 - accuracy: 0.9883\n",
      "Epoch 30/100\n",
      "750/750 [==============================] - 4s 5ms/step - loss: 0.0452 - accuracy: 0.9861\n",
      "Epoch 31/100\n",
      "750/750 [==============================] - 4s 5ms/step - loss: 0.0323 - accuracy: 0.9892\n",
      "Epoch 32/100\n",
      "750/750 [==============================] - 4s 5ms/step - loss: 0.0346 - accuracy: 0.9882\n",
      "Epoch 33/100\n",
      "750/750 [==============================] - 4s 5ms/step - loss: 0.0407 - accuracy: 0.9874\n",
      "Epoch 34/100\n",
      "750/750 [==============================] - 4s 6ms/step - loss: 0.0292 - accuracy: 0.9896\n",
      "Epoch 35/100\n",
      "750/750 [==============================] - 4s 5ms/step - loss: 0.0479 - accuracy: 0.9862\n",
      "Epoch 36/100\n",
      "750/750 [==============================] - 4s 6ms/step - loss: 0.0247 - accuracy: 0.9920\n",
      "Epoch 37/100\n",
      "750/750 [==============================] - 4s 6ms/step - loss: 0.0390 - accuracy: 0.9887\n",
      "Epoch 38/100\n",
      "750/750 [==============================] - 4s 6ms/step - loss: 0.0241 - accuracy: 0.9922\n",
      "Epoch 39/100\n",
      "750/750 [==============================] - 4s 5ms/step - loss: 0.0353 - accuracy: 0.9887\n",
      "Epoch 40/100\n",
      "750/750 [==============================] - 4s 5ms/step - loss: 0.0297 - accuracy: 0.9910\n",
      "Epoch 41/100\n",
      "750/750 [==============================] - 4s 5ms/step - loss: 0.0301 - accuracy: 0.9903\n",
      "Epoch 42/100\n",
      "750/750 [==============================] - 4s 6ms/step - loss: 0.0365 - accuracy: 0.9890\n",
      "Epoch 43/100\n",
      "750/750 [==============================] - 4s 5ms/step - loss: 0.0274 - accuracy: 0.9915\n",
      "Epoch 44/100\n",
      "750/750 [==============================] - 5s 6ms/step - loss: 0.0268 - accuracy: 0.9923\n",
      "Epoch 45/100\n",
      "750/750 [==============================] - 4s 5ms/step - loss: 0.0244 - accuracy: 0.9928\n",
      "Epoch 46/100\n",
      "750/750 [==============================] - 4s 5ms/step - loss: 0.0303 - accuracy: 0.9909\n",
      "Epoch 47/100\n",
      "750/750 [==============================] - 4s 5ms/step - loss: 0.0372 - accuracy: 0.9892\n",
      "Epoch 48/100\n",
      "750/750 [==============================] - 4s 5ms/step - loss: 0.0221 - accuracy: 0.9926\n",
      "Epoch 49/100\n",
      "750/750 [==============================] - 4s 6ms/step - loss: 0.0219 - accuracy: 0.9931\n",
      "Epoch 50/100\n",
      "750/750 [==============================] - 4s 6ms/step - loss: 0.0302 - accuracy: 0.9914\n",
      "Epoch 51/100\n",
      "750/750 [==============================] - 4s 6ms/step - loss: 0.0223 - accuracy: 0.9933\n",
      "Epoch 52/100\n",
      "750/750 [==============================] - 4s 6ms/step - loss: 0.0205 - accuracy: 0.9931\n",
      "Epoch 53/100\n",
      "750/750 [==============================] - 4s 5ms/step - loss: 0.0375 - accuracy: 0.9894\n",
      "Epoch 54/100\n",
      "750/750 [==============================] - 4s 5ms/step - loss: 0.0166 - accuracy: 0.9949\n",
      "Epoch 55/100\n",
      "750/750 [==============================] - 4s 6ms/step - loss: 0.0281 - accuracy: 0.9919\n",
      "Epoch 56/100\n",
      "750/750 [==============================] - 4s 6ms/step - loss: 0.0305 - accuracy: 0.9908\n",
      "Epoch 57/100\n",
      "750/750 [==============================] - 4s 6ms/step - loss: 0.0200 - accuracy: 0.9947\n",
      "Epoch 58/100\n",
      "750/750 [==============================] - 4s 6ms/step - loss: 0.0245 - accuracy: 0.9929\n",
      "Epoch 59/100\n",
      "750/750 [==============================] - 4s 6ms/step - loss: 0.0245 - accuracy: 0.9933\n",
      "Epoch 60/100\n",
      "750/750 [==============================] - 4s 5ms/step - loss: 0.0173 - accuracy: 0.9948\n",
      "Epoch 61/100\n",
      "750/750 [==============================] - 4s 6ms/step - loss: 0.0233 - accuracy: 0.9935\n",
      "Epoch 62/100\n",
      "750/750 [==============================] - 4s 5ms/step - loss: 0.0214 - accuracy: 0.9931\n",
      "Epoch 63/100\n",
      "750/750 [==============================] - 4s 5ms/step - loss: 0.0192 - accuracy: 0.9940\n",
      "Epoch 64/100\n",
      "750/750 [==============================] - 4s 5ms/step - loss: 0.0287 - accuracy: 0.9916\n"
     ]
    },
    {
     "data": {
      "text/plain": [
       "<keras.callbacks.History at 0x7a18b472f580>"
      ]
     },
     "execution_count": 28,
     "metadata": {},
     "output_type": "execute_result"
    }
   ],
   "source": [
    "early_stopping = EarlyStopping(monitor='accuracy', patience=10)\n",
    "model.fit(X_train,Y_train,epochs=100,callbacks=[early_stopping])"
   ]
  },
  {
   "cell_type": "code",
   "execution_count": 29,
   "id": "30845b84",
   "metadata": {
    "execution": {
     "iopub.execute_input": "2023-06-03T08:52:54.863134Z",
     "iopub.status.busy": "2023-06-03T08:52:54.862660Z",
     "iopub.status.idle": "2023-06-03T08:52:55.538670Z",
     "shell.execute_reply": "2023-06-03T08:52:55.537045Z"
    },
    "papermill": {
     "duration": 1.484867,
     "end_time": "2023-06-03T08:52:55.541665",
     "exception": false,
     "start_time": "2023-06-03T08:52:54.056798",
     "status": "completed"
    },
    "tags": []
   },
   "outputs": [
    {
     "name": "stdout",
     "output_type": "stream",
     "text": [
      "188/188 [==============================] - 0s 2ms/step\n"
     ]
    }
   ],
   "source": [
    "from sklearn.metrics import accuracy_score\n",
    "Y_pred=model.predict(X_test)\n",
    "\n"
   ]
  },
  {
   "cell_type": "code",
   "execution_count": 30,
   "id": "e66e9c3c",
   "metadata": {
    "execution": {
     "iopub.execute_input": "2023-06-03T08:52:57.304513Z",
     "iopub.status.busy": "2023-06-03T08:52:57.303757Z",
     "iopub.status.idle": "2023-06-03T08:52:57.311427Z",
     "shell.execute_reply": "2023-06-03T08:52:57.309818Z"
    },
    "papermill": {
     "duration": 0.835645,
     "end_time": "2023-06-03T08:52:57.313981",
     "exception": false,
     "start_time": "2023-06-03T08:52:56.478336",
     "status": "completed"
    },
    "tags": []
   },
   "outputs": [
    {
     "name": "stdout",
     "output_type": "stream",
     "text": [
      "8\n",
      "[0. 0. 0. 0. 0. 0. 0. 0. 1. 0.]\n"
     ]
    }
   ],
   "source": [
    "Y_rpred=Y_pred.argmax(axis=1)\n",
    "#testing model\n",
    "print(Y_rpred[15])\n",
    "print(Y_test[15])"
   ]
  },
  {
   "cell_type": "code",
   "execution_count": 31,
   "id": "90f19441",
   "metadata": {
    "execution": {
     "iopub.execute_input": "2023-06-03T08:52:59.112445Z",
     "iopub.status.busy": "2023-06-03T08:52:59.110129Z",
     "iopub.status.idle": "2023-06-03T08:53:00.540490Z",
     "shell.execute_reply": "2023-06-03T08:53:00.538916Z"
    },
    "papermill": {
     "duration": 2.28842,
     "end_time": "2023-06-03T08:53:00.543464",
     "exception": false,
     "start_time": "2023-06-03T08:52:58.255044",
     "status": "completed"
    },
    "tags": []
   },
   "outputs": [],
   "source": [
    "from tensorflow.keras.models import load_model\n",
    "model.save('/kaggle/working')\n",
    "#reload output direcory if not showing"
   ]
  },
  {
   "cell_type": "markdown",
   "id": "fc9e68da",
   "metadata": {
    "papermill": {
     "duration": 0.952503,
     "end_time": "2023-06-03T08:53:02.338318",
     "exception": false,
     "start_time": "2023-06-03T08:53:01.385815",
     "status": "completed"
    },
    "tags": []
   },
   "source": [
    "Unfortunately, I am not able to record audio in Kaagle notebook so I can't integrate it with real time.\n",
    "However if you are using google collab, you can go to https://colab.research.google.com/drive/1Z6VIRZ_sX314hyev3Gm5gBqvm1wQVo-a#scrollTo=RtMcXr3o6gxN for recording a wav file through microphone."
   ]
  }
 ],
 "metadata": {
  "kernelspec": {
   "display_name": "Python 3",
   "language": "python",
   "name": "python3"
  },
  "language_info": {
   "codemirror_mode": {
    "name": "ipython",
    "version": 3
   },
   "file_extension": ".py",
   "mimetype": "text/x-python",
   "name": "python",
   "nbconvert_exporter": "python",
   "pygments_lexer": "ipython3",
   "version": "3.10.10"
  },
  "papermill": {
   "default_parameters": {},
   "duration": 1206.910863,
   "end_time": "2023-06-03T08:53:06.740760",
   "environment_variables": {},
   "exception": null,
   "input_path": "__notebook__.ipynb",
   "output_path": "__notebook__.ipynb",
   "parameters": {},
   "start_time": "2023-06-03T08:32:59.829897",
   "version": "2.4.0"
  }
 },
 "nbformat": 4,
 "nbformat_minor": 5
}
